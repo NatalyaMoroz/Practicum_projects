{
 "cells": [
  {
   "cell_type": "markdown",
   "metadata": {},
   "source": [
    "# Анализ А/В-теста крупного интернет-магазина"
   ]
  },
  {
   "cell_type": "markdown",
   "metadata": {},
   "source": [
    "Я — аналитик крупного интернет-магазина. Вместе с отделом маркетинга мы подготовили список гипотез для увеличения выручки.\n",
    "Нужно приоритизировать гипотезы, запустить A/B-тест и проанализировать результаты. "
   ]
  },
  {
   "cell_type": "markdown",
   "metadata": {},
   "source": [
    "**План работы**: \n",
    "\n",
    "    1. Проверить достаточно ли данных для анализа и A/B-теста\n",
    "    2. Предобработка данных\n",
    "    3. Приоритизация гипотез\n",
    "    4. Построить графики кумулятивных метрик\n",
    "    5. Построить точечные графики метрик\n",
    "    6. Определить аномалии\n",
    "    7. Рассчитать стат.значимости различий метрик по \"сырым\" и \"очищенным\" данным\n",
    "    8. Принять решение по результатам теста \n",
    "    9. Вывод"
   ]
  },
  {
   "cell_type": "markdown",
   "metadata": {},
   "source": [
    "## ОБЩАЯ ИНФОРМАЦИЯ"
   ]
  },
  {
   "cell_type": "code",
   "execution_count": 1,
   "metadata": {},
   "outputs": [],
   "source": [
    "#библиотеки\n",
    "import pandas as pd\n",
    "import numpy as np\n",
    "from matplotlib import pyplot as plt\n",
    "from scipy import stats as st\n",
    "from pandas.plotting import register_matplotlib_converters\n",
    "# конвертеры, которые позволяют использовать типы pandas в matplotlib  \n",
    "register_matplotlib_converters()\n",
    "import warnings"
   ]
  },
  {
   "cell_type": "code",
   "execution_count": 2,
   "metadata": {},
   "outputs": [],
   "source": [
    "hypothesis = pd.read_csv('/datasets/hypothesis.csv')\n",
    "orders = pd.read_csv('/datasets/orders.csv')\n",
    "visitors = pd.read_csv('/datasets/visitors.csv')"
   ]
  },
  {
   "cell_type": "code",
   "execution_count": 3,
   "metadata": {},
   "outputs": [],
   "source": [
    "#функция для вывода информации о таблице и дублях\n",
    "def analyze_dataframe(df):\n",
    "    # Выводим первые 5 строк датафрейма\n",
    "    print('\\033[1m' + 'head:' + '\\033[0m')\n",
    "    print(df.head())\n",
    "    \n",
    "    # Выводим информацию о датафрейме\n",
    "    print('\\033[1m' + 'info:' + '\\033[0m')\n",
    "    print(df.info())\n",
    "    \n",
    "    # Выводим форму датафрейма\n",
    "    print('\\033[1m' + 'shape:' + '\\033[0m')\n",
    "    print(df.shape)\n",
    "    \n",
    "    # Вычисляем и выводим количество дублирующихся строк\n",
    "    duplicate_count = df.duplicated().sum()\n",
    "    print('\\033[1m' + 'Количество дубликатов в таблице:' + '\\033[0m')\n",
    "    print(duplicate_count)"
   ]
  },
  {
   "cell_type": "code",
   "execution_count": 4,
   "metadata": {},
   "outputs": [
    {
     "name": "stdout",
     "output_type": "stream",
     "text": [
      "\u001b[1mhead:\u001b[0m\n",
      "                                          Hypothesis  Reach  Impact  \\\n",
      "0  Добавить два новых канала привлечения трафика,...      3      10   \n",
      "1  Запустить собственную службу доставки, что сок...      2       5   \n",
      "2  Добавить блоки рекомендаций товаров на сайт ин...      8       3   \n",
      "3  Изменить структура категорий, что увеличит кон...      8       3   \n",
      "4  Изменить цвет фона главной страницы, чтобы уве...      3       1   \n",
      "\n",
      "   Confidence  Efforts  \n",
      "0           8        6  \n",
      "1           4       10  \n",
      "2           7        3  \n",
      "3           3        8  \n",
      "4           1        1  \n",
      "\u001b[1minfo:\u001b[0m\n",
      "<class 'pandas.core.frame.DataFrame'>\n",
      "RangeIndex: 9 entries, 0 to 8\n",
      "Data columns (total 5 columns):\n",
      " #   Column      Non-Null Count  Dtype \n",
      "---  ------      --------------  ----- \n",
      " 0   Hypothesis  9 non-null      object\n",
      " 1   Reach       9 non-null      int64 \n",
      " 2   Impact      9 non-null      int64 \n",
      " 3   Confidence  9 non-null      int64 \n",
      " 4   Efforts     9 non-null      int64 \n",
      "dtypes: int64(4), object(1)\n",
      "memory usage: 488.0+ bytes\n",
      "None\n",
      "\u001b[1mshape:\u001b[0m\n",
      "(9, 5)\n",
      "\u001b[1mКоличество дубликатов в таблице:\u001b[0m\n",
      "0\n"
     ]
    }
   ],
   "source": [
    "analyze_dataframe(hypothesis)"
   ]
  },
  {
   "cell_type": "code",
   "execution_count": 5,
   "metadata": {},
   "outputs": [
    {
     "data": {
      "text/html": [
       "<div>\n",
       "<style scoped>\n",
       "    .dataframe tbody tr th:only-of-type {\n",
       "        vertical-align: middle;\n",
       "    }\n",
       "\n",
       "    .dataframe tbody tr th {\n",
       "        vertical-align: top;\n",
       "    }\n",
       "\n",
       "    .dataframe thead th {\n",
       "        text-align: right;\n",
       "    }\n",
       "</style>\n",
       "<table border=\"1\" class=\"dataframe\">\n",
       "  <thead>\n",
       "    <tr style=\"text-align: right;\">\n",
       "      <th></th>\n",
       "      <th>Hypothesis</th>\n",
       "      <th>Reach</th>\n",
       "      <th>Impact</th>\n",
       "      <th>Confidence</th>\n",
       "      <th>Efforts</th>\n",
       "    </tr>\n",
       "  </thead>\n",
       "  <tbody>\n",
       "    <tr>\n",
       "      <th>0</th>\n",
       "      <td>Добавить два новых канала привлечения трафика, что позволит привлекать на 30% больше пользователей</td>\n",
       "      <td>3</td>\n",
       "      <td>10</td>\n",
       "      <td>8</td>\n",
       "      <td>6</td>\n",
       "    </tr>\n",
       "    <tr>\n",
       "      <th>1</th>\n",
       "      <td>Запустить собственную службу доставки, что сократит срок доставки заказов</td>\n",
       "      <td>2</td>\n",
       "      <td>5</td>\n",
       "      <td>4</td>\n",
       "      <td>10</td>\n",
       "    </tr>\n",
       "    <tr>\n",
       "      <th>2</th>\n",
       "      <td>Добавить блоки рекомендаций товаров на сайт интернет магазина, чтобы повысить конверсию и средний чек заказа</td>\n",
       "      <td>8</td>\n",
       "      <td>3</td>\n",
       "      <td>7</td>\n",
       "      <td>3</td>\n",
       "    </tr>\n",
       "    <tr>\n",
       "      <th>3</th>\n",
       "      <td>Изменить структура категорий, что увеличит конверсию, т.к. пользователи быстрее найдут нужный товар</td>\n",
       "      <td>8</td>\n",
       "      <td>3</td>\n",
       "      <td>3</td>\n",
       "      <td>8</td>\n",
       "    </tr>\n",
       "    <tr>\n",
       "      <th>4</th>\n",
       "      <td>Изменить цвет фона главной страницы, чтобы увеличить вовлеченность пользователей</td>\n",
       "      <td>3</td>\n",
       "      <td>1</td>\n",
       "      <td>1</td>\n",
       "      <td>1</td>\n",
       "    </tr>\n",
       "    <tr>\n",
       "      <th>5</th>\n",
       "      <td>Добавить страницу отзывов клиентов о магазине, что позволит увеличить количество заказов</td>\n",
       "      <td>3</td>\n",
       "      <td>2</td>\n",
       "      <td>2</td>\n",
       "      <td>3</td>\n",
       "    </tr>\n",
       "    <tr>\n",
       "      <th>6</th>\n",
       "      <td>Показать на главной странице баннеры с актуальными акциями и распродажами, чтобы увеличить конверсию</td>\n",
       "      <td>5</td>\n",
       "      <td>3</td>\n",
       "      <td>8</td>\n",
       "      <td>3</td>\n",
       "    </tr>\n",
       "    <tr>\n",
       "      <th>7</th>\n",
       "      <td>Добавить форму подписки на все основные страницы, чтобы собрать базу клиентов для email-рассылок</td>\n",
       "      <td>10</td>\n",
       "      <td>7</td>\n",
       "      <td>8</td>\n",
       "      <td>5</td>\n",
       "    </tr>\n",
       "    <tr>\n",
       "      <th>8</th>\n",
       "      <td>Запустить акцию, дающую скидку на товар в день рождения</td>\n",
       "      <td>1</td>\n",
       "      <td>9</td>\n",
       "      <td>9</td>\n",
       "      <td>5</td>\n",
       "    </tr>\n",
       "  </tbody>\n",
       "</table>\n",
       "</div>"
      ],
      "text/plain": [
       "                                                                                                     Hypothesis  \\\n",
       "0            Добавить два новых канала привлечения трафика, что позволит привлекать на 30% больше пользователей   \n",
       "1                                     Запустить собственную службу доставки, что сократит срок доставки заказов   \n",
       "2  Добавить блоки рекомендаций товаров на сайт интернет магазина, чтобы повысить конверсию и средний чек заказа   \n",
       "3           Изменить структура категорий, что увеличит конверсию, т.к. пользователи быстрее найдут нужный товар   \n",
       "4                              Изменить цвет фона главной страницы, чтобы увеличить вовлеченность пользователей   \n",
       "5                      Добавить страницу отзывов клиентов о магазине, что позволит увеличить количество заказов   \n",
       "6          Показать на главной странице баннеры с актуальными акциями и распродажами, чтобы увеличить конверсию   \n",
       "7              Добавить форму подписки на все основные страницы, чтобы собрать базу клиентов для email-рассылок   \n",
       "8                                                       Запустить акцию, дающую скидку на товар в день рождения   \n",
       "\n",
       "   Reach  Impact  Confidence  Efforts  \n",
       "0      3      10           8        6  \n",
       "1      2       5           4       10  \n",
       "2      8       3           7        3  \n",
       "3      8       3           3        8  \n",
       "4      3       1           1        1  \n",
       "5      3       2           2        3  \n",
       "6      5       3           8        3  \n",
       "7     10       7           8        5  \n",
       "8      1       9           9        5  "
      ]
     },
     "metadata": {},
     "output_type": "display_data"
    }
   ],
   "source": [
    "#увеличим количество символов для выведения текста гипотезы\n",
    "pd.options.display.max_colwidth = 120\n",
    "display(hypothesis)"
   ]
  },
  {
   "cell_type": "markdown",
   "metadata": {},
   "source": [
    "Видим, что гипотез 9. Наименования столбцов некорректные."
   ]
  },
  {
   "cell_type": "code",
   "execution_count": 6,
   "metadata": {},
   "outputs": [
    {
     "name": "stdout",
     "output_type": "stream",
     "text": [
      "\u001b[1mhead:\u001b[0m\n",
      "   transactionId   visitorId        date  revenue group\n",
      "0     3667963787  3312258926  2019-08-15     1650     B\n",
      "1     2804400009  3642806036  2019-08-15      730     B\n",
      "2     2961555356  4069496402  2019-08-15      400     A\n",
      "3     3797467345  1196621759  2019-08-15     9759     B\n",
      "4     2282983706  2322279887  2019-08-15     2308     B\n",
      "\u001b[1minfo:\u001b[0m\n",
      "<class 'pandas.core.frame.DataFrame'>\n",
      "RangeIndex: 1197 entries, 0 to 1196\n",
      "Data columns (total 5 columns):\n",
      " #   Column         Non-Null Count  Dtype \n",
      "---  ------         --------------  ----- \n",
      " 0   transactionId  1197 non-null   int64 \n",
      " 1   visitorId      1197 non-null   int64 \n",
      " 2   date           1197 non-null   object\n",
      " 3   revenue        1197 non-null   int64 \n",
      " 4   group          1197 non-null   object\n",
      "dtypes: int64(3), object(2)\n",
      "memory usage: 46.9+ KB\n",
      "None\n",
      "\u001b[1mshape:\u001b[0m\n",
      "(1197, 5)\n",
      "\u001b[1mКоличество дубликатов в таблице:\u001b[0m\n",
      "0\n"
     ]
    }
   ],
   "source": [
    "analyze_dataframe(orders)"
   ]
  },
  {
   "cell_type": "code",
   "execution_count": 7,
   "metadata": {},
   "outputs": [
    {
     "data": {
      "text/plain": [
       "'2019-08-01'"
      ]
     },
     "metadata": {},
     "output_type": "display_data"
    },
    {
     "data": {
      "text/plain": [
       "'2019-08-31'"
      ]
     },
     "execution_count": 7,
     "metadata": {},
     "output_type": "execute_result"
    }
   ],
   "source": [
    "#посмотрим за какой период представлены данные\n",
    "display(orders['date'].min())\n",
    "orders['date'].max()"
   ]
  },
  {
   "cell_type": "markdown",
   "metadata": {},
   "source": [
    "Видим 1197 строк данных о заказах за период с 1 по 31 августа 2019. Некорректный тип данных у даты и некорректные наименования столбцов."
   ]
  },
  {
   "cell_type": "code",
   "execution_count": 8,
   "metadata": {},
   "outputs": [
    {
     "name": "stdout",
     "output_type": "stream",
     "text": [
      "\u001b[1mhead:\u001b[0m\n",
      "         date group  visitors\n",
      "0  2019-08-01     A       719\n",
      "1  2019-08-02     A       619\n",
      "2  2019-08-03     A       507\n",
      "3  2019-08-04     A       717\n",
      "4  2019-08-05     A       756\n",
      "\u001b[1minfo:\u001b[0m\n",
      "<class 'pandas.core.frame.DataFrame'>\n",
      "RangeIndex: 62 entries, 0 to 61\n",
      "Data columns (total 3 columns):\n",
      " #   Column    Non-Null Count  Dtype \n",
      "---  ------    --------------  ----- \n",
      " 0   date      62 non-null     object\n",
      " 1   group     62 non-null     object\n",
      " 2   visitors  62 non-null     int64 \n",
      "dtypes: int64(1), object(2)\n",
      "memory usage: 1.6+ KB\n",
      "None\n",
      "\u001b[1mshape:\u001b[0m\n",
      "(62, 3)\n",
      "\u001b[1mКоличество дубликатов в таблице:\u001b[0m\n",
      "0\n"
     ]
    }
   ],
   "source": [
    "analyze_dataframe(visitors)"
   ]
  },
  {
   "cell_type": "code",
   "execution_count": 9,
   "metadata": {},
   "outputs": [
    {
     "data": {
      "text/plain": [
       "'2019-08-01'"
      ]
     },
     "metadata": {},
     "output_type": "display_data"
    },
    {
     "data": {
      "text/plain": [
       "'2019-08-31'"
      ]
     },
     "execution_count": 9,
     "metadata": {},
     "output_type": "execute_result"
    }
   ],
   "source": [
    "#посмотрим за какой период представлены данные\n",
    "display(visitors['date'].min())\n",
    "visitors['date'].max()"
   ]
  },
  {
   "cell_type": "markdown",
   "metadata": {},
   "source": [
    "Видим 62 строки данных о количестве пользователей по группам за период с 1 по 31 августа 2019. Некорректный тип данных у даты."
   ]
  },
  {
   "cell_type": "markdown",
   "metadata": {},
   "source": [
    "### Промежуточный вывод: "
   ]
  },
  {
   "cell_type": "markdown",
   "metadata": {},
   "source": [
    "В нашем распоряжении 1197 строк данных о заказах, 62 строки данных о количестве пользователей по группам за период с 1 по 31 августа 2019 и 9 гипотез. \n",
    "Этих данных достаточно для анализа и A/B-теста. \n",
    "Видим что имеются некорректные типы данных и некорректные наименования столбцов. Пропуски и дубликаты отсутствуют."
   ]
  },
  {
   "cell_type": "markdown",
   "metadata": {},
   "source": [
    "## ПРЕДОБРАБОТКА ДАННЫХ"
   ]
  },
  {
   "cell_type": "markdown",
   "metadata": {},
   "source": [
    "### Преобразование типов данных"
   ]
  },
  {
   "cell_type": "code",
   "execution_count": 10,
   "metadata": {},
   "outputs": [],
   "source": [
    "# преобразуем данные о датах\n",
    "orders['date'] = pd.to_datetime(orders['date'])\n",
    "visitors['date'] = pd.to_datetime(visitors['date'])"
   ]
  },
  {
   "cell_type": "code",
   "execution_count": 11,
   "metadata": {},
   "outputs": [
    {
     "name": "stdout",
     "output_type": "stream",
     "text": [
      "<class 'pandas.core.frame.DataFrame'>\n",
      "RangeIndex: 1197 entries, 0 to 1196\n",
      "Data columns (total 5 columns):\n",
      " #   Column         Non-Null Count  Dtype         \n",
      "---  ------         --------------  -----         \n",
      " 0   transactionId  1197 non-null   int64         \n",
      " 1   visitorId      1197 non-null   int64         \n",
      " 2   date           1197 non-null   datetime64[ns]\n",
      " 3   revenue        1197 non-null   int64         \n",
      " 4   group          1197 non-null   object        \n",
      "dtypes: datetime64[ns](1), int64(3), object(1)\n",
      "memory usage: 46.9+ KB\n"
     ]
    },
    {
     "data": {
      "text/plain": [
       "None"
      ]
     },
     "metadata": {},
     "output_type": "display_data"
    },
    {
     "name": "stdout",
     "output_type": "stream",
     "text": [
      "<class 'pandas.core.frame.DataFrame'>\n",
      "RangeIndex: 62 entries, 0 to 61\n",
      "Data columns (total 3 columns):\n",
      " #   Column    Non-Null Count  Dtype         \n",
      "---  ------    --------------  -----         \n",
      " 0   date      62 non-null     datetime64[ns]\n",
      " 1   group     62 non-null     object        \n",
      " 2   visitors  62 non-null     int64         \n",
      "dtypes: datetime64[ns](1), int64(1), object(1)\n",
      "memory usage: 1.6+ KB\n"
     ]
    }
   ],
   "source": [
    "#проверим\n",
    "display(orders.info())\n",
    "visitors.info()"
   ]
  },
  {
   "cell_type": "markdown",
   "metadata": {},
   "source": [
    "Изменили тип данных в данных по дате"
   ]
  },
  {
   "cell_type": "markdown",
   "metadata": {},
   "source": [
    "### Переименование столбцов"
   ]
  },
  {
   "cell_type": "code",
   "execution_count": 12,
   "metadata": {},
   "outputs": [],
   "source": [
    "#уберем заглавные буквы\n",
    "hypothesis.columns = hypothesis.columns.str.lower()"
   ]
  },
  {
   "cell_type": "code",
   "execution_count": 13,
   "metadata": {},
   "outputs": [
    {
     "name": "stdout",
     "output_type": "stream",
     "text": [
      "<class 'pandas.core.frame.DataFrame'>\n",
      "RangeIndex: 9 entries, 0 to 8\n",
      "Data columns (total 5 columns):\n",
      " #   Column      Non-Null Count  Dtype \n",
      "---  ------      --------------  ----- \n",
      " 0   hypothesis  9 non-null      object\n",
      " 1   reach       9 non-null      int64 \n",
      " 2   impact      9 non-null      int64 \n",
      " 3   confidence  9 non-null      int64 \n",
      " 4   efforts     9 non-null      int64 \n",
      "dtypes: int64(4), object(1)\n",
      "memory usage: 488.0+ bytes\n"
     ]
    }
   ],
   "source": [
    "#проверим\n",
    "hypothesis.info()"
   ]
  },
  {
   "cell_type": "code",
   "execution_count": 14,
   "metadata": {},
   "outputs": [],
   "source": [
    "#скорректируем наименования\n",
    "orders = orders.rename(columns={'transactionId': 'transaction_id', 'visitorId':'visitor_id'})"
   ]
  },
  {
   "cell_type": "code",
   "execution_count": 15,
   "metadata": {},
   "outputs": [
    {
     "name": "stdout",
     "output_type": "stream",
     "text": [
      "<class 'pandas.core.frame.DataFrame'>\n",
      "RangeIndex: 1197 entries, 0 to 1196\n",
      "Data columns (total 5 columns):\n",
      " #   Column          Non-Null Count  Dtype         \n",
      "---  ------          --------------  -----         \n",
      " 0   transaction_id  1197 non-null   int64         \n",
      " 1   visitor_id      1197 non-null   int64         \n",
      " 2   date            1197 non-null   datetime64[ns]\n",
      " 3   revenue         1197 non-null   int64         \n",
      " 4   group           1197 non-null   object        \n",
      "dtypes: datetime64[ns](1), int64(3), object(1)\n",
      "memory usage: 46.9+ KB\n"
     ]
    }
   ],
   "source": [
    "#проверим\n",
    "orders.info()"
   ]
  },
  {
   "cell_type": "markdown",
   "metadata": {},
   "source": [
    "Наименования столбцов скорректированы."
   ]
  },
  {
   "cell_type": "markdown",
   "metadata": {},
   "source": [
    "### Промежуточный вывод"
   ]
  },
  {
   "cell_type": "markdown",
   "metadata": {},
   "source": [
    "Проведена предобработка:\n",
    "1. изменены типы данных:\n",
    " - date — дата\n",
    "2. скорректированы наименования столбцов \n",
    " - hypothesis — краткое описание гипотезы\n",
    " - reach — охват пользователей по 10-балльной шкале\n",
    " - impact — влияние на пользователей по 10-балльной шкале\n",
    " - confidence — уверенность в гипотезе по 10-балльной шкале\n",
    " - efforts — затраты ресурсов на проверку гипотезы по 10-балльной шкале\n",
    " - transaction_id — идентификатор заказа\n",
    " - visitor_id — идентификатор пользователя, совершившего заказ\n",
    " "
   ]
  },
  {
   "cell_type": "markdown",
   "metadata": {},
   "source": [
    "## Приоритизация гипотез"
   ]
  },
  {
   "cell_type": "markdown",
   "metadata": {},
   "source": [
    "### ICE"
   ]
  },
  {
   "cell_type": "markdown",
   "metadata": {},
   "source": [
    "Применим фреймворк ICE для приоритизации гипотез"
   ]
  },
  {
   "cell_type": "code",
   "execution_count": 16,
   "metadata": {},
   "outputs": [],
   "source": [
    "#создадим новый столбец для расчета ICE\n",
    "hypothesis['ICE'] = (hypothesis['impact']*hypothesis['confidence'])/hypothesis['efforts']"
   ]
  },
  {
   "cell_type": "code",
   "execution_count": 17,
   "metadata": {},
   "outputs": [
    {
     "data": {
      "text/html": [
       "<div>\n",
       "<style scoped>\n",
       "    .dataframe tbody tr th:only-of-type {\n",
       "        vertical-align: middle;\n",
       "    }\n",
       "\n",
       "    .dataframe tbody tr th {\n",
       "        vertical-align: top;\n",
       "    }\n",
       "\n",
       "    .dataframe thead th {\n",
       "        text-align: right;\n",
       "    }\n",
       "</style>\n",
       "<table border=\"1\" class=\"dataframe\">\n",
       "  <thead>\n",
       "    <tr style=\"text-align: right;\">\n",
       "      <th></th>\n",
       "      <th>hypothesis</th>\n",
       "      <th>ICE</th>\n",
       "    </tr>\n",
       "  </thead>\n",
       "  <tbody>\n",
       "    <tr>\n",
       "      <th>8</th>\n",
       "      <td>Запустить акцию, дающую скидку на товар в день рождения</td>\n",
       "      <td>16.200000</td>\n",
       "    </tr>\n",
       "    <tr>\n",
       "      <th>0</th>\n",
       "      <td>Добавить два новых канала привлечения трафика, что позволит привлекать на 30% больше пользователей</td>\n",
       "      <td>13.333333</td>\n",
       "    </tr>\n",
       "    <tr>\n",
       "      <th>7</th>\n",
       "      <td>Добавить форму подписки на все основные страницы, чтобы собрать базу клиентов для email-рассылок</td>\n",
       "      <td>11.200000</td>\n",
       "    </tr>\n",
       "    <tr>\n",
       "      <th>6</th>\n",
       "      <td>Показать на главной странице баннеры с актуальными акциями и распродажами, чтобы увеличить конверсию</td>\n",
       "      <td>8.000000</td>\n",
       "    </tr>\n",
       "    <tr>\n",
       "      <th>2</th>\n",
       "      <td>Добавить блоки рекомендаций товаров на сайт интернет магазина, чтобы повысить конверсию и средний чек заказа</td>\n",
       "      <td>7.000000</td>\n",
       "    </tr>\n",
       "    <tr>\n",
       "      <th>1</th>\n",
       "      <td>Запустить собственную службу доставки, что сократит срок доставки заказов</td>\n",
       "      <td>2.000000</td>\n",
       "    </tr>\n",
       "    <tr>\n",
       "      <th>5</th>\n",
       "      <td>Добавить страницу отзывов клиентов о магазине, что позволит увеличить количество заказов</td>\n",
       "      <td>1.333333</td>\n",
       "    </tr>\n",
       "    <tr>\n",
       "      <th>3</th>\n",
       "      <td>Изменить структура категорий, что увеличит конверсию, т.к. пользователи быстрее найдут нужный товар</td>\n",
       "      <td>1.125000</td>\n",
       "    </tr>\n",
       "    <tr>\n",
       "      <th>4</th>\n",
       "      <td>Изменить цвет фона главной страницы, чтобы увеличить вовлеченность пользователей</td>\n",
       "      <td>1.000000</td>\n",
       "    </tr>\n",
       "  </tbody>\n",
       "</table>\n",
       "</div>"
      ],
      "text/plain": [
       "                                                                                                     hypothesis  \\\n",
       "8                                                       Запустить акцию, дающую скидку на товар в день рождения   \n",
       "0            Добавить два новых канала привлечения трафика, что позволит привлекать на 30% больше пользователей   \n",
       "7              Добавить форму подписки на все основные страницы, чтобы собрать базу клиентов для email-рассылок   \n",
       "6          Показать на главной странице баннеры с актуальными акциями и распродажами, чтобы увеличить конверсию   \n",
       "2  Добавить блоки рекомендаций товаров на сайт интернет магазина, чтобы повысить конверсию и средний чек заказа   \n",
       "1                                     Запустить собственную службу доставки, что сократит срок доставки заказов   \n",
       "5                      Добавить страницу отзывов клиентов о магазине, что позволит увеличить количество заказов   \n",
       "3           Изменить структура категорий, что увеличит конверсию, т.к. пользователи быстрее найдут нужный товар   \n",
       "4                              Изменить цвет фона главной страницы, чтобы увеличить вовлеченность пользователей   \n",
       "\n",
       "         ICE  \n",
       "8  16.200000  \n",
       "0  13.333333  \n",
       "7  11.200000  \n",
       "6   8.000000  \n",
       "2   7.000000  \n",
       "1   2.000000  \n",
       "5   1.333333  \n",
       "3   1.125000  \n",
       "4   1.000000  "
      ]
     },
     "execution_count": 17,
     "metadata": {},
     "output_type": "execute_result"
    }
   ],
   "source": [
    "hypothesis[['hypothesis', 'ICE']].sort_values(by='ICE', ascending=False)"
   ]
  },
  {
   "cell_type": "markdown",
   "metadata": {},
   "source": [
    "Наиболее перспективными гипотезы по ICE являются:\n",
    "- (8) Запустить акцию, дающую скидку на товар в день рождения\n",
    "- (0) Добавить два новых канала привлечения трафика, что позволит привлекать на 30% больше пользователей\n",
    "- (7) Добавить форму подписки на все основные страницы, чтобы собрать базу клиентов для email-рассылок\n",
    "- (6) Показать на главной странице баннеры с актуальными акциями и распродажами, чтобы увеличить конверсию\t\n",
    "- (2) Добавить блоки рекомендаций товаров на сайт интернет магазина, чтобы повысить конверсию и средний чек заказа"
   ]
  },
  {
   "cell_type": "markdown",
   "metadata": {},
   "source": [
    "### RICE"
   ]
  },
  {
   "cell_type": "markdown",
   "metadata": {},
   "source": [
    "Применим фреймворк RICE для приоритизации гипотез"
   ]
  },
  {
   "cell_type": "code",
   "execution_count": 18,
   "metadata": {},
   "outputs": [],
   "source": [
    "#создадим новый столбец для расчета RICE\n",
    "hypothesis['RICE']=hypothesis['reach']*hypothesis['impact']*hypothesis['confidence']/hypothesis['efforts']"
   ]
  },
  {
   "cell_type": "code",
   "execution_count": 19,
   "metadata": {},
   "outputs": [
    {
     "data": {
      "text/html": [
       "<div>\n",
       "<style scoped>\n",
       "    .dataframe tbody tr th:only-of-type {\n",
       "        vertical-align: middle;\n",
       "    }\n",
       "\n",
       "    .dataframe tbody tr th {\n",
       "        vertical-align: top;\n",
       "    }\n",
       "\n",
       "    .dataframe thead th {\n",
       "        text-align: right;\n",
       "    }\n",
       "</style>\n",
       "<table border=\"1\" class=\"dataframe\">\n",
       "  <thead>\n",
       "    <tr style=\"text-align: right;\">\n",
       "      <th></th>\n",
       "      <th>hypothesis</th>\n",
       "      <th>reach</th>\n",
       "      <th>impact</th>\n",
       "      <th>confidence</th>\n",
       "      <th>efforts</th>\n",
       "      <th>ICE</th>\n",
       "      <th>RICE</th>\n",
       "    </tr>\n",
       "  </thead>\n",
       "  <tbody>\n",
       "    <tr>\n",
       "      <th>7</th>\n",
       "      <td>Добавить форму подписки на все основные страницы, чтобы собрать базу клиентов для email-рассылок</td>\n",
       "      <td>10</td>\n",
       "      <td>7</td>\n",
       "      <td>8</td>\n",
       "      <td>5</td>\n",
       "      <td>11.200000</td>\n",
       "      <td>112.0</td>\n",
       "    </tr>\n",
       "    <tr>\n",
       "      <th>2</th>\n",
       "      <td>Добавить блоки рекомендаций товаров на сайт интернет магазина, чтобы повысить конверсию и средний чек заказа</td>\n",
       "      <td>8</td>\n",
       "      <td>3</td>\n",
       "      <td>7</td>\n",
       "      <td>3</td>\n",
       "      <td>7.000000</td>\n",
       "      <td>56.0</td>\n",
       "    </tr>\n",
       "    <tr>\n",
       "      <th>0</th>\n",
       "      <td>Добавить два новых канала привлечения трафика, что позволит привлекать на 30% больше пользователей</td>\n",
       "      <td>3</td>\n",
       "      <td>10</td>\n",
       "      <td>8</td>\n",
       "      <td>6</td>\n",
       "      <td>13.333333</td>\n",
       "      <td>40.0</td>\n",
       "    </tr>\n",
       "    <tr>\n",
       "      <th>6</th>\n",
       "      <td>Показать на главной странице баннеры с актуальными акциями и распродажами, чтобы увеличить конверсию</td>\n",
       "      <td>5</td>\n",
       "      <td>3</td>\n",
       "      <td>8</td>\n",
       "      <td>3</td>\n",
       "      <td>8.000000</td>\n",
       "      <td>40.0</td>\n",
       "    </tr>\n",
       "    <tr>\n",
       "      <th>8</th>\n",
       "      <td>Запустить акцию, дающую скидку на товар в день рождения</td>\n",
       "      <td>1</td>\n",
       "      <td>9</td>\n",
       "      <td>9</td>\n",
       "      <td>5</td>\n",
       "      <td>16.200000</td>\n",
       "      <td>16.2</td>\n",
       "    </tr>\n",
       "    <tr>\n",
       "      <th>3</th>\n",
       "      <td>Изменить структура категорий, что увеличит конверсию, т.к. пользователи быстрее найдут нужный товар</td>\n",
       "      <td>8</td>\n",
       "      <td>3</td>\n",
       "      <td>3</td>\n",
       "      <td>8</td>\n",
       "      <td>1.125000</td>\n",
       "      <td>9.0</td>\n",
       "    </tr>\n",
       "    <tr>\n",
       "      <th>1</th>\n",
       "      <td>Запустить собственную службу доставки, что сократит срок доставки заказов</td>\n",
       "      <td>2</td>\n",
       "      <td>5</td>\n",
       "      <td>4</td>\n",
       "      <td>10</td>\n",
       "      <td>2.000000</td>\n",
       "      <td>4.0</td>\n",
       "    </tr>\n",
       "    <tr>\n",
       "      <th>5</th>\n",
       "      <td>Добавить страницу отзывов клиентов о магазине, что позволит увеличить количество заказов</td>\n",
       "      <td>3</td>\n",
       "      <td>2</td>\n",
       "      <td>2</td>\n",
       "      <td>3</td>\n",
       "      <td>1.333333</td>\n",
       "      <td>4.0</td>\n",
       "    </tr>\n",
       "    <tr>\n",
       "      <th>4</th>\n",
       "      <td>Изменить цвет фона главной страницы, чтобы увеличить вовлеченность пользователей</td>\n",
       "      <td>3</td>\n",
       "      <td>1</td>\n",
       "      <td>1</td>\n",
       "      <td>1</td>\n",
       "      <td>1.000000</td>\n",
       "      <td>3.0</td>\n",
       "    </tr>\n",
       "  </tbody>\n",
       "</table>\n",
       "</div>"
      ],
      "text/plain": [
       "                                                                                                     hypothesis  \\\n",
       "7              Добавить форму подписки на все основные страницы, чтобы собрать базу клиентов для email-рассылок   \n",
       "2  Добавить блоки рекомендаций товаров на сайт интернет магазина, чтобы повысить конверсию и средний чек заказа   \n",
       "0            Добавить два новых канала привлечения трафика, что позволит привлекать на 30% больше пользователей   \n",
       "6          Показать на главной странице баннеры с актуальными акциями и распродажами, чтобы увеличить конверсию   \n",
       "8                                                       Запустить акцию, дающую скидку на товар в день рождения   \n",
       "3           Изменить структура категорий, что увеличит конверсию, т.к. пользователи быстрее найдут нужный товар   \n",
       "1                                     Запустить собственную службу доставки, что сократит срок доставки заказов   \n",
       "5                      Добавить страницу отзывов клиентов о магазине, что позволит увеличить количество заказов   \n",
       "4                              Изменить цвет фона главной страницы, чтобы увеличить вовлеченность пользователей   \n",
       "\n",
       "   reach  impact  confidence  efforts        ICE   RICE  \n",
       "7     10       7           8        5  11.200000  112.0  \n",
       "2      8       3           7        3   7.000000   56.0  \n",
       "0      3      10           8        6  13.333333   40.0  \n",
       "6      5       3           8        3   8.000000   40.0  \n",
       "8      1       9           9        5  16.200000   16.2  \n",
       "3      8       3           3        8   1.125000    9.0  \n",
       "1      2       5           4       10   2.000000    4.0  \n",
       "5      3       2           2        3   1.333333    4.0  \n",
       "4      3       1           1        1   1.000000    3.0  "
      ]
     },
     "execution_count": 19,
     "metadata": {},
     "output_type": "execute_result"
    }
   ],
   "source": [
    "hypothesis.sort_values(by='RICE', ascending=False)"
   ]
  },
  {
   "cell_type": "markdown",
   "metadata": {},
   "source": [
    "Наиболее перспективными гипотезы по RICE являются:\n",
    "- (7) Добавить форму подписки на все основные страницы, чтобы собрать базу клиентов для email-рассылок\n",
    "- (2) Добавить блоки рекомендаций товаров на сайт интернет магазина, чтобы повысить конверсию и средний чек заказа\n",
    "- (0) Добавить два новых канала привлечения трафика, что позволит привлекать на 30% больше пользователей\n",
    "- (6) Показать на главной странице баннеры с актуальными акциями и распродажами, чтобы увеличить конверсию\n",
    "- (8) Запустить акцию, дающую скидку на товар в день рождения\n",
    "\n",
    "Сами гипотезы такие же как по ICE, но их приоритетность изменилась. \n",
    "Связано это с тем, что мы при расчете по RICE мы учитываем скольких пользователей эти изменения затронут. И гипотезы с большим охватом пользователей более приоритетны по RICE."
   ]
  },
  {
   "cell_type": "markdown",
   "metadata": {},
   "source": [
    "### Промежуточный вывод"
   ]
  },
  {
   "cell_type": "markdown",
   "metadata": {},
   "source": [
    "Самыми приоритетными гипотезами являются:\n",
    "- Добавить форму подписки на все основные страницы, чтобы собрать базу клиентов для email-рассылок\n",
    "- Добавить блоки рекомендаций товаров на сайт интернет магазина, чтобы повысить конверсию и средний чек заказа\n",
    "- Добавить два новых канала привлечения трафика, что позволит привлекать на 30% больше пользователей\n",
    "- Показать на главной странице баннеры с актуальными акциями и распродажами, чтобы увеличить конверсию\n",
    "- Запустить акцию, дающую скидку на товар в день рождения"
   ]
  },
  {
   "cell_type": "markdown",
   "metadata": {},
   "source": [
    "## Анализ A/B-теста"
   ]
  },
  {
   "cell_type": "markdown",
   "metadata": {},
   "source": [
    "### Графики кумулятивных метрик"
   ]
  },
  {
   "cell_type": "markdown",
   "metadata": {},
   "source": [
    "#### График кумулятивной выручки по группам"
   ]
  },
  {
   "cell_type": "markdown",
   "metadata": {},
   "source": [
    "Построим график кумулятивной выручки по группам"
   ]
  },
  {
   "cell_type": "code",
   "execution_count": 20,
   "metadata": {},
   "outputs": [],
   "source": [
    "# создаем массив уникальных пар значений дат и групп теста\n",
    "datesGroups = orders[['date','group']].drop_duplicates()"
   ]
  },
  {
   "cell_type": "code",
   "execution_count": 21,
   "metadata": {},
   "outputs": [],
   "source": [
    "#добавим в него кумулятивные данные о кол-ве заказов, пользователей и сумме выручке по группам\n",
    "ordersAggregated = datesGroups.apply(\n",
    "    lambda x:orders[np.logical_and(orders['date']<= x['date'], orders['group'] == x['group'])\n",
    "                   ].agg(\n",
    "        {'date' : 'max', 'group' : 'max', 'transaction_id' : 'nunique', 'visitor_id' : 'nunique', 'revenue' : 'sum'}\n",
    "    ), axis=1).sort_values(by=['date','group'])"
   ]
  },
  {
   "cell_type": "code",
   "execution_count": 22,
   "metadata": {},
   "outputs": [],
   "source": [
    "#отдельно соберем кумулятивные данные о пользователях\n",
    "visitorsAggregated = datesGroups.apply(\n",
    "    lambda x:visitors[np.logical_and(visitors['date']<= x['date'], visitors['group'] == x['group'])\n",
    "                     ].agg(\n",
    "        {'date' : 'max', 'group' : 'max', 'visitors' : 'sum'}\n",
    "    ),axis=1).sort_values(by=['date','group'])"
   ]
  },
  {
   "cell_type": "code",
   "execution_count": 23,
   "metadata": {},
   "outputs": [],
   "source": [
    "# объединяем кумулятивные данные в одной таблице и присваиваем ее столбцам понятные названия\n",
    "cumulativeData = ordersAggregated.merge(visitorsAggregated, left_on=['date', 'group'], right_on=['date', 'group'])\n",
    "cumulativeData.columns = ['date', 'group', 'orders', 'buyers', 'revenue', 'visitors']"
   ]
  },
  {
   "cell_type": "code",
   "execution_count": 24,
   "metadata": {},
   "outputs": [
    {
     "data": {
      "image/png": "[encoded data removed]",
      "text/plain": [
       "<Figure size 432x288 with 1 Axes>"
      ]
     },
     "metadata": {
      "needs_background": "light"
     },
     "output_type": "display_data"
    }
   ],
   "source": [
    "# датафрейм с кумулятивным количеством заказов и кумулятивной выручкой по дням в группе А\n",
    "cumulativeRevenueA = cumulativeData[cumulativeData['group']=='A'][['date','revenue', 'orders']]\n",
    "\n",
    "# датафрейм с кумулятивным количеством заказов и кумулятивной выручкой по дням в группе B\n",
    "cumulativeRevenueB = cumulativeData[cumulativeData['group']=='B'][['date','revenue', 'orders']]\n",
    "\n",
    "# Строим график выручки группы А\n",
    "plt.plot(cumulativeRevenueA['date'], cumulativeRevenueA['revenue'], label='A')\n",
    "\n",
    "# Строим график выручки группы B\n",
    "plt.plot(cumulativeRevenueB['date'], cumulativeRevenueB['revenue'], label='B')\n",
    "\n",
    "plt.xticks(rotation=45) \n",
    "plt.xlabel('Дата')\n",
    "plt.ylabel('Выручка,млн руб')\n",
    "plt.title('График кумулятивной выручки по группам ')\n",
    "plt.legend() \n",
    "plt.show()"
   ]
  },
  {
   "cell_type": "markdown",
   "metadata": {},
   "source": [
    "Выручка почти равномерно увеличивается в течение всего теста. Хороший знак.\n",
    "Однако график выручки группы B в одной точке (18/08/2019) резко вырастает. Это может сигнализировать о всплесках числа заказов, либо о появлении очень дорогих заказов в выборке."
   ]
  },
  {
   "cell_type": "markdown",
   "metadata": {},
   "source": [
    "#### График кумулятивного среднего чека по группам"
   ]
  },
  {
   "cell_type": "markdown",
   "metadata": {},
   "source": [
    "Построим график кумулятивного среднего чека по группам"
   ]
  },
  {
   "cell_type": "code",
   "execution_count": 25,
   "metadata": {},
   "outputs": [
    {
     "data": {
      "image/png": "[encoded data removed]",
      "text/plain": [
       "<Figure size 432x288 with 1 Axes>"
      ]
     },
     "metadata": {
      "needs_background": "light"
     },
     "output_type": "display_data"
    }
   ],
   "source": [
    "plt.plot(cumulativeRevenueA['date'], cumulativeRevenueA['revenue']/cumulativeRevenueA['orders'], label='A')\n",
    "plt.plot(cumulativeRevenueB['date'], cumulativeRevenueB['revenue']/cumulativeRevenueB['orders'], label='B')\n",
    "plt.xticks(rotation=45) \n",
    "plt.xlabel('Дата')\n",
    "plt.ylabel('Ср.чек, руб')\n",
    "plt.title('График кумулятивного ср.чека по группам ')\n",
    "plt.legend() \n",
    "plt.show()"
   ]
  },
  {
   "cell_type": "markdown",
   "metadata": {},
   "source": [
    "Видим, что средний чек по обоим группам не равномерен. Только после середины месяца ср.чек в группе А выравнивается. В группе B в в середине месяца видимо попали крупные заказы (резкий всплеск на графике). Поэтому ей нужно больше данных, чтобы прийти к реальному среднему чеку и установиться на его уровне."
   ]
  },
  {
   "cell_type": "markdown",
   "metadata": {},
   "source": [
    "#### График относительного изменения кумулятивного среднего чека группы B к группе A. "
   ]
  },
  {
   "cell_type": "markdown",
   "metadata": {},
   "source": [
    "Построим график относительного изменения кумулятивного среднего чека группы B к группе A. "
   ]
  },
  {
   "cell_type": "code",
   "execution_count": 26,
   "metadata": {
    "scrolled": true
   },
   "outputs": [
    {
     "data": {
      "image/png": "[encoded data removed]",
      "text/plain": [
       "<Figure size 432x288 with 1 Axes>"
      ]
     },
     "metadata": {
      "needs_background": "light"
     },
     "output_type": "display_data"
    }
   ],
   "source": [
    "# собираем данные в одном датафрейме\n",
    "mergedCumulativeRevenue = cumulativeRevenueA.merge(\n",
    "    cumulativeRevenueB, \n",
    "    left_on='date', \n",
    "    right_on='date', \n",
    "    how='left', \n",
    "    suffixes=['A', 'B']\n",
    ")\n",
    "\n",
    "# cтроим отношение средних чеков\n",
    "plt.plot(\n",
    "    mergedCumulativeRevenue['date'], \n",
    "    (mergedCumulativeRevenue['revenueB']/mergedCumulativeRevenue['ordersB']\n",
    "    )/(mergedCumulativeRevenue['revenueA']/mergedCumulativeRevenue['ordersA'])-1\n",
    ")\n",
    "\n",
    "# добавляем ось X\n",
    "plt.axhline(y=0, color='black', linestyle='--')\n",
    "\n",
    "plt.xticks(rotation=45) \n",
    "plt.xlabel('Дата')\n",
    "plt.ylabel('Отношение ср.чеков')\n",
    "plt.title('График отн.изменения кумулятивного ср.чека гр. B к гр.A')\n",
    "plt.show()"
   ]
  },
  {
   "cell_type": "markdown",
   "metadata": {},
   "source": [
    "В нескольких точках график различия между сегментами резко «скачет». Где-то уж точно спрятались крупные заказы и выбросы"
   ]
  },
  {
   "cell_type": "markdown",
   "metadata": {},
   "source": [
    "#### График кумулятивного среднего количества заказов на посетителя по группам"
   ]
  },
  {
   "cell_type": "markdown",
   "metadata": {},
   "source": [
    "Построим график кумулятивного среднего количества заказов на посетителя по группам"
   ]
  },
  {
   "cell_type": "code",
   "execution_count": 27,
   "metadata": {},
   "outputs": [
    {
     "data": {
      "image/png": "[encoded data removed]",
      "text/plain": [
       "<Figure size 432x288 with 1 Axes>"
      ]
     },
     "metadata": {
      "needs_background": "light"
     },
     "output_type": "display_data"
    }
   ],
   "source": [
    "# считаем среднее количество заказов на посетителя\n",
    "cumulativeData['conversion'] = cumulativeData['orders']/cumulativeData['visitors']\n",
    "\n",
    "# отделяем данные по группе A\n",
    "cumulativeDataA = cumulativeData[cumulativeData['group']=='A']\n",
    "\n",
    "# отделяем данные по группе B\n",
    "cumulativeDataB = cumulativeData[cumulativeData['group']=='B']\n",
    "\n",
    "# строим графики\n",
    "plt.plot(cumulativeDataA['date'], cumulativeDataA['conversion'], label='A')\n",
    "plt.plot(cumulativeDataB['date'], cumulativeDataB['conversion'], label='B')\n",
    "plt.legend()\n",
    "\n",
    "# задаем масштаб осей\n",
    "plt.axis([\"2019-08-01\", \"2019-08-31\", 0, 0.045])\n",
    "\n",
    "plt.xticks(rotation=45) \n",
    "plt.xlabel('Дата')\n",
    "plt.ylabel('Ср. кол-во заказов')\n",
    "plt.title('График кумулятивного ср.кол-ва заказов на пользователя')\n",
    "plt.show()"
   ]
  },
  {
   "cell_type": "markdown",
   "metadata": {},
   "source": [
    "Группы колебались около одного значения, но затем у группы В среднее количество заказов вырвалось вперёд и зафиксировалось, а у группы A — просело, но тоже зафиксировалось."
   ]
  },
  {
   "cell_type": "markdown",
   "metadata": {},
   "source": [
    "#### График относительного изменения кумулятивного среднего количества заказов на посетителя группы B к группе A"
   ]
  },
  {
   "cell_type": "markdown",
   "metadata": {},
   "source": [
    "Построим график относительного изменения кумулятивного среднего количества заказов на посетителя группы B к группе A"
   ]
  },
  {
   "cell_type": "code",
   "execution_count": 28,
   "metadata": {},
   "outputs": [
    {
     "data": {
      "image/png": "[encoded data removed]",
      "text/plain": [
       "<Figure size 432x288 with 1 Axes>"
      ]
     },
     "metadata": {
      "needs_background": "light"
     },
     "output_type": "display_data"
    }
   ],
   "source": [
    "mergedCumulativeConversions = cumulativeDataA[['date','conversion']].merge(\n",
    "    cumulativeDataB[['date','conversion']], \n",
    "    left_on='date', \n",
    "    right_on='date', \n",
    "    how='left', \n",
    "    suffixes=['A', 'B']\n",
    ")\n",
    "\n",
    "plt.plot(\n",
    "    mergedCumulativeConversions['date'], \n",
    "    mergedCumulativeConversions['conversionB']/mergedCumulativeConversions['conversionA']-1\n",
    ")\n",
    "\n",
    "plt.axhline(y=0, color='black', linestyle='--')\n",
    "plt.axhline(y=-0.1, color='grey', linestyle='--')\n",
    "plt.axis([\"2019-08-01\", '2019-08-31', -0.2, 0.4])\n",
    "\n",
    "plt.xticks(rotation=45) \n",
    "plt.xlabel('Дата')\n",
    "plt.ylabel('Отношение ср.кол-ва заказов')\n",
    "plt.title('График отн.изменения кумулятивного ср.кол-ва заказов на пользователя гр.В к гр.А')\n",
    "plt.show()"
   ]
  },
  {
   "cell_type": "markdown",
   "metadata": {},
   "source": [
    "В начале теста группа B значительно проигрывала группе A, затем вырвалась вперёд. Потом среднее количество заказов на посетителя для группы B снова уменьшалось, но теперь постепенно растёт\n",
    "В целом отношение среднего количества заказов на посетителя ещё не установилось, и сейчас делать какие-либо выводы по тесту нельзя. Стоит проанализировать аномалии, возможно, они изменят картину."
   ]
  },
  {
   "cell_type": "markdown",
   "metadata": {},
   "source": [
    "### Точечные графики метрик и определение аномалий"
   ]
  },
  {
   "cell_type": "markdown",
   "metadata": {},
   "source": [
    "#### Точечный график количества заказов по пользователям"
   ]
  },
  {
   "cell_type": "markdown",
   "metadata": {},
   "source": [
    "Построим точечный график количества заказов по пользователям"
   ]
  },
  {
   "cell_type": "code",
   "execution_count": 29,
   "metadata": {},
   "outputs": [
    {
     "data": {
      "text/plain": [
       "<matplotlib.collections.PathCollection at 0x7f321f89cfa0>"
      ]
     },
     "execution_count": 29,
     "metadata": {},
     "output_type": "execute_result"
    },
    {
     "data": {
      "image/png": "[encoded data removed]",
      "text/plain": [
       "<Figure size 432x288 with 1 Axes>"
      ]
     },
     "metadata": {
      "needs_background": "light"
     },
     "output_type": "display_data"
    }
   ],
   "source": [
    "#посчитаем кол-во заказов каждого пользователя\n",
    "ordersByUsers = (\n",
    "    orders.groupby('visitor_id', as_index=False)\n",
    "    .agg({'transaction_id': 'nunique'})\n",
    ")\n",
    "#переименуем колонки\n",
    "ordersByUsers.columns = ['visitor_id', 'orders']\n",
    "\n",
    "x_values = pd.Series(range(0,len(ordersByUsers)))\n",
    "\n",
    "plt.scatter(x_values, ordersByUsers['orders'])"
   ]
  },
  {
   "cell_type": "markdown",
   "metadata": {},
   "source": [
    "Видим, что большинство пользователей с 1-2 заказами. Проверим дальше, аномалия ли это."
   ]
  },
  {
   "cell_type": "markdown",
   "metadata": {},
   "source": [
    "#### 95-й и 99-й перцентили количества заказов на пользователя"
   ]
  },
  {
   "cell_type": "markdown",
   "metadata": {},
   "source": [
    "Посчитаем 95-й и 99-й перцентили количества заказов на пользователя. Выберем границу для определения аномальных пользователей."
   ]
  },
  {
   "cell_type": "code",
   "execution_count": 30,
   "metadata": {},
   "outputs": [
    {
     "data": {
      "text/plain": [
       "array([2., 4.])"
      ]
     },
     "execution_count": 30,
     "metadata": {},
     "output_type": "execute_result"
    }
   ],
   "source": [
    "np.percentile(ordersByUsers['orders'], [95, 99])"
   ]
  },
  {
   "cell_type": "markdown",
   "metadata": {},
   "source": [
    "Не более 5% пользователей оформляли больше чем 2 заказа, не более 1% - более чем 2 заказа.  \n",
    "Разумно выбрать 3 заказа на одного пользователя за верхнюю границу числа заказов, и отсеять аномальных пользователей по ней."
   ]
  },
  {
   "cell_type": "markdown",
   "metadata": {},
   "source": [
    "#### Точечный график стоимостей заказов"
   ]
  },
  {
   "cell_type": "markdown",
   "metadata": {},
   "source": [
    "Построим точечный график стоимостей заказов"
   ]
  },
  {
   "cell_type": "code",
   "execution_count": 31,
   "metadata": {},
   "outputs": [
    {
     "data": {
      "image/png": "[encoded data removed]",
      "text/plain": [
       "<Figure size 432x288 with 1 Axes>"
      ]
     },
     "metadata": {
      "needs_background": "light"
     },
     "output_type": "display_data"
    }
   ],
   "source": [
    "x_values = pd.Series(range(0,len(orders['revenue'])))\n",
    "plt.scatter(x_values, orders['revenue'])\n",
    " \n",
    "plt.xlabel('Количество заказов')\n",
    "plt.ylabel('Стоимость заказа, млн.руб')\n",
    "plt.title('Точечный график стоимостей заказов')\n",
    "plt.show()"
   ]
  },
  {
   "cell_type": "markdown",
   "metadata": {},
   "source": [
    "Видим очень дорогой заказ, выше 1,2 млн.руб. Посмотрим поближе на данные без этого заказа."
   ]
  },
  {
   "cell_type": "code",
   "execution_count": 32,
   "metadata": {},
   "outputs": [
    {
     "data": {
      "image/png": "[encoded data removed]",
      "text/plain": [
       "<Figure size 432x288 with 1 Axes>"
      ]
     },
     "metadata": {
      "needs_background": "light"
     },
     "output_type": "display_data"
    }
   ],
   "source": [
    "# Фильтрация заказов стоимостью до 300 тыс.\n",
    "filtered_orders = orders[orders['revenue'] < 300000]\n",
    "\n",
    "x_values = pd.Series(range(0, len(filtered_orders)))\n",
    "plt.scatter(x_values, filtered_orders['revenue'])\n",
    "\n",
    "plt.xlabel('Количество заказов')\n",
    "plt.ylabel('Стоимость заказа, млн.руб')\n",
    "plt.title('Точечный график стоимостей заказов (до 300 тыс.)')\n",
    "plt.show()\n"
   ]
  },
  {
   "cell_type": "markdown",
   "metadata": {},
   "source": [
    "Видим, что чаще всего заказы имеют стоимость до 30 тыс. Проверим аномалии."
   ]
  },
  {
   "cell_type": "markdown",
   "metadata": {},
   "source": [
    "#### 95-й и 99-й перцентили стоимости заказов"
   ]
  },
  {
   "cell_type": "markdown",
   "metadata": {},
   "source": [
    "Посчитаем 95-й и 99-й перцентили стоимости заказов"
   ]
  },
  {
   "cell_type": "code",
   "execution_count": 33,
   "metadata": {},
   "outputs": [
    {
     "data": {
      "text/plain": [
       "array([28000. , 58233.2])"
      ]
     },
     "execution_count": 33,
     "metadata": {},
     "output_type": "execute_result"
    }
   ],
   "source": [
    "np.percentile(orders['revenue'], [95, 99])"
   ]
  },
  {
   "cell_type": "markdown",
   "metadata": {},
   "source": [
    "Не более 5% заказов дороже 28 000 рублей.\n",
    "Поэтому будем считать верхней границей стоимости заказа 28 тыс руб "
   ]
  },
  {
   "cell_type": "markdown",
   "metadata": {},
   "source": [
    "### Статистическая значимость различий метрик по \"сырым\" и \"очищенным\" данным"
   ]
  },
  {
   "cell_type": "markdown",
   "metadata": {},
   "source": [
    "#### Статистическая значимость различий в среднем количестве заказов на посетителя между группами по «сырым» данным"
   ]
  },
  {
   "cell_type": "markdown",
   "metadata": {},
   "source": [
    "Сформулируем гипотезы. Нулевая: различий в среднем количестве заказов между группами нет. Альтернативная: различия в среднем между группами есть"
   ]
  },
  {
   "cell_type": "markdown",
   "metadata": {},
   "source": [
    "Посчитаем статистическую значимость различий в среднем количестве заказов на посетителя между группами по «сырым» данным."
   ]
  },
  {
   "cell_type": "code",
   "execution_count": 34,
   "metadata": {},
   "outputs": [
    {
     "data": {
      "text/html": [
       "<div>\n",
       "<style scoped>\n",
       "    .dataframe tbody tr th:only-of-type {\n",
       "        vertical-align: middle;\n",
       "    }\n",
       "\n",
       "    .dataframe tbody tr th {\n",
       "        vertical-align: top;\n",
       "    }\n",
       "\n",
       "    .dataframe thead th {\n",
       "        text-align: right;\n",
       "    }\n",
       "</style>\n",
       "<table border=\"1\" class=\"dataframe\">\n",
       "  <thead>\n",
       "    <tr style=\"text-align: right;\">\n",
       "      <th></th>\n",
       "      <th>date</th>\n",
       "      <th>ordersPerDateA</th>\n",
       "      <th>revenuePerDateA</th>\n",
       "      <th>ordersPerDateB</th>\n",
       "      <th>revenuePerDateB</th>\n",
       "      <th>ordersCummulativeA</th>\n",
       "      <th>revenueCummulativeA</th>\n",
       "      <th>ordersCummulativeB</th>\n",
       "      <th>revenueCummulativeB</th>\n",
       "      <th>visitorsPerDateA</th>\n",
       "      <th>visitorsPerDateB</th>\n",
       "      <th>visitorsCummulativeA</th>\n",
       "      <th>visitorsCummulativeB</th>\n",
       "    </tr>\n",
       "  </thead>\n",
       "  <tbody>\n",
       "    <tr>\n",
       "      <th>0</th>\n",
       "      <td>2019-08-01</td>\n",
       "      <td>24</td>\n",
       "      <td>148579</td>\n",
       "      <td>21</td>\n",
       "      <td>101217</td>\n",
       "      <td>24</td>\n",
       "      <td>148579</td>\n",
       "      <td>21</td>\n",
       "      <td>101217</td>\n",
       "      <td>719</td>\n",
       "      <td>713</td>\n",
       "      <td>719</td>\n",
       "      <td>713</td>\n",
       "    </tr>\n",
       "    <tr>\n",
       "      <th>1</th>\n",
       "      <td>2019-08-02</td>\n",
       "      <td>20</td>\n",
       "      <td>93822</td>\n",
       "      <td>24</td>\n",
       "      <td>165531</td>\n",
       "      <td>44</td>\n",
       "      <td>242401</td>\n",
       "      <td>45</td>\n",
       "      <td>266748</td>\n",
       "      <td>619</td>\n",
       "      <td>581</td>\n",
       "      <td>1338</td>\n",
       "      <td>1294</td>\n",
       "    </tr>\n",
       "    <tr>\n",
       "      <th>2</th>\n",
       "      <td>2019-08-03</td>\n",
       "      <td>24</td>\n",
       "      <td>112473</td>\n",
       "      <td>16</td>\n",
       "      <td>114248</td>\n",
       "      <td>68</td>\n",
       "      <td>354874</td>\n",
       "      <td>61</td>\n",
       "      <td>380996</td>\n",
       "      <td>507</td>\n",
       "      <td>509</td>\n",
       "      <td>1845</td>\n",
       "      <td>1803</td>\n",
       "    </tr>\n",
       "    <tr>\n",
       "      <th>3</th>\n",
       "      <td>2019-08-04</td>\n",
       "      <td>16</td>\n",
       "      <td>70825</td>\n",
       "      <td>17</td>\n",
       "      <td>108571</td>\n",
       "      <td>84</td>\n",
       "      <td>425699</td>\n",
       "      <td>78</td>\n",
       "      <td>489567</td>\n",
       "      <td>717</td>\n",
       "      <td>770</td>\n",
       "      <td>2562</td>\n",
       "      <td>2573</td>\n",
       "    </tr>\n",
       "    <tr>\n",
       "      <th>4</th>\n",
       "      <td>2019-08-05</td>\n",
       "      <td>25</td>\n",
       "      <td>124218</td>\n",
       "      <td>23</td>\n",
       "      <td>92428</td>\n",
       "      <td>109</td>\n",
       "      <td>549917</td>\n",
       "      <td>101</td>\n",
       "      <td>581995</td>\n",
       "      <td>756</td>\n",
       "      <td>707</td>\n",
       "      <td>3318</td>\n",
       "      <td>3280</td>\n",
       "    </tr>\n",
       "  </tbody>\n",
       "</table>\n",
       "</div>"
      ],
      "text/plain": [
       "        date  ordersPerDateA  revenuePerDateA  ordersPerDateB  \\\n",
       "0 2019-08-01              24           148579              21   \n",
       "1 2019-08-02              20            93822              24   \n",
       "2 2019-08-03              24           112473              16   \n",
       "3 2019-08-04              16            70825              17   \n",
       "4 2019-08-05              25           124218              23   \n",
       "\n",
       "   revenuePerDateB  ordersCummulativeA  revenueCummulativeA  \\\n",
       "0           101217                  24               148579   \n",
       "1           165531                  44               242401   \n",
       "2           114248                  68               354874   \n",
       "3           108571                  84               425699   \n",
       "4            92428                 109               549917   \n",
       "\n",
       "   ordersCummulativeB  revenueCummulativeB  visitorsPerDateA  \\\n",
       "0                  21               101217               719   \n",
       "1                  45               266748               619   \n",
       "2                  61               380996               507   \n",
       "3                  78               489567               717   \n",
       "4                 101               581995               756   \n",
       "\n",
       "   visitorsPerDateB  visitorsCummulativeA  visitorsCummulativeB  \n",
       "0               713                   719                   713  \n",
       "1               581                  1338                  1294  \n",
       "2               509                  1845                  1803  \n",
       "3               770                  2562                  2573  \n",
       "4               707                  3318                  3280  "
      ]
     },
     "execution_count": 34,
     "metadata": {},
     "output_type": "execute_result"
    }
   ],
   "source": [
    "#количество пользователей в выбранную дату в группе A\n",
    "visitorsADaily = visitors[visitors['group'] == 'A'][['date', 'visitors']]\n",
    "visitorsADaily.columns = ['date', 'visitorsPerDateA']\n",
    "\n",
    "#количество пользователей до выбранной даты включительно в группе A\n",
    "visitorsACummulative = visitorsADaily.apply(\n",
    "    lambda x: visitorsADaily[visitorsADaily['date'] <= x['date']].agg(\n",
    "        {'date': 'max', 'visitorsPerDateA': 'sum'}\n",
    "    ),\n",
    "    axis=1,\n",
    ")\n",
    "visitorsACummulative.columns = ['date', 'visitorsCummulativeA']\n",
    "\n",
    "#количество пользователей в выбранную дату в группе B\n",
    "visitorsBDaily = visitors[visitors['group'] == 'B'][['date', 'visitors']]\n",
    "visitorsBDaily.columns = ['date', 'visitorsPerDateB']\n",
    "\n",
    "#количество пользователей до выбранной даты включительно в группе B\n",
    "visitorsBCummulative = visitorsBDaily.apply(\n",
    "    lambda x: visitorsBDaily[visitorsBDaily['date'] <= x['date']].agg(\n",
    "        {'date': 'max', 'visitorsPerDateB': 'sum'}\n",
    "    ),\n",
    "    axis=1,\n",
    ")\n",
    "visitorsBCummulative.columns = ['date', 'visitorsCummulativeB']\n",
    "\n",
    "#количество заказов и выручка в выбранную дату в группе A\n",
    "ordersADaily = (\n",
    "    orders[orders['group'] == 'A'][['date', 'transaction_id', 'visitor_id', 'revenue']]\n",
    "    .groupby('date', as_index=False)\n",
    "    .agg({'transaction_id': pd.Series.nunique, 'revenue': 'sum'})\n",
    ")\n",
    "ordersADaily.columns = ['date', 'ordersPerDateA', 'revenuePerDateA']\n",
    "\n",
    "#суммарное число заказов и суммарная выручка до выбранной даты включительно в группе A\n",
    "ordersACummulative = ordersADaily.apply(\n",
    "    lambda x: ordersADaily[ordersADaily['date'] <= x['date']].agg(\n",
    "        {'date': 'max', 'ordersPerDateA': 'sum', 'revenuePerDateA': 'sum'}\n",
    "    ),\n",
    "    axis=1,\n",
    ").sort_values(by=['date'])\n",
    "ordersACummulative.columns = [\n",
    "    'date',\n",
    "    'ordersCummulativeA',\n",
    "    'revenueCummulativeA',\n",
    "]\n",
    "\n",
    "#количество заказов и выручка в выбранную дату в группе B\n",
    "ordersBDaily = (\n",
    "    orders[orders['group'] == 'B'][['date', 'transaction_id', 'visitor_id', 'revenue']]\n",
    "    .groupby('date', as_index=False)\n",
    "    .agg({'transaction_id': pd.Series.nunique, 'revenue': 'sum'})\n",
    ")\n",
    "ordersBDaily.columns = ['date', 'ordersPerDateB', 'revenuePerDateB']\n",
    "\n",
    "#суммарное число заказов и суммарная выручка до выбранной даты включительно в группе B\n",
    "ordersBCummulative = ordersBDaily.apply(\n",
    "    lambda x: ordersBDaily[ordersBDaily['date'] <= x['date']].agg(\n",
    "        {'date': 'max', 'ordersPerDateB': 'sum', 'revenuePerDateB': 'sum'}\n",
    "    ),\n",
    "    axis=1,\n",
    ").sort_values(by=['date'])\n",
    "ordersBCummulative.columns = [\n",
    "    'date',\n",
    "    'ordersCummulativeB',\n",
    "    'revenueCummulativeB',\n",
    "]\n",
    "\n",
    "#соберем все в одной переменной\n",
    "data = (\n",
    "    ordersADaily.merge(\n",
    "        ordersBDaily, left_on='date', right_on='date', how='left'\n",
    "    )\n",
    "    .merge(ordersACummulative, left_on='date', right_on='date', how='left')\n",
    "    .merge(ordersBCummulative, left_on='date', right_on='date', how='left')\n",
    "    .merge(visitorsADaily, left_on='date', right_on='date', how='left')\n",
    "    .merge(visitorsBDaily, left_on='date', right_on='date', how='left')\n",
    "    .merge(visitorsACummulative, left_on='date', right_on='date', how='left')\n",
    "    .merge(visitorsBCummulative, left_on='date', right_on='date', how='left')\n",
    ")\n",
    "\n",
    "#проверим\n",
    "data.head(5)"
   ]
  },
  {
   "cell_type": "code",
   "execution_count": 35,
   "metadata": {},
   "outputs": [],
   "source": [
    "#создадим переменные по группам для пользователей, которые заказывали хотя бы 1 раз, укажем число совершённых заказов\n",
    "ordersByUsersA = (\n",
    "    orders[orders['group'] == 'A']\n",
    "    .groupby('visitor_id', as_index=False)\n",
    "    .agg({'transaction_id': pd.Series.nunique})\n",
    ")\n",
    "ordersByUsersA.columns = ['visitor_id', 'orders']\n",
    "\n",
    "ordersByUsersB = (\n",
    "    orders[orders['group'] == 'B']\n",
    "    .groupby('visitor_id', as_index=False)\n",
    "    .agg({'transaction_id': pd.Series.nunique})\n",
    ")\n",
    "ordersByUsersB.columns = ['visitor_id', 'orders']"
   ]
  },
  {
   "cell_type": "code",
   "execution_count": 36,
   "metadata": {},
   "outputs": [
    {
     "name": "stdout",
     "output_type": "stream",
     "text": [
      "0.017\n",
      "0.138\n"
     ]
    }
   ],
   "source": [
    "#создадим переменные, в которых пользователям из разных групп будет соответствовать количество заказов\n",
    "sampleA = pd.concat(\n",
    "    [\n",
    "        ordersByUsersA['orders'],\n",
    "        pd.Series(\n",
    "            0,\n",
    "            index=np.arange(\n",
    "                data['visitorsPerDateA'].sum() - len(ordersByUsersA['orders'])\n",
    "            ),\n",
    "            name='orders',\n",
    "        ),\n",
    "    ],\n",
    "    axis=0,\n",
    ")\n",
    "\n",
    "sampleB = pd.concat(\n",
    "    [\n",
    "        ordersByUsersB['orders'],\n",
    "        pd.Series(\n",
    "            0,\n",
    "            index=np.arange(\n",
    "                data['visitorsPerDateB'].sum() - len(ordersByUsersB['orders'])\n",
    "            ),\n",
    "            name='orders',\n",
    "        ),\n",
    "    ],\n",
    "    axis=0,\n",
    ")\n",
    "\n",
    "# p-value\n",
    "print(\"{0:.3f}\".format(st.mannwhitneyu(sampleA, sampleB)[1]))\n",
    "\n",
    "#относительный прирост среднего числа заказов группы B\n",
    "print(\"{0:.3f}\".format(sampleB.mean() / sampleA.mean() - 1))"
   ]
  },
  {
   "cell_type": "markdown",
   "metadata": {},
   "source": [
    "P-value значительно меньше 0.05. Значит, нулевую гипотезу можно опровергнуть и считать, что в ср. кол-ве заказов между группами есть различия. Среднее кол-во заказов группы B выше среднего чека группы A на 13,8%."
   ]
  },
  {
   "cell_type": "markdown",
   "metadata": {},
   "source": [
    "#### Cтатистическая значимость различий в среднем чеке заказа между группами по «сырым» данным"
   ]
  },
  {
   "cell_type": "markdown",
   "metadata": {},
   "source": [
    "Нулевая гипотеза: различий в среднем чеке между группами нет. Альтернативная гипотеза: различия в среднем чеке между группами есть. "
   ]
  },
  {
   "cell_type": "markdown",
   "metadata": {},
   "source": [
    "Посчитаем статистическую значимость различий в среднем чеке заказа между группами по «сырым» данным"
   ]
  },
  {
   "cell_type": "code",
   "execution_count": 37,
   "metadata": {},
   "outputs": [
    {
     "name": "stdout",
     "output_type": "stream",
     "text": [
      "0.729\n",
      "0.259\n"
     ]
    }
   ],
   "source": [
    "# p-value\n",
    "print('{0:.3f}'.format(st.mannwhitneyu(orders[orders['group']=='A']['revenue'], orders[orders['group']=='B']['revenue'])[1]))\n",
    "\n",
    "#относительный прирост среднего чека группы B\n",
    "print('{0:.3f}'.format(orders[orders['group']=='B']['revenue'].mean()/orders[orders['group']=='A']['revenue'].mean()-1))"
   ]
  },
  {
   "cell_type": "markdown",
   "metadata": {},
   "source": [
    "P-value значительно больше 0.05. Значит, причин отвергать нулевую гипотезу и считать, что в среднем чеке есть различия, нет. При этом по \"сырым\" данным средний чек группы B выше среднего чека группы A на 25,9%."
   ]
  },
  {
   "cell_type": "markdown",
   "metadata": {},
   "source": [
    "#### Cтатистическая значимость различий в среднем количестве заказов на посетителя между группами по «очищенным» данным"
   ]
  },
  {
   "cell_type": "markdown",
   "metadata": {},
   "source": [
    "Принимаем за аномальных пользователей с заказами более 3 и стоимостью более 28 тыс."
   ]
  },
  {
   "cell_type": "code",
   "execution_count": 38,
   "metadata": {},
   "outputs": [
    {
     "name": "stdout",
     "output_type": "stream",
     "text": [
      "1099    148427295\n",
      "18      199603092\n",
      "928     204675465\n",
      "23      237748145\n",
      "684     358944393\n",
      "Name: visitor_id, dtype: int64\n",
      "63\n"
     ]
    }
   ],
   "source": [
    "#отберем пользователей с заказами более 3\n",
    "usersWithManyOrders = pd.concat(\n",
    "    [\n",
    "        ordersByUsersA[ordersByUsersA['orders'] > 3]['visitor_id'],\n",
    "        ordersByUsersB[ordersByUsersB['orders'] > 3]['visitor_id'],\n",
    "    ],\n",
    "    axis=0,\n",
    ")\n",
    "#и стоимостью заказа выше 28 тыс\n",
    "usersWithExpensiveOrders = orders[orders['revenue'] > 28000]['visitor_id']\n",
    "#соединим данные\n",
    "abnormalUsers = (\n",
    "    pd.concat([usersWithManyOrders, usersWithExpensiveOrders], axis=0)\n",
    "    .drop_duplicates()\n",
    "    .sort_values()\n",
    ")\n",
    "#посмотрим сколько их\n",
    "print(abnormalUsers.head(5))\n",
    "print(abnormalUsers.shape[0])"
   ]
  },
  {
   "cell_type": "markdown",
   "metadata": {},
   "source": [
    "Аномальных пользователей всего 63."
   ]
  },
  {
   "cell_type": "markdown",
   "metadata": {},
   "source": [
    "Посчитаем статистическую значимость различий в среднем количестве заказов на посетителя между группами по «очищенным» данным"
   ]
  },
  {
   "cell_type": "code",
   "execution_count": 39,
   "metadata": {},
   "outputs": [
    {
     "name": "stdout",
     "output_type": "stream",
     "text": [
      "0.018\n",
      "0.148\n"
     ]
    }
   ],
   "source": [
    "#очистим данные от аномалии\n",
    "sampleAFiltered = pd.concat(\n",
    "    [\n",
    "        ordersByUsersA[\n",
    "            np.logical_not(ordersByUsersA['visitor_id'].isin(abnormalUsers))\n",
    "        ]['orders'],\n",
    "        pd.Series(\n",
    "            0,\n",
    "            index=np.arange(\n",
    "                data['visitorsPerDateA'].sum() - len(ordersByUsersA['orders'])\n",
    "            ),\n",
    "            name='orders',\n",
    "        ),\n",
    "    ],\n",
    "    axis=0,\n",
    ")\n",
    "\n",
    "sampleBFiltered = pd.concat(\n",
    "    [\n",
    "        ordersByUsersB[\n",
    "            np.logical_not(ordersByUsersB['visitor_id'].isin(abnormalUsers))\n",
    "        ]['orders'],\n",
    "        pd.Series(\n",
    "            0,\n",
    "            index=np.arange(\n",
    "                data['visitorsPerDateB'].sum() - len(ordersByUsersB['orders'])\n",
    "            ),\n",
    "            name='orders',\n",
    "        ),\n",
    "    ],\n",
    "    axis=0,\n",
    ")\n",
    "\n",
    "# p-value\n",
    "print('{0:.3f}'.format(st.mannwhitneyu(sampleAFiltered, sampleBFiltered)[1]))\n",
    "\n",
    "#относительный прирост среднего числа заказов группы B\n",
    "print('{0:.3f}'.format(sampleBFiltered.mean()/sampleAFiltered.mean()-1)) "
   ]
  },
  {
   "cell_type": "markdown",
   "metadata": {},
   "source": [
    "Результаты по среднему количеству заказов практически не изменились. Между группами есть разница по ср.кол-ву заказов, в группе B их на 14,8% больше."
   ]
  },
  {
   "cell_type": "markdown",
   "metadata": {},
   "source": [
    "#### Cтатистическая значимость различий в среднем чеке заказа между группами по «очищенным» данным."
   ]
  },
  {
   "cell_type": "markdown",
   "metadata": {},
   "source": [
    "Посчитаем статистическую значимость различий в среднем чеке заказа между группами по «очищенным» данным."
   ]
  },
  {
   "cell_type": "code",
   "execution_count": 40,
   "metadata": {},
   "outputs": [
    {
     "name": "stdout",
     "output_type": "stream",
     "text": [
      "0.977\n",
      "-0.017\n"
     ]
    }
   ],
   "source": [
    "# p-value\n",
    "print(\n",
    "    '{0:.3f}'.format(\n",
    "        st.mannwhitneyu(\n",
    "            orders[\n",
    "                np.logical_and(\n",
    "                    orders['group'] == 'A',\n",
    "                    np.logical_not(orders['visitor_id'].isin(abnormalUsers)),\n",
    "                )\n",
    "            ]['revenue'],\n",
    "            orders[\n",
    "                np.logical_and(\n",
    "                    orders['group'] == 'B',\n",
    "                    np.logical_not(orders['visitor_id'].isin(abnormalUsers)),\n",
    "                )\n",
    "            ]['revenue'],\n",
    "        )[1]\n",
    "    )\n",
    ")\n",
    "\n",
    "#относительный прирост среднего чека группы B\n",
    "print(\n",
    "    \"{0:.3f}\".format(\n",
    "        orders[\n",
    "            np.logical_and(\n",
    "                orders['group'] == 'B',\n",
    "                np.logical_not(orders['visitor_id'].isin(abnormalUsers)),\n",
    "            )\n",
    "        ]['revenue'].mean()\n",
    "        / orders[\n",
    "            np.logical_and(\n",
    "                orders['group'] == 'A',\n",
    "                np.logical_not(orders['visitor_id'].isin(abnormalUsers)),\n",
    "            )\n",
    "        ]['revenue'].mean()\n",
    "        - 1\n",
    "    )\n",
    ")"
   ]
  },
  {
   "cell_type": "markdown",
   "metadata": {},
   "source": [
    "P-value увеличился, значит различий по ср.чеку между группами нет. Ср.чек группы В на 1,7% ниже ср.чека гр.А"
   ]
  },
  {
   "cell_type": "markdown",
   "metadata": {},
   "source": [
    "### Решение по результатам теста"
   ]
  },
  {
   "cell_type": "markdown",
   "metadata": {},
   "source": [
    "Имеющиеся факты:\n",
    "- Есть статистически значимое различие по среднему количеству заказов между группами и по «сырым», и по данным после фильтрации аномалий;\n",
    "- Нет статистически значимого различия по среднему чеку между группами ни по «сырым», ни по данным после фильтрации аномалий;\n",
    "- График различия среднего количества заказов между группами сообщает, что результаты группы B лучше группы A \n",
    "- График различия среднего чека говорит о том, что результаты группы B лучше результатов группы А в связи с выбросом и постепенно ухудшаются."
   ]
  },
  {
   "cell_type": "markdown",
   "metadata": {},
   "source": [
    "Исходя из обнаруженных фактов, тест следует остановить и признать его успешным. При имеющихся данных сегмент B стабильно лучше сегмента A по среднему количеству заказов при сохранении среднего чека."
   ]
  },
  {
   "cell_type": "markdown",
   "metadata": {},
   "source": [
    "## ОБЩИЙ ВЫВОД"
   ]
  },
  {
   "cell_type": "markdown",
   "metadata": {},
   "source": [
    "**Краткий обзор проведённой работы:**\n",
    "\n",
    "В нашем распоряжении 1197 строк данных о заказах, 62 строки данных о количестве пользователей по группам за период с 1 по 31 августа 2019 и 9 гипотез. \n",
    "\n",
    "Проведена предобработка:\n",
    "1. изменены типы данных:\n",
    " - date — дата\n",
    "2. скорректированы наименования столбцов \n",
    " - hypothesis — краткое описание гипотезы\n",
    " - reach — охват пользователей по 10-балльной шкале\n",
    " - impact — влияние на пользователей по 10-балльной шкале\n",
    " - confidence — уверенность в гипотезе по 10-балльной шкале\n",
    " - efforts — затраты ресурсов на проверку гипотезы по 10-балльной шкале\n",
    " - transaction_id — идентификатор заказа\n",
    " - visitor_id — идентификатор пользователя, совершившего заказ\n",
    " \n",
    "    \n",
    "**Главные выводы** \n",
    "\n",
    "Самыми приоритетными гипотезами (из 9 предложенных) являются:\n",
    "- Добавить форму подписки на все основные страницы, чтобы собрать базу клиентов для email-рассылок\n",
    "- Добавить блоки рекомендаций товаров на сайт интернет магазина, чтобы повысить конверсию и средний чек заказа\n",
    "- Добавить два новых канала привлечения трафика, что позволит привлекать на 30% больше пользователей\n",
    "- Показать на главной странице баннеры с актуальными акциями и распродажами, чтобы увеличить конверсию\n",
    "- Запустить акцию, дающую скидку на товар в день рождения\n",
    "\n",
    "А/В тест:\n",
    "- Есть статистически значимое различие по среднему количеству заказов между группами и по «сырым», и по данным после фильтрации аномалий;\n",
    "- Нет статистически значимого различия по среднему чеку между группами ни по «сырым», ни по данным после фильтрации аномалий;\n",
    "- График различия среднего количества заказов между группами сообщает, что результаты группы B лучше группы A \n",
    "- График различия среднего чека говорит о том, что результаты группы B лучше результатов группы А в связи с выбросом и постепенно ухудшаются.\n",
    "\n",
    "Исходя из обнаруженных фактов, тест следует остановить и признать его успешным.   \n",
    "При имеющихся данных сегмент B стабильно лучше сегмента A по среднему количеству заказов при сохранении среднего чека.\n"
   ]
  },
  {
   "cell_type": "code",
   "execution_count": null,
   "metadata": {},
   "outputs": [],
   "source": []
  }
 ],
 "metadata": {
  "ExecuteTimeLog": [
   {
    "duration": 790,
    "start_time": "2025-01-10T18:17:09.991Z"
   },
   {
    "duration": 215,
    "start_time": "2025-01-10T18:21:13.100Z"
   },
   {
    "duration": 4,
    "start_time": "2025-01-10T18:21:28.571Z"
   },
   {
    "duration": 15,
    "start_time": "2025-01-10T18:21:44.716Z"
   },
   {
    "duration": 14,
    "start_time": "2025-01-10T18:22:30.442Z"
   },
   {
    "duration": 13,
    "start_time": "2025-01-10T18:22:43.779Z"
   },
   {
    "duration": 5,
    "start_time": "2025-01-10T19:19:53.149Z"
   },
   {
    "duration": 4,
    "start_time": "2025-01-10T19:19:59.396Z"
   },
   {
    "duration": 4,
    "start_time": "2025-01-10T19:20:06.020Z"
   },
   {
    "duration": 73,
    "start_time": "2025-01-10T19:20:39.845Z"
   },
   {
    "duration": 74,
    "start_time": "2025-01-10T19:20:49.935Z"
   },
   {
    "duration": 4,
    "start_time": "2025-01-10T19:23:11.147Z"
   },
   {
    "duration": 4,
    "start_time": "2025-01-10T19:26:31.420Z"
   },
   {
    "duration": 72,
    "start_time": "2025-01-10T19:27:05.788Z"
   },
   {
    "duration": 67,
    "start_time": "2025-01-10T19:27:10.204Z"
   },
   {
    "duration": 106,
    "start_time": "2025-01-10T19:27:15.108Z"
   },
   {
    "duration": 5,
    "start_time": "2025-01-10T19:29:34.096Z"
   },
   {
    "duration": 5,
    "start_time": "2025-01-10T19:29:49.874Z"
   },
   {
    "duration": 5,
    "start_time": "2025-01-10T19:29:59.304Z"
   },
   {
    "duration": 6,
    "start_time": "2025-01-10T19:30:09.242Z"
   },
   {
    "duration": 5,
    "start_time": "2025-01-10T19:30:13.826Z"
   },
   {
    "duration": 6,
    "start_time": "2025-01-10T19:30:45.321Z"
   },
   {
    "duration": 5,
    "start_time": "2025-01-10T19:32:12.281Z"
   },
   {
    "duration": 6,
    "start_time": "2025-01-10T19:50:51.775Z"
   },
   {
    "duration": 17,
    "start_time": "2025-01-10T19:51:57.760Z"
   },
   {
    "duration": 3,
    "start_time": "2025-01-10T20:10:31.874Z"
   },
   {
    "duration": 9,
    "start_time": "2025-01-10T20:10:43.139Z"
   },
   {
    "duration": 3,
    "start_time": "2025-01-10T20:11:05.448Z"
   },
   {
    "duration": 4,
    "start_time": "2025-01-10T20:14:33.218Z"
   },
   {
    "duration": 10,
    "start_time": "2025-01-10T20:14:40.374Z"
   },
   {
    "duration": 112,
    "start_time": "2025-01-10T20:17:59.984Z"
   },
   {
    "duration": 6,
    "start_time": "2025-01-10T20:30:07.298Z"
   },
   {
    "duration": 11,
    "start_time": "2025-01-10T20:30:45.016Z"
   },
   {
    "duration": 9,
    "start_time": "2025-01-10T20:31:18.695Z"
   },
   {
    "duration": 608,
    "start_time": "2025-01-10T20:34:11.995Z"
   },
   {
    "duration": 74,
    "start_time": "2025-01-10T20:34:12.605Z"
   },
   {
    "duration": 4,
    "start_time": "2025-01-10T20:34:12.680Z"
   },
   {
    "duration": 18,
    "start_time": "2025-01-10T20:34:12.686Z"
   },
   {
    "duration": 10,
    "start_time": "2025-01-10T20:34:12.706Z"
   },
   {
    "duration": 14,
    "start_time": "2025-01-10T20:34:12.718Z"
   },
   {
    "duration": 5,
    "start_time": "2025-01-10T20:34:12.733Z"
   },
   {
    "duration": 21,
    "start_time": "2025-01-10T20:34:12.740Z"
   },
   {
    "duration": 26,
    "start_time": "2025-01-10T20:34:12.763Z"
   },
   {
    "duration": 6,
    "start_time": "2025-01-10T20:34:12.790Z"
   },
   {
    "duration": 18,
    "start_time": "2025-01-10T20:34:12.797Z"
   },
   {
    "duration": 2,
    "start_time": "2025-01-10T20:34:12.817Z"
   },
   {
    "duration": 19,
    "start_time": "2025-01-10T20:34:12.821Z"
   },
   {
    "duration": 3,
    "start_time": "2025-01-10T20:34:12.843Z"
   },
   {
    "duration": 10,
    "start_time": "2025-01-10T20:34:12.847Z"
   },
   {
    "duration": 28,
    "start_time": "2025-01-10T20:34:12.858Z"
   },
   {
    "duration": 8,
    "start_time": "2025-01-10T20:34:12.888Z"
   },
   {
    "duration": 4,
    "start_time": "2025-01-10T20:38:43.074Z"
   },
   {
    "duration": 3,
    "start_time": "2025-01-10T20:39:09.108Z"
   },
   {
    "duration": 4,
    "start_time": "2025-01-10T20:39:18.748Z"
   },
   {
    "duration": 10,
    "start_time": "2025-01-10T20:39:36.593Z"
   },
   {
    "duration": 11,
    "start_time": "2025-01-10T20:40:57.706Z"
   },
   {
    "duration": 68,
    "start_time": "2025-01-10T20:42:49.770Z"
   },
   {
    "duration": 10,
    "start_time": "2025-01-10T20:48:04.784Z"
   },
   {
    "duration": 10,
    "start_time": "2025-01-10T20:48:13.824Z"
   },
   {
    "duration": 805,
    "start_time": "2025-01-13T09:09:42.487Z"
   },
   {
    "duration": 201,
    "start_time": "2025-01-13T09:09:43.295Z"
   },
   {
    "duration": 4,
    "start_time": "2025-01-13T09:09:43.498Z"
   },
   {
    "duration": 23,
    "start_time": "2025-01-13T09:09:43.504Z"
   },
   {
    "duration": 10,
    "start_time": "2025-01-13T09:09:43.529Z"
   },
   {
    "duration": 18,
    "start_time": "2025-01-13T09:09:43.540Z"
   },
   {
    "duration": 5,
    "start_time": "2025-01-13T09:09:43.560Z"
   },
   {
    "duration": 21,
    "start_time": "2025-01-13T09:09:43.567Z"
   },
   {
    "duration": 5,
    "start_time": "2025-01-13T09:09:43.589Z"
   },
   {
    "duration": 5,
    "start_time": "2025-01-13T09:09:43.596Z"
   },
   {
    "duration": 17,
    "start_time": "2025-01-13T09:09:43.603Z"
   },
   {
    "duration": 2,
    "start_time": "2025-01-13T09:09:43.621Z"
   },
   {
    "duration": 10,
    "start_time": "2025-01-13T09:09:43.625Z"
   },
   {
    "duration": 3,
    "start_time": "2025-01-13T09:09:43.637Z"
   },
   {
    "duration": 45,
    "start_time": "2025-01-13T09:09:43.642Z"
   },
   {
    "duration": 6,
    "start_time": "2025-01-13T09:09:43.689Z"
   },
   {
    "duration": 9,
    "start_time": "2025-01-13T09:09:43.697Z"
   },
   {
    "duration": 4,
    "start_time": "2025-01-13T09:09:43.708Z"
   },
   {
    "duration": 15,
    "start_time": "2025-01-13T09:09:43.714Z"
   },
   {
    "duration": 74,
    "start_time": "2025-01-13T10:58:56.908Z"
   },
   {
    "duration": 470,
    "start_time": "2025-01-13T10:59:10.981Z"
   },
   {
    "duration": 5,
    "start_time": "2025-01-13T10:59:17.060Z"
   },
   {
    "duration": 3,
    "start_time": "2025-01-13T13:16:26.164Z"
   },
   {
    "duration": 1076,
    "start_time": "2025-01-13T13:16:31.642Z"
   },
   {
    "duration": 70,
    "start_time": "2025-01-13T13:16:32.720Z"
   },
   {
    "duration": 6,
    "start_time": "2025-01-13T13:16:32.791Z"
   },
   {
    "duration": 34,
    "start_time": "2025-01-13T13:16:32.798Z"
   },
   {
    "duration": 13,
    "start_time": "2025-01-13T13:16:32.834Z"
   },
   {
    "duration": 15,
    "start_time": "2025-01-13T13:16:32.848Z"
   },
   {
    "duration": 5,
    "start_time": "2025-01-13T13:16:32.864Z"
   },
   {
    "duration": 31,
    "start_time": "2025-01-13T13:16:32.870Z"
   },
   {
    "duration": 5,
    "start_time": "2025-01-13T13:16:32.902Z"
   },
   {
    "duration": 24,
    "start_time": "2025-01-13T13:16:32.908Z"
   },
   {
    "duration": 19,
    "start_time": "2025-01-13T13:16:32.934Z"
   },
   {
    "duration": 3,
    "start_time": "2025-01-13T13:16:32.954Z"
   },
   {
    "duration": 11,
    "start_time": "2025-01-13T13:16:32.958Z"
   },
   {
    "duration": 20,
    "start_time": "2025-01-13T13:16:32.971Z"
   },
   {
    "duration": 20,
    "start_time": "2025-01-13T13:16:32.993Z"
   },
   {
    "duration": 8,
    "start_time": "2025-01-13T13:16:33.015Z"
   },
   {
    "duration": 20,
    "start_time": "2025-01-13T13:16:33.024Z"
   },
   {
    "duration": 6,
    "start_time": "2025-01-13T13:16:33.045Z"
   },
   {
    "duration": 15,
    "start_time": "2025-01-13T13:16:33.052Z"
   },
   {
    "duration": 9,
    "start_time": "2025-01-13T13:17:07.756Z"
   },
   {
    "duration": 6,
    "start_time": "2025-01-13T13:19:05.123Z"
   },
   {
    "duration": 119,
    "start_time": "2025-01-13T15:30:48.667Z"
   },
   {
    "duration": 25,
    "start_time": "2025-01-13T15:31:18.997Z"
   },
   {
    "duration": 21,
    "start_time": "2025-01-13T16:13:39.131Z"
   },
   {
    "duration": 157,
    "start_time": "2025-01-13T16:14:48.662Z"
   },
   {
    "duration": 153,
    "start_time": "2025-01-13T16:15:27.070Z"
   },
   {
    "duration": 11,
    "start_time": "2025-01-13T16:18:49.877Z"
   },
   {
    "duration": 9,
    "start_time": "2025-01-13T16:18:58.548Z"
   },
   {
    "duration": 11,
    "start_time": "2025-01-13T16:19:04.917Z"
   },
   {
    "duration": 22,
    "start_time": "2025-01-13T18:10:41.898Z"
   },
   {
    "duration": 22,
    "start_time": "2025-01-13T18:10:55.314Z"
   },
   {
    "duration": 70,
    "start_time": "2025-01-13T18:11:40.490Z"
   },
   {
    "duration": 127,
    "start_time": "2025-01-13T18:12:28.226Z"
   },
   {
    "duration": 10,
    "start_time": "2025-01-13T18:12:35.114Z"
   },
   {
    "duration": 8,
    "start_time": "2025-01-13T18:13:21.721Z"
   },
   {
    "duration": 12,
    "start_time": "2025-01-13T18:13:27.351Z"
   },
   {
    "duration": 239,
    "start_time": "2025-01-13T18:15:44.199Z"
   },
   {
    "duration": 166,
    "start_time": "2025-01-13T18:32:45.877Z"
   },
   {
    "duration": 166,
    "start_time": "2025-01-13T18:33:57.737Z"
   },
   {
    "duration": 173,
    "start_time": "2025-01-13T18:41:08.218Z"
   },
   {
    "duration": 179,
    "start_time": "2025-01-13T18:41:34.461Z"
   },
   {
    "duration": 181,
    "start_time": "2025-01-13T19:07:19.633Z"
   },
   {
    "duration": 181,
    "start_time": "2025-01-13T19:07:24.952Z"
   },
   {
    "duration": 183,
    "start_time": "2025-01-13T19:07:32.481Z"
   },
   {
    "duration": 213,
    "start_time": "2025-01-13T19:08:11.997Z"
   },
   {
    "duration": 140,
    "start_time": "2025-01-13T19:08:24.224Z"
   },
   {
    "duration": 184,
    "start_time": "2025-01-13T19:08:37.105Z"
   },
   {
    "duration": 181,
    "start_time": "2025-01-13T19:08:44.229Z"
   },
   {
    "duration": 178,
    "start_time": "2025-01-13T19:08:53.432Z"
   },
   {
    "duration": 1399,
    "start_time": "2025-01-14T09:45:26.131Z"
   },
   {
    "duration": 240,
    "start_time": "2025-01-14T09:45:27.532Z"
   },
   {
    "duration": 6,
    "start_time": "2025-01-14T09:45:27.774Z"
   },
   {
    "duration": 21,
    "start_time": "2025-01-14T09:45:27.782Z"
   },
   {
    "duration": 15,
    "start_time": "2025-01-14T09:45:27.806Z"
   },
   {
    "duration": 18,
    "start_time": "2025-01-14T09:45:27.823Z"
   },
   {
    "duration": 6,
    "start_time": "2025-01-14T09:45:27.843Z"
   },
   {
    "duration": 13,
    "start_time": "2025-01-14T09:45:27.851Z"
   },
   {
    "duration": 11,
    "start_time": "2025-01-14T09:45:27.866Z"
   },
   {
    "duration": 8,
    "start_time": "2025-01-14T09:45:27.878Z"
   },
   {
    "duration": 49,
    "start_time": "2025-01-14T09:45:27.888Z"
   },
   {
    "duration": 3,
    "start_time": "2025-01-14T09:45:27.938Z"
   },
   {
    "duration": 10,
    "start_time": "2025-01-14T09:45:27.943Z"
   },
   {
    "duration": 3,
    "start_time": "2025-01-14T09:45:27.957Z"
   },
   {
    "duration": 12,
    "start_time": "2025-01-14T09:45:27.961Z"
   },
   {
    "duration": 5,
    "start_time": "2025-01-14T09:45:27.975Z"
   },
   {
    "duration": 9,
    "start_time": "2025-01-14T09:45:27.982Z"
   },
   {
    "duration": 39,
    "start_time": "2025-01-14T09:45:27.993Z"
   },
   {
    "duration": 25,
    "start_time": "2025-01-14T09:45:28.034Z"
   },
   {
    "duration": 27,
    "start_time": "2025-01-14T09:45:28.060Z"
   },
   {
    "duration": 6,
    "start_time": "2025-01-14T09:45:28.089Z"
   },
   {
    "duration": 174,
    "start_time": "2025-01-14T09:45:28.097Z"
   },
   {
    "duration": 157,
    "start_time": "2025-01-14T09:45:28.273Z"
   },
   {
    "duration": 7,
    "start_time": "2025-01-14T09:45:28.432Z"
   },
   {
    "duration": 307,
    "start_time": "2025-01-14T09:45:28.441Z"
   },
   {
    "duration": 189,
    "start_time": "2025-01-14T10:50:52.419Z"
   },
   {
    "duration": 206,
    "start_time": "2025-01-14T10:51:37.444Z"
   },
   {
    "duration": 1360,
    "start_time": "2025-01-15T07:52:06.767Z"
   },
   {
    "duration": 232,
    "start_time": "2025-01-15T07:52:08.130Z"
   },
   {
    "duration": 5,
    "start_time": "2025-01-15T07:52:08.364Z"
   },
   {
    "duration": 18,
    "start_time": "2025-01-15T07:52:08.371Z"
   },
   {
    "duration": 11,
    "start_time": "2025-01-15T07:52:08.391Z"
   },
   {
    "duration": 15,
    "start_time": "2025-01-15T07:52:08.404Z"
   },
   {
    "duration": 30,
    "start_time": "2025-01-15T07:52:08.421Z"
   },
   {
    "duration": 15,
    "start_time": "2025-01-15T07:52:08.452Z"
   },
   {
    "duration": 7,
    "start_time": "2025-01-15T07:52:08.469Z"
   },
   {
    "duration": 7,
    "start_time": "2025-01-15T07:52:08.478Z"
   },
   {
    "duration": 20,
    "start_time": "2025-01-15T07:52:08.487Z"
   },
   {
    "duration": 5,
    "start_time": "2025-01-15T07:52:08.529Z"
   },
   {
    "duration": 16,
    "start_time": "2025-01-15T07:52:08.536Z"
   },
   {
    "duration": 12,
    "start_time": "2025-01-15T07:52:08.556Z"
   },
   {
    "duration": 16,
    "start_time": "2025-01-15T07:52:08.570Z"
   },
   {
    "duration": 7,
    "start_time": "2025-01-15T07:52:08.588Z"
   },
   {
    "duration": 12,
    "start_time": "2025-01-15T07:52:08.597Z"
   },
   {
    "duration": 23,
    "start_time": "2025-01-15T07:52:08.610Z"
   },
   {
    "duration": 16,
    "start_time": "2025-01-15T07:52:08.635Z"
   },
   {
    "duration": 18,
    "start_time": "2025-01-15T07:52:08.653Z"
   },
   {
    "duration": 6,
    "start_time": "2025-01-15T07:52:08.672Z"
   },
   {
    "duration": 184,
    "start_time": "2025-01-15T07:52:08.679Z"
   },
   {
    "duration": 130,
    "start_time": "2025-01-15T07:52:08.865Z"
   },
   {
    "duration": 6,
    "start_time": "2025-01-15T07:52:08.997Z"
   },
   {
    "duration": 297,
    "start_time": "2025-01-15T07:52:09.005Z"
   },
   {
    "duration": 203,
    "start_time": "2025-01-15T07:52:09.304Z"
   },
   {
    "duration": 365,
    "start_time": "2025-01-15T08:42:10.993Z"
   },
   {
    "duration": 265,
    "start_time": "2025-01-15T08:42:47.871Z"
   },
   {
    "duration": 1123,
    "start_time": "2025-01-15T11:18:36.891Z"
   },
   {
    "duration": 77,
    "start_time": "2025-01-15T11:18:38.016Z"
   },
   {
    "duration": 5,
    "start_time": "2025-01-15T11:18:38.095Z"
   },
   {
    "duration": 21,
    "start_time": "2025-01-15T11:18:38.102Z"
   },
   {
    "duration": 11,
    "start_time": "2025-01-15T11:18:38.126Z"
   },
   {
    "duration": 27,
    "start_time": "2025-01-15T11:18:38.138Z"
   },
   {
    "duration": 28,
    "start_time": "2025-01-15T11:18:38.166Z"
   },
   {
    "duration": 13,
    "start_time": "2025-01-15T11:18:38.196Z"
   },
   {
    "duration": 15,
    "start_time": "2025-01-15T11:18:38.211Z"
   },
   {
    "duration": 31,
    "start_time": "2025-01-15T11:18:38.228Z"
   },
   {
    "duration": 29,
    "start_time": "2025-01-15T11:18:38.261Z"
   },
   {
    "duration": 3,
    "start_time": "2025-01-15T11:18:38.291Z"
   },
   {
    "duration": 14,
    "start_time": "2025-01-15T11:18:38.296Z"
   },
   {
    "duration": 3,
    "start_time": "2025-01-15T11:18:38.313Z"
   },
   {
    "duration": 27,
    "start_time": "2025-01-15T11:18:38.318Z"
   },
   {
    "duration": 5,
    "start_time": "2025-01-15T11:18:38.347Z"
   },
   {
    "duration": 12,
    "start_time": "2025-01-15T11:18:38.354Z"
   },
   {
    "duration": 9,
    "start_time": "2025-01-15T11:18:38.368Z"
   },
   {
    "duration": 20,
    "start_time": "2025-01-15T11:18:38.379Z"
   },
   {
    "duration": 9,
    "start_time": "2025-01-15T11:18:38.401Z"
   },
   {
    "duration": 19,
    "start_time": "2025-01-15T11:18:38.411Z"
   },
   {
    "duration": 173,
    "start_time": "2025-01-15T11:18:38.432Z"
   },
   {
    "duration": 123,
    "start_time": "2025-01-15T11:18:38.607Z"
   },
   {
    "duration": 7,
    "start_time": "2025-01-15T11:18:38.732Z"
   },
   {
    "duration": 295,
    "start_time": "2025-01-15T11:18:38.740Z"
   },
   {
    "duration": 203,
    "start_time": "2025-01-15T11:18:39.036Z"
   },
   {
    "duration": 302,
    "start_time": "2025-01-15T11:18:39.240Z"
   },
   {
    "duration": 317,
    "start_time": "2025-01-15T11:18:52.814Z"
   },
   {
    "duration": 291,
    "start_time": "2025-01-15T11:19:24.751Z"
   },
   {
    "duration": 185,
    "start_time": "2025-01-15T11:48:28.185Z"
   },
   {
    "duration": 183,
    "start_time": "2025-01-15T11:49:46.956Z"
   },
   {
    "duration": 14,
    "start_time": "2025-01-15T11:51:58.017Z"
   },
   {
    "duration": 181,
    "start_time": "2025-01-15T11:52:26.723Z"
   },
   {
    "duration": 270,
    "start_time": "2025-01-15T11:52:42.009Z"
   },
   {
    "duration": 169,
    "start_time": "2025-01-15T11:52:59.684Z"
   },
   {
    "duration": 198,
    "start_time": "2025-01-15T11:54:17.626Z"
   },
   {
    "duration": 142,
    "start_time": "2025-01-15T12:59:16.419Z"
   },
   {
    "duration": 98,
    "start_time": "2025-01-15T13:26:29.887Z"
   },
   {
    "duration": 10,
    "start_time": "2025-01-15T13:27:15.219Z"
   },
   {
    "duration": 14,
    "start_time": "2025-01-15T13:28:15.666Z"
   },
   {
    "duration": 114,
    "start_time": "2025-01-15T13:28:50.818Z"
   },
   {
    "duration": 118,
    "start_time": "2025-01-15T13:29:53.234Z"
   },
   {
    "duration": 1416,
    "start_time": "2025-01-16T08:48:33.647Z"
   },
   {
    "duration": 215,
    "start_time": "2025-01-16T08:48:35.066Z"
   },
   {
    "duration": 5,
    "start_time": "2025-01-16T08:48:35.283Z"
   },
   {
    "duration": 24,
    "start_time": "2025-01-16T08:48:35.290Z"
   },
   {
    "duration": 12,
    "start_time": "2025-01-16T08:48:35.316Z"
   },
   {
    "duration": 32,
    "start_time": "2025-01-16T08:48:35.329Z"
   },
   {
    "duration": 14,
    "start_time": "2025-01-16T08:48:35.363Z"
   },
   {
    "duration": 14,
    "start_time": "2025-01-16T08:48:35.379Z"
   },
   {
    "duration": 9,
    "start_time": "2025-01-16T08:48:35.395Z"
   },
   {
    "duration": 9,
    "start_time": "2025-01-16T08:48:35.406Z"
   },
   {
    "duration": 56,
    "start_time": "2025-01-16T08:48:35.417Z"
   },
   {
    "duration": 3,
    "start_time": "2025-01-16T08:48:35.476Z"
   },
   {
    "duration": 32,
    "start_time": "2025-01-16T08:48:35.482Z"
   },
   {
    "duration": 22,
    "start_time": "2025-01-16T08:48:35.518Z"
   },
   {
    "duration": 44,
    "start_time": "2025-01-16T08:48:35.541Z"
   },
   {
    "duration": 27,
    "start_time": "2025-01-16T08:48:35.587Z"
   },
   {
    "duration": 64,
    "start_time": "2025-01-16T08:48:35.617Z"
   },
   {
    "duration": 25,
    "start_time": "2025-01-16T08:48:35.683Z"
   },
   {
    "duration": 29,
    "start_time": "2025-01-16T08:48:35.710Z"
   },
   {
    "duration": 34,
    "start_time": "2025-01-16T08:48:35.741Z"
   },
   {
    "duration": 15,
    "start_time": "2025-01-16T08:48:35.777Z"
   },
   {
    "duration": 199,
    "start_time": "2025-01-16T08:48:35.793Z"
   },
   {
    "duration": 130,
    "start_time": "2025-01-16T08:48:35.994Z"
   },
   {
    "duration": 8,
    "start_time": "2025-01-16T08:48:36.126Z"
   },
   {
    "duration": 329,
    "start_time": "2025-01-16T08:48:36.135Z"
   },
   {
    "duration": 217,
    "start_time": "2025-01-16T08:48:36.466Z"
   },
   {
    "duration": 341,
    "start_time": "2025-01-16T08:48:36.685Z"
   },
   {
    "duration": 208,
    "start_time": "2025-01-16T08:48:37.028Z"
   },
   {
    "duration": 140,
    "start_time": "2025-01-16T08:48:37.238Z"
   },
   {
    "duration": 157,
    "start_time": "2025-01-16T08:48:37.380Z"
   },
   {
    "duration": 94,
    "start_time": "2025-01-16T10:21:10.169Z"
   },
   {
    "duration": 208,
    "start_time": "2025-01-16T10:25:23.856Z"
   },
   {
    "duration": 302,
    "start_time": "2025-01-16T10:25:35.945Z"
   },
   {
    "duration": 217,
    "start_time": "2025-01-16T10:25:49.665Z"
   },
   {
    "duration": 325,
    "start_time": "2025-01-16T10:31:02.341Z"
   },
   {
    "duration": 315,
    "start_time": "2025-01-16T10:31:18.501Z"
   },
   {
    "duration": 356,
    "start_time": "2025-01-16T10:31:28.421Z"
   },
   {
    "duration": 343,
    "start_time": "2025-01-16T10:32:51.686Z"
   },
   {
    "duration": 324,
    "start_time": "2025-01-16T10:34:14.167Z"
   },
   {
    "duration": 6,
    "start_time": "2025-01-16T11:02:12.702Z"
   },
   {
    "duration": 157,
    "start_time": "2025-01-16T11:16:39.209Z"
   },
   {
    "duration": 5,
    "start_time": "2025-01-16T13:21:30.838Z"
   },
   {
    "duration": 128,
    "start_time": "2025-01-16T15:11:44.391Z"
   },
   {
    "duration": 19,
    "start_time": "2025-01-16T15:14:30.913Z"
   },
   {
    "duration": 156,
    "start_time": "2025-01-16T15:14:54.848Z"
   },
   {
    "duration": 13,
    "start_time": "2025-01-16T15:20:35.276Z"
   },
   {
    "duration": 11,
    "start_time": "2025-01-16T15:41:19.971Z"
   },
   {
    "duration": 1355,
    "start_time": "2025-01-16T18:34:50.872Z"
   },
   {
    "duration": 225,
    "start_time": "2025-01-16T18:34:52.229Z"
   },
   {
    "duration": 6,
    "start_time": "2025-01-16T18:34:52.456Z"
   },
   {
    "duration": 29,
    "start_time": "2025-01-16T18:34:52.464Z"
   },
   {
    "duration": 12,
    "start_time": "2025-01-16T18:34:52.494Z"
   },
   {
    "duration": 16,
    "start_time": "2025-01-16T18:34:52.507Z"
   },
   {
    "duration": 24,
    "start_time": "2025-01-16T18:34:52.525Z"
   },
   {
    "duration": 22,
    "start_time": "2025-01-16T18:34:52.551Z"
   },
   {
    "duration": 25,
    "start_time": "2025-01-16T18:34:52.575Z"
   },
   {
    "duration": 19,
    "start_time": "2025-01-16T18:34:52.604Z"
   },
   {
    "duration": 33,
    "start_time": "2025-01-16T18:34:52.625Z"
   },
   {
    "duration": 3,
    "start_time": "2025-01-16T18:34:52.660Z"
   },
   {
    "duration": 17,
    "start_time": "2025-01-16T18:34:52.664Z"
   },
   {
    "duration": 19,
    "start_time": "2025-01-16T18:34:52.682Z"
   },
   {
    "duration": 31,
    "start_time": "2025-01-16T18:34:52.702Z"
   },
   {
    "duration": 20,
    "start_time": "2025-01-16T18:34:52.734Z"
   },
   {
    "duration": 25,
    "start_time": "2025-01-16T18:34:52.756Z"
   },
   {
    "duration": 14,
    "start_time": "2025-01-16T18:34:52.783Z"
   },
   {
    "duration": 35,
    "start_time": "2025-01-16T18:34:52.799Z"
   },
   {
    "duration": 40,
    "start_time": "2025-01-16T18:34:52.835Z"
   },
   {
    "duration": 20,
    "start_time": "2025-01-16T18:34:52.877Z"
   },
   {
    "duration": 192,
    "start_time": "2025-01-16T18:34:52.899Z"
   },
   {
    "duration": 120,
    "start_time": "2025-01-16T18:34:53.092Z"
   },
   {
    "duration": 6,
    "start_time": "2025-01-16T18:34:53.214Z"
   },
   {
    "duration": 334,
    "start_time": "2025-01-16T18:34:53.221Z"
   },
   {
    "duration": 212,
    "start_time": "2025-01-16T18:34:53.557Z"
   },
   {
    "duration": 322,
    "start_time": "2025-01-16T18:34:53.771Z"
   },
   {
    "duration": 214,
    "start_time": "2025-01-16T18:34:54.097Z"
   },
   {
    "duration": 332,
    "start_time": "2025-01-16T18:34:54.313Z"
   },
   {
    "duration": 124,
    "start_time": "2025-01-16T18:34:54.647Z"
   },
   {
    "duration": 6,
    "start_time": "2025-01-16T18:34:54.772Z"
   },
   {
    "duration": 162,
    "start_time": "2025-01-16T18:34:54.779Z"
   },
   {
    "duration": 7,
    "start_time": "2025-01-16T18:34:54.943Z"
   },
   {
    "duration": 109,
    "start_time": "2025-01-16T18:34:54.956Z"
   },
   {
    "duration": 0,
    "start_time": "2025-01-16T18:34:55.066Z"
   },
   {
    "duration": 0,
    "start_time": "2025-01-16T18:34:55.067Z"
   },
   {
    "duration": 113,
    "start_time": "2025-01-16T18:45:03.813Z"
   },
   {
    "duration": 226,
    "start_time": "2025-01-16T18:53:41.369Z"
   },
   {
    "duration": 263,
    "start_time": "2025-01-16T19:58:51.043Z"
   },
   {
    "duration": 269,
    "start_time": "2025-01-16T19:58:56.202Z"
   },
   {
    "duration": 345,
    "start_time": "2025-01-16T19:59:10.985Z"
   },
   {
    "duration": 164,
    "start_time": "2025-01-16T19:59:15.402Z"
   },
   {
    "duration": 21,
    "start_time": "2025-01-16T19:59:19.642Z"
   },
   {
    "duration": 28,
    "start_time": "2025-01-16T20:01:01.880Z"
   },
   {
    "duration": 28,
    "start_time": "2025-01-16T20:06:53.062Z"
   },
   {
    "duration": 226,
    "start_time": "2025-01-16T20:16:09.465Z"
   },
   {
    "duration": 11,
    "start_time": "2025-01-16T20:24:11.859Z"
   },
   {
    "duration": 13,
    "start_time": "2025-01-16T20:25:06.179Z"
   },
   {
    "duration": 11,
    "start_time": "2025-01-16T20:29:22.716Z"
   },
   {
    "duration": 9,
    "start_time": "2025-01-16T20:43:33.042Z"
   },
   {
    "duration": 9,
    "start_time": "2025-01-16T20:44:12.866Z"
   },
   {
    "duration": 9,
    "start_time": "2025-01-16T20:44:32.722Z"
   },
   {
    "duration": 9,
    "start_time": "2025-01-16T20:46:00.869Z"
   },
   {
    "duration": 8,
    "start_time": "2025-01-16T21:11:03.047Z"
   },
   {
    "duration": 16,
    "start_time": "2025-01-16T21:11:22.311Z"
   },
   {
    "duration": 30,
    "start_time": "2025-01-16T21:11:28.783Z"
   },
   {
    "duration": 29,
    "start_time": "2025-01-16T21:19:19.431Z"
   },
   {
    "duration": 12,
    "start_time": "2025-01-16T21:25:20.676Z"
   },
   {
    "duration": 14,
    "start_time": "2025-01-16T21:25:35.054Z"
   },
   {
    "duration": 13,
    "start_time": "2025-01-16T21:45:10.992Z"
   },
   {
    "duration": 1317,
    "start_time": "2025-01-17T10:55:55.945Z"
   },
   {
    "duration": 208,
    "start_time": "2025-01-17T10:55:57.264Z"
   },
   {
    "duration": 5,
    "start_time": "2025-01-17T10:55:57.474Z"
   },
   {
    "duration": 17,
    "start_time": "2025-01-17T10:55:57.481Z"
   },
   {
    "duration": 11,
    "start_time": "2025-01-17T10:55:57.499Z"
   },
   {
    "duration": 17,
    "start_time": "2025-01-17T10:55:57.511Z"
   },
   {
    "duration": 6,
    "start_time": "2025-01-17T10:55:57.529Z"
   },
   {
    "duration": 21,
    "start_time": "2025-01-17T10:55:57.536Z"
   },
   {
    "duration": 6,
    "start_time": "2025-01-17T10:55:57.558Z"
   },
   {
    "duration": 6,
    "start_time": "2025-01-17T10:55:57.566Z"
   },
   {
    "duration": 19,
    "start_time": "2025-01-17T10:55:57.573Z"
   },
   {
    "duration": 3,
    "start_time": "2025-01-17T10:55:57.593Z"
   },
   {
    "duration": 9,
    "start_time": "2025-01-17T10:55:57.598Z"
   },
   {
    "duration": 38,
    "start_time": "2025-01-17T10:55:57.608Z"
   },
   {
    "duration": 11,
    "start_time": "2025-01-17T10:55:57.648Z"
   },
   {
    "duration": 108,
    "start_time": "2025-01-17T10:55:57.660Z"
   },
   {
    "duration": 11,
    "start_time": "2025-01-17T10:55:57.770Z"
   },
   {
    "duration": 5,
    "start_time": "2025-01-17T10:55:57.782Z"
   },
   {
    "duration": 17,
    "start_time": "2025-01-17T10:55:57.788Z"
   },
   {
    "duration": 12,
    "start_time": "2025-01-17T10:55:57.806Z"
   },
   {
    "duration": 5,
    "start_time": "2025-01-17T10:55:57.820Z"
   },
   {
    "duration": 158,
    "start_time": "2025-01-17T10:55:57.827Z"
   },
   {
    "duration": 114,
    "start_time": "2025-01-17T10:55:57.987Z"
   },
   {
    "duration": 6,
    "start_time": "2025-01-17T10:55:58.103Z"
   },
   {
    "duration": 264,
    "start_time": "2025-01-17T10:55:58.111Z"
   },
   {
    "duration": 183,
    "start_time": "2025-01-17T10:55:58.376Z"
   },
   {
    "duration": 316,
    "start_time": "2025-01-17T10:55:58.561Z"
   },
   {
    "duration": 195,
    "start_time": "2025-01-17T10:55:58.880Z"
   },
   {
    "duration": 263,
    "start_time": "2025-01-17T10:55:59.077Z"
   },
   {
    "duration": 111,
    "start_time": "2025-01-17T10:55:59.345Z"
   },
   {
    "duration": 5,
    "start_time": "2025-01-17T10:55:59.458Z"
   },
   {
    "duration": 140,
    "start_time": "2025-01-17T10:55:59.464Z"
   },
   {
    "duration": 5,
    "start_time": "2025-01-17T10:55:59.605Z"
   },
   {
    "duration": 211,
    "start_time": "2025-01-17T10:55:59.611Z"
   },
   {
    "duration": 130,
    "start_time": "2025-01-17T10:55:59.823Z"
   },
   {
    "duration": 26,
    "start_time": "2025-01-17T10:55:59.955Z"
   },
   {
    "duration": 11,
    "start_time": "2025-01-17T10:55:59.983Z"
   },
   {
    "duration": 10,
    "start_time": "2025-01-17T10:55:59.996Z"
   },
   {
    "duration": 106,
    "start_time": "2025-01-17T10:56:00.007Z"
   },
   {
    "duration": 39,
    "start_time": "2025-01-17T10:56:00.114Z"
   },
   {
    "duration": 3,
    "start_time": "2025-01-17T11:13:13.025Z"
   },
   {
    "duration": 1031,
    "start_time": "2025-01-17T20:13:39.166Z"
   },
   {
    "duration": 71,
    "start_time": "2025-01-17T20:13:40.199Z"
   },
   {
    "duration": 4,
    "start_time": "2025-01-17T20:13:40.271Z"
   },
   {
    "duration": 20,
    "start_time": "2025-01-17T20:13:40.276Z"
   },
   {
    "duration": 10,
    "start_time": "2025-01-17T20:13:40.298Z"
   },
   {
    "duration": 14,
    "start_time": "2025-01-17T20:13:40.309Z"
   },
   {
    "duration": 6,
    "start_time": "2025-01-17T20:13:40.325Z"
   },
   {
    "duration": 20,
    "start_time": "2025-01-17T20:13:40.332Z"
   },
   {
    "duration": 5,
    "start_time": "2025-01-17T20:13:40.354Z"
   },
   {
    "duration": 6,
    "start_time": "2025-01-17T20:13:40.361Z"
   },
   {
    "duration": 17,
    "start_time": "2025-01-17T20:13:40.369Z"
   },
   {
    "duration": 3,
    "start_time": "2025-01-17T20:13:40.387Z"
   },
   {
    "duration": 20,
    "start_time": "2025-01-17T20:13:40.392Z"
   },
   {
    "duration": 4,
    "start_time": "2025-01-17T20:13:40.415Z"
   },
   {
    "duration": 32,
    "start_time": "2025-01-17T20:13:40.421Z"
   },
   {
    "duration": 6,
    "start_time": "2025-01-17T20:13:40.454Z"
   },
   {
    "duration": 41,
    "start_time": "2025-01-17T20:13:40.461Z"
   },
   {
    "duration": 5,
    "start_time": "2025-01-17T20:13:40.503Z"
   },
   {
    "duration": 10,
    "start_time": "2025-01-17T20:13:40.510Z"
   },
   {
    "duration": 5,
    "start_time": "2025-01-17T20:13:40.521Z"
   },
   {
    "duration": 148,
    "start_time": "2025-01-17T20:13:40.527Z"
   },
   {
    "duration": 110,
    "start_time": "2025-01-17T20:13:40.677Z"
   },
   {
    "duration": 6,
    "start_time": "2025-01-17T20:13:40.788Z"
   },
   {
    "duration": 264,
    "start_time": "2025-01-17T20:13:40.795Z"
   },
   {
    "duration": 186,
    "start_time": "2025-01-17T20:13:41.061Z"
   },
   {
    "duration": 280,
    "start_time": "2025-01-17T20:13:41.249Z"
   },
   {
    "duration": 190,
    "start_time": "2025-01-17T20:13:41.530Z"
   },
   {
    "duration": 297,
    "start_time": "2025-01-17T20:13:41.722Z"
   },
   {
    "duration": 106,
    "start_time": "2025-01-17T20:13:42.020Z"
   },
   {
    "duration": 4,
    "start_time": "2025-01-17T20:13:42.128Z"
   },
   {
    "duration": 129,
    "start_time": "2025-01-17T20:13:42.146Z"
   },
   {
    "duration": 5,
    "start_time": "2025-01-17T20:13:42.276Z"
   },
   {
    "duration": 207,
    "start_time": "2025-01-17T20:13:42.282Z"
   },
   {
    "duration": 130,
    "start_time": "2025-01-17T20:13:42.491Z"
   },
   {
    "duration": 34,
    "start_time": "2025-01-17T20:13:42.622Z"
   },
   {
    "duration": 9,
    "start_time": "2025-01-17T20:13:42.658Z"
   },
   {
    "duration": 17,
    "start_time": "2025-01-17T20:13:42.668Z"
   },
   {
    "duration": 31,
    "start_time": "2025-01-17T20:13:42.688Z"
   },
   {
    "duration": 33,
    "start_time": "2025-01-17T20:13:42.721Z"
   },
   {
    "duration": 1169,
    "start_time": "2025-01-17T22:32:41.850Z"
   },
   {
    "duration": 218,
    "start_time": "2025-01-17T22:32:43.022Z"
   },
   {
    "duration": 4,
    "start_time": "2025-01-17T22:32:43.242Z"
   },
   {
    "duration": 16,
    "start_time": "2025-01-17T22:32:43.248Z"
   },
   {
    "duration": 10,
    "start_time": "2025-01-17T22:32:43.266Z"
   },
   {
    "duration": 18,
    "start_time": "2025-01-17T22:32:43.277Z"
   },
   {
    "duration": 6,
    "start_time": "2025-01-17T22:32:43.297Z"
   },
   {
    "duration": 36,
    "start_time": "2025-01-17T22:32:43.304Z"
   },
   {
    "duration": 6,
    "start_time": "2025-01-17T22:32:43.341Z"
   },
   {
    "duration": 6,
    "start_time": "2025-01-17T22:32:43.350Z"
   },
   {
    "duration": 25,
    "start_time": "2025-01-17T22:32:43.357Z"
   },
   {
    "duration": 4,
    "start_time": "2025-01-17T22:32:43.383Z"
   },
   {
    "duration": 45,
    "start_time": "2025-01-17T22:32:43.388Z"
   },
   {
    "duration": 6,
    "start_time": "2025-01-17T22:32:43.435Z"
   },
   {
    "duration": 13,
    "start_time": "2025-01-17T22:32:43.443Z"
   },
   {
    "duration": 17,
    "start_time": "2025-01-17T22:32:43.458Z"
   },
   {
    "duration": 27,
    "start_time": "2025-01-17T22:32:43.476Z"
   },
   {
    "duration": 9,
    "start_time": "2025-01-17T22:32:43.505Z"
   },
   {
    "duration": 24,
    "start_time": "2025-01-17T22:32:43.516Z"
   },
   {
    "duration": 6,
    "start_time": "2025-01-17T22:32:43.543Z"
   },
   {
    "duration": 195,
    "start_time": "2025-01-17T22:32:43.551Z"
   },
   {
    "duration": 140,
    "start_time": "2025-01-17T22:32:43.748Z"
   },
   {
    "duration": 7,
    "start_time": "2025-01-17T22:32:43.890Z"
   },
   {
    "duration": 321,
    "start_time": "2025-01-17T22:32:43.900Z"
   },
   {
    "duration": 221,
    "start_time": "2025-01-17T22:32:44.223Z"
   },
   {
    "duration": 347,
    "start_time": "2025-01-17T22:32:44.446Z"
   },
   {
    "duration": 227,
    "start_time": "2025-01-17T22:32:44.795Z"
   },
   {
    "duration": 324,
    "start_time": "2025-01-17T22:32:45.026Z"
   },
   {
    "duration": 139,
    "start_time": "2025-01-17T22:32:45.351Z"
   },
   {
    "duration": 4,
    "start_time": "2025-01-17T22:32:45.493Z"
   },
   {
    "duration": 166,
    "start_time": "2025-01-17T22:32:45.499Z"
   },
   {
    "duration": 5,
    "start_time": "2025-01-17T22:32:45.666Z"
   },
   {
    "duration": 248,
    "start_time": "2025-01-17T22:32:45.673Z"
   },
   {
    "duration": 143,
    "start_time": "2025-01-17T22:32:45.922Z"
   },
   {
    "duration": 31,
    "start_time": "2025-01-17T22:32:46.067Z"
   },
   {
    "duration": 11,
    "start_time": "2025-01-17T22:32:46.099Z"
   },
   {
    "duration": 10,
    "start_time": "2025-01-17T22:32:46.129Z"
   },
   {
    "duration": 34,
    "start_time": "2025-01-17T22:32:46.141Z"
   },
   {
    "duration": 15,
    "start_time": "2025-01-17T22:32:46.176Z"
   },
   {
    "duration": 52,
    "start_time": "2025-01-18T10:14:19.347Z"
   },
   {
    "duration": 1265,
    "start_time": "2025-01-18T10:14:28.073Z"
   },
   {
    "duration": 217,
    "start_time": "2025-01-18T10:14:29.342Z"
   },
   {
    "duration": 4,
    "start_time": "2025-01-18T10:14:29.561Z"
   },
   {
    "duration": 15,
    "start_time": "2025-01-18T10:14:29.567Z"
   },
   {
    "duration": 12,
    "start_time": "2025-01-18T10:14:29.584Z"
   },
   {
    "duration": 12,
    "start_time": "2025-01-18T10:14:29.597Z"
   },
   {
    "duration": 10,
    "start_time": "2025-01-18T10:14:29.611Z"
   },
   {
    "duration": 27,
    "start_time": "2025-01-18T10:14:29.622Z"
   },
   {
    "duration": 6,
    "start_time": "2025-01-18T10:14:29.653Z"
   },
   {
    "duration": 6,
    "start_time": "2025-01-18T10:14:29.660Z"
   },
   {
    "duration": 30,
    "start_time": "2025-01-18T10:14:29.668Z"
   },
   {
    "duration": 3,
    "start_time": "2025-01-18T10:14:29.700Z"
   },
   {
    "duration": 20,
    "start_time": "2025-01-18T10:14:29.704Z"
   },
   {
    "duration": 4,
    "start_time": "2025-01-18T10:14:29.726Z"
   },
   {
    "duration": 13,
    "start_time": "2025-01-18T10:14:29.731Z"
   },
   {
    "duration": 4,
    "start_time": "2025-01-18T10:14:29.746Z"
   },
   {
    "duration": 34,
    "start_time": "2025-01-18T10:14:29.752Z"
   },
   {
    "duration": 4,
    "start_time": "2025-01-18T10:14:29.787Z"
   },
   {
    "duration": 15,
    "start_time": "2025-01-18T10:14:29.792Z"
   },
   {
    "duration": 6,
    "start_time": "2025-01-18T10:14:29.808Z"
   },
   {
    "duration": 167,
    "start_time": "2025-01-18T10:14:29.815Z"
   },
   {
    "duration": 124,
    "start_time": "2025-01-18T10:14:29.983Z"
   },
   {
    "duration": 6,
    "start_time": "2025-01-18T10:14:30.108Z"
   },
   {
    "duration": 291,
    "start_time": "2025-01-18T10:14:30.115Z"
   },
   {
    "duration": 183,
    "start_time": "2025-01-18T10:14:30.408Z"
   },
   {
    "duration": 327,
    "start_time": "2025-01-18T10:14:30.593Z"
   },
   {
    "duration": 195,
    "start_time": "2025-01-18T10:14:30.925Z"
   },
   {
    "duration": 271,
    "start_time": "2025-01-18T10:14:31.122Z"
   },
   {
    "duration": 110,
    "start_time": "2025-01-18T10:14:31.395Z"
   },
   {
    "duration": 5,
    "start_time": "2025-01-18T10:14:31.507Z"
   },
   {
    "duration": 147,
    "start_time": "2025-01-18T10:14:31.513Z"
   },
   {
    "duration": 155,
    "start_time": "2025-01-18T10:14:31.661Z"
   },
   {
    "duration": 5,
    "start_time": "2025-01-18T10:14:31.817Z"
   },
   {
    "duration": 268,
    "start_time": "2025-01-18T10:14:31.823Z"
   },
   {
    "duration": 154,
    "start_time": "2025-01-18T10:14:32.093Z"
   },
   {
    "duration": 38,
    "start_time": "2025-01-18T10:14:32.248Z"
   },
   {
    "duration": 10,
    "start_time": "2025-01-18T10:14:32.288Z"
   },
   {
    "duration": 53,
    "start_time": "2025-01-18T10:14:32.299Z"
   },
   {
    "duration": 58,
    "start_time": "2025-01-18T10:14:32.353Z"
   },
   {
    "duration": 13,
    "start_time": "2025-01-18T10:14:32.412Z"
   },
   {
    "duration": 11,
    "start_time": "2025-01-18T10:25:30.270Z"
   },
   {
    "duration": 25,
    "start_time": "2025-01-18T10:25:40.891Z"
   },
   {
    "duration": 14,
    "start_time": "2025-01-18T10:26:40.269Z"
   },
   {
    "duration": 1027,
    "start_time": "2025-01-18T10:27:18.526Z"
   },
   {
    "duration": 72,
    "start_time": "2025-01-18T10:27:19.555Z"
   },
   {
    "duration": 5,
    "start_time": "2025-01-18T10:27:19.629Z"
   },
   {
    "duration": 15,
    "start_time": "2025-01-18T10:27:19.636Z"
   },
   {
    "duration": 10,
    "start_time": "2025-01-18T10:27:19.653Z"
   },
   {
    "duration": 12,
    "start_time": "2025-01-18T10:27:19.664Z"
   },
   {
    "duration": 5,
    "start_time": "2025-01-18T10:27:19.677Z"
   },
   {
    "duration": 13,
    "start_time": "2025-01-18T10:27:19.683Z"
   },
   {
    "duration": 5,
    "start_time": "2025-01-18T10:27:19.697Z"
   },
   {
    "duration": 14,
    "start_time": "2025-01-18T10:27:19.703Z"
   },
   {
    "duration": 24,
    "start_time": "2025-01-18T10:27:19.718Z"
   },
   {
    "duration": 11,
    "start_time": "2025-01-18T10:27:19.744Z"
   },
   {
    "duration": 12,
    "start_time": "2025-01-18T10:27:19.756Z"
   },
   {
    "duration": 12,
    "start_time": "2025-01-18T10:27:19.771Z"
   },
   {
    "duration": 12,
    "start_time": "2025-01-18T10:27:19.784Z"
   },
   {
    "duration": 4,
    "start_time": "2025-01-18T10:27:19.797Z"
   },
   {
    "duration": 11,
    "start_time": "2025-01-18T10:27:19.802Z"
   },
   {
    "duration": 6,
    "start_time": "2025-01-18T10:27:19.815Z"
   },
   {
    "duration": 11,
    "start_time": "2025-01-18T10:27:19.822Z"
   },
   {
    "duration": 4,
    "start_time": "2025-01-18T10:27:19.834Z"
   },
   {
    "duration": 168,
    "start_time": "2025-01-18T10:27:19.840Z"
   },
   {
    "duration": 119,
    "start_time": "2025-01-18T10:27:20.010Z"
   },
   {
    "duration": 6,
    "start_time": "2025-01-18T10:27:20.131Z"
   },
   {
    "duration": 280,
    "start_time": "2025-01-18T10:27:20.138Z"
   },
   {
    "duration": 173,
    "start_time": "2025-01-18T10:27:20.419Z"
   },
   {
    "duration": 281,
    "start_time": "2025-01-18T10:27:20.594Z"
   },
   {
    "duration": 191,
    "start_time": "2025-01-18T10:27:20.876Z"
   },
   {
    "duration": 292,
    "start_time": "2025-01-18T10:27:21.069Z"
   },
   {
    "duration": 108,
    "start_time": "2025-01-18T10:27:21.363Z"
   },
   {
    "duration": 15,
    "start_time": "2025-01-18T10:27:21.472Z"
   },
   {
    "duration": 140,
    "start_time": "2025-01-18T10:27:21.488Z"
   },
   {
    "duration": 148,
    "start_time": "2025-01-18T10:27:21.630Z"
   },
   {
    "duration": 9,
    "start_time": "2025-01-18T10:27:21.780Z"
   },
   {
    "duration": 283,
    "start_time": "2025-01-18T10:27:21.790Z"
   },
   {
    "duration": 142,
    "start_time": "2025-01-18T10:27:22.074Z"
   },
   {
    "duration": 32,
    "start_time": "2025-01-18T10:27:22.218Z"
   },
   {
    "duration": 12,
    "start_time": "2025-01-18T10:27:22.252Z"
   },
   {
    "duration": 25,
    "start_time": "2025-01-18T10:27:22.266Z"
   },
   {
    "duration": 26,
    "start_time": "2025-01-18T10:27:22.293Z"
   },
   {
    "duration": 12,
    "start_time": "2025-01-18T10:27:22.321Z"
   },
   {
    "duration": 120,
    "start_time": "2025-01-18T10:30:45.344Z"
   },
   {
    "duration": 51,
    "start_time": "2025-02-19T16:35:49.221Z"
   },
   {
    "duration": 1671,
    "start_time": "2025-04-15T11:05:03.560Z"
   },
   {
    "duration": 77,
    "start_time": "2025-04-15T11:05:05.234Z"
   },
   {
    "duration": 4,
    "start_time": "2025-04-15T11:05:05.314Z"
   },
   {
    "duration": 29,
    "start_time": "2025-04-15T11:05:05.321Z"
   },
   {
    "duration": 13,
    "start_time": "2025-04-15T11:05:05.352Z"
   },
   {
    "duration": 19,
    "start_time": "2025-04-15T11:05:05.367Z"
   },
   {
    "duration": 8,
    "start_time": "2025-04-15T11:05:05.388Z"
   },
   {
    "duration": 17,
    "start_time": "2025-04-15T11:05:05.399Z"
   },
   {
    "duration": 14,
    "start_time": "2025-04-15T11:05:05.418Z"
   },
   {
    "duration": 38,
    "start_time": "2025-04-15T11:05:05.437Z"
   },
   {
    "duration": 23,
    "start_time": "2025-04-15T11:05:05.478Z"
   },
   {
    "duration": 4,
    "start_time": "2025-04-15T11:05:05.503Z"
   },
   {
    "duration": 22,
    "start_time": "2025-04-15T11:05:05.509Z"
   },
   {
    "duration": 11,
    "start_time": "2025-04-15T11:05:05.534Z"
   },
   {
    "duration": 13,
    "start_time": "2025-04-15T11:05:05.571Z"
   },
   {
    "duration": 7,
    "start_time": "2025-04-15T11:05:05.586Z"
   },
   {
    "duration": 55,
    "start_time": "2025-04-15T11:05:05.595Z"
   },
   {
    "duration": 6,
    "start_time": "2025-04-15T11:05:05.652Z"
   },
   {
    "duration": 18,
    "start_time": "2025-04-15T11:05:05.659Z"
   },
   {
    "duration": 11,
    "start_time": "2025-04-15T11:05:05.679Z"
   },
   {
    "duration": 230,
    "start_time": "2025-04-15T11:05:05.692Z"
   },
   {
    "duration": 167,
    "start_time": "2025-04-15T11:05:05.924Z"
   },
   {
    "duration": 10,
    "start_time": "2025-04-15T11:05:06.094Z"
   },
   {
    "duration": 407,
    "start_time": "2025-04-15T11:05:06.106Z"
   },
   {
    "duration": 286,
    "start_time": "2025-04-15T11:05:06.515Z"
   },
   {
    "duration": 397,
    "start_time": "2025-04-15T11:05:06.804Z"
   },
   {
    "duration": 269,
    "start_time": "2025-04-15T11:05:07.204Z"
   },
   {
    "duration": 331,
    "start_time": "2025-04-15T11:05:07.478Z"
   },
   {
    "duration": 146,
    "start_time": "2025-04-15T11:05:07.810Z"
   },
   {
    "duration": 17,
    "start_time": "2025-04-15T11:05:07.957Z"
   },
   {
    "duration": 186,
    "start_time": "2025-04-15T11:05:07.976Z"
   },
   {
    "duration": 194,
    "start_time": "2025-04-15T11:05:08.165Z"
   },
   {
    "duration": 13,
    "start_time": "2025-04-15T11:05:08.361Z"
   },
   {
    "duration": 405,
    "start_time": "2025-04-15T11:05:08.376Z"
   },
   {
    "duration": 219,
    "start_time": "2025-04-15T11:05:08.785Z"
   },
   {
    "duration": 33,
    "start_time": "2025-04-15T11:05:09.006Z"
   },
   {
    "duration": 31,
    "start_time": "2025-04-15T11:05:09.041Z"
   },
   {
    "duration": 12,
    "start_time": "2025-04-15T11:05:09.073Z"
   },
   {
    "duration": 35,
    "start_time": "2025-04-15T11:05:09.087Z"
   },
   {
    "duration": 47,
    "start_time": "2025-04-15T11:05:09.124Z"
   }
  ],
  "kernelspec": {
   "display_name": "Python 3 (ipykernel)",
   "language": "python",
   "name": "python3"
  },
  "language_info": {
   "codemirror_mode": {
    "name": "ipython",
    "version": 3
   },
   "file_extension": ".py",
   "mimetype": "text/x-python",
   "name": "python",
   "nbconvert_exporter": "python",
   "pygments_lexer": "ipython3",
   "version": "3.12.7"
  },
  "toc": {
   "base_numbering": 1,
   "nav_menu": {
    "height": "579.347px",
    "width": "817.685px"
   },
   "number_sections": true,
   "sideBar": true,
   "skip_h1_title": true,
   "title_cell": "Table of Contents",
   "title_sidebar": "Contents",
   "toc_cell": false,
   "toc_position": {},
   "toc_section_display": true,
   "toc_window_display": false
  }
 },
 "nbformat": 4,
 "nbformat_minor": 4
}
