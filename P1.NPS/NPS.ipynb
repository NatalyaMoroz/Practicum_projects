{
 "cells": [
  {
   "cell_type": "markdown",
   "id": "60c5e686",
   "metadata": {},
   "source": [
    "# Исследование текущего уровня потребительской лояльности"
   ]
  },
  {
   "cell_type": "markdown",
   "id": "a82d2cb4",
   "metadata": {},
   "source": [
    "Заказчик этого исследования — большая телекоммуникационная компания, которая оказывает услуги на территории всего СНГ. Перед компанией стоит задача определить текущий уровень потребительской лояльности, или NPS (от англ. Net Promoter Score), среди клиентов из России.\n",
    "\n",
    "Чтобы определить уровень лояльности, клиентам задавали классический вопрос: «Оцените по шкале от 1 до 10 вероятность того, что вы порекомендуете компанию друзьям и знакомым».\n",
    "Компания провела опрос и попросила нас подготовить дашборд с его итогами. \n",
    "\n",
    "Чтобы оценить результаты опроса, оценки поделили на три группы:\n",
    "\n",
    "    9-10 баллов — «cторонники» (англ. promoters);\n",
    "    7-8 баллов — «нейтралы» (англ. passives);\n",
    "    0-6 баллов — «критики» (англ. detractors).\n",
    "\n",
    "Итоговое значение NPS рассчитывали по формуле: % «сторонников» - % «критиков»."
   ]
  },
  {
   "cell_type": "markdown",
   "id": "fa36e953",
   "metadata": {},
   "source": [
    "**План работы:**\n",
    "\n",
    "    1. Подключится к базе данных\n",
    "    2. Подготовить данные для дашборда, используя только SQL-запросы\n",
    "    3. Построить дашборды в Tableau для ответа на вопросы:\n",
    "    3.1. Как распределены участники опроса по возрасту и полу? \n",
    "    3.2. Каких пользователей больше: новых или старых? \n",
    "    3.3. Пользователи из каких городов активнее участвовали в опросе?\n",
    "    3.4. Какие группы пользователей наиболее лояльны к сервису? Какие менее?\n",
    "    3.5. Какой общий NPS среди всех опрошенных?\n",
    "    3.6. Как можно описать клиентов, которые относятся к группе cторонников (англ. promoters)?\n",
    "    4. Опубликовать дашборд на сайте Tableau Public "
   ]
  },
  {
   "cell_type": "code",
   "execution_count": 1,
   "id": "fc7efa54",
   "metadata": {},
   "outputs": [],
   "source": [
    "import os\n",
    "import pandas as pd\n",
    "import numpy as np\n",
    "from sqlalchemy import create_engine"
   ]
  },
  {
   "cell_type": "code",
   "execution_count": 2,
   "id": "0017f8e7",
   "metadata": {},
   "outputs": [],
   "source": [
    "path_to_db_local = 'telecomm_csi.db'\n",
    "path_to_db_platform = '/datasets/telecomm_csi.db'\n",
    "path_to_db = None\n",
    "\n",
    "if os.path.exists(path_to_db_local):\n",
    "    path_to_db = path_to_db_local\n",
    "elif os.path.exists(path_to_db_platform):\n",
    "    path_to_db = path_to_db_platform\n",
    "else:\n",
    "    raise Exception('Файл с базой данных SQLite не найден!')\n",
    "\n",
    "if path_to_db:\n",
    "    engine = create_engine(f'sqlite:///{path_to_db}', echo=False)"
   ]
  },
  {
   "cell_type": "code",
   "execution_count": 3,
   "id": "84ebad43",
   "metadata": {},
   "outputs": [],
   "source": [
    "query = \"\"\"\n",
    "    SELECT u.user_id,\n",
    "           u.lt_day,\n",
    "           n.is_new,\n",
    "           u.age,\n",
    "           CASE \n",
    "               WHEN u.gender_segment = 0 THEN 'мужчина' \n",
    "               WHEN u.gender_segment = 1 THEN 'женщина'\n",
    "               ELSE 'не указано' \n",
    "           END AS gender_segment,\n",
    "           u.os_name,\n",
    "           u.cpe_type_name,\n",
    "           l.country,\n",
    "           l.city,\n",
    "           SUBSTRING(ag.title, 4) AS age_segment,\n",
    "           SUBSTRING(tr.title, 4) AS traffic_segment,\n",
    "           SUBSTRING(lf.title, 4) AS lifetime_segment,\n",
    "           u.nps_score,\n",
    "           nps.nps_group\n",
    "    FROM user AS u\n",
    "    LEFT OUTER JOIN location AS l ON u.location_id = l.location_id\n",
    "    LEFT OUTER JOIN age_segment AS ag ON u.age_gr_id = ag.age_gr_id\n",
    "    LEFT OUTER JOIN traffic_segment AS tr ON u.tr_gr_id = tr.tr_gr_id\n",
    "    LEFT OUTER JOIN lifetime_segment AS lf ON u.lt_gr_id = lf.lt_gr_id\n",
    "    LEFT OUTER JOIN (SELECT user_id,\n",
    "                            CASE \n",
    "                                 WHEN lt_day > 365 THEN 'опытный'\n",
    "                                 ELSE 'новичок'\n",
    "                            END AS is_new\n",
    "                     FROM user) AS n ON u.user_id = n.user_id\n",
    "    LEFT OUTER JOIN (SELECT user_id,\n",
    "                            CASE \n",
    "                                 WHEN nps_score >= 9 THEN 'cторонники'\n",
    "                                 WHEN nps_score BETWEEN 7 AND 8 THEN 'нейтралы'\n",
    "                                 ELSE 'критики'\n",
    "                            END AS nps_group\n",
    "                     FROM user) AS nps ON u.user_id = nps.user_id;\"\"\""
   ]
  },
  {
   "cell_type": "code",
   "execution_count": 4,
   "id": "3965faf2",
   "metadata": {},
   "outputs": [
    {
     "data": {
      "text/html": [
       "<div>\n",
       "<style scoped>\n",
       "    .dataframe tbody tr th:only-of-type {\n",
       "        vertical-align: middle;\n",
       "    }\n",
       "\n",
       "    .dataframe tbody tr th {\n",
       "        vertical-align: top;\n",
       "    }\n",
       "\n",
       "    .dataframe thead th {\n",
       "        text-align: right;\n",
       "    }\n",
       "</style>\n",
       "<table border=\"1\" class=\"dataframe\">\n",
       "  <thead>\n",
       "    <tr style=\"text-align: right;\">\n",
       "      <th></th>\n",
       "      <th>user_id</th>\n",
       "      <th>lt_day</th>\n",
       "      <th>is_new</th>\n",
       "      <th>age</th>\n",
       "      <th>gender_segment</th>\n",
       "      <th>os_name</th>\n",
       "      <th>cpe_type_name</th>\n",
       "      <th>country</th>\n",
       "      <th>city</th>\n",
       "      <th>age_segment</th>\n",
       "      <th>traffic_segment</th>\n",
       "      <th>lifetime_segment</th>\n",
       "      <th>nps_score</th>\n",
       "      <th>nps_group</th>\n",
       "    </tr>\n",
       "  </thead>\n",
       "  <tbody>\n",
       "    <tr>\n",
       "      <th>0</th>\n",
       "      <td>A001A2</td>\n",
       "      <td>2320</td>\n",
       "      <td>опытный</td>\n",
       "      <td>45.0</td>\n",
       "      <td>женщина</td>\n",
       "      <td>ANDROID</td>\n",
       "      <td>SMARTPHONE</td>\n",
       "      <td>Россия</td>\n",
       "      <td>Уфа</td>\n",
       "      <td>45-54</td>\n",
       "      <td>1-5</td>\n",
       "      <td>36+</td>\n",
       "      <td>10</td>\n",
       "      <td>cторонники</td>\n",
       "    </tr>\n",
       "    <tr>\n",
       "      <th>1</th>\n",
       "      <td>A001WF</td>\n",
       "      <td>2344</td>\n",
       "      <td>опытный</td>\n",
       "      <td>53.0</td>\n",
       "      <td>мужчина</td>\n",
       "      <td>ANDROID</td>\n",
       "      <td>SMARTPHONE</td>\n",
       "      <td>Россия</td>\n",
       "      <td>Киров</td>\n",
       "      <td>45-54</td>\n",
       "      <td>1-5</td>\n",
       "      <td>36+</td>\n",
       "      <td>10</td>\n",
       "      <td>cторонники</td>\n",
       "    </tr>\n",
       "    <tr>\n",
       "      <th>2</th>\n",
       "      <td>A003Q7</td>\n",
       "      <td>467</td>\n",
       "      <td>опытный</td>\n",
       "      <td>57.0</td>\n",
       "      <td>мужчина</td>\n",
       "      <td>ANDROID</td>\n",
       "      <td>SMARTPHONE</td>\n",
       "      <td>Россия</td>\n",
       "      <td>Москва</td>\n",
       "      <td>55-64</td>\n",
       "      <td>20-25</td>\n",
       "      <td>13-24</td>\n",
       "      <td>10</td>\n",
       "      <td>cторонники</td>\n",
       "    </tr>\n",
       "  </tbody>\n",
       "</table>\n",
       "</div>"
      ],
      "text/plain": [
       "  user_id  lt_day   is_new   age gender_segment  os_name cpe_type_name  \\\n",
       "0  A001A2    2320  опытный  45.0        женщина  ANDROID    SMARTPHONE   \n",
       "1  A001WF    2344  опытный  53.0        мужчина  ANDROID    SMARTPHONE   \n",
       "2  A003Q7     467  опытный  57.0        мужчина  ANDROID    SMARTPHONE   \n",
       "\n",
       "  country    city age_segment traffic_segment lifetime_segment  nps_score  \\\n",
       "0  Россия     Уфа       45-54             1-5              36+         10   \n",
       "1  Россия   Киров       45-54             1-5              36+         10   \n",
       "2  Россия  Москва       55-64           20-25            13-24         10   \n",
       "\n",
       "    nps_group  \n",
       "0  cторонники  \n",
       "1  cторонники  \n",
       "2  cторонники  "
      ]
     },
     "execution_count": 4,
     "metadata": {},
     "output_type": "execute_result"
    }
   ],
   "source": [
    "df = pd.read_sql(query, engine)\n",
    "df.head(3)"
   ]
  },
  {
   "cell_type": "code",
   "execution_count": 5,
   "id": "9db04858",
   "metadata": {},
   "outputs": [],
   "source": [
    "df.to_csv('telecomm_csi_tableau.csv', index=False)"
   ]
  },
  {
   "cell_type": "markdown",
   "id": "ca99597a",
   "metadata": {},
   "source": [
    "Презентация: https://public.tableau.com/views/_17266873515940/sheet17?:language=en-US&:sid=&:redirect=auth&:display_count=n&:origin=viz_share_link"
   ]
  }
 ],
 "metadata": {
  "ExecuteTimeLog": [
   {
    "duration": 558,
    "start_time": "2024-09-10T13:21:23.378Z"
   },
   {
    "duration": 115,
    "start_time": "2024-09-10T13:21:25.860Z"
   },
   {
    "duration": 3,
    "start_time": "2024-09-10T13:21:26.859Z"
   },
   {
    "duration": 487,
    "start_time": "2024-09-10T13:21:27.825Z"
   },
   {
    "duration": 8,
    "start_time": "2024-09-10T13:21:28.577Z"
   },
   {
    "duration": 568,
    "start_time": "2024-09-15T10:01:32.481Z"
   },
   {
    "duration": 70,
    "start_time": "2024-09-15T10:04:29.856Z"
   },
   {
    "duration": 3,
    "start_time": "2024-09-15T10:13:36.503Z"
   },
   {
    "duration": 8,
    "start_time": "2024-09-15T10:13:39.280Z"
   },
   {
    "duration": 3,
    "start_time": "2024-09-15T10:13:50.805Z"
   },
   {
    "duration": 86,
    "start_time": "2024-09-15T10:13:52.797Z"
   },
   {
    "duration": 2,
    "start_time": "2024-09-15T10:13:55.173Z"
   },
   {
    "duration": 3899,
    "start_time": "2024-09-15T10:13:57.653Z"
   },
   {
    "duration": 2656,
    "start_time": "2024-09-15T10:14:06.126Z"
   },
   {
    "duration": 5,
    "start_time": "2024-09-15T11:43:56.721Z"
   },
   {
    "duration": 2945,
    "start_time": "2024-09-15T11:44:01.242Z"
   },
   {
    "duration": 4,
    "start_time": "2024-09-15T12:34:53.772Z"
   },
   {
    "duration": 3,
    "start_time": "2024-09-15T12:38:09.392Z"
   },
   {
    "duration": 3404,
    "start_time": "2024-09-15T12:38:11.518Z"
   },
   {
    "duration": 3,
    "start_time": "2024-09-15T12:40:20.590Z"
   },
   {
    "duration": 3922,
    "start_time": "2024-09-15T12:40:25.484Z"
   },
   {
    "duration": 4,
    "start_time": "2024-09-15T12:49:30.722Z"
   },
   {
    "duration": 4213,
    "start_time": "2024-09-15T12:49:34.224Z"
   },
   {
    "duration": 4,
    "start_time": "2024-09-15T13:07:48.413Z"
   },
   {
    "duration": 4621,
    "start_time": "2024-09-15T13:07:50.863Z"
   },
   {
    "duration": 5,
    "start_time": "2024-09-15T13:10:03.330Z"
   },
   {
    "duration": 5088,
    "start_time": "2024-09-15T13:10:05.351Z"
   },
   {
    "duration": 579,
    "start_time": "2024-09-15T13:45:55.880Z"
   },
   {
    "duration": 66,
    "start_time": "2024-09-15T13:45:56.461Z"
   },
   {
    "duration": 3,
    "start_time": "2024-09-15T13:45:56.528Z"
   },
   {
    "duration": 435,
    "start_time": "2024-09-15T13:45:56.534Z"
   },
   {
    "duration": 0,
    "start_time": "2024-09-15T13:45:56.971Z"
   },
   {
    "duration": 3,
    "start_time": "2024-09-15T13:49:17.860Z"
   },
   {
    "duration": 373,
    "start_time": "2024-09-15T13:49:23.717Z"
   },
   {
    "duration": 3,
    "start_time": "2024-09-15T13:50:18.347Z"
   },
   {
    "duration": 372,
    "start_time": "2024-09-15T13:50:28.070Z"
   },
   {
    "duration": 3,
    "start_time": "2024-09-15T13:50:40.756Z"
   },
   {
    "duration": 6427,
    "start_time": "2024-09-15T13:50:44.606Z"
   },
   {
    "duration": 4,
    "start_time": "2024-09-15T13:51:16.319Z"
   },
   {
    "duration": 6066,
    "start_time": "2024-09-15T13:51:21.026Z"
   },
   {
    "duration": 3,
    "start_time": "2024-09-15T13:51:58.197Z"
   },
   {
    "duration": 5893,
    "start_time": "2024-09-15T13:52:02.988Z"
   },
   {
    "duration": 4,
    "start_time": "2024-09-15T14:02:14.166Z"
   },
   {
    "duration": 631,
    "start_time": "2024-09-15T14:02:16.912Z"
   },
   {
    "duration": 3,
    "start_time": "2024-09-15T14:03:00.920Z"
   },
   {
    "duration": 6678,
    "start_time": "2024-09-15T14:03:03.074Z"
   },
   {
    "duration": 6761,
    "start_time": "2024-09-15T14:03:20.582Z"
   },
   {
    "duration": 6726,
    "start_time": "2024-09-15T14:03:43.877Z"
   },
   {
    "duration": 4413,
    "start_time": "2024-09-15T14:03:57.237Z"
   },
   {
    "duration": 2667,
    "start_time": "2024-09-15T14:45:53.086Z"
   },
   {
    "duration": 2,
    "start_time": "2024-09-15T14:46:35.834Z"
   },
   {
    "duration": 3249,
    "start_time": "2024-09-15T14:46:40.385Z"
   },
   {
    "duration": 2911,
    "start_time": "2024-09-15T14:47:23.235Z"
   },
   {
    "duration": 3,
    "start_time": "2024-09-15T14:47:30.857Z"
   },
   {
    "duration": 514,
    "start_time": "2024-09-15T15:02:28.037Z"
   },
   {
    "duration": 66,
    "start_time": "2024-09-15T15:02:28.553Z"
   },
   {
    "duration": 4,
    "start_time": "2024-09-15T15:02:28.621Z"
   },
   {
    "duration": 6766,
    "start_time": "2024-09-15T15:02:28.627Z"
   },
   {
    "duration": 4679,
    "start_time": "2024-09-15T15:02:35.394Z"
   },
   {
    "duration": 492,
    "start_time": "2024-09-17T07:30:22.503Z"
   },
   {
    "duration": 70,
    "start_time": "2024-09-17T07:30:22.996Z"
   },
   {
    "duration": 9,
    "start_time": "2024-09-17T07:30:23.068Z"
   },
   {
    "duration": 787,
    "start_time": "2024-09-17T07:30:23.079Z"
   },
   {
    "duration": 0,
    "start_time": "2024-09-17T07:30:23.868Z"
   },
   {
    "duration": 3,
    "start_time": "2024-09-17T07:31:17.714Z"
   },
   {
    "duration": 7890,
    "start_time": "2024-09-17T07:31:20.602Z"
   },
   {
    "duration": 549,
    "start_time": "2024-09-17T07:32:19.326Z"
   },
   {
    "duration": 58,
    "start_time": "2024-09-17T07:32:19.877Z"
   },
   {
    "duration": 48,
    "start_time": "2024-09-17T07:32:19.937Z"
   },
   {
    "duration": 0,
    "start_time": "2024-09-17T07:32:19.986Z"
   },
   {
    "duration": 0,
    "start_time": "2024-09-17T07:32:19.988Z"
   },
   {
    "duration": 1,
    "start_time": "2024-09-17T07:32:19.988Z"
   },
   {
    "duration": 73,
    "start_time": "2024-09-17T07:32:45.969Z"
   },
   {
    "duration": 486,
    "start_time": "2024-09-17T07:33:54.092Z"
   },
   {
    "duration": 64,
    "start_time": "2024-09-17T07:33:54.579Z"
   },
   {
    "duration": 4,
    "start_time": "2024-09-17T07:33:54.645Z"
   },
   {
    "duration": 6731,
    "start_time": "2024-09-17T07:33:54.650Z"
   },
   {
    "duration": 4519,
    "start_time": "2024-09-17T07:34:01.383Z"
   },
   {
    "duration": 4,
    "start_time": "2024-09-17T07:46:26.389Z"
   },
   {
    "duration": 6729,
    "start_time": "2024-09-17T07:46:29.070Z"
   },
   {
    "duration": 3,
    "start_time": "2024-09-17T07:47:11.131Z"
   },
   {
    "duration": 6720,
    "start_time": "2024-09-17T07:47:14.163Z"
   },
   {
    "duration": 3,
    "start_time": "2024-09-17T07:51:37.866Z"
   },
   {
    "duration": 7091,
    "start_time": "2024-09-17T07:51:46.422Z"
   },
   {
    "duration": 3,
    "start_time": "2024-09-17T08:03:14.400Z"
   },
   {
    "duration": 7151,
    "start_time": "2024-09-17T08:03:55.087Z"
   },
   {
    "duration": 3,
    "start_time": "2024-09-17T08:16:02.016Z"
   },
   {
    "duration": 7165,
    "start_time": "2024-09-17T08:16:12.046Z"
   },
   {
    "duration": 7405,
    "start_time": "2024-09-17T08:16:29.648Z"
   },
   {
    "duration": 3,
    "start_time": "2024-09-17T08:18:37.646Z"
   },
   {
    "duration": 47,
    "start_time": "2024-09-17T08:19:00.295Z"
   },
   {
    "duration": 539,
    "start_time": "2024-09-17T08:19:10.839Z"
   },
   {
    "duration": 67,
    "start_time": "2024-09-17T08:19:11.380Z"
   },
   {
    "duration": 3,
    "start_time": "2024-09-17T08:19:11.449Z"
   },
   {
    "duration": 8629,
    "start_time": "2024-09-17T08:19:11.453Z"
   },
   {
    "duration": 4351,
    "start_time": "2024-09-17T08:19:20.084Z"
   },
   {
    "duration": 503,
    "start_time": "2024-09-18T21:14:52.598Z"
   },
   {
    "duration": 11,
    "start_time": "2024-09-18T21:14:53.102Z"
   },
   {
    "duration": 36,
    "start_time": "2024-09-18T21:14:53.115Z"
   },
   {
    "duration": 7643,
    "start_time": "2024-09-18T21:14:53.153Z"
   },
   {
    "duration": 4352,
    "start_time": "2024-09-18T21:15:00.798Z"
   },
   {
    "duration": 739,
    "start_time": "2024-09-18T21:37:24.023Z"
   },
   {
    "duration": 530,
    "start_time": "2024-09-18T21:48:52.342Z"
   },
   {
    "duration": 9,
    "start_time": "2024-09-18T21:48:52.874Z"
   },
   {
    "duration": 3,
    "start_time": "2024-09-18T21:48:52.885Z"
   },
   {
    "duration": 7779,
    "start_time": "2024-09-18T21:48:52.890Z"
   },
   {
    "duration": 4951,
    "start_time": "2024-09-18T21:49:00.672Z"
   },
   {
    "duration": 69,
    "start_time": "2024-09-19T13:26:13.881Z"
   },
   {
    "duration": 501,
    "start_time": "2024-09-20T18:50:56.282Z"
   },
   {
    "duration": 12,
    "start_time": "2024-09-20T18:50:56.784Z"
   },
   {
    "duration": 4,
    "start_time": "2024-09-20T18:50:56.798Z"
   },
   {
    "duration": 7871,
    "start_time": "2024-09-20T18:50:56.803Z"
   },
   {
    "duration": 4366,
    "start_time": "2024-09-20T18:51:04.676Z"
   },
   {
    "duration": 496,
    "start_time": "2024-09-20T18:54:00.079Z"
   },
   {
    "duration": 9,
    "start_time": "2024-09-20T18:54:00.577Z"
   },
   {
    "duration": 26,
    "start_time": "2024-09-20T18:54:00.587Z"
   },
   {
    "duration": 7551,
    "start_time": "2024-09-20T18:54:00.615Z"
   },
   {
    "duration": 4331,
    "start_time": "2024-09-20T18:54:08.169Z"
   }
  ],
  "kernelspec": {
   "display_name": "Python 3 (ipykernel)",
   "language": "python",
   "name": "python3"
  },
  "language_info": {
   "codemirror_mode": {
    "name": "ipython",
    "version": 3
   },
   "file_extension": ".py",
   "mimetype": "text/x-python",
   "name": "python",
   "nbconvert_exporter": "python",
   "pygments_lexer": "ipython3",
   "version": "3.12.7"
  },
  "toc": {
   "base_numbering": 1,
   "nav_menu": {
    "height": "208px",
    "width": "160px"
   },
   "number_sections": true,
   "sideBar": true,
   "skip_h1_title": true,
   "title_cell": "Table of Contents",
   "title_sidebar": "Contents",
   "toc_cell": false,
   "toc_position": {},
   "toc_section_display": true,
   "toc_window_display": false
  }
 },
 "nbformat": 4,
 "nbformat_minor": 5
}
