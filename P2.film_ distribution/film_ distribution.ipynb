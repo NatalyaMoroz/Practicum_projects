{
 "cells": [
  {
   "cell_type": "markdown",
   "metadata": {
    "id": "sIfNaMOxgFyK"
   },
   "source": [
    "# Исследование данных о российском кинопрокате\n",
    "\n"
   ]
  },
  {
   "cell_type": "markdown",
   "metadata": {},
   "source": [
    "Заказчик этого исследования — Министерство культуры Российской Федерации. \n",
    "\n",
    "Нам нужно изучить рынок российского кинопроката и выявить текущие тренды. \n",
    "\n",
    "Уделить внимание фильмам, которые получили государственную поддержку.\n",
    "\n",
    "Попробовать ответить на вопрос, насколько такие фильмы интересны зрителю.\n",
    "\n",
    "Мы будете работать с данными, опубликованными на портале открытых данных Министерства культуры.\n",
    "\n",
    "Набор данных содержит информацию о прокатных удостоверениях, сборах и государственной поддержке фильмов, а также информацию с сайта КиноПоиск. "
   ]
  },
  {
   "cell_type": "markdown",
   "metadata": {},
   "source": [
    "**План работы:**\n",
    "\n",
    "    1. Проверить достаточно ли данных для анализа, объединить данные в одну таблицу\n",
    "    2. Предобработка\n",
    "       -проверить на пропуски, заполнить где это возможно\n",
    "       -проверить типы данных, изменить где необходимо\n",
    "       -проверить на дубли (вероятнее всего в названии фильма)\n",
    "       -добавить столбцы (год выхода, режиссер, жанр)\n",
    "    3. Изучить каждый важный параметр, найти и удалить аномалии\n",
    "    4. Проанализировать какую долю от общего бюджета фильма составляет государственная поддержка\n",
    "    5. Посмотреть, сколько фильмов выходило в прокат каждый год, изучить динамику\n",
    "    6. Проанализировать как влияет возрастное ограничение аудитории\n",
    "    7. Проанализировать фильмы с гос.поддержкой, окупаемость, популярность\n",
    "    6. Выводы и рекомендации\n"
   ]
  },
  {
   "cell_type": "markdown",
   "metadata": {},
   "source": [
    "## ОБЩАЯ ИНФОРМАЦИЯ "
   ]
  },
  {
   "cell_type": "code",
   "execution_count": 1,
   "metadata": {},
   "outputs": [],
   "source": [
    "import matplotlib.pyplot as plt"
   ]
  },
  {
   "cell_type": "code",
   "execution_count": 2,
   "metadata": {},
   "outputs": [],
   "source": [
    "import numpy as np"
   ]
  },
  {
   "cell_type": "code",
   "execution_count": 3,
   "metadata": {},
   "outputs": [],
   "source": [
    "import pandas as pd"
   ]
  },
  {
   "cell_type": "code",
   "execution_count": 4,
   "metadata": {},
   "outputs": [],
   "source": [
    "mkrf_movies = pd.read_csv('файл')"
   ]
  },
  {
   "cell_type": "code",
   "execution_count": 5,
   "metadata": {},
   "outputs": [
    {
     "data": {
      "text/html": [
       "<div>\n",
       "<style scoped>\n",
       "    .dataframe tbody tr th:only-of-type {\n",
       "        vertical-align: middle;\n",
       "    }\n",
       "\n",
       "    .dataframe tbody tr th {\n",
       "        vertical-align: top;\n",
       "    }\n",
       "\n",
       "    .dataframe thead th {\n",
       "        text-align: right;\n",
       "    }\n",
       "</style>\n",
       "<table border=\"1\" class=\"dataframe\">\n",
       "  <thead>\n",
       "    <tr style=\"text-align: right;\">\n",
       "      <th></th>\n",
       "      <th>title</th>\n",
       "      <th>puNumber</th>\n",
       "      <th>show_start_date</th>\n",
       "      <th>type</th>\n",
       "      <th>film_studio</th>\n",
       "      <th>production_country</th>\n",
       "      <th>director</th>\n",
       "      <th>producer</th>\n",
       "      <th>age_restriction</th>\n",
       "      <th>refundable_support</th>\n",
       "      <th>nonrefundable_support</th>\n",
       "      <th>budget</th>\n",
       "      <th>financing_source</th>\n",
       "      <th>ratings</th>\n",
       "      <th>genres</th>\n",
       "    </tr>\n",
       "  </thead>\n",
       "  <tbody>\n",
       "    <tr>\n",
       "      <th>0</th>\n",
       "      <td>Открытый простор</td>\n",
       "      <td>221048915</td>\n",
       "      <td>2015-11-27T12:00:00.000Z</td>\n",
       "      <td>Художественный</td>\n",
       "      <td>Тачстоун Пикчерз, Кобальт Пикчерз, Бикон Пикче...</td>\n",
       "      <td>США</td>\n",
       "      <td>Кевин Костнер</td>\n",
       "      <td>Дэвид Валдес, Кевин Костнер, Джейк Эбертс</td>\n",
       "      <td>«18+» - запрещено для детей</td>\n",
       "      <td>NaN</td>\n",
       "      <td>NaN</td>\n",
       "      <td>NaN</td>\n",
       "      <td>NaN</td>\n",
       "      <td>7.2</td>\n",
       "      <td>боевик,драма,мелодрама</td>\n",
       "    </tr>\n",
       "    <tr>\n",
       "      <th>1</th>\n",
       "      <td>Особо важное задание</td>\n",
       "      <td>111013716</td>\n",
       "      <td>2016-09-13T12:00:00.000Z</td>\n",
       "      <td>Художественный</td>\n",
       "      <td>Киностудия \"Мосфильм\"</td>\n",
       "      <td>СССР</td>\n",
       "      <td>Е.Матвеев</td>\n",
       "      <td>NaN</td>\n",
       "      <td>«6+» - для детей старше 6 лет</td>\n",
       "      <td>NaN</td>\n",
       "      <td>NaN</td>\n",
       "      <td>NaN</td>\n",
       "      <td>NaN</td>\n",
       "      <td>6.6</td>\n",
       "      <td>драма,военный</td>\n",
       "    </tr>\n",
       "    <tr>\n",
       "      <th>2</th>\n",
       "      <td>Особо опасен</td>\n",
       "      <td>221038416</td>\n",
       "      <td>2016-10-10T12:00:00.000Z</td>\n",
       "      <td>Художественный</td>\n",
       "      <td>Юниверсал Пикчерз, Кикстарт Продакшнз, Марк Пл...</td>\n",
       "      <td>США</td>\n",
       "      <td>Тимур Бекмамбетов</td>\n",
       "      <td>Джим Лемли, Джейсон Нетер, Марк Е.Платт, Яйн Смит</td>\n",
       "      <td>«18+» - запрещено для детей</td>\n",
       "      <td>NaN</td>\n",
       "      <td>NaN</td>\n",
       "      <td>NaN</td>\n",
       "      <td>NaN</td>\n",
       "      <td>6.8</td>\n",
       "      <td>фантастика,боевик,триллер</td>\n",
       "    </tr>\n",
       "    <tr>\n",
       "      <th>3</th>\n",
       "      <td>Особо опасен</td>\n",
       "      <td>221026916</td>\n",
       "      <td>2016-06-10T12:00:00.000Z</td>\n",
       "      <td>Художественный</td>\n",
       "      <td>Юниверсал Пикчерз, Кикстарт Продакшнз, Марк Пл...</td>\n",
       "      <td>США</td>\n",
       "      <td>Тимур Бекмамбетов</td>\n",
       "      <td>Джим Лемли, Джейсон Нетер, Марк Е.Платт, Яйн Смит</td>\n",
       "      <td>«18+» - запрещено для детей</td>\n",
       "      <td>NaN</td>\n",
       "      <td>NaN</td>\n",
       "      <td>NaN</td>\n",
       "      <td>NaN</td>\n",
       "      <td>6.8</td>\n",
       "      <td>фантастика,боевик,триллер</td>\n",
       "    </tr>\n",
       "    <tr>\n",
       "      <th>4</th>\n",
       "      <td>Особо опасен</td>\n",
       "      <td>221030815</td>\n",
       "      <td>2015-07-29T12:00:00.000Z</td>\n",
       "      <td>Художественный</td>\n",
       "      <td>Юниверсал Пикчерз, Кикстарт Продакшнз, Марк Пл...</td>\n",
       "      <td>США</td>\n",
       "      <td>Тимур Бекмамбетов</td>\n",
       "      <td>Джим Лемли, Джейсон Нетер, Марк Е.Платт, Яйн Смит</td>\n",
       "      <td>«18+» - запрещено для детей</td>\n",
       "      <td>NaN</td>\n",
       "      <td>NaN</td>\n",
       "      <td>NaN</td>\n",
       "      <td>NaN</td>\n",
       "      <td>6.8</td>\n",
       "      <td>фантастика,боевик,триллер</td>\n",
       "    </tr>\n",
       "  </tbody>\n",
       "</table>\n",
       "</div>"
      ],
      "text/plain": [
       "                  title   puNumber           show_start_date            type  \\\n",
       "0      Открытый простор  221048915  2015-11-27T12:00:00.000Z  Художественный   \n",
       "1  Особо важное задание  111013716  2016-09-13T12:00:00.000Z  Художественный   \n",
       "2          Особо опасен  221038416  2016-10-10T12:00:00.000Z  Художественный   \n",
       "3          Особо опасен  221026916  2016-06-10T12:00:00.000Z  Художественный   \n",
       "4          Особо опасен  221030815  2015-07-29T12:00:00.000Z  Художественный   \n",
       "\n",
       "                                         film_studio production_country  \\\n",
       "0  Тачстоун Пикчерз, Кобальт Пикчерз, Бикон Пикче...                США   \n",
       "1                              Киностудия \"Мосфильм\"               СССР   \n",
       "2  Юниверсал Пикчерз, Кикстарт Продакшнз, Марк Пл...                США   \n",
       "3  Юниверсал Пикчерз, Кикстарт Продакшнз, Марк Пл...                США   \n",
       "4  Юниверсал Пикчерз, Кикстарт Продакшнз, Марк Пл...                США   \n",
       "\n",
       "            director                                           producer  \\\n",
       "0      Кевин Костнер          Дэвид Валдес, Кевин Костнер, Джейк Эбертс   \n",
       "1          Е.Матвеев                                                NaN   \n",
       "2  Тимур Бекмамбетов  Джим Лемли, Джейсон Нетер, Марк Е.Платт, Яйн Смит   \n",
       "3  Тимур Бекмамбетов  Джим Лемли, Джейсон Нетер, Марк Е.Платт, Яйн Смит   \n",
       "4  Тимур Бекмамбетов  Джим Лемли, Джейсон Нетер, Марк Е.Платт, Яйн Смит   \n",
       "\n",
       "                 age_restriction  refundable_support  nonrefundable_support  \\\n",
       "0    «18+» - запрещено для детей                 NaN                    NaN   \n",
       "1  «6+» - для детей старше 6 лет                 NaN                    NaN   \n",
       "2    «18+» - запрещено для детей                 NaN                    NaN   \n",
       "3    «18+» - запрещено для детей                 NaN                    NaN   \n",
       "4    «18+» - запрещено для детей                 NaN                    NaN   \n",
       "\n",
       "   budget financing_source ratings                     genres  \n",
       "0     NaN              NaN     7.2     боевик,драма,мелодрама  \n",
       "1     NaN              NaN     6.6              драма,военный  \n",
       "2     NaN              NaN     6.8  фантастика,боевик,триллер  \n",
       "3     NaN              NaN     6.8  фантастика,боевик,триллер  \n",
       "4     NaN              NaN     6.8  фантастика,боевик,триллер  "
      ]
     },
     "execution_count": 5,
     "metadata": {},
     "output_type": "execute_result"
    }
   ],
   "source": [
    "mkrf_movies.head()"
   ]
  },
  {
   "cell_type": "code",
   "execution_count": 6,
   "metadata": {},
   "outputs": [
    {
     "name": "stdout",
     "output_type": "stream",
     "text": [
      "<class 'pandas.core.frame.DataFrame'>\n",
      "RangeIndex: 7486 entries, 0 to 7485\n",
      "Data columns (total 15 columns):\n",
      " #   Column                 Non-Null Count  Dtype  \n",
      "---  ------                 --------------  -----  \n",
      " 0   title                  7486 non-null   object \n",
      " 1   puNumber               7486 non-null   object \n",
      " 2   show_start_date        7486 non-null   object \n",
      " 3   type                   7486 non-null   object \n",
      " 4   film_studio            7468 non-null   object \n",
      " 5   production_country     7484 non-null   object \n",
      " 6   director               7477 non-null   object \n",
      " 7   producer               6918 non-null   object \n",
      " 8   age_restriction        7486 non-null   object \n",
      " 9   refundable_support     332 non-null    float64\n",
      " 10  nonrefundable_support  332 non-null    float64\n",
      " 11  budget                 332 non-null    float64\n",
      " 12  financing_source       332 non-null    object \n",
      " 13  ratings                6519 non-null   object \n",
      " 14  genres                 6510 non-null   object \n",
      "dtypes: float64(3), object(12)\n",
      "memory usage: 877.4+ KB\n"
     ]
    }
   ],
   "source": [
    "mkrf_movies.info()"
   ]
  },
  {
   "cell_type": "code",
   "execution_count": 7,
   "metadata": {},
   "outputs": [
    {
     "data": {
      "text/plain": [
       "(7486, 15)"
      ]
     },
     "execution_count": 7,
     "metadata": {},
     "output_type": "execute_result"
    }
   ],
   "source": [
    "#зафиксируем форму первичных данных\n",
    "mkrf_movies.shape"
   ]
  },
  {
   "cell_type": "code",
   "execution_count": 8,
   "metadata": {},
   "outputs": [],
   "source": [
    "mkrf_shows = pd.read_csv('/datasets/mkrf_shows.csv')"
   ]
  },
  {
   "cell_type": "code",
   "execution_count": 9,
   "metadata": {},
   "outputs": [],
   "source": [
    "#чтобы сделать вывод чисел удобным для нас мы можем \"подавить\" перевод числа в эскпоненциальную нотацию\n",
    "pd.set_option('display.float_format', lambda x: '%.3f' % x)\n",
    "\n",
    "np.set_printoptions(suppress=True)"
   ]
  },
  {
   "cell_type": "code",
   "execution_count": 11,
   "metadata": {},
   "outputs": [
    {
     "name": "stdout",
     "output_type": "stream",
     "text": [
      "<class 'pandas.core.frame.DataFrame'>\n",
      "RangeIndex: 3158 entries, 0 to 3157\n",
      "Data columns (total 2 columns):\n",
      " #   Column      Non-Null Count  Dtype  \n",
      "---  ------      --------------  -----  \n",
      " 0   puNumber    3158 non-null   int64  \n",
      " 1   box_office  3158 non-null   float64\n",
      "dtypes: float64(1), int64(1)\n",
      "memory usage: 49.5 KB\n"
     ]
    }
   ],
   "source": [
    "mkrf_shows.info()"
   ]
  },
  {
   "cell_type": "code",
   "execution_count": 12,
   "metadata": {},
   "outputs": [
    {
     "data": {
      "text/plain": [
       "(3158, 2)"
      ]
     },
     "execution_count": 12,
     "metadata": {},
     "output_type": "execute_result"
    }
   ],
   "source": [
    "#зафиксируем форму первичных данных\n",
    "mkrf_shows.shape"
   ]
  },
  {
   "cell_type": "code",
   "execution_count": 13,
   "metadata": {},
   "outputs": [],
   "source": [
    "#изменим тип данных в puNumber для объединения таблиц по этому значению\n",
    "mkrf_movies['puNumber'] = pd.to_numeric(mkrf_movies['puNumber'], errors='coerce')"
   ]
  },
  {
   "cell_type": "code",
   "execution_count": 14,
   "metadata": {},
   "outputs": [],
   "source": [
    "#объединим данные в одну таблицу по puNumber в новую переменную\n",
    "data = mkrf_movies.merge(mkrf_shows, on='puNumber', how='outer')"
   ]
  },
  {
   "cell_type": "code",
   "execution_count": 15,
   "metadata": {},
   "outputs": [
    {
     "name": "stdout",
     "output_type": "stream",
     "text": [
      "<class 'pandas.core.frame.DataFrame'>\n",
      "Int64Index: 7486 entries, 0 to 7485\n",
      "Data columns (total 16 columns):\n",
      " #   Column                 Non-Null Count  Dtype  \n",
      "---  ------                 --------------  -----  \n",
      " 0   title                  7486 non-null   object \n",
      " 1   puNumber               7485 non-null   float64\n",
      " 2   show_start_date        7486 non-null   object \n",
      " 3   type                   7486 non-null   object \n",
      " 4   film_studio            7468 non-null   object \n",
      " 5   production_country     7484 non-null   object \n",
      " 6   director               7477 non-null   object \n",
      " 7   producer               6918 non-null   object \n",
      " 8   age_restriction        7486 non-null   object \n",
      " 9   refundable_support     332 non-null    float64\n",
      " 10  nonrefundable_support  332 non-null    float64\n",
      " 11  budget                 332 non-null    float64\n",
      " 12  financing_source       332 non-null    object \n",
      " 13  ratings                6519 non-null   object \n",
      " 14  genres                 6510 non-null   object \n",
      " 15  box_office             3158 non-null   float64\n",
      "dtypes: float64(5), object(11)\n",
      "memory usage: 994.2+ KB\n"
     ]
    }
   ],
   "source": [
    "data.info()"
   ]
  },
  {
   "cell_type": "code",
   "execution_count": 16,
   "metadata": {},
   "outputs": [
    {
     "data": {
      "text/plain": [
       "(7486, 16)"
      ]
     },
     "execution_count": 16,
     "metadata": {},
     "output_type": "execute_result"
    }
   ],
   "source": [
    "#проверим вошли ли все строки после объединения\n",
    "data.shape"
   ]
  },
  {
   "cell_type": "markdown",
   "metadata": {},
   "source": [
    "Видим, что при объединении данных ничего не потерялось, все 3158 строк box_office на месте."
   ]
  },
  {
   "cell_type": "code",
   "execution_count": 17,
   "metadata": {
    "id": "dw87FlzMgFyM"
   },
   "outputs": [
    {
     "data": {
      "text/plain": [
       "array([[<AxesSubplot:title={'center':'refundable_support'}>,\n",
       "        <AxesSubplot:title={'center':'nonrefundable_support'}>],\n",
       "       [<AxesSubplot:title={'center':'budget'}>,\n",
       "        <AxesSubplot:title={'center':'box_office'}>]], dtype=object)"
      ]
     },
     "execution_count": 17,
     "metadata": {},
     "output_type": "execute_result"
    },
    {
     "data": {
      "image/png": "[encoded data removed]",
      "text/plain": [
       "<Figure size 720x576 with 4 Axes>"
      ]
     },
     "metadata": {
      "needs_background": "light"
     },
     "output_type": "display_data"
    }
   ],
   "source": [
    "#построим гистаграммы для числовых данных\n",
    "data.hist(\n",
    "    column=[\n",
    "        'refundable_support',\n",
    "        'nonrefundable_support',\n",
    "        'budget',\n",
    "        'box_office'\n",
    "    ], \n",
    "    figsize=(10, 8)\n",
    ")"
   ]
  },
  {
   "cell_type": "markdown",
   "metadata": {},
   "source": [
    "### Промежуточный вывод "
   ]
  },
  {
   "cell_type": "markdown",
   "metadata": {},
   "source": [
    "В нашем распоряжении 7486 строк данных о рос.кинопрокате. \n",
    "Этих данных достаточно для анализа. \n",
    "Видим что имеются пропуски по некоторым видам данных, выбросы и некорректные типы данных."
   ]
  },
  {
   "cell_type": "markdown",
   "metadata": {},
   "source": [
    "<div class=\"alert alert-success\">\n",
    "<h3> Комментарий ревьюера ✔️<a class=\"tocSkip\"> </h3>\n",
    "\n",
    " Правильно, что проверяешь таблицы до и после объединения. Видим, что количество строк соответсвует длине первой таблицы, значит ничего не утеряно.\n",
    "    \n",
    "</div>"
   ]
  },
  {
   "cell_type": "markdown",
   "metadata": {
    "id": "KLDGpPG0gFyM"
   },
   "source": [
    "## ПРЕДОБРАБОТКА ДАННЫХ"
   ]
  },
  {
   "cell_type": "markdown",
   "metadata": {
    "id": "ssWwKXsxgFyO"
   },
   "source": [
    "### Преобразование типов данных"
   ]
  },
  {
   "cell_type": "code",
   "execution_count": 18,
   "metadata": {},
   "outputs": [],
   "source": [
    "#преобразуем в дату\n",
    "data['show_start_date'] = pd.to_datetime(data['show_start_date'], format='%Y-%m-%dT%H:%M:%S')"
   ]
  },
  {
   "cell_type": "code",
   "execution_count": 19,
   "metadata": {},
   "outputs": [
    {
     "data": {
      "text/plain": [
       "array(['7.2', '6.6', '6.8', '7.7', '8.3', '8.0', '7.8', '8.1', '7.1',\n",
       "       '6.0', '7.4', '5.8', '8.7', '6.3', '6.9', '5.0', '4.3', '7.3',\n",
       "       '7.0', '6.4', nan, '8.2', '7.5', '6.7', '7.9', '5.9', '6.2', '5.6',\n",
       "       '6.5', '2.4', '7.6', '6.1', '8.6', '8.5', '8.8', '5.5', '5.1',\n",
       "       '5.7', '5.4', '99%', '4.4', '4.5', '5.3', '4.1', '8.4', '2.6',\n",
       "       '3.8', '4.6', '4.8', '4.0', '3.0', '1.6', '4.2', '5.2', '4.7',\n",
       "       '4.9', '3.9', '2.7', '3.3', '2.9', '28%', '3.7', '1.4', '3.1',\n",
       "       '97%', '3.5', '3.2', '2.8', '1.5', '2.1', '2.5', '9.2', '3.4',\n",
       "       '1.1', '3.6', '83%', '64%', '91%', '94%', '62%', '79%', '90%',\n",
       "       '19%', '88%', '1.0', '89%', '1.3', '1.9', '1.8', '1.2', '1.7',\n",
       "       '9.0', '98%', '8.9', '9.1'], dtype=object)"
      ]
     },
     "execution_count": 19,
     "metadata": {},
     "output_type": "execute_result"
    }
   ],
   "source": [
    "#посмотрим какие значения указаны в рейтинге\n",
    "data['ratings'].unique()"
   ]
  },
  {
   "cell_type": "markdown",
   "metadata": {},
   "source": [
    "Видим рейтинг в %, заменим его на 10тибальную систему"
   ]
  },
  {
   "cell_type": "code",
   "execution_count": 20,
   "metadata": {},
   "outputs": [],
   "source": [
    "idx = data[(data['ratings'].str.contains('%')) & (data['ratings'].notna())].index\n",
    "data['ratings'] = data['ratings'].str.replace(pat='%', repl='')\n",
    "data['ratings'] = pd.to_numeric(data['ratings'], errors='coerce')\n",
    "data.loc[idx, 'ratings'] = data.loc[idx, 'ratings'] / 10"
   ]
  },
  {
   "cell_type": "code",
   "execution_count": 21,
   "metadata": {},
   "outputs": [
    {
     "name": "stdout",
     "output_type": "stream",
     "text": [
      "<class 'pandas.core.frame.DataFrame'>\n",
      "Int64Index: 7486 entries, 0 to 7485\n",
      "Data columns (total 16 columns):\n",
      " #   Column                 Non-Null Count  Dtype              \n",
      "---  ------                 --------------  -----              \n",
      " 0   title                  7486 non-null   object             \n",
      " 1   puNumber               7485 non-null   float64            \n",
      " 2   show_start_date        7486 non-null   datetime64[ns, UTC]\n",
      " 3   type                   7486 non-null   object             \n",
      " 4   film_studio            7468 non-null   object             \n",
      " 5   production_country     7484 non-null   object             \n",
      " 6   director               7477 non-null   object             \n",
      " 7   producer               6918 non-null   object             \n",
      " 8   age_restriction        7486 non-null   object             \n",
      " 9   refundable_support     332 non-null    float64            \n",
      " 10  nonrefundable_support  332 non-null    float64            \n",
      " 11  budget                 332 non-null    float64            \n",
      " 12  financing_source       332 non-null    object             \n",
      " 13  ratings                6519 non-null   float64            \n",
      " 14  genres                 6510 non-null   object             \n",
      " 15  box_office             3158 non-null   float64            \n",
      "dtypes: datetime64[ns, UTC](1), float64(6), object(9)\n",
      "memory usage: 1.2+ MB\n"
     ]
    }
   ],
   "source": [
    "#проверим результат\n",
    "data.info()"
   ]
  },
  {
   "cell_type": "markdown",
   "metadata": {
    "id": "i0MOLbF-gFyP"
   },
   "source": [
    "### Пропуски"
   ]
  },
  {
   "cell_type": "markdown",
   "metadata": {},
   "source": [
    "Определим в каких столбцах есть пропуски и сколько их:"
   ]
  },
  {
   "cell_type": "code",
   "execution_count": 22,
   "metadata": {},
   "outputs": [
    {
     "data": {
      "text/plain": [
       "title                       0\n",
       "puNumber                    1\n",
       "show_start_date             0\n",
       "type                        0\n",
       "film_studio                18\n",
       "production_country          2\n",
       "director                    9\n",
       "producer                  568\n",
       "age_restriction             0\n",
       "refundable_support       7154\n",
       "nonrefundable_support    7154\n",
       "budget                   7154\n",
       "financing_source         7154\n",
       "ratings                   967\n",
       "genres                    976\n",
       "box_office               4328\n",
       "dtype: int64"
      ]
     },
     "execution_count": 22,
     "metadata": {},
     "output_type": "execute_result"
    }
   ],
   "source": [
    "data.isna().sum()"
   ]
  },
  {
   "cell_type": "markdown",
   "metadata": {},
   "source": [
    "Обнаружены пропуски:\n",
    "\n",
    "    puNumber номер прокатного удостоверения - заполнить невозможно, пропуск в 1 строке, оставляем, т.к отсутствие этих данных не помешает корректному анализу\n",
    "    film_studio  студия-производитель - заполнить невозможно, оставляем, т.к отсутствие этих данных не помешает корректному анализу\n",
    "    production_country production_country - заполнить невозможно, оставляем, т.к отсутствие этих данных не помешает корректному анализу\n",
    "    director режиссёр - заполнить невозможно, заменим на unknown\n",
    "    producer продюсер - заполнить невозможно, оставляем, т.к отсутствие этих данных не помешает корректному анализу\n",
    "    refundable_support объём возвратных средств государственной поддержки - строк связанных с поддержкой с пропусками одинаковое количество, значит не ошибка, это фильмы, где поддержка отсутствует, оставляем\n",
    "    nonrefundable_support объём невозвратных средств государственной поддержки - оставляем\n",
    "    budget общий бюджет фильма - оставляем\n",
    "    financing_source - источник государственного финансирования - оставляем\n",
    "    ratings рейтинг фильма на КиноПоиске - заполнить невозможно, оставляем\n",
    "    genres жанр фильма - заполнить невозможно, заменим на unknown\n",
    "    box_office  сборы в рублях - заполнить невозможно, оставляем"
   ]
  },
  {
   "cell_type": "code",
   "execution_count": 23,
   "metadata": {},
   "outputs": [],
   "source": [
    "data['director'] = data['director'].fillna('unknown')"
   ]
  },
  {
   "cell_type": "code",
   "execution_count": 24,
   "metadata": {},
   "outputs": [],
   "source": [
    "data['genres'] = data['genres'].fillna('unknown')"
   ]
  },
  {
   "cell_type": "code",
   "execution_count": 25,
   "metadata": {},
   "outputs": [
    {
     "data": {
      "text/plain": [
       "title                    24\n",
       "puNumber                 24\n",
       "show_start_date          24\n",
       "type                     24\n",
       "film_studio              24\n",
       "production_country       24\n",
       "director                 24\n",
       "producer                 20\n",
       "age_restriction          24\n",
       "refundable_support        0\n",
       "nonrefundable_support     0\n",
       "budget                    0\n",
       "financing_source          0\n",
       "ratings                  20\n",
       "genres                   24\n",
       "box_office               24\n",
       "dtype: int64"
      ]
     },
     "execution_count": 25,
     "metadata": {},
     "output_type": "execute_result"
    }
   ],
   "source": [
    "data.query('box_office == 0').count()"
   ]
  },
  {
   "cell_type": "markdown",
   "metadata": {
    "id": "4c6k1t9ygFyQ"
   },
   "source": [
    "### Поиск дубликатов"
   ]
  },
  {
   "cell_type": "markdown",
   "metadata": {},
   "source": [
    "Изучим уникальные значения в столбце с названиями фильмов"
   ]
  },
  {
   "cell_type": "code",
   "execution_count": 26,
   "metadata": {},
   "outputs": [
    {
     "data": {
      "text/plain": [
       "День святого Валентина_                5\n",
       "Прощание                               4\n",
       "Дитя тьмы                              4\n",
       "Жена путешественника во времени        4\n",
       "Дорога /По новелле Кормака МкКарфи/    4\n",
       "                                      ..\n",
       "Мужская женская игра                   1\n",
       "Переводчик.                            1\n",
       "Хрустальное небо вчерашнего дня        1\n",
       "Испытательный срок (2016)              1\n",
       "Пипец 2 /По комиксам Марка Миллара/    1\n",
       "Name: title, Length: 6772, dtype: int64"
      ]
     },
     "execution_count": 26,
     "metadata": {},
     "output_type": "execute_result"
    }
   ],
   "source": [
    "data['title'].value_counts()"
   ]
  },
  {
   "cell_type": "code",
   "execution_count": 27,
   "metadata": {},
   "outputs": [
    {
     "data": {
      "text/plain": [
       "array(['Открытый простор', 'Особо важное задание', 'Особо опасен', ...,\n",
       "       'Щенячий патруль: Скорей спешим на помощь!',\n",
       "       'Машины песенки. Серия \"Испанские мотивы\"',\n",
       "       'Машины песенки. Серия \"Когда цветут кактусы\"'], dtype=object)"
      ]
     },
     "execution_count": 27,
     "metadata": {},
     "output_type": "execute_result"
    }
   ],
   "source": [
    "data['title'].unique()"
   ]
  },
  {
   "cell_type": "code",
   "execution_count": 28,
   "metadata": {
    "id": "8MJD_lkngFyP"
   },
   "outputs": [
    {
     "data": {
      "text/html": [
       "<div>\n",
       "<style scoped>\n",
       "    .dataframe tbody tr th:only-of-type {\n",
       "        vertical-align: middle;\n",
       "    }\n",
       "\n",
       "    .dataframe tbody tr th {\n",
       "        vertical-align: top;\n",
       "    }\n",
       "\n",
       "    .dataframe thead th {\n",
       "        text-align: right;\n",
       "    }\n",
       "</style>\n",
       "<table border=\"1\" class=\"dataframe\">\n",
       "  <thead>\n",
       "    <tr style=\"text-align: right;\">\n",
       "      <th></th>\n",
       "      <th>title</th>\n",
       "      <th>puNumber</th>\n",
       "      <th>show_start_date</th>\n",
       "      <th>type</th>\n",
       "      <th>film_studio</th>\n",
       "      <th>production_country</th>\n",
       "      <th>director</th>\n",
       "      <th>producer</th>\n",
       "      <th>age_restriction</th>\n",
       "      <th>refundable_support</th>\n",
       "      <th>nonrefundable_support</th>\n",
       "      <th>budget</th>\n",
       "      <th>financing_source</th>\n",
       "      <th>ratings</th>\n",
       "      <th>genres</th>\n",
       "      <th>box_office</th>\n",
       "    </tr>\n",
       "  </thead>\n",
       "  <tbody>\n",
       "    <tr>\n",
       "      <th>3902</th>\n",
       "      <td>День святого Валентина_</td>\n",
       "      <td>221083810.000</td>\n",
       "      <td>2010-07-15 12:00:00+00:00</td>\n",
       "      <td>Художественный</td>\n",
       "      <td>Уорнер Бразерс, Нью Лайн Синема, Уэйн Райс, Ка...</td>\n",
       "      <td>США</td>\n",
       "      <td>Гарри Маршалл</td>\n",
       "      <td>Сэмюэл Дж.Браун</td>\n",
       "      <td>«16+» - для детей старше 16 лет</td>\n",
       "      <td>NaN</td>\n",
       "      <td>NaN</td>\n",
       "      <td>NaN</td>\n",
       "      <td>NaN</td>\n",
       "      <td>6.700</td>\n",
       "      <td>мелодрама,комедия</td>\n",
       "      <td>NaN</td>\n",
       "    </tr>\n",
       "    <tr>\n",
       "      <th>3991</th>\n",
       "      <td>День святого Валентина_</td>\n",
       "      <td>221068010.000</td>\n",
       "      <td>2010-05-14 12:00:00+00:00</td>\n",
       "      <td>Художественный</td>\n",
       "      <td>Уорнер Бразерс, Нью Лайн Синема, Уэйн Райс, Ка...</td>\n",
       "      <td>США</td>\n",
       "      <td>Гарри Маршалл</td>\n",
       "      <td>Сэмюэл Дж.Браун</td>\n",
       "      <td>«16+» - для детей старше 16 лет</td>\n",
       "      <td>NaN</td>\n",
       "      <td>NaN</td>\n",
       "      <td>NaN</td>\n",
       "      <td>NaN</td>\n",
       "      <td>6.700</td>\n",
       "      <td>мелодрама,комедия</td>\n",
       "      <td>NaN</td>\n",
       "    </tr>\n",
       "    <tr>\n",
       "      <th>4070</th>\n",
       "      <td>День святого Валентина_</td>\n",
       "      <td>121002210.000</td>\n",
       "      <td>2010-02-03 12:00:00+00:00</td>\n",
       "      <td>Художественный</td>\n",
       "      <td>Уорнер Бразерс, Нью Лайн Синема, Уэйн Райс, Ка...</td>\n",
       "      <td>США</td>\n",
       "      <td>Гарри Маршалл</td>\n",
       "      <td>Сэмюэл Дж.Браун</td>\n",
       "      <td>«16+» - для детей старше 16 лет</td>\n",
       "      <td>NaN</td>\n",
       "      <td>NaN</td>\n",
       "      <td>NaN</td>\n",
       "      <td>NaN</td>\n",
       "      <td>6.700</td>\n",
       "      <td>мелодрама,комедия</td>\n",
       "      <td>NaN</td>\n",
       "    </tr>\n",
       "    <tr>\n",
       "      <th>4196</th>\n",
       "      <td>День святого Валентина_</td>\n",
       "      <td>221136210.000</td>\n",
       "      <td>2010-11-30 12:00:00+00:00</td>\n",
       "      <td>Художественный</td>\n",
       "      <td>Уорнер Бразерс, Нью Лайн Синема, Уэйн Райс, Ка...</td>\n",
       "      <td>США</td>\n",
       "      <td>Гарри Маршалл</td>\n",
       "      <td>Сэмюэл Дж.Браун</td>\n",
       "      <td>«16+» - для детей старше 16 лет</td>\n",
       "      <td>NaN</td>\n",
       "      <td>NaN</td>\n",
       "      <td>NaN</td>\n",
       "      <td>NaN</td>\n",
       "      <td>6.700</td>\n",
       "      <td>мелодрама,комедия</td>\n",
       "      <td>NaN</td>\n",
       "    </tr>\n",
       "    <tr>\n",
       "      <th>5070</th>\n",
       "      <td>День святого Валентина_</td>\n",
       "      <td>221066410.000</td>\n",
       "      <td>2010-06-01 12:00:00+00:00</td>\n",
       "      <td>Художественный</td>\n",
       "      <td>Уорнер Бразерс, Нью Лайн Синема, Уэйн Райс, Ка...</td>\n",
       "      <td>США</td>\n",
       "      <td>Гарри Маршалл</td>\n",
       "      <td>Сэмюэл Дж.Браун</td>\n",
       "      <td>«16+» - для детей старше 16 лет</td>\n",
       "      <td>NaN</td>\n",
       "      <td>NaN</td>\n",
       "      <td>NaN</td>\n",
       "      <td>NaN</td>\n",
       "      <td>6.700</td>\n",
       "      <td>мелодрама,комедия</td>\n",
       "      <td>NaN</td>\n",
       "    </tr>\n",
       "  </tbody>\n",
       "</table>\n",
       "</div>"
      ],
      "text/plain": [
       "                        title      puNumber           show_start_date  \\\n",
       "3902  День святого Валентина_ 221083810.000 2010-07-15 12:00:00+00:00   \n",
       "3991  День святого Валентина_ 221068010.000 2010-05-14 12:00:00+00:00   \n",
       "4070  День святого Валентина_ 121002210.000 2010-02-03 12:00:00+00:00   \n",
       "4196  День святого Валентина_ 221136210.000 2010-11-30 12:00:00+00:00   \n",
       "5070  День святого Валентина_ 221066410.000 2010-06-01 12:00:00+00:00   \n",
       "\n",
       "                type                                        film_studio  \\\n",
       "3902  Художественный  Уорнер Бразерс, Нью Лайн Синема, Уэйн Райс, Ка...   \n",
       "3991  Художественный  Уорнер Бразерс, Нью Лайн Синема, Уэйн Райс, Ка...   \n",
       "4070  Художественный  Уорнер Бразерс, Нью Лайн Синема, Уэйн Райс, Ка...   \n",
       "4196  Художественный  Уорнер Бразерс, Нью Лайн Синема, Уэйн Райс, Ка...   \n",
       "5070  Художественный  Уорнер Бразерс, Нью Лайн Синема, Уэйн Райс, Ка...   \n",
       "\n",
       "     production_country       director         producer  \\\n",
       "3902                США  Гарри Маршалл  Сэмюэл Дж.Браун   \n",
       "3991                США  Гарри Маршалл  Сэмюэл Дж.Браун   \n",
       "4070                США  Гарри Маршалл  Сэмюэл Дж.Браун   \n",
       "4196                США  Гарри Маршалл  Сэмюэл Дж.Браун   \n",
       "5070                США  Гарри Маршалл  Сэмюэл Дж.Браун   \n",
       "\n",
       "                      age_restriction  refundable_support  \\\n",
       "3902  «16+» - для детей старше 16 лет                 NaN   \n",
       "3991  «16+» - для детей старше 16 лет                 NaN   \n",
       "4070  «16+» - для детей старше 16 лет                 NaN   \n",
       "4196  «16+» - для детей старше 16 лет                 NaN   \n",
       "5070  «16+» - для детей старше 16 лет                 NaN   \n",
       "\n",
       "      nonrefundable_support  budget financing_source  ratings  \\\n",
       "3902                    NaN     NaN              NaN    6.700   \n",
       "3991                    NaN     NaN              NaN    6.700   \n",
       "4070                    NaN     NaN              NaN    6.700   \n",
       "4196                    NaN     NaN              NaN    6.700   \n",
       "5070                    NaN     NaN              NaN    6.700   \n",
       "\n",
       "                 genres  box_office  \n",
       "3902  мелодрама,комедия         NaN  \n",
       "3991  мелодрама,комедия         NaN  \n",
       "4070  мелодрама,комедия         NaN  \n",
       "4196  мелодрама,комедия         NaN  \n",
       "5070  мелодрама,комедия         NaN  "
      ]
     },
     "execution_count": 28,
     "metadata": {},
     "output_type": "execute_result"
    }
   ],
   "source": [
    "#посмотрим поближе на несколько фильмов с повторяющимися названиями\n",
    "data.query('title == \"День святого Валентина_\"')"
   ]
  },
  {
   "cell_type": "code",
   "execution_count": 29,
   "metadata": {},
   "outputs": [
    {
     "data": {
      "text/html": [
       "<div>\n",
       "<style scoped>\n",
       "    .dataframe tbody tr th:only-of-type {\n",
       "        vertical-align: middle;\n",
       "    }\n",
       "\n",
       "    .dataframe tbody tr th {\n",
       "        vertical-align: top;\n",
       "    }\n",
       "\n",
       "    .dataframe thead th {\n",
       "        text-align: right;\n",
       "    }\n",
       "</style>\n",
       "<table border=\"1\" class=\"dataframe\">\n",
       "  <thead>\n",
       "    <tr style=\"text-align: right;\">\n",
       "      <th></th>\n",
       "      <th>title</th>\n",
       "      <th>puNumber</th>\n",
       "      <th>show_start_date</th>\n",
       "      <th>type</th>\n",
       "      <th>film_studio</th>\n",
       "      <th>production_country</th>\n",
       "      <th>director</th>\n",
       "      <th>producer</th>\n",
       "      <th>age_restriction</th>\n",
       "      <th>refundable_support</th>\n",
       "      <th>nonrefundable_support</th>\n",
       "      <th>budget</th>\n",
       "      <th>financing_source</th>\n",
       "      <th>ratings</th>\n",
       "      <th>genres</th>\n",
       "      <th>box_office</th>\n",
       "    </tr>\n",
       "  </thead>\n",
       "  <tbody>\n",
       "    <tr>\n",
       "      <th>4791</th>\n",
       "      <td>Двойной копец</td>\n",
       "      <td>121010010.000</td>\n",
       "      <td>2010-06-01 12:00:00+00:00</td>\n",
       "      <td>Художественный</td>\n",
       "      <td>Уорнер Бразерс, Марк Платт Продакшнз</td>\n",
       "      <td>США</td>\n",
       "      <td>Кевин Смит</td>\n",
       "      <td>Полли Джонсен, Марк Платт</td>\n",
       "      <td>«16+» - для детей старше 16 лет</td>\n",
       "      <td>NaN</td>\n",
       "      <td>NaN</td>\n",
       "      <td>NaN</td>\n",
       "      <td>NaN</td>\n",
       "      <td>6.000</td>\n",
       "      <td>боевик,триллер,комедия</td>\n",
       "      <td>NaN</td>\n",
       "    </tr>\n",
       "    <tr>\n",
       "      <th>4837</th>\n",
       "      <td>Двойной копец</td>\n",
       "      <td>221017011.000</td>\n",
       "      <td>2011-01-27 12:00:00+00:00</td>\n",
       "      <td>Художественный</td>\n",
       "      <td>Уорнер Бразерс, Марк Платт Продакшнз</td>\n",
       "      <td>США</td>\n",
       "      <td>Кевин Смит</td>\n",
       "      <td>Полли Джонсен, Марк Платт</td>\n",
       "      <td>«16+» - для детей старше 16 лет</td>\n",
       "      <td>NaN</td>\n",
       "      <td>NaN</td>\n",
       "      <td>NaN</td>\n",
       "      <td>NaN</td>\n",
       "      <td>6.000</td>\n",
       "      <td>боевик,триллер,комедия</td>\n",
       "      <td>NaN</td>\n",
       "    </tr>\n",
       "    <tr>\n",
       "      <th>4845</th>\n",
       "      <td>Двойной копец</td>\n",
       "      <td>221015611.000</td>\n",
       "      <td>2011-01-26 12:00:00+00:00</td>\n",
       "      <td>Художественный</td>\n",
       "      <td>Уорнер Бразерс, Марк Платт Продакшнз</td>\n",
       "      <td>США</td>\n",
       "      <td>Кевин Смит</td>\n",
       "      <td>Полли Джонсен, Марк Платт</td>\n",
       "      <td>«16+» - для детей старше 16 лет</td>\n",
       "      <td>NaN</td>\n",
       "      <td>NaN</td>\n",
       "      <td>NaN</td>\n",
       "      <td>NaN</td>\n",
       "      <td>6.000</td>\n",
       "      <td>боевик,триллер,комедия</td>\n",
       "      <td>NaN</td>\n",
       "    </tr>\n",
       "    <tr>\n",
       "      <th>5322</th>\n",
       "      <td>Двойной копец</td>\n",
       "      <td>221081110.000</td>\n",
       "      <td>2010-08-10 12:00:00+00:00</td>\n",
       "      <td>Художественный</td>\n",
       "      <td>Уорнер Бразерс, Марк Платт Продакшнз</td>\n",
       "      <td>США</td>\n",
       "      <td>Кевин Смит</td>\n",
       "      <td>Полли Джонсен, Марк Платт</td>\n",
       "      <td>«16+» - для детей старше 16 лет</td>\n",
       "      <td>NaN</td>\n",
       "      <td>NaN</td>\n",
       "      <td>NaN</td>\n",
       "      <td>NaN</td>\n",
       "      <td>6.000</td>\n",
       "      <td>боевик,триллер,комедия</td>\n",
       "      <td>NaN</td>\n",
       "    </tr>\n",
       "  </tbody>\n",
       "</table>\n",
       "</div>"
      ],
      "text/plain": [
       "              title      puNumber           show_start_date            type  \\\n",
       "4791  Двойной копец 121010010.000 2010-06-01 12:00:00+00:00  Художественный   \n",
       "4837  Двойной копец 221017011.000 2011-01-27 12:00:00+00:00  Художественный   \n",
       "4845  Двойной копец 221015611.000 2011-01-26 12:00:00+00:00  Художественный   \n",
       "5322  Двойной копец 221081110.000 2010-08-10 12:00:00+00:00  Художественный   \n",
       "\n",
       "                               film_studio production_country    director  \\\n",
       "4791  Уорнер Бразерс, Марк Платт Продакшнз                США  Кевин Смит   \n",
       "4837  Уорнер Бразерс, Марк Платт Продакшнз                США  Кевин Смит   \n",
       "4845  Уорнер Бразерс, Марк Платт Продакшнз                США  Кевин Смит   \n",
       "5322  Уорнер Бразерс, Марк Платт Продакшнз                США  Кевин Смит   \n",
       "\n",
       "                       producer                  age_restriction  \\\n",
       "4791  Полли Джонсен, Марк Платт  «16+» - для детей старше 16 лет   \n",
       "4837  Полли Джонсен, Марк Платт  «16+» - для детей старше 16 лет   \n",
       "4845  Полли Джонсен, Марк Платт  «16+» - для детей старше 16 лет   \n",
       "5322  Полли Джонсен, Марк Платт  «16+» - для детей старше 16 лет   \n",
       "\n",
       "      refundable_support  nonrefundable_support  budget financing_source  \\\n",
       "4791                 NaN                    NaN     NaN              NaN   \n",
       "4837                 NaN                    NaN     NaN              NaN   \n",
       "4845                 NaN                    NaN     NaN              NaN   \n",
       "5322                 NaN                    NaN     NaN              NaN   \n",
       "\n",
       "      ratings                  genres  box_office  \n",
       "4791    6.000  боевик,триллер,комедия         NaN  \n",
       "4837    6.000  боевик,триллер,комедия         NaN  \n",
       "4845    6.000  боевик,триллер,комедия         NaN  \n",
       "5322    6.000  боевик,триллер,комедия         NaN  "
      ]
     },
     "execution_count": 29,
     "metadata": {},
     "output_type": "execute_result"
    }
   ],
   "source": [
    "data.query('title == \"Двойной копец\"')"
   ]
  },
  {
   "cell_type": "markdown",
   "metadata": {},
   "source": [
    "Видим, что строки отличаются по номеру прокатного удостоверения и дате премьеры. Скорее всего по какой-то причине была необходимость получить несколько прокатных удостоверений из-за изменения даты премьеры или разных подтверждающих документов на фильм.\n",
    "\n",
    "Если нет данных о бюджете, господдержке и сборах, в этом случае дубли не несут нам новой информации и смысла оставлять их нет. Если же есть информация хоть в одном из полей со сборами, господдержкой или бюджетом, это не считается дублем."
   ]
  },
  {
   "cell_type": "code",
   "execution_count": 30,
   "metadata": {},
   "outputs": [],
   "source": [
    "#удалим дубликаты с пропусками господдержке и бюджете и сборах\n",
    "data = data.drop_duplicates(subset=['title',\n",
    "                        'refundable_support',\n",
    "                        'nonrefundable_support',\n",
    "                        'budget',\n",
    "                        'box_office'], keep='first')"
   ]
  },
  {
   "cell_type": "code",
   "execution_count": 31,
   "metadata": {},
   "outputs": [],
   "source": [
    "#находим дубликаты, где кроме пропусков есть значения в господдержке и бюджете и сборах\n",
    "temp = data[data.duplicated(subset=['title'], keep=False)]"
   ]
  },
  {
   "cell_type": "code",
   "execution_count": 32,
   "metadata": {},
   "outputs": [],
   "source": [
    "#в найденных дубликатах найдем строки с пропусками в господдержке и бюджете и сборах\n",
    "idx = temp[(temp['refundable_support'].isna()) &\n",
    "     (temp['nonrefundable_support'].isna()) &\n",
    "     (temp['budget'].isna()) &\n",
    "     (temp['box_office'].isna())].index"
   ]
  },
  {
   "cell_type": "code",
   "execution_count": 33,
   "metadata": {},
   "outputs": [],
   "source": [
    "#удалим их\n",
    "data = data.drop(idx)"
   ]
  },
  {
   "cell_type": "code",
   "execution_count": 34,
   "metadata": {},
   "outputs": [
    {
     "data": {
      "text/plain": [
       "Арктика 3D                             2\n",
       "Лимб                                   2\n",
       "Побег из Вегаса                        2\n",
       "Пингвиненок Пороро: Большие гонки      2\n",
       "Гадкий Я                               2\n",
       "                                      ..\n",
       "Мышата и Луна                          1\n",
       "Молчи в тряпочку                       1\n",
       "Роботы 3D                              1\n",
       "Срочно выйду замуж                     1\n",
       "Пипец 2 /По комиксам Марка Миллара/    1\n",
       "Name: title, Length: 6772, dtype: int64"
      ]
     },
     "execution_count": 34,
     "metadata": {},
     "output_type": "execute_result"
    }
   ],
   "source": [
    "#проверим результат\n",
    "data['title'].value_counts()"
   ]
  },
  {
   "cell_type": "code",
   "execution_count": 35,
   "metadata": {},
   "outputs": [
    {
     "data": {
      "text/html": [
       "<div>\n",
       "<style scoped>\n",
       "    .dataframe tbody tr th:only-of-type {\n",
       "        vertical-align: middle;\n",
       "    }\n",
       "\n",
       "    .dataframe tbody tr th {\n",
       "        vertical-align: top;\n",
       "    }\n",
       "\n",
       "    .dataframe thead th {\n",
       "        text-align: right;\n",
       "    }\n",
       "</style>\n",
       "<table border=\"1\" class=\"dataframe\">\n",
       "  <thead>\n",
       "    <tr style=\"text-align: right;\">\n",
       "      <th></th>\n",
       "      <th>title</th>\n",
       "      <th>puNumber</th>\n",
       "      <th>show_start_date</th>\n",
       "      <th>type</th>\n",
       "      <th>film_studio</th>\n",
       "      <th>production_country</th>\n",
       "      <th>director</th>\n",
       "      <th>producer</th>\n",
       "      <th>age_restriction</th>\n",
       "      <th>refundable_support</th>\n",
       "      <th>nonrefundable_support</th>\n",
       "      <th>budget</th>\n",
       "      <th>financing_source</th>\n",
       "      <th>ratings</th>\n",
       "      <th>genres</th>\n",
       "      <th>box_office</th>\n",
       "    </tr>\n",
       "  </thead>\n",
       "  <tbody>\n",
       "    <tr>\n",
       "      <th>1415</th>\n",
       "      <td>Она</td>\n",
       "      <td>121003414.000</td>\n",
       "      <td>2014-02-20 12:00:00+00:00</td>\n",
       "      <td>Художественный</td>\n",
       "      <td>Аннапурна Пикчерз</td>\n",
       "      <td>США</td>\n",
       "      <td>Спайк Джонс</td>\n",
       "      <td>Меган Эллисон, Спайк Джонс, Винсент Ландэйл</td>\n",
       "      <td>«16+» - для детей старше 16 лет</td>\n",
       "      <td>NaN</td>\n",
       "      <td>NaN</td>\n",
       "      <td>NaN</td>\n",
       "      <td>NaN</td>\n",
       "      <td>7.600</td>\n",
       "      <td>мелодрама,фантастика,драма</td>\n",
       "      <td>13420.000</td>\n",
       "    </tr>\n",
       "    <tr>\n",
       "      <th>5553</th>\n",
       "      <td>Она</td>\n",
       "      <td>131000417.000</td>\n",
       "      <td>2017-11-30 12:00:00+00:00</td>\n",
       "      <td>Художественный</td>\n",
       "      <td>Астана Филм Фонд, Астана Банки, Сатаифилм, Каз...</td>\n",
       "      <td>Казахстан</td>\n",
       "      <td>Акан Сатаев</td>\n",
       "      <td>Эрнар Курмашев, Алия Мендыгожина, Акан Сатаев</td>\n",
       "      <td>«16+» - для детей старше 16 лет</td>\n",
       "      <td>NaN</td>\n",
       "      <td>NaN</td>\n",
       "      <td>NaN</td>\n",
       "      <td>NaN</td>\n",
       "      <td>7.600</td>\n",
       "      <td>мелодрама,фантастика,драма</td>\n",
       "      <td>2152951.000</td>\n",
       "    </tr>\n",
       "  </tbody>\n",
       "</table>\n",
       "</div>"
      ],
      "text/plain": [
       "     title      puNumber           show_start_date             type  \\\n",
       "1415   Она 121003414.000 2014-02-20 12:00:00+00:00   Художественный   \n",
       "5553   Она 131000417.000 2017-11-30 12:00:00+00:00   Художественный   \n",
       "\n",
       "                                            film_studio production_country  \\\n",
       "1415                                  Аннапурна Пикчерз                США   \n",
       "5553  Астана Филм Фонд, Астана Банки, Сатаифилм, Каз...          Казахстан   \n",
       "\n",
       "         director                                       producer  \\\n",
       "1415  Спайк Джонс    Меган Эллисон, Спайк Джонс, Винсент Ландэйл   \n",
       "5553  Акан Сатаев  Эрнар Курмашев, Алия Мендыгожина, Акан Сатаев   \n",
       "\n",
       "                      age_restriction  refundable_support  \\\n",
       "1415  «16+» - для детей старше 16 лет                 NaN   \n",
       "5553  «16+» - для детей старше 16 лет                 NaN   \n",
       "\n",
       "      nonrefundable_support  budget financing_source  ratings  \\\n",
       "1415                    NaN     NaN              NaN    7.600   \n",
       "5553                    NaN     NaN              NaN    7.600   \n",
       "\n",
       "                          genres  box_office  \n",
       "1415  мелодрама,фантастика,драма   13420.000  \n",
       "5553  мелодрама,фантастика,драма 2152951.000  "
      ]
     },
     "execution_count": 35,
     "metadata": {},
     "output_type": "execute_result"
    }
   ],
   "source": [
    "data.query('title == \"Она\"')"
   ]
  },
  {
   "cell_type": "code",
   "execution_count": 36,
   "metadata": {},
   "outputs": [
    {
     "data": {
      "text/html": [
       "<div>\n",
       "<style scoped>\n",
       "    .dataframe tbody tr th:only-of-type {\n",
       "        vertical-align: middle;\n",
       "    }\n",
       "\n",
       "    .dataframe tbody tr th {\n",
       "        vertical-align: top;\n",
       "    }\n",
       "\n",
       "    .dataframe thead th {\n",
       "        text-align: right;\n",
       "    }\n",
       "</style>\n",
       "<table border=\"1\" class=\"dataframe\">\n",
       "  <thead>\n",
       "    <tr style=\"text-align: right;\">\n",
       "      <th></th>\n",
       "      <th>title</th>\n",
       "      <th>puNumber</th>\n",
       "      <th>show_start_date</th>\n",
       "      <th>type</th>\n",
       "      <th>film_studio</th>\n",
       "      <th>production_country</th>\n",
       "      <th>director</th>\n",
       "      <th>producer</th>\n",
       "      <th>age_restriction</th>\n",
       "      <th>refundable_support</th>\n",
       "      <th>nonrefundable_support</th>\n",
       "      <th>budget</th>\n",
       "      <th>financing_source</th>\n",
       "      <th>ratings</th>\n",
       "      <th>genres</th>\n",
       "      <th>box_office</th>\n",
       "    </tr>\n",
       "  </thead>\n",
       "  <tbody>\n",
       "    <tr>\n",
       "      <th>4115</th>\n",
       "      <td>Союз зверей /По книге Эрика Кастнера/</td>\n",
       "      <td>124001610.000</td>\n",
       "      <td>2010-10-22 12:00:00+00:00</td>\n",
       "      <td>Анимационный</td>\n",
       "      <td>Эмбиент ИНтертейнмент, Константин Филм, Уайт Х...</td>\n",
       "      <td>Германия</td>\n",
       "      <td>Рейнхард Клоос, Хольгер Таппе</td>\n",
       "      <td>Рейнхард Клоос, Мартин Московиц, Хольгер Таппе...</td>\n",
       "      <td>«0+» - для любой зрительской аудитории</td>\n",
       "      <td>NaN</td>\n",
       "      <td>NaN</td>\n",
       "      <td>NaN</td>\n",
       "      <td>NaN</td>\n",
       "      <td>5.600</td>\n",
       "      <td>мультфильм,комедия,приключения</td>\n",
       "      <td>25170.000</td>\n",
       "    </tr>\n",
       "    <tr>\n",
       "      <th>4125</th>\n",
       "      <td>Союз зверей /По книге Эрика Кастнера/</td>\n",
       "      <td>224022410.000</td>\n",
       "      <td>2010-11-18 12:00:00+00:00</td>\n",
       "      <td>Анимационный</td>\n",
       "      <td>Эмбиент ИНтертейнмент, Константин Филм, Уайт Х...</td>\n",
       "      <td>Германия</td>\n",
       "      <td>Рейнхард Клоос, Хольгер Таппе</td>\n",
       "      <td>Рейнхард Клоос, Мартин Московиц, Хольгер Таппе...</td>\n",
       "      <td>«0+» - для любой зрительской аудитории</td>\n",
       "      <td>NaN</td>\n",
       "      <td>NaN</td>\n",
       "      <td>NaN</td>\n",
       "      <td>NaN</td>\n",
       "      <td>5.600</td>\n",
       "      <td>мультфильм,комедия,приключения</td>\n",
       "      <td>400.000</td>\n",
       "    </tr>\n",
       "  </tbody>\n",
       "</table>\n",
       "</div>"
      ],
      "text/plain": [
       "                                      title      puNumber  \\\n",
       "4115  Союз зверей /По книге Эрика Кастнера/ 124001610.000   \n",
       "4125  Союз зверей /По книге Эрика Кастнера/ 224022410.000   \n",
       "\n",
       "               show_start_date          type  \\\n",
       "4115 2010-10-22 12:00:00+00:00  Анимационный   \n",
       "4125 2010-11-18 12:00:00+00:00  Анимационный   \n",
       "\n",
       "                                            film_studio production_country  \\\n",
       "4115  Эмбиент ИНтертейнмент, Константин Филм, Уайт Х...           Германия   \n",
       "4125  Эмбиент ИНтертейнмент, Константин Филм, Уайт Х...           Германия   \n",
       "\n",
       "                           director  \\\n",
       "4115  Рейнхард Клоос, Хольгер Таппе   \n",
       "4125  Рейнхард Клоос, Хольгер Таппе   \n",
       "\n",
       "                                               producer  \\\n",
       "4115  Рейнхард Клоос, Мартин Московиц, Хольгер Таппе...   \n",
       "4125  Рейнхард Клоос, Мартин Московиц, Хольгер Таппе...   \n",
       "\n",
       "                             age_restriction  refundable_support  \\\n",
       "4115  «0+» - для любой зрительской аудитории                 NaN   \n",
       "4125  «0+» - для любой зрительской аудитории                 NaN   \n",
       "\n",
       "      nonrefundable_support  budget financing_source  ratings  \\\n",
       "4115                    NaN     NaN              NaN    5.600   \n",
       "4125                    NaN     NaN              NaN    5.600   \n",
       "\n",
       "                              genres  box_office  \n",
       "4115  мультфильм,комедия,приключения   25170.000  \n",
       "4125  мультфильм,комедия,приключения     400.000  "
      ]
     },
     "execution_count": 36,
     "metadata": {},
     "output_type": "execute_result"
    }
   ],
   "source": [
    "data.query('title == \"Союз зверей /По книге Эрика Кастнера/\"')"
   ]
  },
  {
   "cell_type": "markdown",
   "metadata": {},
   "source": [
    "Видим, что остались задвоенными только те фильмы, которые имеют данные о сборах фильма на разные прокатные удостоверения."
   ]
  },
  {
   "cell_type": "markdown",
   "metadata": {},
   "source": [
    "Проверим уникальные значения в прокатных удостоверениях."
   ]
  },
  {
   "cell_type": "code",
   "execution_count": 37,
   "metadata": {},
   "outputs": [
    {
     "data": {
      "text/plain": [
       "211003119.000    1\n",
       "121008515.000    1\n",
       "111001619.000    1\n",
       "121002514.000    1\n",
       "212010410.000    1\n",
       "                ..\n",
       "121001019.000    1\n",
       "221059710.000    1\n",
       "121008815.000    1\n",
       "124001812.000    1\n",
       "221164010.000    1\n",
       "Name: puNumber, Length: 6801, dtype: int64"
      ]
     },
     "execution_count": 37,
     "metadata": {},
     "output_type": "execute_result"
    }
   ],
   "source": [
    "data['puNumber'].value_counts()"
   ]
  },
  {
   "cell_type": "markdown",
   "metadata": {},
   "source": [
    "Видим, что дублей нет."
   ]
  },
  {
   "cell_type": "code",
   "execution_count": 38,
   "metadata": {},
   "outputs": [
    {
     "data": {
      "text/plain": [
       "0"
      ]
     },
     "execution_count": 38,
     "metadata": {},
     "output_type": "execute_result"
    }
   ],
   "source": [
    "data.duplicated().sum()"
   ]
  },
  {
   "cell_type": "markdown",
   "metadata": {},
   "source": [
    "Полных дублей тоже нет."
   ]
  },
  {
   "cell_type": "markdown",
   "metadata": {
    "id": "52fOPrEBgFyQ"
   },
   "source": [
    "### Изучение категориальных значения"
   ]
  },
  {
   "cell_type": "markdown",
   "metadata": {},
   "source": [
    "Посмотрим на столбцы с категориальными значениями."
   ]
  },
  {
   "cell_type": "markdown",
   "metadata": {},
   "source": [
    "#### Тип фильма"
   ]
  },
  {
   "cell_type": "code",
   "execution_count": 39,
   "metadata": {},
   "outputs": [
    {
     "data": {
      "text/plain": [
       "Художественный                3936\n",
       " Художественный               1359\n",
       "Анимационный                   778\n",
       "Прочие                         392\n",
       "Документальный                 283\n",
       "Научно-популярный               52\n",
       "Музыкально-развлекательный       1\n",
       " Анимационный                    1\n",
       "Name: type, dtype: int64"
      ]
     },
     "execution_count": 39,
     "metadata": {},
     "output_type": "execute_result"
    }
   ],
   "source": [
    "#посмотрим на уникальные значения типа фильма\n",
    "data['type'].value_counts()"
   ]
  },
  {
   "cell_type": "markdown",
   "metadata": {},
   "source": [
    "Видим пробелы в начале слов Художественный и Анимационный. Удалим пробелы."
   ]
  },
  {
   "cell_type": "code",
   "execution_count": 40,
   "metadata": {},
   "outputs": [],
   "source": [
    "data['type'] = data['type'].str.strip()"
   ]
  },
  {
   "cell_type": "code",
   "execution_count": 41,
   "metadata": {},
   "outputs": [
    {
     "data": {
      "text/plain": [
       "Художественный                5295\n",
       "Анимационный                   779\n",
       "Прочие                         392\n",
       "Документальный                 283\n",
       "Научно-популярный               52\n",
       "Музыкально-развлекательный       1\n",
       "Name: type, dtype: int64"
      ]
     },
     "execution_count": 41,
     "metadata": {},
     "output_type": "execute_result"
    }
   ],
   "source": [
    "#проверим\n",
    "data['type'].value_counts()"
   ]
  },
  {
   "cell_type": "markdown",
   "metadata": {},
   "source": [
    "#### Студия-производитель"
   ]
  },
  {
   "cell_type": "code",
   "execution_count": 42,
   "metadata": {},
   "outputs": [
    {
     "data": {
      "text/plain": [
       "Киностудия \"Мосфильм\"                                                                                                                                                                                      337\n",
       "ООО \"Мульт в кино\"                                                                                                                                                                                          57\n",
       "Анимаккорд Лтд                                                                                                                                                                                              23\n",
       "ООО \"Мульт в кино\"                                                                                                                                                                                          18\n",
       "ФГУП \"ТПО \"Киностудия \"Союзмультфильм\"                                                                                                                                                                      15\n",
       "                                                                                                                                                                                                          ... \n",
       "Генри Ко, Импайр Филм энд Интертейнмент Групп                                                                                                                                                                1\n",
       "Дименшн Филмз, А Бэнд Апарт, Биг Тэлк Продакшнз, Дэртмут Интертейнмент, Эйтроникс, Интернэшнл Продакшн Компани, Рэв Нирв, Родригес Интернэшнл Пикчерз, Трублемейкер Студиос, Ванштейн Компани, Йер Деад      1\n",
       "ООО \"Кинокомпания \"КОКТЕБЕЛЬ\" при участии ООО \"СтартФильм\"                                                                                                                                                   1\n",
       "Бигер Бот, Бовери Хилз Интертейнмент, Ланчпад Продакшнз, Эр Си Эн Филмз энд е-новва                                                                                                                          1\n",
       "Апертура Медиа Партнерс, Кепэсити Пикчерз, Гольфстрим Пикчерз, ПалмСтар Пикчерз, Райс Филмз                                                                                                                  1\n",
       "Name: film_studio, Length: 5451, dtype: int64"
      ]
     },
     "execution_count": 42,
     "metadata": {},
     "output_type": "execute_result"
    }
   ],
   "source": [
    "data['film_studio'].value_counts()"
   ]
  },
  {
   "cell_type": "markdown",
   "metadata": {},
   "source": [
    "Видим, что есть повторяющиеся значения и студии списков. Нужно учесть в дальнейшем."
   ]
  },
  {
   "cell_type": "markdown",
   "metadata": {},
   "source": [
    "#### Страна-производитель "
   ]
  },
  {
   "cell_type": "code",
   "execution_count": 43,
   "metadata": {
    "scrolled": true
   },
   "outputs": [
    {
     "data": {
      "text/plain": [
       "Россия                                 1796\n",
       "США                                    1789\n",
       "СССР                                    343\n",
       "Франция                                 278\n",
       "Великобритания                          241\n",
       "                                       ... \n",
       "Израиль-США-Франция                       1\n",
       "Швеция-Франция-Дания                      1\n",
       "Франция - Португалия                      1\n",
       "Германия - Великобритания - Австрия       1\n",
       "Франция - Бельгия - Испания               1\n",
       "Name: production_country, Length: 942, dtype: int64"
      ]
     },
     "execution_count": 43,
     "metadata": {},
     "output_type": "execute_result"
    }
   ],
   "source": [
    "data['production_country'].value_counts()"
   ]
  },
  {
   "cell_type": "markdown",
   "metadata": {},
   "source": [
    "Видим что есть списки стран. Нужно это учесть."
   ]
  },
  {
   "cell_type": "markdown",
   "metadata": {},
   "source": [
    "#### Режиссер "
   ]
  },
  {
   "cell_type": "code",
   "execution_count": 44,
   "metadata": {},
   "outputs": [
    {
     "data": {
      "text/plain": [
       "О.Семёнова          47\n",
       "Д.Червяцов          16\n",
       "Вуди Аллен          13\n",
       "О.Семёнова          12\n",
       "Стивен Содерберг    12\n",
       "                    ..\n",
       "А.Осипова            1\n",
       "Шэрон Магуайр        1\n",
       "Джеймс Франко        1\n",
       "Хоми Аджаниа         1\n",
       "Джереми Деллер       1\n",
       "Name: director, Length: 4792, dtype: int64"
      ]
     },
     "execution_count": 44,
     "metadata": {},
     "output_type": "execute_result"
    }
   ],
   "source": [
    "data['director'].value_counts()"
   ]
  },
  {
   "cell_type": "markdown",
   "metadata": {},
   "source": [
    "Видим, что имена режиссеров заполняются по-разному: с полным именем и без, один режиссер и группа режиссеров. Нужно учесть это в дальнейшем, выделив основного режиссера."
   ]
  },
  {
   "cell_type": "markdown",
   "metadata": {},
   "source": [
    "#### Продюссер"
   ]
  },
  {
   "cell_type": "code",
   "execution_count": 45,
   "metadata": {},
   "outputs": [
    {
     "data": {
      "text/plain": [
       "П.Смирнов                                        67\n",
       "Олег Кузовков, Дмитрий Ловейко, Марина Ратина    28\n",
       "С.Сельянов                                       18\n",
       "Д.Ловейко, О.Кузовков                            16\n",
       "Тони Майерс                                      11\n",
       "                                                 ..\n",
       "Яна Бол, Жан Гуссен, Эмели Кристианс              1\n",
       "Дэвид Джозеф Крэйг                                1\n",
       "Пол Карри, Джоди Маттерсон, Стивен Хутенски       1\n",
       "Джефф Бродстрит, Элайджа Дреннер, Инго Юхт        1\n",
       "Макул Вигерт                                      1\n",
       "Name: producer, Length: 5313, dtype: int64"
      ]
     },
     "execution_count": 45,
     "metadata": {},
     "output_type": "execute_result"
    }
   ],
   "source": [
    "data['producer'].value_counts()"
   ]
  },
  {
   "cell_type": "markdown",
   "metadata": {},
   "source": [
    "Видим, что имена режиссеров заполняются по-разному: с полным именем и без, один режиссер и группа режиссеров. Нужно учесть это в дальнейшем"
   ]
  },
  {
   "cell_type": "markdown",
   "metadata": {},
   "source": [
    "#### Возрастная категория "
   ]
  },
  {
   "cell_type": "code",
   "execution_count": 46,
   "metadata": {},
   "outputs": [
    {
     "data": {
      "text/plain": [
       "«16+» - для детей старше 16 лет           2519\n",
       "«12+» - для детей старше 12 лет           1483\n",
       "«18+» - запрещено для детей               1435\n",
       "«0+» - для любой зрительской аудитории     759\n",
       "«6+» - для детей старше 6 лет              606\n",
       "Name: age_restriction, dtype: int64"
      ]
     },
     "execution_count": 46,
     "metadata": {},
     "output_type": "execute_result"
    }
   ],
   "source": [
    "data['age_restriction'].value_counts()"
   ]
  },
  {
   "cell_type": "markdown",
   "metadata": {},
   "source": [
    "Без аномалий."
   ]
  },
  {
   "cell_type": "markdown",
   "metadata": {},
   "source": [
    "#### Источник государственного финансирования "
   ]
  },
  {
   "cell_type": "code",
   "execution_count": 47,
   "metadata": {},
   "outputs": [
    {
     "data": {
      "text/plain": [
       "Министерство культуры               164\n",
       "Фонд кино                           146\n",
       "Министерство культуры, Фонд кино     22\n",
       "Name: financing_source, dtype: int64"
      ]
     },
     "execution_count": 47,
     "metadata": {},
     "output_type": "execute_result"
    }
   ],
   "source": [
    "data['financing_source'].value_counts()"
   ]
  },
  {
   "cell_type": "markdown",
   "metadata": {},
   "source": [
    "Без аномалий."
   ]
  },
  {
   "cell_type": "markdown",
   "metadata": {},
   "source": [
    "#### Жанр фильма "
   ]
  },
  {
   "cell_type": "code",
   "execution_count": 48,
   "metadata": {
    "id": "PnXKIVdFgFyR"
   },
   "outputs": [
    {
     "data": {
      "text/plain": [
       "unknown                         967\n",
       "драма                           448\n",
       "комедия                         330\n",
       "мелодрама,комедия               181\n",
       "драма,мелодрама                 170\n",
       "                               ... \n",
       "криминал,боевик                   1\n",
       "мелодрама,драма,боевик            1\n",
       "приключения,фантастика,драма      1\n",
       "комедия,детектив,приключения      1\n",
       "драма,мультфильм                  1\n",
       "Name: genres, Length: 743, dtype: int64"
      ]
     },
     "execution_count": 48,
     "metadata": {},
     "output_type": "execute_result"
    }
   ],
   "source": [
    "data['genres'].value_counts()"
   ]
  },
  {
   "cell_type": "code",
   "execution_count": 49,
   "metadata": {},
   "outputs": [
    {
     "data": {
      "text/plain": [
       "array(['боевик,драма,мелодрама', 'драма,военный',\n",
       "       'фантастика,боевик,триллер', 'драма', 'мелодрама,комедия',\n",
       "       'мюзикл,мелодрама,комедия', 'комедия,криминал',\n",
       "       'боевик,триллер,детектив', 'боевик,драма,приключения',\n",
       "       'драма,спорт', 'триллер,драма,мелодрама', 'комедия,мелодрама',\n",
       "       'драма,мелодрама,комедия', 'драма,мелодрама', 'драма,история',\n",
       "       'драма,мелодрама,семейный', 'комедия,мелодрама,криминал',\n",
       "       'комедия', 'боевик,драма,криминал', 'драма,комедия',\n",
       "       'ужасы,фантастика,комедия', 'мультфильм,короткометражка,мелодрама',\n",
       "       'драма,криминал', 'мультфильм,фантастика,фэнтези',\n",
       "       'триллер,драма,криминал', 'драма,мелодрама,биография',\n",
       "       'драма,комедия,военный', 'фантастика,драма,детектив',\n",
       "       'мюзикл,семейный', 'unknown', 'военный,приключения,драма',\n",
       "       'документальный,драма', 'драма,биография,история',\n",
       "       'боевик,триллер,драма', 'фэнтези,боевик',\n",
       "       'боевик,комедия,криминал', 'мюзикл,комедия,детский',\n",
       "       'комедия,мелодрама,драма', 'мультфильм,фэнтези,комедия',\n",
       "       'комедия,история', 'мелодрама', 'драма,биография,музыка',\n",
       "       'фэнтези,драма,мелодрама', 'триллер,военный',\n",
       "       'драма,мелодрама,военный', 'мюзикл,драма,мелодрама',\n",
       "       'мюзикл,комедия', 'мультфильм,приключения,семейный',\n",
       "       'ужасы,триллер', 'боевик,драма,военный', 'драма,боевик',\n",
       "       'мультфильм,драма,комедия', 'триллер,криминал',\n",
       "       'военный,биография,драма', 'комедия,семейный', 'военный',\n",
       "       'драма,семейный,биография', 'фэнтези,приключения,семейный',\n",
       "       'драма,криминал,биография', 'ужасы,триллер,детектив',\n",
       "       'боевик,история,драма', 'ужасы,триллер,драма',\n",
       "       'драма,криминал,спорт', 'документальный,короткометражка',\n",
       "       'триллер,драма', 'криминал,детектив,приключения',\n",
       "       'драма,комедия,криминал', 'драма,комедия,вестерн',\n",
       "       'драма,мелодрама,детектив', 'мелодрама,биография',\n",
       "       'фэнтези,мелодрама,драма', 'драма,мелодрама,история',\n",
       "       'комедия,приключения,история', 'приключения', 'драма,семейный',\n",
       "       'криминал,детектив', 'мультфильм,короткометражка,ужасы',\n",
       "       'фантастика,триллер,драма', 'фэнтези,мелодрама,комедия',\n",
       "       'драма,биография', 'комедия,криминал,история',\n",
       "       'триллер,драма,детектив', 'фантастика,комедия,приключения',\n",
       "       'фэнтези,семейный', 'ужасы,фантастика,боевик',\n",
       "       'мелодрама,криминал', 'комедия,приключения,мелодрама',\n",
       "       'боевик,триллер,приключения', 'боевик,приключения',\n",
       "       'боевик,триллер,криминал', 'документальный,военный,история',\n",
       "       'драма,музыка', 'боевик,драма', 'приключения,боевик',\n",
       "       'драма,военный,биография', 'триллер,драма,приключения',\n",
       "       'аниме,мультфильм,фэнтези', 'триллер,детектив,драма',\n",
       "       'боевик,триллер,мелодрама', 'боевик,история',\n",
       "       'приключения,история', 'драма,комедия,приключения',\n",
       "       'фэнтези,комедия,приключения', 'документальный,музыка',\n",
       "       'мелодрама,драма', 'триллер,криминал,детектив', 'ужасы',\n",
       "       'боевик,комедия,приключения', 'мультфильм,фэнтези,боевик',\n",
       "       'боевик,фэнтези,драма', 'фэнтези,драма', 'фэнтези,боевик,комедия',\n",
       "       'приключения,детский,комедия', 'документальный',\n",
       "       'боевик,триллер,комедия', 'мелодрама,комедия,криминал',\n",
       "       'драма,детектив', 'мюзикл,ужасы,триллер', 'детектив,триллер,ужасы',\n",
       "       'ужасы,фэнтези', 'ужасы,фэнтези,триллер', 'мультфильм,драма',\n",
       "       'ужасы,боевик,фантастика', 'боевик', 'фантастика,боевик',\n",
       "       'мелодрама,комедия,приключения', 'триллер,детектив',\n",
       "       'мюзикл,мелодрама,фэнтези', 'криминал', 'триллер,комедия,криминал',\n",
       "       'триллер,драма,военный', 'комедия,семейный,музыка',\n",
       "       'комедия,фантастика,мелодрама', 'фантастика,триллер,криминал',\n",
       "       'комедия,драма', 'боевик,военный', 'ужасы,фантастика,триллер',\n",
       "       'фантастика,драма,мелодрама', 'фэнтези,драма,детектив',\n",
       "       'боевик,драма,история', 'для взрослых,драма,мелодрама',\n",
       "       'мультфильм,боевик,детектив', 'фантастика,мелодрама,боевик',\n",
       "       'ужасы,фантастика,детектив', 'фантастика,боевик,приключения',\n",
       "       'мелодрама,комедия,спорт', 'мультфильм,короткометражка,детский',\n",
       "       'комедия,приключения', 'ужасы,драма', 'ужасы,фэнтези,боевик',\n",
       "       'боевик,триллер', 'мультфильм,фэнтези,детский',\n",
       "       'мюзикл,боевик,драма', 'семейный,комедия,драма', 'концерт,музыка',\n",
       "       'фэнтези,боевик,драма', 'драма,комедия,музыка',\n",
       "       'фантастика,фэнтези,боевик', 'фэнтези,комедия,семейный',\n",
       "       'фэнтези,драма,комедия', 'мультфильм,мюзикл,драма', 'триллер',\n",
       "       'боевик,криминал,триллер', 'мультфильм,приключения,драма',\n",
       "       'мелодрама,музыка', 'документальный,музыка,концерт',\n",
       "       'мультфильм,семейный', 'мультфильм,комедия,приключения',\n",
       "       'мультфильм,комедия,семейный', 'фантастика,драма',\n",
       "       'фэнтези,боевик,приключения', 'мультфильм,приключения',\n",
       "       'драма,военный,история', 'история', 'драма,приключения,военный',\n",
       "       'документальный,короткометражка,семейный',\n",
       "       'мелодрама,история,триллер', 'ужасы,детектив',\n",
       "       'мюзикл,комедия,приключения', 'драма,спорт,биография',\n",
       "       'фантастика,боевик,комедия', 'фантастика,приключения,детектив',\n",
       "       'короткометражка,драма,военный', 'драма,мультфильм',\n",
       "       'приключения,семейный', 'детектив', 'триллер,приключения',\n",
       "       'мультфильм,мюзикл,фэнтези', 'аниме,мультфильм,боевик',\n",
       "       'драма,комедия,биография', 'драма,комедия,спорт',\n",
       "       'документальный,приключения', 'боевик,мелодрама,комедия',\n",
       "       'семейный,комедия', 'фэнтези,боевик,триллер',\n",
       "       'документальный,фэнтези,семейный', 'фантастика,фэнтези,драма',\n",
       "       'ужасы,комедия,фэнтези', 'документальный,биография,музыка',\n",
       "       'фантастика,боевик,фэнтези', 'ужасы,боевик,триллер',\n",
       "       'комедия,криминал,семейный', 'приключения,драма',\n",
       "       'криминал,драма,триллер', 'драма,детектив,криминал',\n",
       "       'фэнтези,приключения,комедия', 'комедия,спорт',\n",
       "       'мюзикл,фэнтези,мелодрама', 'мультфильм,фэнтези,приключения',\n",
       "       'фантастика,фэнтези,приключения', 'фэнтези',\n",
       "       'фэнтези,приключения,боевик', 'фантастика,боевик,драма',\n",
       "       'криминал,драма', 'криминал,триллер,драма',\n",
       "       'драма,мелодрама,приключения', 'детский,комедия',\n",
       "       'фантастика,драма,боевик', 'мультфильм,семейный,фэнтези',\n",
       "       'концерт,музыка,документальный', 'ужасы,комедия,приключения',\n",
       "       'драма,мелодрама,криминал', 'ужасы,фантастика,фэнтези',\n",
       "       'боевик,комедия', 'мультфильм,фантастика,комедия', 'триллер,ужасы',\n",
       "       'мультфильм,мюзикл,комедия', 'мелодрама,фэнтези,триллер',\n",
       "       'детский,приключения,комедия', 'комедия,детектив',\n",
       "       'аниме,мультфильм,мелодрама', 'документальный,драма,семейный',\n",
       "       'документальный,биография,история', 'военный,боевик,драма',\n",
       "       'ужасы,комедия', 'комедия,приключения,семейный',\n",
       "       'приключения,биография,история', 'детский,приключения,семейный',\n",
       "       'спорт,драма,биография', 'аниме,мультфильм,ужасы',\n",
       "       'фантастика,боевик,криминал', 'мюзикл,драма',\n",
       "       'драма,криминал,детектив', 'аниме,мультфильм,драма',\n",
       "       'драма,триллер,приключения', 'триллер,криминал,драма',\n",
       "       'фэнтези,комедия,драма', 'мультфильм,комедия',\n",
       "       'драма,комедия,история', 'комедия,биография,история',\n",
       "       'мультфильм,фантастика,приключения', 'аниме,мультфильм,фантастика',\n",
       "       'мультфильм,фэнтези,семейный', 'мультфильм,боевик,комедия',\n",
       "       'комедия,криминал,спорт', 'документальный,мюзикл',\n",
       "       'мелодрама,комедия,музыка', 'биография',\n",
       "       'триллер,криминал,комедия', 'фантастика,драма,комедия',\n",
       "       'комедия,драма,мелодрама', 'фантастика,приключения,боевик',\n",
       "       'мультфильм,фэнтези,драма', 'триллер,комедия',\n",
       "       'драма,приключения,биография', 'фантастика,комедия',\n",
       "       'мелодрама,драма,комедия', 'боевик,криминал',\n",
       "       'драма,криминал,боевик', 'комедия,боевик,приключения',\n",
       "       'мультфильм,мюзикл,детский', 'драма,фэнтези',\n",
       "       'документальный,семейный', 'фэнтези,драма,приключения',\n",
       "       'ужасы,комедия,фантастика', 'драма,мелодрама,музыка',\n",
       "       'фэнтези,драма,семейный', 'триллер,мелодрама,драма',\n",
       "       'вестерн,боевик,драма', 'мультфильм,короткометражка,комедия',\n",
       "       'триллер,драма,история', 'ужасы,фантастика',\n",
       "       'ужасы,мелодрама,комедия', 'фэнтези,приключения',\n",
       "       'фантастика,триллер', 'ужасы,боевик,фэнтези',\n",
       "       'мультфильм,комедия,детский', 'триллер,драма,биография',\n",
       "       'мультфильм,ужасы,фэнтези', 'мультфильм,ужасы,фантастика',\n",
       "       'ужасы,боевик,комедия', 'драма,биография,спорт', 'мультфильм',\n",
       "       'мелодрама,комедия,драма', 'приключения,фантастика,семейный',\n",
       "       'комедия,криминал,детектив', 'ужасы,триллер,комедия',\n",
       "       'криминал,комедия,триллер', 'семейный,приключения,комедия',\n",
       "       'мультфильм,драма,приключения', 'ужасы,драма,детектив',\n",
       "       'драма,приключения,фэнтези', 'фантастика,мультфильм,драма',\n",
       "       'драма,триллер,детектив', 'драма,история,музыка', 'детский',\n",
       "       'триллер,боевик,криминал', 'драма,фантастика',\n",
       "       'комедия,драма,семейный', 'боевик,драма,комедия', 'комедия,ужасы',\n",
       "       'драма,фантастика,триллер', 'фантастика,драма,триллер',\n",
       "       'история,спорт,драма', 'документальный,биография',\n",
       "       'биография,история', 'спорт,драма', 'боевик,фэнтези',\n",
       "       'мультфильм,фэнтези', 'документальный,комедия,история',\n",
       "       'криминал,комедия,боевик', 'фэнтези,приключения,драма',\n",
       "       'музыка,концерт', 'триллер,драма,боевик',\n",
       "       'комедия,криминал,боевик', 'комедия,фантастика,боевик',\n",
       "       'вестерн,приключения,боевик', 'аниме,мультфильм,комедия',\n",
       "       'детектив,криминал,триллер', 'мультфильм,комедия,криминал',\n",
       "       'комедия,приключения,детектив', 'мелодрама,фантастика,драма',\n",
       "       'драма,комедия,семейный', 'приключения,фантастика',\n",
       "       'триллер,детектив,ужасы', 'комедия,приключения,фэнтези',\n",
       "       'фэнтези,триллер,драма', 'мелодрама,приключения,боевик',\n",
       "       'детектив,триллер,криминал', 'фэнтези,семейный,мелодрама',\n",
       "       'военный,драма', 'документальный,приключения,семейный',\n",
       "       'криминал,комедия,драма', 'комедия,фантастика',\n",
       "       'история,биография,драма', 'мелодрама,драма,музыка',\n",
       "       'боевик,мелодрама', 'комедия,криминал,триллер',\n",
       "       'детектив,триллер,боевик', 'комедия,боевик,криминал',\n",
       "       'комедия,вестерн', 'детский,мелодрама,семейный',\n",
       "       'короткометражка,мультфильм', 'комедия,фэнтези',\n",
       "       'фантастика,драма,ужасы', 'триллер,драма,ужасы',\n",
       "       'драма,фэнтези,история', 'комедия,драма,короткометражка',\n",
       "       'фэнтези,триллер,приключения', 'семейный',\n",
       "       'комедия,криминал,драма', 'комедия,фэнтези,ужасы',\n",
       "       'короткометражка,комедия,криминал', 'фантастика',\n",
       "       'триллер,ужасы,драма', 'мелодрама,драма,фэнтези',\n",
       "       'фантастика,приключения,драма', 'боевик,детектив',\n",
       "       'военный,драма,боевик', 'комедия,мелодрама,фэнтези',\n",
       "       'вестерн,криминал,триллер', 'драма,история,триллер',\n",
       "       'мультфильм,фантастика,боевик', 'детектив,драма,криминал',\n",
       "       'приключения,история,драма', 'мультфильм,семейный,детский',\n",
       "       'биография,драма,история', 'триллер,криминал,боевик',\n",
       "       'история,мелодрама', 'приключения,детский',\n",
       "       'музыка,приключения,концерт', 'военный,драма,комедия',\n",
       "       'фэнтези,боевик,военный', 'фантастика,детектив,боевик',\n",
       "       'мультфильм,фэнтези,история', 'биография,мелодрама,драма',\n",
       "       'документальный,биография,спорт', 'фантастика,комедия,детектив',\n",
       "       'музыка,концерт,документальный', 'триллер,боевик,приключения',\n",
       "       'триллер,драма,комедия', 'детектив,криминал',\n",
       "       'мультфильм,приключения,фэнтези', 'мелодрама,приключения',\n",
       "       'комедия,музыка', 'мелодрама,комедия,ужасы',\n",
       "       'драма,криминал,приключения', 'приключения,детектив,мелодрама',\n",
       "       'драма,криминал,фантастика', 'фэнтези,драма,биография',\n",
       "       'драма,вестерн', 'детектив,фантастика,криминал',\n",
       "       'триллер,драма,фантастика', 'ужасы,комедия,боевик',\n",
       "       'мелодрама,история', 'триллер,боевик',\n",
       "       'фильм-нуар,триллер,детектив', 'комедия,криминал,приключения',\n",
       "       'ужасы,триллер,мелодрама', 'военный,драма,история',\n",
       "       'драма,спорт,история', 'документальный,драма,история',\n",
       "       'триллер,мелодрама,детектив', 'детский,семейный',\n",
       "       'мюзикл,семейный,драма', 'биография,военный,драма',\n",
       "       'мультфильм,детский', 'боевик,криминал,драма',\n",
       "       'детектив,фэнтези,триллер', 'драма,боевик,приключения',\n",
       "       'драма,мелодрама,фэнтези', 'детектив,история,драма',\n",
       "       'фэнтези,боевик,ужасы', 'ужасы,фэнтези,мелодрама',\n",
       "       'ужасы,приключения', 'боевик,фантастика',\n",
       "       'ужасы,мелодрама,детектив', 'фантастика,триллер,приключения',\n",
       "       'боевик,приключения,история', 'приключения,боевик,триллер',\n",
       "       'детектив,ужасы,криминал', 'семейный,фэнтези', 'мюзикл,мелодрама',\n",
       "       'драма,военный,приключения', 'фантастика,драма,приключения',\n",
       "       'приключения,семейный,драма', 'история,драма,боевик',\n",
       "       'мультфильм,приключения,комедия', 'криминал,драма,комедия',\n",
       "       'ужасы,комедия,драма', 'комедия,семейный,приключения',\n",
       "       'мюзикл,фэнтези,драма', 'драма,вестерн,боевик',\n",
       "       'фантастика,триллер,детектив', 'драма,история,детектив',\n",
       "       'короткометражка,биография', 'мультфильм,приключения,фантастика',\n",
       "       'комедия,триллер', 'мультфильм,приключения,детектив',\n",
       "       'драма,триллер', 'ужасы,триллер,криминал',\n",
       "       'документальный,криминал,военный', 'ужасы,фэнтези,драма',\n",
       "       'фэнтези,комедия', 'ужасы,фэнтези,комедия', 'комедия,музыка,драма',\n",
       "       'мультфильм,приключения,военный', 'мюзикл,фэнтези,комедия',\n",
       "       'боевик,фантастика,приключения', 'триллер,ужасы,криминал',\n",
       "       'ужасы,фантастика,драма', 'фантастика,приключения,семейный',\n",
       "       'короткометражка,музыка', 'мелодрама,детектив,комедия',\n",
       "       'документальный,триллер,биография', 'боевик,фантастика,триллер',\n",
       "       'спорт,драма,комедия', 'фэнтези,мелодрама,приключения',\n",
       "       'триллер,детектив,криминал', 'короткометражка,мелодрама',\n",
       "       'мультфильм,семейный,спорт', 'комедия,фэнтези,мелодрама',\n",
       "       'драма,спорт,комедия', 'история,драма,мелодрама',\n",
       "       'драма,боевик,криминал', 'драма,комедия,триллер',\n",
       "       'аниме,мультфильм', 'документальный,ужасы',\n",
       "       'мультфильм,короткометражка', 'драма,история,военный',\n",
       "       'мультфильм,короткометражка,фэнтези', 'комедия,военный,музыка',\n",
       "       'биография,история,драма', 'ужасы,драма,мелодрама',\n",
       "       'драма,комедия,детектив', 'комедия,семейный,фантастика',\n",
       "       'мультфильм,семейный,комедия', 'история,детектив',\n",
       "       'приключения,мелодрама,детектив', 'мюзикл,комедия,мелодрама',\n",
       "       'драма,фантастика,ужасы', 'мультфильм,ужасы,комедия',\n",
       "       'для взрослых,драма,комедия', 'ужасы,комедия,музыка',\n",
       "       'комедия,история,драма', 'семейный,детектив,детский',\n",
       "       'короткометражка,драма', 'документальный,новости,драма',\n",
       "       'триллер,мелодрама', 'ужасы,драма,вестерн',\n",
       "       'мюзикл,фэнтези,семейный', 'вестерн,драма,триллер',\n",
       "       'приключения,вестерн,боевик', 'семейный,комедия,музыка',\n",
       "       'боевик,драма,вестерн', 'ужасы,драма,триллер',\n",
       "       'фантастика,мелодрама', 'комедия,криминал,биография',\n",
       "       'семейный,мультфильм,комедия', 'комедия,драма,криминал',\n",
       "       'фантастика,боевик,военный', 'приключения,биография,драма',\n",
       "       'приключения,триллер,биография', 'криминал,боевик,триллер',\n",
       "       'боевик,вестерн,приключения', 'история,драма',\n",
       "       'фантастика,фэнтези,комедия', 'мультфильм,детский,комедия',\n",
       "       'мелодрама,комедия,триллер', 'документальный,боевик,приключения',\n",
       "       'драма,приключения', 'мелодрама,военный,драма', 'триллер,фэнтези',\n",
       "       'драма,триллер,биография', 'фэнтези,боевик,семейный',\n",
       "       'фантастика,триллер,комедия', 'документальный,фэнтези',\n",
       "       'комедия,мультфильм,фантастика', 'криминал,биография,комедия',\n",
       "       'биография,спорт,драма', 'приключения,военный',\n",
       "       'мультфильм,семейный,драма', 'документальный,фэнтези,драма',\n",
       "       'комедия,боевик,фантастика', 'семейный,приключения,военный',\n",
       "       'триллер,ужасы,детектив', 'короткометражка',\n",
       "       'мелодрама,триллер,история', 'документальный,история',\n",
       "       'мультфильм,приключения,детский', 'драма,комедия,мультфильм',\n",
       "       'военный,детектив', 'семейный,приключения,документальный',\n",
       "       'детский,фэнтези', 'документальный,комедия', 'комедия,биография',\n",
       "       'криминал,комедия', 'спорт,мелодрама,криминал',\n",
       "       'фантастика,комедия,боевик', 'боевик,приключения,детектив',\n",
       "       'детектив,триллер,драма', 'боевик,приключения,триллер',\n",
       "       'документальный,фантастика', 'мелодрама,комедия,семейный',\n",
       "       'мультфильм,мелодрама,комедия', 'драма,спорт,семейный',\n",
       "       'фантастика,мелодрама,фэнтези', 'мюзикл,комедия,музыка',\n",
       "       'фантастика,триллер,мелодрама', 'приключения,комедия,фэнтези',\n",
       "       'фэнтези,боевик,детектив', 'фэнтези,боевик,мелодрама',\n",
       "       'комедия,военный', 'драма,спорт,боевик',\n",
       "       'мультфильм,боевик,триллер', 'мелодрама,семейный',\n",
       "       'фантастика,боевик,детектив', 'драма,приключения,история',\n",
       "       'документальный,драма,музыка', 'фантастика,триллер,боевик',\n",
       "       'фэнтези,боевик,вестерн', 'драма,комедия,мелодрама',\n",
       "       'ужасы,фэнтези,приключения', 'триллер,фэнтези,драма',\n",
       "       'мультфильм,мюзикл,мелодрама', 'ужасы,триллер,фантастика',\n",
       "       'триллер,мелодрама,комедия', 'ужасы,комедия,семейный',\n",
       "       'комедия,приключения,музыка', 'документальный,комедия,криминал',\n",
       "       'мелодрама,детектив', 'детский,приключения,фантастика',\n",
       "       'короткометражка,боевик,драма', 'боевик,комедия,семейный',\n",
       "       'фантастика,боевик,мелодрама', 'фэнтези,триллер,мелодрама',\n",
       "       'драма,детектив,история', 'боевик,криминал,детектив',\n",
       "       'мультфильм,фэнтези,мелодрама', 'мелодрама,драма,боевик',\n",
       "       'драма,вестерн,приключения', 'драма,приключения,мелодрама',\n",
       "       'фэнтези,боевик,криминал', 'фантастика,комедия,семейный',\n",
       "       'детский,фэнтези,приключения', 'ужасы,боевик',\n",
       "       'фантастика,мелодрама,комедия', 'семейный,спорт,боевик',\n",
       "       'триллер,биография,драма', 'ужасы,драма,комедия',\n",
       "       'мультфильм,фэнтези,триллер', 'мюзикл', 'боевик,спорт,драма',\n",
       "       'комедия,приключения,вестерн', 'документальный,ужасы,боевик',\n",
       "       'фантастика,боевик,семейный', 'военный,история',\n",
       "       'ужасы,боевик,криминал', 'детектив,триллер',\n",
       "       'драма,семейный,комедия', 'драма,детектив,приключения',\n",
       "       'драма,криминал,история', 'приключения,триллер',\n",
       "       'боевик,драма,биография', 'драма,приключения,триллер',\n",
       "       'комедия,фэнтези,приключения', 'фантастика,боевик,ужасы',\n",
       "       'драма,комедия,фантастика', 'детектив,криминал,драма',\n",
       "       'боевик,триллер,фэнтези', 'приключения,детектив,семейный',\n",
       "       'ужасы,комедия,криминал', 'мультфильм,биография,драма',\n",
       "       'история,боевик,фэнтези', 'детектив,криминал,боевик',\n",
       "       'приключения,фэнтези', 'комедия,приключения,спорт',\n",
       "       'драма,биография,мюзикл', 'комедия,семейный,фэнтези',\n",
       "       'детектив,драма,триллер', 'боевик,приключения,семейный',\n",
       "       'биография,спорт,комедия', 'фантастика,приключения,военный',\n",
       "       'документальный,драма,биография', 'детектив,приключения,драма',\n",
       "       'аниме,мультфильм,приключения', 'семейный,приключения',\n",
       "       'ужасы,фэнтези,детектив', 'семейный,документальный',\n",
       "       'драма,приключения,семейный', 'приключения,история,военный',\n",
       "       'фэнтези,мелодрама', 'фэнтези,триллер,детектив',\n",
       "       'документальный,спорт,биография', 'комедия,триллер,драма',\n",
       "       'драма,ужасы', 'биография,музыка,драма', 'фэнтези,ужасы',\n",
       "       'детектив,мелодрама,фэнтези', 'боевик,военный,история',\n",
       "       'биография,драма,криминал', 'триллер,мелодрама,криминал',\n",
       "       'семейный,мелодрама', 'биография,драма', 'военный,история,драма',\n",
       "       'фантастика,детектив,фэнтези', 'детектив,приключения,триллер',\n",
       "       'фантастика,приключения', 'мультфильм,короткометражка,мюзикл',\n",
       "       'мультфильм,детский,семейный', 'документальный,драма,комедия',\n",
       "       'комедия,приключения,криминал', 'документальный,семейный,музыка',\n",
       "       'мелодрама,музыка,драма', 'детектив,фантастика,триллер',\n",
       "       'драма,мелодрама,триллер', 'биография,драма,военный',\n",
       "       'приключения,фантастика,драма', 'детектив,фильм-нуар,комедия',\n",
       "       'документальный,спорт', 'триллер,фантастика,драма',\n",
       "       'биография,документальный', 'ужасы,фантастика,мелодрама',\n",
       "       'детектив,комедия', 'история,биография,военный',\n",
       "       'криминал,мелодрама', 'драма,криминал,вестерн',\n",
       "       'мелодрама,семейный,приключения', 'триллер,ужасы,мелодрама',\n",
       "       'детектив,мелодрама', 'комедия,драма,биография',\n",
       "       'драма,военный,боевик', 'драма,комедия,ужасы',\n",
       "       'фантастика,драма,криминал', 'документальный,музыка,биография',\n",
       "       'мультфильм,боевик,приключения', 'короткометражка,фантастика',\n",
       "       'мультфильм,мелодрама,драма', 'боевик,военный,драма',\n",
       "       'фэнтези,семейный,приключения', 'детский,мультфильм,приключения',\n",
       "       'семейный,фэнтези,комедия', 'фэнтези,ужасы,триллер',\n",
       "       'ужасы,триллер,приключения', 'драма,боевик,история',\n",
       "       'фэнтези,комедия,детектив', 'история,приключения',\n",
       "       'фэнтези,драма,фильм-нуар', 'аниме,мультфильм,короткометражка',\n",
       "       'драма,военный,триллер', 'биография,криминал,триллер',\n",
       "       'фантастика,фэнтези,детектив', 'вестерн,биография,драма',\n",
       "       'биография,музыка,мюзикл', 'драма,история,биография',\n",
       "       'приключения,драма,фантастика', 'комедия,фэнтези,криминал',\n",
       "       'биография,спорт,история', 'драма,криминал,семейный',\n",
       "       'детектив,боевик,история', 'ужасы,комедия,детектив',\n",
       "       'триллер,приключения,драма', 'фэнтези,комедия,криминал',\n",
       "       'триллер,криминал,приключения', 'комедия,детектив,приключения',\n",
       "       'фэнтези,драма,ужасы', 'ужасы,драма,военный', 'реальное ТВ',\n",
       "       'аниме,мультфильм,детектив', 'приключения,фэнтези,семейный',\n",
       "       'драма,биография,комедия', 'триллер,комедия,ужасы',\n",
       "       'музыка,мелодрама,фэнтези', 'мультфильм,история',\n",
       "       'мультфильм,комедия,фантастика', 'биография,криминал,драма',\n",
       "       'комедия,мелодрама,фантастика', 'криминал,боевик,комедия',\n",
       "       'история,криминал', 'детектив,комедия,драма',\n",
       "       'триллер,фантастика,боевик', 'криминал,боевик',\n",
       "       'комедия,драма,военный', 'драма,триллер,криминал',\n",
       "       'мультфильм,мелодрама,приключения', 'фантастика,фэнтези,триллер',\n",
       "       'короткометражка,драма,триллер', 'военный,боевик,история',\n",
       "       'боевик,драма,триллер', 'документальный,военный,драма',\n",
       "       'драма,криминал,фильм-нуар', 'мультфильм,детский,приключения',\n",
       "       'мелодрама,история,драма'], dtype=object)"
      ]
     },
     "execution_count": 49,
     "metadata": {},
     "output_type": "execute_result"
    }
   ],
   "source": [
    "data['genres'].unique()"
   ]
  },
  {
   "cell_type": "markdown",
   "metadata": {},
   "source": [
    "Большинству фильмов на Кинопоиске присвоено несколько жанров. Нужно это учесть и выделить основной жанр."
   ]
  },
  {
   "cell_type": "markdown",
   "metadata": {},
   "source": [
    "<div class=\"alert alert-block alert-info\">\n",
    "    \n",
    "<h3> Комментарий студента  <a class=\"tocSkip\"></h3>\n",
    "    \n",
    "Добавила все остальные.\n",
    "    \n",
    "</div>"
   ]
  },
  {
   "cell_type": "markdown",
   "metadata": {},
   "source": [
    " <div class=\"alert alert-success\">\n",
    "<h3> Комментарий ревьюера v2 ✔️<a class=\"tocSkip\"> </h3>\n",
    "\n",
    " Супер, этот блок стал ещё лучше!\n",
    "</div>"
   ]
  },
  {
   "cell_type": "markdown",
   "metadata": {
    "id": "XFSN5lrEgFyR"
   },
   "source": [
    "### Изучение количественных значений"
   ]
  },
  {
   "cell_type": "markdown",
   "metadata": {},
   "source": [
    "#### Бюджет фильмов"
   ]
  },
  {
   "cell_type": "markdown",
   "metadata": {},
   "source": [
    "Посмотрим поближе на бюджет фильмов и его соотношение с объёмом возвратных и невозвратных средств государственной поддержки"
   ]
  },
  {
   "cell_type": "code",
   "execution_count": 50,
   "metadata": {},
   "outputs": [
    {
     "data": {
      "text/html": [
       "<div>\n",
       "<style scoped>\n",
       "    .dataframe tbody tr th:only-of-type {\n",
       "        vertical-align: middle;\n",
       "    }\n",
       "\n",
       "    .dataframe tbody tr th {\n",
       "        vertical-align: top;\n",
       "    }\n",
       "\n",
       "    .dataframe thead th {\n",
       "        text-align: right;\n",
       "    }\n",
       "</style>\n",
       "<table border=\"1\" class=\"dataframe\">\n",
       "  <thead>\n",
       "    <tr style=\"text-align: right;\">\n",
       "      <th></th>\n",
       "      <th>nonrefundable_support</th>\n",
       "      <th>refundable_support</th>\n",
       "    </tr>\n",
       "    <tr>\n",
       "      <th>budget</th>\n",
       "      <th></th>\n",
       "      <th></th>\n",
       "    </tr>\n",
       "  </thead>\n",
       "  <tbody>\n",
       "    <tr>\n",
       "      <th>0.000</th>\n",
       "      <td>65174674.412</td>\n",
       "      <td>16705882.353</td>\n",
       "    </tr>\n",
       "    <tr>\n",
       "      <th>14462464.000</th>\n",
       "      <td>4700000.000</td>\n",
       "      <td>0.000</td>\n",
       "    </tr>\n",
       "    <tr>\n",
       "      <th>15010000.000</th>\n",
       "      <td>10000000.000</td>\n",
       "      <td>0.000</td>\n",
       "    </tr>\n",
       "    <tr>\n",
       "      <th>18166418.000</th>\n",
       "      <td>8000000.000</td>\n",
       "      <td>0.000</td>\n",
       "    </tr>\n",
       "    <tr>\n",
       "      <th>18706080.000</th>\n",
       "      <td>11520000.000</td>\n",
       "      <td>0.000</td>\n",
       "    </tr>\n",
       "    <tr>\n",
       "      <th>...</th>\n",
       "      <td>...</td>\n",
       "      <td>...</td>\n",
       "    </tr>\n",
       "    <tr>\n",
       "      <th>779941965.000</th>\n",
       "      <td>60000000.000</td>\n",
       "      <td>0.000</td>\n",
       "    </tr>\n",
       "    <tr>\n",
       "      <th>944000000.000</th>\n",
       "      <td>400000000.000</td>\n",
       "      <td>100000000.000</td>\n",
       "    </tr>\n",
       "    <tr>\n",
       "      <th>980000000.000</th>\n",
       "      <td>400000000.000</td>\n",
       "      <td>100000000.000</td>\n",
       "    </tr>\n",
       "    <tr>\n",
       "      <th>1032905957.000</th>\n",
       "      <td>190000000.000</td>\n",
       "      <td>110000000.000</td>\n",
       "    </tr>\n",
       "    <tr>\n",
       "      <th>2305074303.000</th>\n",
       "      <td>90000000.000</td>\n",
       "      <td>180000000.000</td>\n",
       "    </tr>\n",
       "  </tbody>\n",
       "</table>\n",
       "<p>290 rows × 2 columns</p>\n",
       "</div>"
      ],
      "text/plain": [
       "                nonrefundable_support  refundable_support\n",
       "budget                                                   \n",
       "0.000                    65174674.412        16705882.353\n",
       "14462464.000              4700000.000               0.000\n",
       "15010000.000             10000000.000               0.000\n",
       "18166418.000              8000000.000               0.000\n",
       "18706080.000             11520000.000               0.000\n",
       "...                               ...                 ...\n",
       "779941965.000            60000000.000               0.000\n",
       "944000000.000           400000000.000       100000000.000\n",
       "980000000.000           400000000.000       100000000.000\n",
       "1032905957.000          190000000.000       110000000.000\n",
       "2305074303.000           90000000.000       180000000.000\n",
       "\n",
       "[290 rows x 2 columns]"
      ]
     },
     "execution_count": 50,
     "metadata": {},
     "output_type": "execute_result"
    }
   ],
   "source": [
    "#отберем данные с гос.поддержкой \n",
    "data.query('refundable_support>0 or nonrefundable_support>0').pivot_table(\n",
    "    index='budget', \n",
    "    values=['refundable_support', 'nonrefundable_support']\n",
    ")"
   ]
  },
  {
   "cell_type": "markdown",
   "metadata": {},
   "source": [
    "Видим, что есть нулевой бюджет фильма при данных о гос.поддержке, посмотрим на эти фильмы"
   ]
  },
  {
   "cell_type": "code",
   "execution_count": 51,
   "metadata": {},
   "outputs": [],
   "source": [
    "#создадим столбец с общей суммой поддержки\n",
    "data['sum_support'] = data['nonrefundable_support'] + data['refundable_support']"
   ]
  },
  {
   "cell_type": "code",
   "execution_count": 52,
   "metadata": {},
   "outputs": [
    {
     "data": {
      "text/html": [
       "<div>\n",
       "<style scoped>\n",
       "    .dataframe tbody tr th:only-of-type {\n",
       "        vertical-align: middle;\n",
       "    }\n",
       "\n",
       "    .dataframe tbody tr th {\n",
       "        vertical-align: top;\n",
       "    }\n",
       "\n",
       "    .dataframe thead th {\n",
       "        text-align: right;\n",
       "    }\n",
       "</style>\n",
       "<table border=\"1\" class=\"dataframe\">\n",
       "  <thead>\n",
       "    <tr style=\"text-align: right;\">\n",
       "      <th></th>\n",
       "      <th>budget</th>\n",
       "      <th>sum_support</th>\n",
       "    </tr>\n",
       "    <tr>\n",
       "      <th>title</th>\n",
       "      <th></th>\n",
       "      <th></th>\n",
       "    </tr>\n",
       "  </thead>\n",
       "  <tbody>\n",
       "    <tr>\n",
       "      <th>14+</th>\n",
       "      <td>0.000</td>\n",
       "      <td>23000000.000</td>\n",
       "    </tr>\n",
       "    <tr>\n",
       "      <th>Баба Яга</th>\n",
       "      <td>0.000</td>\n",
       "      <td>138969465.000</td>\n",
       "    </tr>\n",
       "    <tr>\n",
       "      <th>Бармен.</th>\n",
       "      <td>0.000</td>\n",
       "      <td>20000000.000</td>\n",
       "    </tr>\n",
       "    <tr>\n",
       "      <th>Большое путешествие</th>\n",
       "      <td>0.000</td>\n",
       "      <td>180000000.000</td>\n",
       "    </tr>\n",
       "    <tr>\n",
       "      <th>Воин (2015)</th>\n",
       "      <td>0.000</td>\n",
       "      <td>80000000.000</td>\n",
       "    </tr>\n",
       "    <tr>\n",
       "      <th>Два хвоста</th>\n",
       "      <td>0.000</td>\n",
       "      <td>70000000.000</td>\n",
       "    </tr>\n",
       "    <tr>\n",
       "      <th>Дуxless 2</th>\n",
       "      <td>0.000</td>\n",
       "      <td>75000000.000</td>\n",
       "    </tr>\n",
       "    <tr>\n",
       "      <th>Любовь с ограничениями</th>\n",
       "      <td>0.000</td>\n",
       "      <td>70000000.000</td>\n",
       "    </tr>\n",
       "    <tr>\n",
       "      <th>Мифы</th>\n",
       "      <td>0.000</td>\n",
       "      <td>45000000.000</td>\n",
       "    </tr>\n",
       "    <tr>\n",
       "      <th>Помню - не помню!</th>\n",
       "      <td>0.000</td>\n",
       "      <td>6000000.000</td>\n",
       "    </tr>\n",
       "    <tr>\n",
       "      <th>Принцесса и дракон</th>\n",
       "      <td>0.000</td>\n",
       "      <td>80000000.000</td>\n",
       "    </tr>\n",
       "    <tr>\n",
       "      <th>Притяжение (2016)</th>\n",
       "      <td>0.000</td>\n",
       "      <td>250000000.000</td>\n",
       "    </tr>\n",
       "    <tr>\n",
       "      <th>Савва. Сердце воина</th>\n",
       "      <td>0.000</td>\n",
       "      <td>160000000.000</td>\n",
       "    </tr>\n",
       "    <tr>\n",
       "      <th>Селфи</th>\n",
       "      <td>0.000</td>\n",
       "      <td>60000000.000</td>\n",
       "    </tr>\n",
       "    <tr>\n",
       "      <th>Срочно выйду замуж</th>\n",
       "      <td>0.000</td>\n",
       "      <td>35000000.000</td>\n",
       "    </tr>\n",
       "    <tr>\n",
       "      <th>Тряпичный союз</th>\n",
       "      <td>0.000</td>\n",
       "      <td>59000000.000</td>\n",
       "    </tr>\n",
       "    <tr>\n",
       "      <th>Чудо-юдо</th>\n",
       "      <td>0.000</td>\n",
       "      <td>40000000.000</td>\n",
       "    </tr>\n",
       "  </tbody>\n",
       "</table>\n",
       "</div>"
      ],
      "text/plain": [
       "                        budget   sum_support\n",
       "title                                       \n",
       "14+                      0.000  23000000.000\n",
       "Баба Яга                 0.000 138969465.000\n",
       "Бармен.                  0.000  20000000.000\n",
       "Большое путешествие      0.000 180000000.000\n",
       "Воин (2015)              0.000  80000000.000\n",
       "Два хвоста               0.000  70000000.000\n",
       "Дуxless 2                0.000  75000000.000\n",
       "Любовь с ограничениями   0.000  70000000.000\n",
       "Мифы                     0.000  45000000.000\n",
       "Помню - не помню!        0.000   6000000.000\n",
       "Принцесса и дракон       0.000  80000000.000\n",
       "Притяжение (2016)        0.000 250000000.000\n",
       "Савва. Сердце воина      0.000 160000000.000\n",
       "Селфи                    0.000  60000000.000\n",
       "Срочно выйду замуж       0.000  35000000.000\n",
       "Тряпичный союз           0.000  59000000.000\n",
       "Чудо-юдо                 0.000  40000000.000"
      ]
     },
     "execution_count": 52,
     "metadata": {},
     "output_type": "execute_result"
    }
   ],
   "source": [
    "data.query('budget==0').pivot_table(\n",
    "    index='title', \n",
    "    values=['budget','sum_support']\n",
    ")"
   ]
  },
  {
   "cell_type": "markdown",
   "metadata": {},
   "source": [
    "Заменим сумму бюджета на сумму поддержки"
   ]
  },
  {
   "cell_type": "code",
   "execution_count": 53,
   "metadata": {},
   "outputs": [],
   "source": [
    "data['budget'] = data.apply(lambda row: row['sum_support'] if row['budget'] == 0 else row['budget'], axis=1)"
   ]
  },
  {
   "cell_type": "code",
   "execution_count": 54,
   "metadata": {},
   "outputs": [
    {
     "data": {
      "text/html": [
       "<div>\n",
       "<style scoped>\n",
       "    .dataframe tbody tr th:only-of-type {\n",
       "        vertical-align: middle;\n",
       "    }\n",
       "\n",
       "    .dataframe tbody tr th {\n",
       "        vertical-align: top;\n",
       "    }\n",
       "\n",
       "    .dataframe thead th {\n",
       "        text-align: right;\n",
       "    }\n",
       "</style>\n",
       "<table border=\"1\" class=\"dataframe\">\n",
       "  <thead>\n",
       "    <tr style=\"text-align: right;\">\n",
       "      <th></th>\n",
       "      <th>sum_support</th>\n",
       "    </tr>\n",
       "    <tr>\n",
       "      <th>budget</th>\n",
       "      <th></th>\n",
       "    </tr>\n",
       "  </thead>\n",
       "  <tbody>\n",
       "    <tr>\n",
       "      <th>6000000.000</th>\n",
       "      <td>6000000.000</td>\n",
       "    </tr>\n",
       "    <tr>\n",
       "      <th>14462464.000</th>\n",
       "      <td>4700000.000</td>\n",
       "    </tr>\n",
       "    <tr>\n",
       "      <th>15010000.000</th>\n",
       "      <td>10000000.000</td>\n",
       "    </tr>\n",
       "    <tr>\n",
       "      <th>18166418.000</th>\n",
       "      <td>8000000.000</td>\n",
       "    </tr>\n",
       "    <tr>\n",
       "      <th>18706080.000</th>\n",
       "      <td>11520000.000</td>\n",
       "    </tr>\n",
       "    <tr>\n",
       "      <th>...</th>\n",
       "      <td>...</td>\n",
       "    </tr>\n",
       "    <tr>\n",
       "      <th>779941965.000</th>\n",
       "      <td>60000000.000</td>\n",
       "    </tr>\n",
       "    <tr>\n",
       "      <th>944000000.000</th>\n",
       "      <td>500000000.000</td>\n",
       "    </tr>\n",
       "    <tr>\n",
       "      <th>980000000.000</th>\n",
       "      <td>500000000.000</td>\n",
       "    </tr>\n",
       "    <tr>\n",
       "      <th>1032905957.000</th>\n",
       "      <td>300000000.000</td>\n",
       "    </tr>\n",
       "    <tr>\n",
       "      <th>2305074303.000</th>\n",
       "      <td>270000000.000</td>\n",
       "    </tr>\n",
       "  </tbody>\n",
       "</table>\n",
       "<p>295 rows × 1 columns</p>\n",
       "</div>"
      ],
      "text/plain": [
       "                 sum_support\n",
       "budget                      \n",
       "6000000.000      6000000.000\n",
       "14462464.000     4700000.000\n",
       "15010000.000    10000000.000\n",
       "18166418.000     8000000.000\n",
       "18706080.000    11520000.000\n",
       "...                      ...\n",
       "779941965.000   60000000.000\n",
       "944000000.000  500000000.000\n",
       "980000000.000  500000000.000\n",
       "1032905957.000 300000000.000\n",
       "2305074303.000 270000000.000\n",
       "\n",
       "[295 rows x 1 columns]"
      ]
     },
     "execution_count": 54,
     "metadata": {},
     "output_type": "execute_result"
    }
   ],
   "source": [
    "#проверим\n",
    "data.query('refundable_support>0 or nonrefundable_support>0').pivot_table(\n",
    "    index='budget', \n",
    "    values='sum_support'\n",
    ")"
   ]
  },
  {
   "cell_type": "markdown",
   "metadata": {},
   "source": [
    "Построим гистаграмму размаха для поиска выбросов"
   ]
  },
  {
   "cell_type": "code",
   "execution_count": 55,
   "metadata": {},
   "outputs": [
    {
     "data": {
      "image/png": "[encoded data removed]",
      "text/plain": [
       "<Figure size 432x288 with 1 Axes>"
      ]
     },
     "metadata": {
      "needs_background": "light"
     },
     "output_type": "display_data"
    }
   ],
   "source": [
    "data.boxplot('budget')\n",
    "plt.show()"
   ]
  },
  {
   "cell_type": "markdown",
   "metadata": {},
   "source": [
    "Посмотрим какой процент составляют выбросы"
   ]
  },
  {
   "cell_type": "code",
   "execution_count": 56,
   "metadata": {},
   "outputs": [
    {
     "data": {
      "text/plain": [
       "(33, 17)"
      ]
     },
     "execution_count": 56,
     "metadata": {},
     "output_type": "execute_result"
    }
   ],
   "source": [
    "data.query('budget > 280000000').shape"
   ]
  },
  {
   "cell_type": "markdown",
   "metadata": {},
   "source": [
    "Видим, что таких данных более 10% - не можем считать их выбросами, а часть тренда."
   ]
  },
  {
   "cell_type": "markdown",
   "metadata": {},
   "source": [
    "#### Объём возвратных средств государственной поддержки "
   ]
  },
  {
   "cell_type": "markdown",
   "metadata": {},
   "source": [
    "Построим гистаграммы размаха для поиска выбросов."
   ]
  },
  {
   "cell_type": "code",
   "execution_count": 57,
   "metadata": {},
   "outputs": [
    {
     "data": {
      "image/png": "[encoded data removed]",
      "text/plain": [
       "<Figure size 432x288 with 1 Axes>"
      ]
     },
     "metadata": {
      "needs_background": "light"
     },
     "output_type": "display_data"
    }
   ],
   "source": [
    "#объём возвратных средств государственной поддержки\n",
    "data.boxplot('refundable_support')\n",
    "plt.show()"
   ]
  },
  {
   "cell_type": "markdown",
   "metadata": {},
   "source": [
    "Видим выбросы. Помним, что данных о поддержке 332 строки. Проверим, какой процент составляют выбросы"
   ]
  },
  {
   "cell_type": "code",
   "execution_count": 58,
   "metadata": {},
   "outputs": [
    {
     "data": {
      "text/plain": [
       "(41, 17)"
      ]
     },
     "execution_count": 58,
     "metadata": {},
     "output_type": "execute_result"
    }
   ],
   "source": [
    "data.query('refundable_support > 35000000').shape"
   ]
  },
  {
   "cell_type": "markdown",
   "metadata": {},
   "source": [
    "Видим, что таких данных более 12% - не можем считать их выбросами, а часть тренда."
   ]
  },
  {
   "cell_type": "markdown",
   "metadata": {},
   "source": [
    "#### Объём невозвратных средств государственной поддержки "
   ]
  },
  {
   "cell_type": "code",
   "execution_count": 59,
   "metadata": {},
   "outputs": [
    {
     "data": {
      "image/png": "[encoded data removed]",
      "text/plain": [
       "<Figure size 432x288 with 1 Axes>"
      ]
     },
     "metadata": {
      "needs_background": "light"
     },
     "output_type": "display_data"
    }
   ],
   "source": [
    "# объём невозвратных средств государственной поддержки\n",
    "data.boxplot('nonrefundable_support')\n",
    "plt.show()"
   ]
  },
  {
   "cell_type": "markdown",
   "metadata": {},
   "source": [
    "Посмотрим какой процент составляют выбросы"
   ]
  },
  {
   "cell_type": "code",
   "execution_count": 60,
   "metadata": {},
   "outputs": [
    {
     "data": {
      "text/plain": [
       "(48, 17)"
      ]
     },
     "execution_count": 60,
     "metadata": {},
     "output_type": "execute_result"
    }
   ],
   "source": [
    "data.query('nonrefundable_support > 60000000').shape"
   ]
  },
  {
   "cell_type": "markdown",
   "metadata": {},
   "source": [
    "Видим, что таких данных более 14% - не можем считать их выбросами, а часть тренда."
   ]
  },
  {
   "cell_type": "markdown",
   "metadata": {},
   "source": [
    "#### Сборы в рублях "
   ]
  },
  {
   "cell_type": "code",
   "execution_count": 61,
   "metadata": {},
   "outputs": [
    {
     "data": {
      "image/png": "[encoded data removed]",
      "text/plain": [
       "<Figure size 432x288 with 1 Axes>"
      ]
     },
     "metadata": {
      "needs_background": "light"
     },
     "output_type": "display_data"
    }
   ],
   "source": [
    "#сборы в рублях\n",
    "data.boxplot('box_office')\n",
    "plt.show()"
   ]
  },
  {
   "cell_type": "markdown",
   "metadata": {},
   "source": [
    "Видим выбросы. Помним, что данных о сборах 3158 строки. Проверим, какой процент составляют выбросы"
   ]
  },
  {
   "cell_type": "code",
   "execution_count": 62,
   "metadata": {},
   "outputs": [
    {
     "data": {
      "text/plain": [
       "(435, 17)"
      ]
     },
     "execution_count": 62,
     "metadata": {},
     "output_type": "execute_result"
    }
   ],
   "source": [
    "data.query('box_office > 100000000').shape"
   ]
  },
  {
   "cell_type": "markdown",
   "metadata": {},
   "source": [
    "Видим, что таких данных более 13% - не можем считать их выбросами, а часть тренда."
   ]
  },
  {
   "cell_type": "markdown",
   "metadata": {},
   "source": [
    "В связи с чем выбросы не могут быть удалены ни по одному виду количественных данных."
   ]
  },
  {
   "cell_type": "markdown",
   "metadata": {},
   "source": [
    "<div class=\"alert alert-block alert-danger\">\n",
    "<h3> Комментарий ревьюера ❌<a class=\"tocSkip\"></h3>\n",
    "\n",
    "Верно, в некоторых столбцах бюджет был равным 0. С этой проблемой удалось справиться.\n",
    "\n",
    "Однако распространённой практикой является также поиск выбросов в количественных данных. Это можно сделать с помощью боксплотов.\n",
    "\n",
    "Но не спеши удалять такие значения. Стоит учитывать, что мы не можем позволить себе потерять больше 10 % процентов данных. Поэтому стоит делать проверку объёма выбросов. Если таких значений больше описанного порога, то это уже не выбросы, а часть тренда. Процент потерянных данных нужно проверять по количеству непустых значений столбца.\n",
    "</div>"
   ]
  },
  {
   "cell_type": "markdown",
   "metadata": {},
   "source": [
    "<div class=\"alert alert-block alert-info\">\n",
    "    \n",
    "<h3> Комментарий студента  <a class=\"tocSkip\"></h3>\n",
    "    \n",
    "Добавила.\n",
    "    \n",
    "</div>"
   ]
  },
  {
   "cell_type": "markdown",
   "metadata": {},
   "source": [
    "<div class=\"alert alert-warning\">\n",
    "    <h3> Комментарий ревьюера v2 ⚠️<a class=\"tocSkip\"> </h3>\n",
    "\n",
    " Супер, все возможные проблемы обозначены 👍 Но стоит писать под графиками, где начинаются выбросы и где видны основные значения.\n",
    "        \n",
    " Вот так можно отобразить несколько графиков одновременно\n",
    "\n",
    " ```py        \n",
    "numerical_columns = ['refundable_support', 'nonrefundable_support', 'budget', 'ratings', 'box_office']\n",
    "fig, axs = plt.subplots(1,5,figsize=(20,5)) # Определяем количество строк (1) и столбцов (5) на графике и указываем размер графика\n",
    "fig.suptitle('Распределение количественных признаков')\n",
    "\n",
    "for i in range(5):  # Устанавливаем названия и выводим графики\n",
    "  data.boxplot([numerical_columns[i]], ax = axs[i])\n",
    "  axs[i].set_title(numerical_columns[i])\n",
    "```\n",
    "</div>"
   ]
  },
  {
   "cell_type": "markdown",
   "metadata": {
    "id": "Eu6oWp2CgFyS"
   },
   "source": [
    "### Новые столбцы\n",
    "\n",
    "\n",
    "\n"
   ]
  },
  {
   "cell_type": "markdown",
   "metadata": {
    "id": "7GgW-UpAgFyS"
   },
   "source": [
    "Создадим столбец с информацией о годе проката"
   ]
  },
  {
   "cell_type": "code",
   "execution_count": 63,
   "metadata": {},
   "outputs": [],
   "source": [
    "data['year_show_start'] = data['show_start_date'].dt.year"
   ]
  },
  {
   "cell_type": "markdown",
   "metadata": {
    "id": "nFTDLDYOgFyT"
   },
   "source": [
    "Создадим столбец с именем и фамилией главного режиссёра. Помним что в данных бывают списки режиссеров - используем первый в списке."
   ]
  },
  {
   "cell_type": "code",
   "execution_count": 64,
   "metadata": {
    "id": "YbzClBxagFyS"
   },
   "outputs": [],
   "source": [
    "data['main_director'] = data['director'].apply(lambda x: x.split(',')[0])"
   ]
  },
  {
   "cell_type": "code",
   "execution_count": 65,
   "metadata": {},
   "outputs": [],
   "source": [
    "data['main_director'] = data['main_director'].str.strip()"
   ]
  },
  {
   "cell_type": "markdown",
   "metadata": {
    "id": "I-yd1DkWgFyT"
   },
   "source": [
    "Создадим столбец с основным жанром фильма. Помним, что в данных списки жанров - используем первый в списке как основной."
   ]
  },
  {
   "cell_type": "code",
   "execution_count": 66,
   "metadata": {
    "id": "LSbRZKbMgFyU"
   },
   "outputs": [],
   "source": [
    "data['main_genre'] = data['genres'].apply(lambda x: x.split(',')[0])"
   ]
  },
  {
   "cell_type": "markdown",
   "metadata": {
    "id": "1FsCXHwdgFyU"
   },
   "source": [
    "Посчитаем какую долю от общего бюджета фильма составляет государственная поддержка."
   ]
  },
  {
   "cell_type": "code",
   "execution_count": 67,
   "metadata": {
    "id": "LV6qFuZLgFyV"
   },
   "outputs": [],
   "source": [
    "data['ratio_budget_support'] = data['sum_support']/data['budget']"
   ]
  },
  {
   "cell_type": "markdown",
   "metadata": {},
   "source": [
    "Посчитаем окупаемость фильмов"
   ]
  },
  {
   "cell_type": "code",
   "execution_count": 68,
   "metadata": {},
   "outputs": [],
   "source": [
    "data['payback'] = data['box_office'] - data['budget']"
   ]
  },
  {
   "cell_type": "markdown",
   "metadata": {},
   "source": [
    "### Промежуточный итог "
   ]
  },
  {
   "cell_type": "markdown",
   "metadata": {},
   "source": [
    "Проведена предобработка:\n",
    "1. заполнены пропуски в данных:\n",
    " - director режиссер \n",
    " - genres жанр фильма\n",
    "2. изменены типы данных:\n",
    " - fshow_start_date дата премьеры фильма\n",
    " - ratings рейтинг фильма на КиноПоиске\n",
    "3. удалены дубликаты:\n",
    " - title название фильма\n",
    "4. добавлены новые столбцы:\n",
    " - year_show_start - год премьеры фильма\n",
    " - main_director - основной режиссер\n",
    " - main_genre - основной жанр\n",
    " - ratio_budget_support - доля господдержки в бюджете фильма\n",
    " - payback - окупаемость"
   ]
  },
  {
   "cell_type": "markdown",
   "metadata": {
    "id": "6t4EukPLgFyV"
   },
   "source": [
    "## ИССЛЕДОВАТЕЛЬСКИЙ АНАЛИЗ ДАННЫХ\n"
   ]
  },
  {
   "cell_type": "markdown",
   "metadata": {},
   "source": [
    "### Сборы по годам"
   ]
  },
  {
   "cell_type": "markdown",
   "metadata": {
    "id": "vAH8WCzugFyV"
   },
   "source": [
    "Посмотрим сколько фильмов выходило в прокат каждый год. \n",
    "\n",
    "Данные о сборах в кинотеатрах известны не для всех фильмов. Посчитаем какую долю составляют фильмы с указанной информацией о прокате в кинотеатрах."
   ]
  },
  {
   "cell_type": "code",
   "execution_count": 69,
   "metadata": {
    "id": "ABeV47y7gFyW"
   },
   "outputs": [
    {
     "data": {
      "text/plain": [
       "<AxesSubplot:title={'center':'Количество фильмов по годам'}, xlabel='год премьеры фильма', ylabel='количество фильмов'>"
      ]
     },
     "execution_count": 69,
     "metadata": {},
     "output_type": "execute_result"
    },
    {
     "data": {
      "image/png": "[encoded data removed]",
      "text/plain": [
       "<Figure size 720x360 with 1 Axes>"
      ]
     },
     "metadata": {
      "needs_background": "light"
     },
     "output_type": "display_data"
    }
   ],
   "source": [
    "#посмотрим на количество фильмов по годам\n",
    "data.groupby('year_show_start')[['title']].count().plot(\n",
    "    xlabel='год премьеры фильма', \n",
    "    ylabel='количество фильмов',\n",
    "    title='Количество фильмов по годам',\n",
    "    kind='bar',\n",
    "    figsize=(10,5)\n",
    ")"
   ]
  },
  {
   "cell_type": "code",
   "execution_count": 70,
   "metadata": {},
   "outputs": [],
   "source": [
    "#сохраним эти данные\n",
    "data_year_title = data.groupby('year_show_start')[['title']].count()"
   ]
  },
  {
   "cell_type": "code",
   "execution_count": 71,
   "metadata": {},
   "outputs": [
    {
     "data": {
      "text/plain": [
       "<AxesSubplot:title={'center':'Количество данных о сборах по годам'}, xlabel='год премьеры фильма', ylabel='количество данных о сборах'>"
      ]
     },
     "execution_count": 71,
     "metadata": {},
     "output_type": "execute_result"
    },
    {
     "data": {
      "image/png": "[encoded data removed]",
      "text/plain": [
       "<Figure size 720x360 with 1 Axes>"
      ]
     },
     "metadata": {
      "needs_background": "light"
     },
     "output_type": "display_data"
    }
   ],
   "source": [
    "#посмотрим на количество данных о сборах по годам\n",
    "data.groupby('year_show_start')[['box_office']].count().plot(\n",
    "    xlabel='год премьеры фильма', \n",
    "    ylabel='количество данных о сборах',\n",
    "    title='Количество данных о сборах по годам',\n",
    "    kind='bar',\n",
    "    figsize=(10,5)\n",
    ")    "
   ]
  },
  {
   "cell_type": "markdown",
   "metadata": {},
   "source": [
    "Помним, что у нас много пропусков в данных о сборах. Посчитаем какую долю составляют фильмы с указанной информацией о прокате в кинотеатрах. Проанализируем как эта доля менялась по годам."
   ]
  },
  {
   "cell_type": "code",
   "execution_count": 72,
   "metadata": {},
   "outputs": [],
   "source": [
    "ratio_year = data.groupby('year_show_start')[['title', 'box_office']].count()"
   ]
  },
  {
   "cell_type": "code",
   "execution_count": 73,
   "metadata": {},
   "outputs": [],
   "source": [
    "#найдем долю\n",
    "ratio_year['ratio'] = ratio_year['box_office']/ratio_year['title']"
   ]
  },
  {
   "cell_type": "code",
   "execution_count": 74,
   "metadata": {},
   "outputs": [
    {
     "data": {
      "text/plain": [
       "<AxesSubplot:title={'center':'Доля фильмов с данными о сборах по годам'}, xlabel='год премьеры фильма', ylabel='доля фильмов'>"
      ]
     },
     "execution_count": 74,
     "metadata": {},
     "output_type": "execute_result"
    },
    {
     "data": {
      "image/png": "[encoded data removed]",
      "text/plain": [
       "<Figure size 720x360 with 1 Axes>"
      ]
     },
     "metadata": {
      "needs_background": "light"
     },
     "output_type": "display_data"
    }
   ],
   "source": [
    "ratio_year.plot(\n",
    "    y='ratio',\n",
    "    xlabel='год премьеры фильма', \n",
    "    ylabel='доля фильмов',\n",
    "    title='Доля фильмов с данными о сборах по годам',\n",
    "    kind='bar',\n",
    "    figsize=(10,5)\n",
    ") "
   ]
  },
  {
   "cell_type": "code",
   "execution_count": 75,
   "metadata": {},
   "outputs": [
    {
     "data": {
      "text/html": [
       "<div>\n",
       "<style scoped>\n",
       "    .dataframe tbody tr th:only-of-type {\n",
       "        vertical-align: middle;\n",
       "    }\n",
       "\n",
       "    .dataframe tbody tr th {\n",
       "        vertical-align: top;\n",
       "    }\n",
       "\n",
       "    .dataframe thead th {\n",
       "        text-align: right;\n",
       "    }\n",
       "</style>\n",
       "<table border=\"1\" class=\"dataframe\">\n",
       "  <thead>\n",
       "    <tr style=\"text-align: right;\">\n",
       "      <th></th>\n",
       "      <th>title</th>\n",
       "      <th>box_office</th>\n",
       "      <th>ratio</th>\n",
       "    </tr>\n",
       "    <tr>\n",
       "      <th>year_show_start</th>\n",
       "      <th></th>\n",
       "      <th></th>\n",
       "      <th></th>\n",
       "    </tr>\n",
       "  </thead>\n",
       "  <tbody>\n",
       "    <tr>\n",
       "      <th>2010</th>\n",
       "      <td>768</td>\n",
       "      <td>105</td>\n",
       "      <td>0.137</td>\n",
       "    </tr>\n",
       "    <tr>\n",
       "      <th>2011</th>\n",
       "      <td>484</td>\n",
       "      <td>109</td>\n",
       "      <td>0.225</td>\n",
       "    </tr>\n",
       "    <tr>\n",
       "      <th>2012</th>\n",
       "      <td>525</td>\n",
       "      <td>128</td>\n",
       "      <td>0.244</td>\n",
       "    </tr>\n",
       "    <tr>\n",
       "      <th>2013</th>\n",
       "      <td>592</td>\n",
       "      <td>184</td>\n",
       "      <td>0.311</td>\n",
       "    </tr>\n",
       "    <tr>\n",
       "      <th>2014</th>\n",
       "      <td>740</td>\n",
       "      <td>279</td>\n",
       "      <td>0.377</td>\n",
       "    </tr>\n",
       "    <tr>\n",
       "      <th>2015</th>\n",
       "      <td>674</td>\n",
       "      <td>465</td>\n",
       "      <td>0.690</td>\n",
       "    </tr>\n",
       "    <tr>\n",
       "      <th>2016</th>\n",
       "      <td>746</td>\n",
       "      <td>526</td>\n",
       "      <td>0.705</td>\n",
       "    </tr>\n",
       "    <tr>\n",
       "      <th>2017</th>\n",
       "      <td>498</td>\n",
       "      <td>357</td>\n",
       "      <td>0.717</td>\n",
       "    </tr>\n",
       "    <tr>\n",
       "      <th>2018</th>\n",
       "      <td>876</td>\n",
       "      <td>475</td>\n",
       "      <td>0.542</td>\n",
       "    </tr>\n",
       "    <tr>\n",
       "      <th>2019</th>\n",
       "      <td>899</td>\n",
       "      <td>530</td>\n",
       "      <td>0.590</td>\n",
       "    </tr>\n",
       "  </tbody>\n",
       "</table>\n",
       "</div>"
      ],
      "text/plain": [
       "                 title  box_office  ratio\n",
       "year_show_start                          \n",
       "2010               768         105  0.137\n",
       "2011               484         109  0.225\n",
       "2012               525         128  0.244\n",
       "2013               592         184  0.311\n",
       "2014               740         279  0.377\n",
       "2015               674         465  0.690\n",
       "2016               746         526  0.705\n",
       "2017               498         357  0.717\n",
       "2018               876         475  0.542\n",
       "2019               899         530  0.590"
      ]
     },
     "execution_count": 75,
     "metadata": {},
     "output_type": "execute_result"
    }
   ],
   "source": [
    "ratio_year.head(10)"
   ]
  },
  {
   "cell_type": "markdown",
   "metadata": {},
   "source": [
    "О фильмах 2015-2017 года имеется более полная информация о сборах в кинотеатрах (более 70%), чем за все предыдущие годы.\n",
    "Связано это с внедрением ЕАИС и подлючением к ним кинотеатров в 2015 году.\n",
    "В 2018 году произошло резкое снижение (на 15%) полноты данных о сборах."
   ]
  },
  {
   "cell_type": "markdown",
   "metadata": {
    "id": "BEOdcIrIgFyW"
   },
   "source": [
    "Изучим как менялась динамика проката по годам"
   ]
  },
  {
   "cell_type": "code",
   "execution_count": 76,
   "metadata": {},
   "outputs": [
    {
     "data": {
      "text/html": [
       "<div>\n",
       "<style scoped>\n",
       "    .dataframe tbody tr th:only-of-type {\n",
       "        vertical-align: middle;\n",
       "    }\n",
       "\n",
       "    .dataframe tbody tr th {\n",
       "        vertical-align: top;\n",
       "    }\n",
       "\n",
       "    .dataframe thead th {\n",
       "        text-align: right;\n",
       "    }\n",
       "</style>\n",
       "<table border=\"1\" class=\"dataframe\">\n",
       "  <thead>\n",
       "    <tr style=\"text-align: right;\">\n",
       "      <th></th>\n",
       "      <th>box_office</th>\n",
       "    </tr>\n",
       "    <tr>\n",
       "      <th>year_show_start</th>\n",
       "      <th></th>\n",
       "    </tr>\n",
       "  </thead>\n",
       "  <tbody>\n",
       "    <tr>\n",
       "      <th>2010</th>\n",
       "      <td>2428654.000</td>\n",
       "    </tr>\n",
       "    <tr>\n",
       "      <th>2011</th>\n",
       "      <td>14102765.000</td>\n",
       "    </tr>\n",
       "    <tr>\n",
       "      <th>2012</th>\n",
       "      <td>6955423.000</td>\n",
       "    </tr>\n",
       "    <tr>\n",
       "      <th>2013</th>\n",
       "      <td>29799706.200</td>\n",
       "    </tr>\n",
       "    <tr>\n",
       "      <th>2014</th>\n",
       "      <td>7444951859.200</td>\n",
       "    </tr>\n",
       "    <tr>\n",
       "      <th>2015</th>\n",
       "      <td>39497365196.400</td>\n",
       "    </tr>\n",
       "    <tr>\n",
       "      <th>2016</th>\n",
       "      <td>47866299741.910</td>\n",
       "    </tr>\n",
       "    <tr>\n",
       "      <th>2017</th>\n",
       "      <td>48563707217.510</td>\n",
       "    </tr>\n",
       "    <tr>\n",
       "      <th>2018</th>\n",
       "      <td>49668403134.320</td>\n",
       "    </tr>\n",
       "    <tr>\n",
       "      <th>2019</th>\n",
       "      <td>48425708779.590</td>\n",
       "    </tr>\n",
       "  </tbody>\n",
       "</table>\n",
       "</div>"
      ],
      "text/plain": [
       "                     box_office\n",
       "year_show_start                \n",
       "2010                2428654.000\n",
       "2011               14102765.000\n",
       "2012                6955423.000\n",
       "2013               29799706.200\n",
       "2014             7444951859.200\n",
       "2015            39497365196.400\n",
       "2016            47866299741.910\n",
       "2017            48563707217.510\n",
       "2018            49668403134.320\n",
       "2019            48425708779.590"
      ]
     },
     "execution_count": 76,
     "metadata": {},
     "output_type": "execute_result"
    }
   ],
   "source": [
    "data.groupby('year_show_start')[['box_office']].sum()"
   ]
  },
  {
   "cell_type": "code",
   "execution_count": 77,
   "metadata": {},
   "outputs": [
    {
     "data": {
      "text/plain": [
       "<AxesSubplot:title={'center':'Сборы по годам'}, xlabel='год премьеры фильма', ylabel='Сборы, руб'>"
      ]
     },
     "execution_count": 77,
     "metadata": {},
     "output_type": "execute_result"
    },
    {
     "data": {
      "image/png": "[encoded data removed]",
      "text/plain": [
       "<Figure size 720x360 with 1 Axes>"
      ]
     },
     "metadata": {
      "needs_background": "light"
     },
     "output_type": "display_data"
    }
   ],
   "source": [
    "data.groupby('year_show_start')[['box_office']].sum().plot(\n",
    "    xlabel='год премьеры фильма', \n",
    "    ylabel='Сборы, руб',\n",
    "    title='Сборы по годам',\n",
    "    kind='bar',\n",
    "    figsize=(10,5)\n",
    ")  "
   ]
  },
  {
   "cell_type": "markdown",
   "metadata": {},
   "source": [
    "Максимальная сумма сборов была в 2018 году, минимальная в 2010, но выглядит неправдоподобно, возможно есть проблемы с данным до 2015 года.\n",
    "Посмотрим среднее и медианное значение."
   ]
  },
  {
   "cell_type": "code",
   "execution_count": 78,
   "metadata": {
    "id": "jmp-rgg9gFyY"
   },
   "outputs": [
    {
     "data": {
      "text/html": [
       "<div>\n",
       "<style scoped>\n",
       "    .dataframe tbody tr th:only-of-type {\n",
       "        vertical-align: middle;\n",
       "    }\n",
       "\n",
       "    .dataframe tbody tr th {\n",
       "        vertical-align: top;\n",
       "    }\n",
       "\n",
       "    .dataframe thead tr th {\n",
       "        text-align: left;\n",
       "    }\n",
       "\n",
       "    .dataframe thead tr:last-of-type th {\n",
       "        text-align: right;\n",
       "    }\n",
       "</style>\n",
       "<table border=\"1\" class=\"dataframe\">\n",
       "  <thead>\n",
       "    <tr>\n",
       "      <th></th>\n",
       "      <th>count</th>\n",
       "      <th>mean</th>\n",
       "      <th>median</th>\n",
       "    </tr>\n",
       "    <tr>\n",
       "      <th></th>\n",
       "      <th>box_office</th>\n",
       "      <th>box_office</th>\n",
       "      <th>box_office</th>\n",
       "    </tr>\n",
       "    <tr>\n",
       "      <th>year_show_start</th>\n",
       "      <th></th>\n",
       "      <th></th>\n",
       "      <th></th>\n",
       "    </tr>\n",
       "  </thead>\n",
       "  <tbody>\n",
       "    <tr>\n",
       "      <th>2010</th>\n",
       "      <td>105</td>\n",
       "      <td>23130.038</td>\n",
       "      <td>1700.000</td>\n",
       "    </tr>\n",
       "    <tr>\n",
       "      <th>2011</th>\n",
       "      <td>109</td>\n",
       "      <td>129383.165</td>\n",
       "      <td>3000.000</td>\n",
       "    </tr>\n",
       "    <tr>\n",
       "      <th>2012</th>\n",
       "      <td>128</td>\n",
       "      <td>54339.242</td>\n",
       "      <td>5660.000</td>\n",
       "    </tr>\n",
       "    <tr>\n",
       "      <th>2013</th>\n",
       "      <td>184</td>\n",
       "      <td>161954.925</td>\n",
       "      <td>3522.500</td>\n",
       "    </tr>\n",
       "    <tr>\n",
       "      <th>2014</th>\n",
       "      <td>279</td>\n",
       "      <td>26684415.266</td>\n",
       "      <td>18160.000</td>\n",
       "    </tr>\n",
       "    <tr>\n",
       "      <th>2015</th>\n",
       "      <td>465</td>\n",
       "      <td>84940570.315</td>\n",
       "      <td>4920933.000</td>\n",
       "    </tr>\n",
       "    <tr>\n",
       "      <th>2016</th>\n",
       "      <td>526</td>\n",
       "      <td>91000569.852</td>\n",
       "      <td>3846679.410</td>\n",
       "    </tr>\n",
       "    <tr>\n",
       "      <th>2017</th>\n",
       "      <td>357</td>\n",
       "      <td>136032793.326</td>\n",
       "      <td>9968340.000</td>\n",
       "    </tr>\n",
       "    <tr>\n",
       "      <th>2018</th>\n",
       "      <td>475</td>\n",
       "      <td>104565059.230</td>\n",
       "      <td>8891102.210</td>\n",
       "    </tr>\n",
       "    <tr>\n",
       "      <th>2019</th>\n",
       "      <td>530</td>\n",
       "      <td>91369261.848</td>\n",
       "      <td>4627798.345</td>\n",
       "    </tr>\n",
       "  </tbody>\n",
       "</table>\n",
       "</div>"
      ],
      "text/plain": [
       "                     count          mean      median\n",
       "                box_office    box_office  box_office\n",
       "year_show_start                                     \n",
       "2010                   105     23130.038    1700.000\n",
       "2011                   109    129383.165    3000.000\n",
       "2012                   128     54339.242    5660.000\n",
       "2013                   184    161954.925    3522.500\n",
       "2014                   279  26684415.266   18160.000\n",
       "2015                   465  84940570.315 4920933.000\n",
       "2016                   526  91000569.852 3846679.410\n",
       "2017                   357 136032793.326 9968340.000\n",
       "2018                   475 104565059.230 8891102.210\n",
       "2019                   530  91369261.848 4627798.345"
      ]
     },
     "execution_count": 78,
     "metadata": {},
     "output_type": "execute_result"
    }
   ],
   "source": [
    "data.pivot_table(\n",
    "    index='year_show_start', \n",
    "    values='box_office', \n",
    "    aggfunc=['count','mean', 'median']\n",
    ")"
   ]
  },
  {
   "cell_type": "markdown",
   "metadata": {},
   "source": [
    "Подтверждаются проблемы с данными о сборах до 2015 года. Медианное и среднее значение неправдоподобные. Средние значения сильно отличаются от медианных по всем годам, значит есть выбросы.\n",
    "\n",
    "Визуализируем данные за 2010"
   ]
  },
  {
   "cell_type": "code",
   "execution_count": 79,
   "metadata": {},
   "outputs": [
    {
     "data": {
      "text/plain": [
       "<AxesSubplot:>"
      ]
     },
     "execution_count": 79,
     "metadata": {},
     "output_type": "execute_result"
    },
    {
     "data": {
      "image/png": "[encoded data removed]",
      "text/plain": [
       "<Figure size 432x288 with 1 Axes>"
      ]
     },
     "metadata": {
      "needs_background": "light"
     },
     "output_type": "display_data"
    }
   ],
   "source": [
    "data[(data['year_show_start']==2010)]['box_office'].hist(bins=100, range=(0, 25000))"
   ]
  },
  {
   "cell_type": "markdown",
   "metadata": {},
   "source": [
    "Очень много значений у нуля. Посмотрим поближе"
   ]
  },
  {
   "cell_type": "code",
   "execution_count": 80,
   "metadata": {},
   "outputs": [
    {
     "data": {
      "text/html": [
       "<div>\n",
       "<style scoped>\n",
       "    .dataframe tbody tr th:only-of-type {\n",
       "        vertical-align: middle;\n",
       "    }\n",
       "\n",
       "    .dataframe tbody tr th {\n",
       "        vertical-align: top;\n",
       "    }\n",
       "\n",
       "    .dataframe thead th {\n",
       "        text-align: right;\n",
       "    }\n",
       "</style>\n",
       "<table border=\"1\" class=\"dataframe\">\n",
       "  <thead>\n",
       "    <tr style=\"text-align: right;\">\n",
       "      <th></th>\n",
       "      <th>title</th>\n",
       "      <th>puNumber</th>\n",
       "      <th>show_start_date</th>\n",
       "      <th>type</th>\n",
       "      <th>film_studio</th>\n",
       "      <th>production_country</th>\n",
       "      <th>director</th>\n",
       "      <th>producer</th>\n",
       "      <th>age_restriction</th>\n",
       "      <th>refundable_support</th>\n",
       "      <th>...</th>\n",
       "      <th>financing_source</th>\n",
       "      <th>ratings</th>\n",
       "      <th>genres</th>\n",
       "      <th>box_office</th>\n",
       "      <th>sum_support</th>\n",
       "      <th>year_show_start</th>\n",
       "      <th>main_director</th>\n",
       "      <th>main_genre</th>\n",
       "      <th>ratio_budget_support</th>\n",
       "      <th>payback</th>\n",
       "    </tr>\n",
       "  </thead>\n",
       "  <tbody>\n",
       "    <tr>\n",
       "      <th>3790</th>\n",
       "      <td>Легион_.(Фильм содержит сцены ужасов, насилия ...</td>\n",
       "      <td>121000310.000</td>\n",
       "      <td>2010-01-25 12:00:00+00:00</td>\n",
       "      <td>Художественный</td>\n",
       "      <td>Болд Филмз</td>\n",
       "      <td>США</td>\n",
       "      <td>Скотт Стюарт</td>\n",
       "      <td>Дэвид Ланкастер, Майкл Литвак</td>\n",
       "      <td>«18+» - запрещено для детей</td>\n",
       "      <td>NaN</td>\n",
       "      <td>...</td>\n",
       "      <td>NaN</td>\n",
       "      <td>NaN</td>\n",
       "      <td>unknown</td>\n",
       "      <td>560.000</td>\n",
       "      <td>NaN</td>\n",
       "      <td>2010</td>\n",
       "      <td>Скотт Стюарт</td>\n",
       "      <td>unknown</td>\n",
       "      <td>NaN</td>\n",
       "      <td>NaN</td>\n",
       "    </tr>\n",
       "    <tr>\n",
       "      <th>3802</th>\n",
       "      <td>Золотое сечение</td>\n",
       "      <td>111000610.000</td>\n",
       "      <td>2010-01-26 12:00:00+00:00</td>\n",
       "      <td>Художественный</td>\n",
       "      <td>ОАО \"ТПО \"Санкт-Петербургская студия документа...</td>\n",
       "      <td>Россия</td>\n",
       "      <td>С.Дебижев</td>\n",
       "      <td>А.Тельнов, С.Федотов</td>\n",
       "      <td>«16+» - для детей старше 16 лет</td>\n",
       "      <td>NaN</td>\n",
       "      <td>...</td>\n",
       "      <td>NaN</td>\n",
       "      <td>4.900</td>\n",
       "      <td>приключения</td>\n",
       "      <td>760.000</td>\n",
       "      <td>NaN</td>\n",
       "      <td>2010</td>\n",
       "      <td>С.Дебижев</td>\n",
       "      <td>приключения</td>\n",
       "      <td>NaN</td>\n",
       "      <td>NaN</td>\n",
       "    </tr>\n",
       "    <tr>\n",
       "      <th>3827</th>\n",
       "      <td>Москва, я люблю тебя</td>\n",
       "      <td>111001610.000</td>\n",
       "      <td>2010-02-09 12:00:00+00:00</td>\n",
       "      <td>Художественный</td>\n",
       "      <td>ООО \"БФГ-МЕДИА-ПРОДАКШН\", ООО \"Продюсерская ко...</td>\n",
       "      <td>Россия</td>\n",
       "      <td>Г.Михалков, Г.Натансон, В.Сторожева, А.Касатки...</td>\n",
       "      <td>Ю.Глоцер, Ю.Гинзбург</td>\n",
       "      <td>«16+» - для детей старше 16 лет</td>\n",
       "      <td>NaN</td>\n",
       "      <td>...</td>\n",
       "      <td>NaN</td>\n",
       "      <td>4.500</td>\n",
       "      <td>мелодрама,комедия</td>\n",
       "      <td>0.000</td>\n",
       "      <td>NaN</td>\n",
       "      <td>2010</td>\n",
       "      <td>Г.Михалков</td>\n",
       "      <td>мелодрама</td>\n",
       "      <td>NaN</td>\n",
       "      <td>NaN</td>\n",
       "    </tr>\n",
       "    <tr>\n",
       "      <th>3905</th>\n",
       "      <td>Неудержимые.</td>\n",
       "      <td>121013110.000</td>\n",
       "      <td>2010-08-02 12:00:00+00:00</td>\n",
       "      <td>Художественный</td>\n",
       "      <td>Миллениум Филмз, Ню Имейдж Филмз, Рог Марбл</td>\n",
       "      <td>США</td>\n",
       "      <td>Сильвестр Сталлоне</td>\n",
       "      <td>Кевин Кинг, Эви Лернер, Джон Томпсон, Кевин Ки...</td>\n",
       "      <td>«18+» - запрещено для детей</td>\n",
       "      <td>NaN</td>\n",
       "      <td>...</td>\n",
       "      <td>NaN</td>\n",
       "      <td>6.900</td>\n",
       "      <td>боевик,приключения,триллер</td>\n",
       "      <td>350.000</td>\n",
       "      <td>NaN</td>\n",
       "      <td>2010</td>\n",
       "      <td>Сильвестр Сталлоне</td>\n",
       "      <td>боевик</td>\n",
       "      <td>NaN</td>\n",
       "      <td>NaN</td>\n",
       "    </tr>\n",
       "    <tr>\n",
       "      <th>3906</th>\n",
       "      <td>Больше, чем друг</td>\n",
       "      <td>121013210.000</td>\n",
       "      <td>2010-08-02 12:00:00+00:00</td>\n",
       "      <td>Художественный</td>\n",
       "      <td>Бон Файд Прдакшнз, Мандат Пикчерз</td>\n",
       "      <td>США</td>\n",
       "      <td>Джош Гордон, Уилл Спек</td>\n",
       "      <td>Алберт Бергер, Алан Лоб, Брэдли Томас</td>\n",
       "      <td>«16+» - для детей старше 16 лет</td>\n",
       "      <td>NaN</td>\n",
       "      <td>...</td>\n",
       "      <td>NaN</td>\n",
       "      <td>6.700</td>\n",
       "      <td>драма,мелодрама,комедия</td>\n",
       "      <td>130.000</td>\n",
       "      <td>NaN</td>\n",
       "      <td>2010</td>\n",
       "      <td>Джош Гордон</td>\n",
       "      <td>драма</td>\n",
       "      <td>NaN</td>\n",
       "      <td>NaN</td>\n",
       "    </tr>\n",
       "    <tr>\n",
       "      <th>3917</th>\n",
       "      <td>22 пули: Бессмертный</td>\n",
       "      <td>121006410.000</td>\n",
       "      <td>2010-04-01 12:00:00+00:00</td>\n",
       "      <td>Художественный</td>\n",
       "      <td>Еуроп Корпорейшн</td>\n",
       "      <td>Франция</td>\n",
       "      <td>Ришар Бери</td>\n",
       "      <td>Люк Бессон, Дидье Хорау, Пьер-Анж Ле Погам</td>\n",
       "      <td>«16+» - для детей старше 16 лет</td>\n",
       "      <td>NaN</td>\n",
       "      <td>...</td>\n",
       "      <td>NaN</td>\n",
       "      <td>7.100</td>\n",
       "      <td>боевик,драма,криминал</td>\n",
       "      <td>75.000</td>\n",
       "      <td>NaN</td>\n",
       "      <td>2010</td>\n",
       "      <td>Ришар Бери</td>\n",
       "      <td>боевик</td>\n",
       "      <td>NaN</td>\n",
       "      <td>NaN</td>\n",
       "    </tr>\n",
       "    <tr>\n",
       "      <th>3921</th>\n",
       "      <td>Принц Персии: Пески времени</td>\n",
       "      <td>121007010.000</td>\n",
       "      <td>2010-05-25 12:00:00+00:00</td>\n",
       "      <td>Художественный</td>\n",
       "      <td>Уолт Дисней Пикчерз, Джерри Брукхаймер Филмз</td>\n",
       "      <td>США</td>\n",
       "      <td>Майкл Ньюэлл</td>\n",
       "      <td>Джерри Брукхаймер</td>\n",
       "      <td>«12+» - для детей старше 12 лет</td>\n",
       "      <td>NaN</td>\n",
       "      <td>...</td>\n",
       "      <td>NaN</td>\n",
       "      <td>7.300</td>\n",
       "      <td>фэнтези,боевик,приключения</td>\n",
       "      <td>895.000</td>\n",
       "      <td>NaN</td>\n",
       "      <td>2010</td>\n",
       "      <td>Майкл Ньюэлл</td>\n",
       "      <td>фэнтези</td>\n",
       "      <td>NaN</td>\n",
       "      <td>NaN</td>\n",
       "    </tr>\n",
       "    <tr>\n",
       "      <th>3994</th>\n",
       "      <td>Стать Джоном Ленноном</td>\n",
       "      <td>121008610.000</td>\n",
       "      <td>2010-05-05 12:00:00+00:00</td>\n",
       "      <td>Художественный</td>\n",
       "      <td>Авер Медиа, Экосси Филмз, Филм 4, Норс Вест Ви...</td>\n",
       "      <td>Канада-Великобритания</td>\n",
       "      <td>Сэм Тейлор Вуд</td>\n",
       "      <td>Роберт Бернштейн, Кевин Лоудер, Дуглас Рэй</td>\n",
       "      <td>«16+» - для детей старше 16 лет</td>\n",
       "      <td>NaN</td>\n",
       "      <td>...</td>\n",
       "      <td>NaN</td>\n",
       "      <td>7.500</td>\n",
       "      <td>драма,мелодрама,биография</td>\n",
       "      <td>0.000</td>\n",
       "      <td>NaN</td>\n",
       "      <td>2010</td>\n",
       "      <td>Сэм Тейлор Вуд</td>\n",
       "      <td>драма</td>\n",
       "      <td>NaN</td>\n",
       "      <td>NaN</td>\n",
       "    </tr>\n",
       "    <tr>\n",
       "      <th>4063</th>\n",
       "      <td>Ловец ветра</td>\n",
       "      <td>111009310.000</td>\n",
       "      <td>2010-10-21 12:00:00+00:00</td>\n",
       "      <td>Художественный</td>\n",
       "      <td>ГУП РБ Киностудия \"Башкортостан\"</td>\n",
       "      <td>Россия</td>\n",
       "      <td>А.Юмагулов</td>\n",
       "      <td>А.Юнусов</td>\n",
       "      <td>«16+» - для детей старше 16 лет</td>\n",
       "      <td>NaN</td>\n",
       "      <td>...</td>\n",
       "      <td>NaN</td>\n",
       "      <td>7.500</td>\n",
       "      <td>драма,комедия</td>\n",
       "      <td>100.000</td>\n",
       "      <td>NaN</td>\n",
       "      <td>2010</td>\n",
       "      <td>А.Юмагулов</td>\n",
       "      <td>драма</td>\n",
       "      <td>NaN</td>\n",
       "      <td>NaN</td>\n",
       "    </tr>\n",
       "    <tr>\n",
       "      <th>4066</th>\n",
       "      <td>Дерево.</td>\n",
       "      <td>121020210.000</td>\n",
       "      <td>2010-11-03 12:00:00+00:00</td>\n",
       "      <td>Художественный</td>\n",
       "      <td>Ле Фильм Дю Позьон, Тэйлор Медиа, Скрин Ауастр...</td>\n",
       "      <td>Франция-Австралия</td>\n",
       "      <td>Жюли Бертучелли</td>\n",
       "      <td>NaN</td>\n",
       "      <td>«16+» - для детей старше 16 лет</td>\n",
       "      <td>NaN</td>\n",
       "      <td>...</td>\n",
       "      <td>NaN</td>\n",
       "      <td>NaN</td>\n",
       "      <td>unknown</td>\n",
       "      <td>0.000</td>\n",
       "      <td>NaN</td>\n",
       "      <td>2010</td>\n",
       "      <td>Жюли Бертучелли</td>\n",
       "      <td>unknown</td>\n",
       "      <td>NaN</td>\n",
       "      <td>NaN</td>\n",
       "    </tr>\n",
       "    <tr>\n",
       "      <th>4125</th>\n",
       "      <td>Союз зверей /По книге Эрика Кастнера/</td>\n",
       "      <td>224022410.000</td>\n",
       "      <td>2010-11-18 12:00:00+00:00</td>\n",
       "      <td>Анимационный</td>\n",
       "      <td>Эмбиент ИНтертейнмент, Константин Филм, Уайт Х...</td>\n",
       "      <td>Германия</td>\n",
       "      <td>Рейнхард Клоос, Хольгер Таппе</td>\n",
       "      <td>Рейнхард Клоос, Мартин Московиц, Хольгер Таппе...</td>\n",
       "      <td>«0+» - для любой зрительской аудитории</td>\n",
       "      <td>NaN</td>\n",
       "      <td>...</td>\n",
       "      <td>NaN</td>\n",
       "      <td>5.600</td>\n",
       "      <td>мультфильм,комедия,приключения</td>\n",
       "      <td>400.000</td>\n",
       "      <td>NaN</td>\n",
       "      <td>2010</td>\n",
       "      <td>Рейнхард Клоос</td>\n",
       "      <td>мультфильм</td>\n",
       "      <td>NaN</td>\n",
       "      <td>NaN</td>\n",
       "    </tr>\n",
       "    <tr>\n",
       "      <th>4134</th>\n",
       "      <td>Дочь якудзы</td>\n",
       "      <td>111007710.000</td>\n",
       "      <td>2010-08-19 12:00:00+00:00</td>\n",
       "      <td>Художественный</td>\n",
       "      <td>ООО \"Кинокомпания \"СТВ\" при участии \"Kinofabri...</td>\n",
       "      <td>Россия-Германия</td>\n",
       "      <td>С.Бодров-старший, Г.Омарова</td>\n",
       "      <td>С.Сельянов, С.Бодров-старший</td>\n",
       "      <td>«16+» - для детей старше 16 лет</td>\n",
       "      <td>NaN</td>\n",
       "      <td>...</td>\n",
       "      <td>NaN</td>\n",
       "      <td>5.100</td>\n",
       "      <td>комедия</td>\n",
       "      <td>225.000</td>\n",
       "      <td>NaN</td>\n",
       "      <td>2010</td>\n",
       "      <td>С.Бодров-старший</td>\n",
       "      <td>комедия</td>\n",
       "      <td>NaN</td>\n",
       "      <td>NaN</td>\n",
       "    </tr>\n",
       "    <tr>\n",
       "      <th>4164</th>\n",
       "      <td>Жизнь за гранью</td>\n",
       "      <td>121022210.000</td>\n",
       "      <td>2010-11-29 12:00:00+00:00</td>\n",
       "      <td>Художественный</td>\n",
       "      <td>Харбор Лайт Интертейнмент, Леуджу Продакшнз, П...</td>\n",
       "      <td>США</td>\n",
       "      <td>Агнешка Войтович-Восло</td>\n",
       "      <td>Брэд Майкл Гилберт, Билл Перкинс, Селин Рэттрэй</td>\n",
       "      <td>«16+» - для детей старше 16 лет</td>\n",
       "      <td>NaN</td>\n",
       "      <td>...</td>\n",
       "      <td>NaN</td>\n",
       "      <td>6.600</td>\n",
       "      <td>триллер,драма,детектив</td>\n",
       "      <td>550.000</td>\n",
       "      <td>NaN</td>\n",
       "      <td>2010</td>\n",
       "      <td>Агнешка Войтович-Восло</td>\n",
       "      <td>триллер</td>\n",
       "      <td>NaN</td>\n",
       "      <td>NaN</td>\n",
       "    </tr>\n",
       "    <tr>\n",
       "      <th>4203</th>\n",
       "      <td>На игре 2. Новый уровень</td>\n",
       "      <td>111003810.000</td>\n",
       "      <td>2010-03-30 12:00:00+00:00</td>\n",
       "      <td>Художественный</td>\n",
       "      <td>ООО \"КарОван Продакшн\"</td>\n",
       "      <td>Россия</td>\n",
       "      <td>П.Санаев</td>\n",
       "      <td>Л.Огородников, О.Андреев</td>\n",
       "      <td>«16+» - для детей старше 16 лет</td>\n",
       "      <td>NaN</td>\n",
       "      <td>...</td>\n",
       "      <td>NaN</td>\n",
       "      <td>5.800</td>\n",
       "      <td>боевик,фантастика,приключения</td>\n",
       "      <td>660.000</td>\n",
       "      <td>NaN</td>\n",
       "      <td>2010</td>\n",
       "      <td>П.Санаев</td>\n",
       "      <td>боевик</td>\n",
       "      <td>NaN</td>\n",
       "      <td>NaN</td>\n",
       "    </tr>\n",
       "    <tr>\n",
       "      <th>4208</th>\n",
       "      <td>Утомленные солнцем 2: Предстояние</td>\n",
       "      <td>111004210.000</td>\n",
       "      <td>2010-04-05 12:00:00+00:00</td>\n",
       "      <td>Художественный</td>\n",
       "      <td>АНО \"Золотой Орёл\"</td>\n",
       "      <td>Россия</td>\n",
       "      <td>Н.Михалков</td>\n",
       "      <td>Н.Михалков, Л.Верещагин</td>\n",
       "      <td>«16+» - для детей старше 16 лет</td>\n",
       "      <td>NaN</td>\n",
       "      <td>...</td>\n",
       "      <td>NaN</td>\n",
       "      <td>3.800</td>\n",
       "      <td>драма,военный</td>\n",
       "      <td>520.000</td>\n",
       "      <td>NaN</td>\n",
       "      <td>2010</td>\n",
       "      <td>Н.Михалков</td>\n",
       "      <td>драма</td>\n",
       "      <td>NaN</td>\n",
       "      <td>NaN</td>\n",
       "    </tr>\n",
       "    <tr>\n",
       "      <th>4220</th>\n",
       "      <td>Жить.</td>\n",
       "      <td>111008110.000</td>\n",
       "      <td>2010-08-30 12:00:00+00:00</td>\n",
       "      <td>Художественный</td>\n",
       "      <td>ООО \"ТПО \"РОК\"</td>\n",
       "      <td>Россия</td>\n",
       "      <td>Ю.Быков</td>\n",
       "      <td>А.Учитель</td>\n",
       "      <td>«16+» - для детей старше 16 лет</td>\n",
       "      <td>NaN</td>\n",
       "      <td>...</td>\n",
       "      <td>NaN</td>\n",
       "      <td>7.500</td>\n",
       "      <td>драма</td>\n",
       "      <td>250.000</td>\n",
       "      <td>NaN</td>\n",
       "      <td>2010</td>\n",
       "      <td>Ю.Быков</td>\n",
       "      <td>драма</td>\n",
       "      <td>NaN</td>\n",
       "      <td>NaN</td>\n",
       "    </tr>\n",
       "    <tr>\n",
       "      <th>4245</th>\n",
       "      <td>Ешь, молись, люби /По книге Элизабет Гилберт/</td>\n",
       "      <td>121017310.000</td>\n",
       "      <td>2010-10-04 12:00:00+00:00</td>\n",
       "      <td>Художественный</td>\n",
       "      <td>Коламбиа Пикчерз, План Би Интертейнмент, Индия...</td>\n",
       "      <td>США</td>\n",
       "      <td>Райан Мерфи</td>\n",
       "      <td>Диди Гарднер</td>\n",
       "      <td>«16+» - для детей старше 16 лет</td>\n",
       "      <td>NaN</td>\n",
       "      <td>...</td>\n",
       "      <td>NaN</td>\n",
       "      <td>6.800</td>\n",
       "      <td>драма,мелодрама,биография</td>\n",
       "      <td>240.000</td>\n",
       "      <td>NaN</td>\n",
       "      <td>2010</td>\n",
       "      <td>Райан Мерфи</td>\n",
       "      <td>драма</td>\n",
       "      <td>NaN</td>\n",
       "      <td>NaN</td>\n",
       "    </tr>\n",
       "    <tr>\n",
       "      <th>4276</th>\n",
       "      <td>Книга крови /По мотивам рассказов Клайва Барке...</td>\n",
       "      <td>121008710.000</td>\n",
       "      <td>2010-05-12 12:00:00+00:00</td>\n",
       "      <td>Художественный</td>\n",
       "      <td>Матадор Пикчерз, Миднайт Пикче Шоу, Плам Филмз...</td>\n",
       "      <td>Великобритания</td>\n",
       "      <td>Джон Харрисон</td>\n",
       "      <td>Лаури Апелиан, Клайв Баркер, Питер Грэнджер-Беван</td>\n",
       "      <td>«18+» - запрещено для детей</td>\n",
       "      <td>NaN</td>\n",
       "      <td>...</td>\n",
       "      <td>NaN</td>\n",
       "      <td>5.300</td>\n",
       "      <td>ужасы,триллер,детектив</td>\n",
       "      <td>930.000</td>\n",
       "      <td>NaN</td>\n",
       "      <td>2010</td>\n",
       "      <td>Джон Харрисон</td>\n",
       "      <td>ужасы</td>\n",
       "      <td>NaN</td>\n",
       "      <td>NaN</td>\n",
       "    </tr>\n",
       "    <tr>\n",
       "      <th>4296</th>\n",
       "      <td>Цирк .</td>\n",
       "      <td>212018710.000</td>\n",
       "      <td>2010-05-19 12:00:00+00:00</td>\n",
       "      <td>Художественный</td>\n",
       "      <td>ОАО \"ТПО \"Санкт-Петербургская студия документа...</td>\n",
       "      <td>Россия</td>\n",
       "      <td>И.Комладзе</td>\n",
       "      <td>А.Тельнов</td>\n",
       "      <td>«0+» - для любой зрительской аудитории</td>\n",
       "      <td>NaN</td>\n",
       "      <td>...</td>\n",
       "      <td>NaN</td>\n",
       "      <td>8.000</td>\n",
       "      <td>мелодрама,комедия</td>\n",
       "      <td>420.000</td>\n",
       "      <td>NaN</td>\n",
       "      <td>2010</td>\n",
       "      <td>И.Комладзе</td>\n",
       "      <td>мелодрама</td>\n",
       "      <td>NaN</td>\n",
       "      <td>NaN</td>\n",
       "    </tr>\n",
       "    <tr>\n",
       "      <th>4308</th>\n",
       "      <td>Кочегар</td>\n",
       "      <td>111008710.000</td>\n",
       "      <td>2010-10-04 12:00:00+00:00</td>\n",
       "      <td>Художественный</td>\n",
       "      <td>ООО \"Кинокомпания \"СТВ\"</td>\n",
       "      <td>Россия</td>\n",
       "      <td>А.Балабанов</td>\n",
       "      <td>С.Сельянов</td>\n",
       "      <td>«18+» - запрещено для детей</td>\n",
       "      <td>NaN</td>\n",
       "      <td>...</td>\n",
       "      <td>NaN</td>\n",
       "      <td>6.600</td>\n",
       "      <td>драма,криминал</td>\n",
       "      <td>900.000</td>\n",
       "      <td>NaN</td>\n",
       "      <td>2010</td>\n",
       "      <td>А.Балабанов</td>\n",
       "      <td>драма</td>\n",
       "      <td>NaN</td>\n",
       "      <td>NaN</td>\n",
       "    </tr>\n",
       "    <tr>\n",
       "      <th>4362</th>\n",
       "      <td>Побег из Вегаса</td>\n",
       "      <td>221115810.000</td>\n",
       "      <td>2010-10-07 12:00:00+00:00</td>\n",
       "      <td>Художественный</td>\n",
       "      <td>Юниверсал Пикчерз, Рилейтивити Медиа, спайглас...</td>\n",
       "      <td>США</td>\n",
       "      <td>Николас Столлер</td>\n",
       "      <td>Джадд Апатов, Дэвид Л.Бушелл, Родни Ротман</td>\n",
       "      <td>«16+» - для детей старше 16 лет</td>\n",
       "      <td>NaN</td>\n",
       "      <td>...</td>\n",
       "      <td>NaN</td>\n",
       "      <td>6.600</td>\n",
       "      <td>комедия,приключения,музыка</td>\n",
       "      <td>140.000</td>\n",
       "      <td>NaN</td>\n",
       "      <td>2010</td>\n",
       "      <td>Николас Столлер</td>\n",
       "      <td>комедия</td>\n",
       "      <td>NaN</td>\n",
       "      <td>NaN</td>\n",
       "    </tr>\n",
       "    <tr>\n",
       "      <th>4365</th>\n",
       "      <td>Сезон охоты 3</td>\n",
       "      <td>124001410.000</td>\n",
       "      <td>2010-10-14 12:00:00+00:00</td>\n",
       "      <td>Анимационный</td>\n",
       "      <td>Сони Пикчерз Анимейшн</td>\n",
       "      <td>США</td>\n",
       "      <td>Коди Кэмерон</td>\n",
       "      <td>Кирк Бодифелт</td>\n",
       "      <td>«0+» - для любой зрительской аудитории</td>\n",
       "      <td>NaN</td>\n",
       "      <td>...</td>\n",
       "      <td>NaN</td>\n",
       "      <td>5.700</td>\n",
       "      <td>мультфильм,комедия,приключения</td>\n",
       "      <td>680.000</td>\n",
       "      <td>NaN</td>\n",
       "      <td>2010</td>\n",
       "      <td>Коди Кэмерон</td>\n",
       "      <td>мультфильм</td>\n",
       "      <td>NaN</td>\n",
       "      <td>NaN</td>\n",
       "    </tr>\n",
       "    <tr>\n",
       "      <th>4388</th>\n",
       "      <td>Близкий враг</td>\n",
       "      <td>111004710.000</td>\n",
       "      <td>2010-04-19 12:00:00+00:00</td>\n",
       "      <td>Художественный</td>\n",
       "      <td>ООО \"КИНОКОМПАНИЯ ВИЗАВИ\"</td>\n",
       "      <td>Россия</td>\n",
       "      <td>А.Атанесян</td>\n",
       "      <td>П.Хет, М.Шлихт, А.Атанесян, М.Бабаханов, О.Чир...</td>\n",
       "      <td>«16+» - для детей старше 16 лет</td>\n",
       "      <td>NaN</td>\n",
       "      <td>...</td>\n",
       "      <td>NaN</td>\n",
       "      <td>5.800</td>\n",
       "      <td>драма,криминал</td>\n",
       "      <td>980.000</td>\n",
       "      <td>NaN</td>\n",
       "      <td>2010</td>\n",
       "      <td>А.Атанесян</td>\n",
       "      <td>драма</td>\n",
       "      <td>NaN</td>\n",
       "      <td>NaN</td>\n",
       "    </tr>\n",
       "    <tr>\n",
       "      <th>4393</th>\n",
       "      <td>Сумерки. Сага. Затмение /По произведению Стефа...</td>\n",
       "      <td>121011310.000</td>\n",
       "      <td>2010-06-25 12:00:00+00:00</td>\n",
       "      <td>Художественный</td>\n",
       "      <td>Саммит Интертейнмент, Темпл Хилл Интертейнмент...</td>\n",
       "      <td>США</td>\n",
       "      <td>Дэвид Слэйд</td>\n",
       "      <td>Билл Баннерман, Марти Бауэн, Вик Годфри</td>\n",
       "      <td>«16+» - для детей старше 16 лет</td>\n",
       "      <td>NaN</td>\n",
       "      <td>...</td>\n",
       "      <td>NaN</td>\n",
       "      <td>6.000</td>\n",
       "      <td>фэнтези,триллер,мелодрама</td>\n",
       "      <td>295.000</td>\n",
       "      <td>NaN</td>\n",
       "      <td>2010</td>\n",
       "      <td>Дэвид Слэйд</td>\n",
       "      <td>фэнтези</td>\n",
       "      <td>NaN</td>\n",
       "      <td>NaN</td>\n",
       "    </tr>\n",
       "    <tr>\n",
       "      <th>4411</th>\n",
       "      <td>Не скажу</td>\n",
       "      <td>111010010.000</td>\n",
       "      <td>2010-11-09 12:00:00+00:00</td>\n",
       "      <td>Художественный</td>\n",
       "      <td>ООО Кинокомпания \"АРТ ПИТЕР\"</td>\n",
       "      <td>Россия</td>\n",
       "      <td>И.Копылов</td>\n",
       "      <td>С.Скоморохов</td>\n",
       "      <td>«16+» - для детей старше 16 лет</td>\n",
       "      <td>NaN</td>\n",
       "      <td>...</td>\n",
       "      <td>NaN</td>\n",
       "      <td>7.000</td>\n",
       "      <td>драма</td>\n",
       "      <td>300.000</td>\n",
       "      <td>NaN</td>\n",
       "      <td>2010</td>\n",
       "      <td>И.Копылов</td>\n",
       "      <td>драма</td>\n",
       "      <td>NaN</td>\n",
       "      <td>NaN</td>\n",
       "    </tr>\n",
       "    <tr>\n",
       "      <th>4432</th>\n",
       "      <td>Кто Я?</td>\n",
       "      <td>111009810.000</td>\n",
       "      <td>2010-10-29 12:00:00+00:00</td>\n",
       "      <td>Художественный</td>\n",
       "      <td>ЗАО \"Вайт Медиа\"</td>\n",
       "      <td>Россия</td>\n",
       "      <td>К.Шипенко</td>\n",
       "      <td>Т.Вайнштейн, Р.Атамалибеков, С.Шумов</td>\n",
       "      <td>«16+» - для детей старше 16 лет</td>\n",
       "      <td>NaN</td>\n",
       "      <td>...</td>\n",
       "      <td>NaN</td>\n",
       "      <td>7.400</td>\n",
       "      <td>фантастика,триллер,драма</td>\n",
       "      <td>680.000</td>\n",
       "      <td>NaN</td>\n",
       "      <td>2010</td>\n",
       "      <td>К.Шипенко</td>\n",
       "      <td>фантастика</td>\n",
       "      <td>NaN</td>\n",
       "      <td>NaN</td>\n",
       "    </tr>\n",
       "    <tr>\n",
       "      <th>4440</th>\n",
       "      <td>Борцу не больно</td>\n",
       "      <td>111010210.000</td>\n",
       "      <td>2010-11-12 12:00:00+00:00</td>\n",
       "      <td>Художественный</td>\n",
       "      <td>ООО \"Киностудия \"Жанр\"</td>\n",
       "      <td>Россия</td>\n",
       "      <td>Н.Эген</td>\n",
       "      <td>В.Антонов, А.Литвинов</td>\n",
       "      <td>«16+» - для детей старше 16 лет</td>\n",
       "      <td>NaN</td>\n",
       "      <td>...</td>\n",
       "      <td>NaN</td>\n",
       "      <td>6.000</td>\n",
       "      <td>драма,спорт</td>\n",
       "      <td>300.000</td>\n",
       "      <td>NaN</td>\n",
       "      <td>2010</td>\n",
       "      <td>Н.Эген</td>\n",
       "      <td>драма</td>\n",
       "      <td>NaN</td>\n",
       "      <td>NaN</td>\n",
       "    </tr>\n",
       "    <tr>\n",
       "      <th>4442</th>\n",
       "      <td>Воображариум доктора Парнаса</td>\n",
       "      <td>121000810.000</td>\n",
       "      <td>2010-01-28 12:00:00+00:00</td>\n",
       "      <td>Художественный</td>\n",
       "      <td>Дэвис Филмз, Гроссвенор Парк Продакшнз, Инфини...</td>\n",
       "      <td>Канада - Франция - Великобритания</td>\n",
       "      <td>Тьерри Гиллиам</td>\n",
       "      <td>Тьерри Гиллиам, Эми Гиллиам, Сэмюэл Хадида</td>\n",
       "      <td>«16+» - для детей старше 16 лет</td>\n",
       "      <td>NaN</td>\n",
       "      <td>...</td>\n",
       "      <td>NaN</td>\n",
       "      <td>7.000</td>\n",
       "      <td>фэнтези,приключения,комедия</td>\n",
       "      <td>150.000</td>\n",
       "      <td>NaN</td>\n",
       "      <td>2010</td>\n",
       "      <td>Тьерри Гиллиам</td>\n",
       "      <td>фэнтези</td>\n",
       "      <td>NaN</td>\n",
       "      <td>NaN</td>\n",
       "    </tr>\n",
       "    <tr>\n",
       "      <th>4448</th>\n",
       "      <td>Прячься!</td>\n",
       "      <td>111003010.000</td>\n",
       "      <td>2010-03-22 12:00:00+00:00</td>\n",
       "      <td>Художественный</td>\n",
       "      <td>ООО \"Стар Медиа Про\", ООО \"Кинокомпания \"СТВ\" ...</td>\n",
       "      <td>Россия - Германия</td>\n",
       "      <td>Д.О'Рейли</td>\n",
       "      <td>С.Сельянов, В.Ряшин</td>\n",
       "      <td>«16+» - для детей старше 16 лет</td>\n",
       "      <td>NaN</td>\n",
       "      <td>...</td>\n",
       "      <td>NaN</td>\n",
       "      <td>5.800</td>\n",
       "      <td>боевик,триллер</td>\n",
       "      <td>115.000</td>\n",
       "      <td>NaN</td>\n",
       "      <td>2010</td>\n",
       "      <td>Д.О'Рейли</td>\n",
       "      <td>боевик</td>\n",
       "      <td>NaN</td>\n",
       "      <td>NaN</td>\n",
       "    </tr>\n",
       "    <tr>\n",
       "      <th>4459</th>\n",
       "      <td>Замерзшие</td>\n",
       "      <td>121004510.000</td>\n",
       "      <td>2010-03-10 12:00:00+00:00</td>\n",
       "      <td>Художественный</td>\n",
       "      <td>Энчор Бэй Филмз</td>\n",
       "      <td>США</td>\n",
       "      <td>Адам Грин</td>\n",
       "      <td>Питер Блок, Аманда Иззик, Джейсон Ричард Милле...</td>\n",
       "      <td>«16+» - для детей старше 16 лет</td>\n",
       "      <td>NaN</td>\n",
       "      <td>...</td>\n",
       "      <td>NaN</td>\n",
       "      <td>6.300</td>\n",
       "      <td>ужасы,триллер,драма</td>\n",
       "      <td>580.000</td>\n",
       "      <td>NaN</td>\n",
       "      <td>2010</td>\n",
       "      <td>Адам Грин</td>\n",
       "      <td>ужасы</td>\n",
       "      <td>NaN</td>\n",
       "      <td>NaN</td>\n",
       "    </tr>\n",
       "    <tr>\n",
       "      <th>4525</th>\n",
       "      <td>Легенды ночных стражей /По мотивам произведени...</td>\n",
       "      <td>224026410.000</td>\n",
       "      <td>2010-12-10 12:00:00+00:00</td>\n",
       "      <td>Анимационный</td>\n",
       "      <td>Уорнер Бразерс, Виллидж Роадшоу Пикчерз</td>\n",
       "      <td>США - Австралия</td>\n",
       "      <td>Зак Снайдер</td>\n",
       "      <td>Зарех Налбандьян</td>\n",
       "      <td>«0+» - для любой зрительской аудитории</td>\n",
       "      <td>NaN</td>\n",
       "      <td>...</td>\n",
       "      <td>NaN</td>\n",
       "      <td>7.500</td>\n",
       "      <td>мультфильм,фэнтези,боевик</td>\n",
       "      <td>400.000</td>\n",
       "      <td>NaN</td>\n",
       "      <td>2010</td>\n",
       "      <td>Зак Снайдер</td>\n",
       "      <td>мультфильм</td>\n",
       "      <td>NaN</td>\n",
       "      <td>NaN</td>\n",
       "    </tr>\n",
       "    <tr>\n",
       "      <th>4529</th>\n",
       "      <td>Ёлки</td>\n",
       "      <td>111010710.000</td>\n",
       "      <td>2010-12-08 12:00:00+00:00</td>\n",
       "      <td>Художественный</td>\n",
       "      <td>ООО \"ТаББаК\"</td>\n",
       "      <td>Россия</td>\n",
       "      <td>Т.Бекмамбетов, Я.Чеважевский, А.Войтинский, Д....</td>\n",
       "      <td>С.Муазен, А.Ремизова</td>\n",
       "      <td>«12+» - для детей старше 12 лет</td>\n",
       "      <td>NaN</td>\n",
       "      <td>...</td>\n",
       "      <td>NaN</td>\n",
       "      <td>6.900</td>\n",
       "      <td>комедия</td>\n",
       "      <td>125.000</td>\n",
       "      <td>NaN</td>\n",
       "      <td>2010</td>\n",
       "      <td>Т.Бекмамбетов</td>\n",
       "      <td>комедия</td>\n",
       "      <td>NaN</td>\n",
       "      <td>NaN</td>\n",
       "    </tr>\n",
       "    <tr>\n",
       "      <th>4533</th>\n",
       "      <td>Иллюзионист.</td>\n",
       "      <td>124002110.000</td>\n",
       "      <td>2010-12-15 12:00:00+00:00</td>\n",
       "      <td>Анимационный</td>\n",
       "      <td>Канал+, Франс Три Синема</td>\n",
       "      <td>Франция-Великобритания</td>\n",
       "      <td>Сильвен Шомэ</td>\n",
       "      <td>Филипп Каркассонне, Джэйк Эбертс, Джинко Готох</td>\n",
       "      <td>«12+» - для детей старше 12 лет</td>\n",
       "      <td>NaN</td>\n",
       "      <td>...</td>\n",
       "      <td>NaN</td>\n",
       "      <td>8.000</td>\n",
       "      <td>фэнтези,триллер,драма</td>\n",
       "      <td>350.000</td>\n",
       "      <td>NaN</td>\n",
       "      <td>2010</td>\n",
       "      <td>Сильвен Шомэ</td>\n",
       "      <td>фэнтези</td>\n",
       "      <td>NaN</td>\n",
       "      <td>NaN</td>\n",
       "    </tr>\n",
       "    <tr>\n",
       "      <th>4537</th>\n",
       "      <td>Время ведьм .</td>\n",
       "      <td>121022810.000</td>\n",
       "      <td>2010-12-10 12:00:00+00:00</td>\n",
       "      <td>Художественный</td>\n",
       "      <td>Атлас Интертейнмент, Релативити Медиа</td>\n",
       "      <td>США</td>\n",
       "      <td>Доминик Сена</td>\n",
       "      <td>Алекс Гартнер</td>\n",
       "      <td>«16+» - для детей старше 16 лет</td>\n",
       "      <td>NaN</td>\n",
       "      <td>...</td>\n",
       "      <td>NaN</td>\n",
       "      <td>6.200</td>\n",
       "      <td>фэнтези,боевик,приключения</td>\n",
       "      <td>200.000</td>\n",
       "      <td>NaN</td>\n",
       "      <td>2010</td>\n",
       "      <td>Доминик Сена</td>\n",
       "      <td>фэнтези</td>\n",
       "      <td>NaN</td>\n",
       "      <td>NaN</td>\n",
       "    </tr>\n",
       "    <tr>\n",
       "      <th>4542</th>\n",
       "      <td>Фобос</td>\n",
       "      <td>111001510.000</td>\n",
       "      <td>2010-02-05 12:00:00+00:00</td>\n",
       "      <td>Художественный</td>\n",
       "      <td>ООО \"Арт Пикчерс Студия\"</td>\n",
       "      <td>Россия</td>\n",
       "      <td>О.Асадулин</td>\n",
       "      <td>ООО \"Арт Пикчерс Студия\"</td>\n",
       "      <td>«16+» - для детей старше 16 лет</td>\n",
       "      <td>NaN</td>\n",
       "      <td>...</td>\n",
       "      <td>NaN</td>\n",
       "      <td>3.700</td>\n",
       "      <td>ужасы,триллер</td>\n",
       "      <td>120.000</td>\n",
       "      <td>NaN</td>\n",
       "      <td>2010</td>\n",
       "      <td>О.Асадулин</td>\n",
       "      <td>ужасы</td>\n",
       "      <td>NaN</td>\n",
       "      <td>NaN</td>\n",
       "    </tr>\n",
       "    <tr>\n",
       "      <th>4563</th>\n",
       "      <td>Три дня на побег</td>\n",
       "      <td>121020910.000</td>\n",
       "      <td>2010-11-11 12:00:00+00:00</td>\n",
       "      <td>Художественный</td>\n",
       "      <td>Лайнс Гейт, Фиделите Филмз, Некст Продакшнз</td>\n",
       "      <td>США</td>\n",
       "      <td>Пол Хаггис</td>\n",
       "      <td>Евгения Грандваль, Оливье Дебоск, Пол Хаггис</td>\n",
       "      <td>«16+» - для детей старше 16 лет</td>\n",
       "      <td>NaN</td>\n",
       "      <td>...</td>\n",
       "      <td>NaN</td>\n",
       "      <td>7.700</td>\n",
       "      <td>боевик,триллер,драма</td>\n",
       "      <td>250.000</td>\n",
       "      <td>NaN</td>\n",
       "      <td>2010</td>\n",
       "      <td>Пол Хаггис</td>\n",
       "      <td>боевик</td>\n",
       "      <td>NaN</td>\n",
       "      <td>NaN</td>\n",
       "    </tr>\n",
       "    <tr>\n",
       "      <th>4578</th>\n",
       "      <td>Любовь-Морковь 3</td>\n",
       "      <td>111011210.000</td>\n",
       "      <td>2010-12-15 12:00:00+00:00</td>\n",
       "      <td>Художественный</td>\n",
       "      <td>ОАО \"ЦНФ\", ООО \"Компания \"РЕАЛ-ДАКОТА\"</td>\n",
       "      <td>Россия</td>\n",
       "      <td>С.Гинзбург</td>\n",
       "      <td>Р.Давлетьяров, А.Котелевский, А.Новиков, А.Оле...</td>\n",
       "      <td>«12+» - для детей старше 12 лет</td>\n",
       "      <td>NaN</td>\n",
       "      <td>...</td>\n",
       "      <td>NaN</td>\n",
       "      <td>4.400</td>\n",
       "      <td>комедия</td>\n",
       "      <td>300.000</td>\n",
       "      <td>NaN</td>\n",
       "      <td>2010</td>\n",
       "      <td>С.Гинзбург</td>\n",
       "      <td>комедия</td>\n",
       "      <td>NaN</td>\n",
       "      <td>NaN</td>\n",
       "    </tr>\n",
       "    <tr>\n",
       "      <th>4600</th>\n",
       "      <td>Остров проклятых</td>\n",
       "      <td>221159810.000</td>\n",
       "      <td>2010-12-17 12:00:00+00:00</td>\n",
       "      <td>Художественный</td>\n",
       "      <td>Парамаунт Пикчерз, Феникс Пикчерз, Сикелия Про...</td>\n",
       "      <td>США</td>\n",
       "      <td>Мартин Скорсезе</td>\n",
       "      <td>Бред Фишер, Майк Медовой</td>\n",
       "      <td>«16+» - для детей старше 16 лет</td>\n",
       "      <td>NaN</td>\n",
       "      <td>...</td>\n",
       "      <td>NaN</td>\n",
       "      <td>8.500</td>\n",
       "      <td>триллер,детектив,драма</td>\n",
       "      <td>250.000</td>\n",
       "      <td>NaN</td>\n",
       "      <td>2010</td>\n",
       "      <td>Мартин Скорсезе</td>\n",
       "      <td>триллер</td>\n",
       "      <td>NaN</td>\n",
       "      <td>NaN</td>\n",
       "    </tr>\n",
       "    <tr>\n",
       "      <th>4661</th>\n",
       "      <td>Без мужчин</td>\n",
       "      <td>111011310.000</td>\n",
       "      <td>2010-12-15 12:00:00+00:00</td>\n",
       "      <td>Художественный</td>\n",
       "      <td>ООО Кинокомпания \"ВВЫСЬ\", ООО \"ВВП Альянс\"</td>\n",
       "      <td>Россия</td>\n",
       "      <td>А.Хмельницкая</td>\n",
       "      <td>Р.Гигинеишвили</td>\n",
       "      <td>«16+» - для детей старше 16 лет</td>\n",
       "      <td>NaN</td>\n",
       "      <td>...</td>\n",
       "      <td>NaN</td>\n",
       "      <td>4.500</td>\n",
       "      <td>мелодрама,комедия</td>\n",
       "      <td>180.000</td>\n",
       "      <td>NaN</td>\n",
       "      <td>2010</td>\n",
       "      <td>А.Хмельницкая</td>\n",
       "      <td>мелодрама</td>\n",
       "      <td>NaN</td>\n",
       "      <td>NaN</td>\n",
       "    </tr>\n",
       "    <tr>\n",
       "      <th>4740</th>\n",
       "      <td>Механик_</td>\n",
       "      <td>121024110.000</td>\n",
       "      <td>2010-12-29 12:00:00+00:00</td>\n",
       "      <td>Художественный</td>\n",
       "      <td>Миллениум Филмз, Нью Имейдж Интертейнмент</td>\n",
       "      <td>США</td>\n",
       "      <td>Саймон Уэст</td>\n",
       "      <td>Рене Бессон, Авэ Лернер, Дэнни Лернер</td>\n",
       "      <td>«18+» - запрещено для детей</td>\n",
       "      <td>NaN</td>\n",
       "      <td>...</td>\n",
       "      <td>NaN</td>\n",
       "      <td>6.800</td>\n",
       "      <td>боевик,триллер</td>\n",
       "      <td>135.000</td>\n",
       "      <td>NaN</td>\n",
       "      <td>2010</td>\n",
       "      <td>Саймон Уэст</td>\n",
       "      <td>боевик</td>\n",
       "      <td>NaN</td>\n",
       "      <td>NaN</td>\n",
       "    </tr>\n",
       "    <tr>\n",
       "      <th>4748</th>\n",
       "      <td>Гадкий Я</td>\n",
       "      <td>224023210.000</td>\n",
       "      <td>2010-11-23 12:00:00+00:00</td>\n",
       "      <td>Анимационный</td>\n",
       "      <td>Иллюминейшн Интертейнмент, Юниверсал Пикчерз</td>\n",
       "      <td>США</td>\n",
       "      <td>Пьер Коффин, Крис Рено</td>\n",
       "      <td>Джон Коэн, Кристофер Милидандри</td>\n",
       "      <td>«0+» - для любой зрительской аудитории</td>\n",
       "      <td>NaN</td>\n",
       "      <td>...</td>\n",
       "      <td>NaN</td>\n",
       "      <td>7.700</td>\n",
       "      <td>мультфильм,фэнтези,комедия</td>\n",
       "      <td>360.000</td>\n",
       "      <td>NaN</td>\n",
       "      <td>2010</td>\n",
       "      <td>Пьер Коффин</td>\n",
       "      <td>мультфильм</td>\n",
       "      <td>NaN</td>\n",
       "      <td>NaN</td>\n",
       "    </tr>\n",
       "    <tr>\n",
       "      <th>4772</th>\n",
       "      <td>Душевная кухня</td>\n",
       "      <td>121000610.000</td>\n",
       "      <td>2010-01-19 12:00:00+00:00</td>\n",
       "      <td>Художественный</td>\n",
       "      <td>Корасон Интертейнмент, Дорие Филм, Пирамид Про...</td>\n",
       "      <td>Германия</td>\n",
       "      <td>Фатих Акин</td>\n",
       "      <td>Фатих Акин, Клаус Маек</td>\n",
       "      <td>«16+» - для детей старше 16 лет</td>\n",
       "      <td>NaN</td>\n",
       "      <td>...</td>\n",
       "      <td>NaN</td>\n",
       "      <td>7.100</td>\n",
       "      <td>драма,комедия</td>\n",
       "      <td>420.000</td>\n",
       "      <td>NaN</td>\n",
       "      <td>2010</td>\n",
       "      <td>Фатих Акин</td>\n",
       "      <td>драма</td>\n",
       "      <td>NaN</td>\n",
       "      <td>NaN</td>\n",
       "    </tr>\n",
       "    <tr>\n",
       "      <th>4790</th>\n",
       "      <td>КРАСНЫЙ ЛЕД. Сага о хантах Югры</td>\n",
       "      <td>111005910.000</td>\n",
       "      <td>2010-06-04 12:00:00+00:00</td>\n",
       "      <td>Художественный</td>\n",
       "      <td>Департамент культуры и искусства ХМАО-Югры, ОО...</td>\n",
       "      <td>Россия</td>\n",
       "      <td>О.Фесенко</td>\n",
       "      <td>О.Урушев</td>\n",
       "      <td>«16+» - для детей старше 16 лет</td>\n",
       "      <td>NaN</td>\n",
       "      <td>...</td>\n",
       "      <td>NaN</td>\n",
       "      <td>4.500</td>\n",
       "      <td>драма,история</td>\n",
       "      <td>0.000</td>\n",
       "      <td>NaN</td>\n",
       "      <td>2010</td>\n",
       "      <td>О.Фесенко</td>\n",
       "      <td>драма</td>\n",
       "      <td>NaN</td>\n",
       "      <td>NaN</td>\n",
       "    </tr>\n",
       "    <tr>\n",
       "      <th>4792</th>\n",
       "      <td>Повелитель стихий</td>\n",
       "      <td>121011210.000</td>\n",
       "      <td>2010-06-11 12:00:00+00:00</td>\n",
       "      <td>Художественный</td>\n",
       "      <td>Блайндинг Эдж Пикчерз, Кеннеди/Маршалл Компани...</td>\n",
       "      <td>США</td>\n",
       "      <td>М.Найт Шьямалан</td>\n",
       "      <td>М.Найт Шьямалан</td>\n",
       "      <td>«0+» - для любой зрительской аудитории</td>\n",
       "      <td>NaN</td>\n",
       "      <td>...</td>\n",
       "      <td>NaN</td>\n",
       "      <td>5.200</td>\n",
       "      <td>фэнтези,боевик,приключения</td>\n",
       "      <td>700.000</td>\n",
       "      <td>NaN</td>\n",
       "      <td>2010</td>\n",
       "      <td>М.Найт Шьямалан</td>\n",
       "      <td>фэнтези</td>\n",
       "      <td>NaN</td>\n",
       "      <td>NaN</td>\n",
       "    </tr>\n",
       "  </tbody>\n",
       "</table>\n",
       "<p>44 rows × 22 columns</p>\n",
       "</div>"
      ],
      "text/plain": [
       "                                                  title      puNumber  \\\n",
       "3790  Легион_.(Фильм содержит сцены ужасов, насилия ... 121000310.000   \n",
       "3802                                    Золотое сечение 111000610.000   \n",
       "3827                               Москва, я люблю тебя 111001610.000   \n",
       "3905                                       Неудержимые. 121013110.000   \n",
       "3906                                   Больше, чем друг 121013210.000   \n",
       "3917                               22 пули: Бессмертный 121006410.000   \n",
       "3921                        Принц Персии: Пески времени 121007010.000   \n",
       "3994                              Стать Джоном Ленноном 121008610.000   \n",
       "4063                                        Ловец ветра 111009310.000   \n",
       "4066                                            Дерево. 121020210.000   \n",
       "4125              Союз зверей /По книге Эрика Кастнера/ 224022410.000   \n",
       "4134                                        Дочь якудзы 111007710.000   \n",
       "4164                                    Жизнь за гранью 121022210.000   \n",
       "4203                           На игре 2. Новый уровень 111003810.000   \n",
       "4208                  Утомленные солнцем 2: Предстояние 111004210.000   \n",
       "4220                                              Жить. 111008110.000   \n",
       "4245      Ешь, молись, люби /По книге Элизабет Гилберт/ 121017310.000   \n",
       "4276  Книга крови /По мотивам рассказов Клайва Барке... 121008710.000   \n",
       "4296                                             Цирк . 212018710.000   \n",
       "4308                                            Кочегар 111008710.000   \n",
       "4362                                    Побег из Вегаса 221115810.000   \n",
       "4365                                      Сезон охоты 3 124001410.000   \n",
       "4388                                       Близкий враг 111004710.000   \n",
       "4393  Сумерки. Сага. Затмение /По произведению Стефа... 121011310.000   \n",
       "4411                                           Не скажу 111010010.000   \n",
       "4432                                             Кто Я? 111009810.000   \n",
       "4440                                    Борцу не больно 111010210.000   \n",
       "4442                       Воображариум доктора Парнаса 121000810.000   \n",
       "4448                                           Прячься! 111003010.000   \n",
       "4459                                          Замерзшие 121004510.000   \n",
       "4525  Легенды ночных стражей /По мотивам произведени... 224026410.000   \n",
       "4529                                               Ёлки 111010710.000   \n",
       "4533                                       Иллюзионист. 124002110.000   \n",
       "4537                                      Время ведьм . 121022810.000   \n",
       "4542                                              Фобос 111001510.000   \n",
       "4563                                   Три дня на побег 121020910.000   \n",
       "4578                                   Любовь-Морковь 3 111011210.000   \n",
       "4600                                   Остров проклятых 221159810.000   \n",
       "4661                                         Без мужчин 111011310.000   \n",
       "4740                                           Механик_ 121024110.000   \n",
       "4748                                           Гадкий Я 224023210.000   \n",
       "4772                                     Душевная кухня 121000610.000   \n",
       "4790                    КРАСНЫЙ ЛЕД. Сага о хантах Югры 111005910.000   \n",
       "4792                                  Повелитель стихий 121011210.000   \n",
       "\n",
       "               show_start_date            type  \\\n",
       "3790 2010-01-25 12:00:00+00:00  Художественный   \n",
       "3802 2010-01-26 12:00:00+00:00  Художественный   \n",
       "3827 2010-02-09 12:00:00+00:00  Художественный   \n",
       "3905 2010-08-02 12:00:00+00:00  Художественный   \n",
       "3906 2010-08-02 12:00:00+00:00  Художественный   \n",
       "3917 2010-04-01 12:00:00+00:00  Художественный   \n",
       "3921 2010-05-25 12:00:00+00:00  Художественный   \n",
       "3994 2010-05-05 12:00:00+00:00  Художественный   \n",
       "4063 2010-10-21 12:00:00+00:00  Художественный   \n",
       "4066 2010-11-03 12:00:00+00:00  Художественный   \n",
       "4125 2010-11-18 12:00:00+00:00    Анимационный   \n",
       "4134 2010-08-19 12:00:00+00:00  Художественный   \n",
       "4164 2010-11-29 12:00:00+00:00  Художественный   \n",
       "4203 2010-03-30 12:00:00+00:00  Художественный   \n",
       "4208 2010-04-05 12:00:00+00:00  Художественный   \n",
       "4220 2010-08-30 12:00:00+00:00  Художественный   \n",
       "4245 2010-10-04 12:00:00+00:00  Художественный   \n",
       "4276 2010-05-12 12:00:00+00:00  Художественный   \n",
       "4296 2010-05-19 12:00:00+00:00  Художественный   \n",
       "4308 2010-10-04 12:00:00+00:00  Художественный   \n",
       "4362 2010-10-07 12:00:00+00:00  Художественный   \n",
       "4365 2010-10-14 12:00:00+00:00    Анимационный   \n",
       "4388 2010-04-19 12:00:00+00:00  Художественный   \n",
       "4393 2010-06-25 12:00:00+00:00  Художественный   \n",
       "4411 2010-11-09 12:00:00+00:00  Художественный   \n",
       "4432 2010-10-29 12:00:00+00:00  Художественный   \n",
       "4440 2010-11-12 12:00:00+00:00  Художественный   \n",
       "4442 2010-01-28 12:00:00+00:00  Художественный   \n",
       "4448 2010-03-22 12:00:00+00:00  Художественный   \n",
       "4459 2010-03-10 12:00:00+00:00  Художественный   \n",
       "4525 2010-12-10 12:00:00+00:00    Анимационный   \n",
       "4529 2010-12-08 12:00:00+00:00  Художественный   \n",
       "4533 2010-12-15 12:00:00+00:00    Анимационный   \n",
       "4537 2010-12-10 12:00:00+00:00  Художественный   \n",
       "4542 2010-02-05 12:00:00+00:00  Художественный   \n",
       "4563 2010-11-11 12:00:00+00:00  Художественный   \n",
       "4578 2010-12-15 12:00:00+00:00  Художественный   \n",
       "4600 2010-12-17 12:00:00+00:00  Художественный   \n",
       "4661 2010-12-15 12:00:00+00:00  Художественный   \n",
       "4740 2010-12-29 12:00:00+00:00  Художественный   \n",
       "4748 2010-11-23 12:00:00+00:00    Анимационный   \n",
       "4772 2010-01-19 12:00:00+00:00  Художественный   \n",
       "4790 2010-06-04 12:00:00+00:00  Художественный   \n",
       "4792 2010-06-11 12:00:00+00:00  Художественный   \n",
       "\n",
       "                                            film_studio  \\\n",
       "3790                                         Болд Филмз   \n",
       "3802  ОАО \"ТПО \"Санкт-Петербургская студия документа...   \n",
       "3827  ООО \"БФГ-МЕДИА-ПРОДАКШН\", ООО \"Продюсерская ко...   \n",
       "3905        Миллениум Филмз, Ню Имейдж Филмз, Рог Марбл   \n",
       "3906                  Бон Файд Прдакшнз, Мандат Пикчерз   \n",
       "3917                                   Еуроп Корпорейшн   \n",
       "3921      Уолт Дисней Пикчерз, Джерри Брукхаймер Филмз    \n",
       "3994  Авер Медиа, Экосси Филмз, Филм 4, Норс Вест Ви...   \n",
       "4063                   ГУП РБ Киностудия \"Башкортостан\"   \n",
       "4066  Ле Фильм Дю Позьон, Тэйлор Медиа, Скрин Ауастр...   \n",
       "4125  Эмбиент ИНтертейнмент, Константин Филм, Уайт Х...   \n",
       "4134  ООО \"Кинокомпания \"СТВ\" при участии \"Kinofabri...   \n",
       "4164  Харбор Лайт Интертейнмент, Леуджу Продакшнз, П...   \n",
       "4203                             ООО \"КарОван Продакшн\"   \n",
       "4208                                 АНО \"Золотой Орёл\"   \n",
       "4220                                     ООО \"ТПО \"РОК\"   \n",
       "4245  Коламбиа Пикчерз, План Би Интертейнмент, Индия...   \n",
       "4276  Матадор Пикчерз, Миднайт Пикче Шоу, Плам Филмз...   \n",
       "4296  ОАО \"ТПО \"Санкт-Петербургская студия документа...   \n",
       "4308                            ООО \"Кинокомпания \"СТВ\"   \n",
       "4362  Юниверсал Пикчерз, Рилейтивити Медиа, спайглас...   \n",
       "4365                              Сони Пикчерз Анимейшн   \n",
       "4388                          ООО \"КИНОКОМПАНИЯ ВИЗАВИ\"   \n",
       "4393  Саммит Интертейнмент, Темпл Хилл Интертейнмент...   \n",
       "4411                       ООО Кинокомпания \"АРТ ПИТЕР\"   \n",
       "4432                                   ЗАО \"Вайт Медиа\"   \n",
       "4440                             ООО \"Киностудия \"Жанр\"   \n",
       "4442  Дэвис Филмз, Гроссвенор Парк Продакшнз, Инфини...   \n",
       "4448  ООО \"Стар Медиа Про\", ООО \"Кинокомпания \"СТВ\" ...   \n",
       "4459                                    Энчор Бэй Филмз   \n",
       "4525            Уорнер Бразерс, Виллидж Роадшоу Пикчерз   \n",
       "4529                                       ООО \"ТаББаК\"   \n",
       "4533                           Канал+, Франс Три Синема   \n",
       "4537              Атлас Интертейнмент, Релативити Медиа   \n",
       "4542                           ООО \"Арт Пикчерс Студия\"   \n",
       "4563        Лайнс Гейт, Фиделите Филмз, Некст Продакшнз   \n",
       "4578             ОАО \"ЦНФ\", ООО \"Компания \"РЕАЛ-ДАКОТА\"   \n",
       "4600  Парамаунт Пикчерз, Феникс Пикчерз, Сикелия Про...   \n",
       "4661         ООО Кинокомпания \"ВВЫСЬ\", ООО \"ВВП Альянс\"   \n",
       "4740          Миллениум Филмз, Нью Имейдж Интертейнмент   \n",
       "4748       Иллюминейшн Интертейнмент, Юниверсал Пикчерз   \n",
       "4772  Корасон Интертейнмент, Дорие Филм, Пирамид Про...   \n",
       "4790  Департамент культуры и искусства ХМАО-Югры, ОО...   \n",
       "4792  Блайндинг Эдж Пикчерз, Кеннеди/Маршалл Компани...   \n",
       "\n",
       "                     production_country  \\\n",
       "3790                                США   \n",
       "3802                             Россия   \n",
       "3827                             Россия   \n",
       "3905                                США   \n",
       "3906                                США   \n",
       "3917                            Франция   \n",
       "3921                                США   \n",
       "3994              Канада-Великобритания   \n",
       "4063                             Россия   \n",
       "4066                  Франция-Австралия   \n",
       "4125                           Германия   \n",
       "4134                    Россия-Германия   \n",
       "4164                                США   \n",
       "4203                             Россия   \n",
       "4208                             Россия   \n",
       "4220                             Россия   \n",
       "4245                                США   \n",
       "4276                     Великобритания   \n",
       "4296                             Россия   \n",
       "4308                             Россия   \n",
       "4362                                США   \n",
       "4365                                США   \n",
       "4388                             Россия   \n",
       "4393                                США   \n",
       "4411                             Россия   \n",
       "4432                             Россия   \n",
       "4440                             Россия   \n",
       "4442  Канада - Франция - Великобритания   \n",
       "4448                  Россия - Германия   \n",
       "4459                                США   \n",
       "4525                    США - Австралия   \n",
       "4529                             Россия   \n",
       "4533             Франция-Великобритания   \n",
       "4537                                США   \n",
       "4542                             Россия   \n",
       "4563                                США   \n",
       "4578                             Россия   \n",
       "4600                                США   \n",
       "4661                             Россия   \n",
       "4740                                США   \n",
       "4748                                США   \n",
       "4772                           Германия   \n",
       "4790                             Россия   \n",
       "4792                                США   \n",
       "\n",
       "                                               director  \\\n",
       "3790                                       Скотт Стюарт   \n",
       "3802                                          С.Дебижев   \n",
       "3827  Г.Михалков, Г.Натансон, В.Сторожева, А.Касатки...   \n",
       "3905                                 Сильвестр Сталлоне   \n",
       "3906                             Джош Гордон, Уилл Спек   \n",
       "3917                                         Ришар Бери   \n",
       "3921                                       Майкл Ньюэлл   \n",
       "3994                                     Сэм Тейлор Вуд   \n",
       "4063                                         А.Юмагулов   \n",
       "4066                                    Жюли Бертучелли   \n",
       "4125                      Рейнхард Клоос, Хольгер Таппе   \n",
       "4134                        С.Бодров-старший, Г.Омарова   \n",
       "4164                             Агнешка Войтович-Восло   \n",
       "4203                                           П.Санаев   \n",
       "4208                                         Н.Михалков   \n",
       "4220                                            Ю.Быков   \n",
       "4245                                        Райан Мерфи   \n",
       "4276                                      Джон Харрисон   \n",
       "4296                                         И.Комладзе   \n",
       "4308                                        А.Балабанов   \n",
       "4362                                    Николас Столлер   \n",
       "4365                                       Коди Кэмерон   \n",
       "4388                                         А.Атанесян   \n",
       "4393                                        Дэвид Слэйд   \n",
       "4411                                          И.Копылов   \n",
       "4432                                          К.Шипенко   \n",
       "4440                                             Н.Эген   \n",
       "4442                                     Тьерри Гиллиам   \n",
       "4448                                          Д.О'Рейли   \n",
       "4459                                          Адам Грин   \n",
       "4525                                        Зак Снайдер   \n",
       "4529  Т.Бекмамбетов, Я.Чеважевский, А.Войтинский, Д....   \n",
       "4533                                       Сильвен Шомэ   \n",
       "4537                                       Доминик Сена   \n",
       "4542                                         О.Асадулин   \n",
       "4563                                         Пол Хаггис   \n",
       "4578                                         С.Гинзбург   \n",
       "4600                                    Мартин Скорсезе   \n",
       "4661                                      А.Хмельницкая   \n",
       "4740                                        Саймон Уэст   \n",
       "4748                             Пьер Коффин, Крис Рено   \n",
       "4772                                         Фатих Акин   \n",
       "4790                                          О.Фесенко   \n",
       "4792                                    М.Найт Шьямалан   \n",
       "\n",
       "                                               producer  \\\n",
       "3790                      Дэвид Ланкастер, Майкл Литвак   \n",
       "3802                               А.Тельнов, С.Федотов   \n",
       "3827                               Ю.Глоцер, Ю.Гинзбург   \n",
       "3905  Кевин Кинг, Эви Лернер, Джон Томпсон, Кевин Ки...   \n",
       "3906              Алберт Бергер, Алан Лоб, Брэдли Томас   \n",
       "3917         Люк Бессон, Дидье Хорау, Пьер-Анж Ле Погам   \n",
       "3921                                  Джерри Брукхаймер   \n",
       "3994         Роберт Бернштейн, Кевин Лоудер, Дуглас Рэй   \n",
       "4063                                           А.Юнусов   \n",
       "4066                                                NaN   \n",
       "4125  Рейнхард Клоос, Мартин Московиц, Хольгер Таппе...   \n",
       "4134                       С.Сельянов, С.Бодров-старший   \n",
       "4164    Брэд Майкл Гилберт, Билл Перкинс, Селин Рэттрэй   \n",
       "4203                           Л.Огородников, О.Андреев   \n",
       "4208                            Н.Михалков, Л.Верещагин   \n",
       "4220                                          А.Учитель   \n",
       "4245                                       Диди Гарднер   \n",
       "4276  Лаури Апелиан, Клайв Баркер, Питер Грэнджер-Беван   \n",
       "4296                                          А.Тельнов   \n",
       "4308                                         С.Сельянов   \n",
       "4362         Джадд Апатов, Дэвид Л.Бушелл, Родни Ротман   \n",
       "4365                                      Кирк Бодифелт   \n",
       "4388  П.Хет, М.Шлихт, А.Атанесян, М.Бабаханов, О.Чир...   \n",
       "4393            Билл Баннерман, Марти Бауэн, Вик Годфри   \n",
       "4411                                       С.Скоморохов   \n",
       "4432               Т.Вайнштейн, Р.Атамалибеков, С.Шумов   \n",
       "4440                              В.Антонов, А.Литвинов   \n",
       "4442         Тьерри Гиллиам, Эми Гиллиам, Сэмюэл Хадида   \n",
       "4448                                С.Сельянов, В.Ряшин   \n",
       "4459  Питер Блок, Аманда Иззик, Джейсон Ричард Милле...   \n",
       "4525                                   Зарех Налбандьян   \n",
       "4529                               С.Муазен, А.Ремизова   \n",
       "4533     Филипп Каркассонне, Джэйк Эбертс, Джинко Готох   \n",
       "4537                                      Алекс Гартнер   \n",
       "4542                           ООО \"Арт Пикчерс Студия\"   \n",
       "4563       Евгения Грандваль, Оливье Дебоск, Пол Хаггис   \n",
       "4578  Р.Давлетьяров, А.Котелевский, А.Новиков, А.Оле...   \n",
       "4600                           Бред Фишер, Майк Медовой   \n",
       "4661                                     Р.Гигинеишвили   \n",
       "4740              Рене Бессон, Авэ Лернер, Дэнни Лернер   \n",
       "4748                    Джон Коэн, Кристофер Милидандри   \n",
       "4772                             Фатих Акин, Клаус Маек   \n",
       "4790                                           О.Урушев   \n",
       "4792                                    М.Найт Шьямалан   \n",
       "\n",
       "                             age_restriction  refundable_support  ...  \\\n",
       "3790             «18+» - запрещено для детей                 NaN  ...   \n",
       "3802         «16+» - для детей старше 16 лет                 NaN  ...   \n",
       "3827         «16+» - для детей старше 16 лет                 NaN  ...   \n",
       "3905             «18+» - запрещено для детей                 NaN  ...   \n",
       "3906         «16+» - для детей старше 16 лет                 NaN  ...   \n",
       "3917         «16+» - для детей старше 16 лет                 NaN  ...   \n",
       "3921         «12+» - для детей старше 12 лет                 NaN  ...   \n",
       "3994         «16+» - для детей старше 16 лет                 NaN  ...   \n",
       "4063         «16+» - для детей старше 16 лет                 NaN  ...   \n",
       "4066         «16+» - для детей старше 16 лет                 NaN  ...   \n",
       "4125  «0+» - для любой зрительской аудитории                 NaN  ...   \n",
       "4134         «16+» - для детей старше 16 лет                 NaN  ...   \n",
       "4164         «16+» - для детей старше 16 лет                 NaN  ...   \n",
       "4203         «16+» - для детей старше 16 лет                 NaN  ...   \n",
       "4208         «16+» - для детей старше 16 лет                 NaN  ...   \n",
       "4220         «16+» - для детей старше 16 лет                 NaN  ...   \n",
       "4245         «16+» - для детей старше 16 лет                 NaN  ...   \n",
       "4276             «18+» - запрещено для детей                 NaN  ...   \n",
       "4296  «0+» - для любой зрительской аудитории                 NaN  ...   \n",
       "4308             «18+» - запрещено для детей                 NaN  ...   \n",
       "4362         «16+» - для детей старше 16 лет                 NaN  ...   \n",
       "4365  «0+» - для любой зрительской аудитории                 NaN  ...   \n",
       "4388         «16+» - для детей старше 16 лет                 NaN  ...   \n",
       "4393         «16+» - для детей старше 16 лет                 NaN  ...   \n",
       "4411         «16+» - для детей старше 16 лет                 NaN  ...   \n",
       "4432         «16+» - для детей старше 16 лет                 NaN  ...   \n",
       "4440         «16+» - для детей старше 16 лет                 NaN  ...   \n",
       "4442         «16+» - для детей старше 16 лет                 NaN  ...   \n",
       "4448         «16+» - для детей старше 16 лет                 NaN  ...   \n",
       "4459         «16+» - для детей старше 16 лет                 NaN  ...   \n",
       "4525  «0+» - для любой зрительской аудитории                 NaN  ...   \n",
       "4529         «12+» - для детей старше 12 лет                 NaN  ...   \n",
       "4533         «12+» - для детей старше 12 лет                 NaN  ...   \n",
       "4537         «16+» - для детей старше 16 лет                 NaN  ...   \n",
       "4542         «16+» - для детей старше 16 лет                 NaN  ...   \n",
       "4563         «16+» - для детей старше 16 лет                 NaN  ...   \n",
       "4578         «12+» - для детей старше 12 лет                 NaN  ...   \n",
       "4600         «16+» - для детей старше 16 лет                 NaN  ...   \n",
       "4661         «16+» - для детей старше 16 лет                 NaN  ...   \n",
       "4740             «18+» - запрещено для детей                 NaN  ...   \n",
       "4748  «0+» - для любой зрительской аудитории                 NaN  ...   \n",
       "4772         «16+» - для детей старше 16 лет                 NaN  ...   \n",
       "4790         «16+» - для детей старше 16 лет                 NaN  ...   \n",
       "4792  «0+» - для любой зрительской аудитории                 NaN  ...   \n",
       "\n",
       "      financing_source  ratings                          genres  box_office  \\\n",
       "3790               NaN      NaN                         unknown     560.000   \n",
       "3802               NaN    4.900                     приключения     760.000   \n",
       "3827               NaN    4.500               мелодрама,комедия       0.000   \n",
       "3905               NaN    6.900      боевик,приключения,триллер     350.000   \n",
       "3906               NaN    6.700         драма,мелодрама,комедия     130.000   \n",
       "3917               NaN    7.100           боевик,драма,криминал      75.000   \n",
       "3921               NaN    7.300      фэнтези,боевик,приключения     895.000   \n",
       "3994               NaN    7.500       драма,мелодрама,биография       0.000   \n",
       "4063               NaN    7.500                   драма,комедия     100.000   \n",
       "4066               NaN      NaN                         unknown       0.000   \n",
       "4125               NaN    5.600  мультфильм,комедия,приключения     400.000   \n",
       "4134               NaN    5.100                         комедия     225.000   \n",
       "4164               NaN    6.600          триллер,драма,детектив     550.000   \n",
       "4203               NaN    5.800   боевик,фантастика,приключения     660.000   \n",
       "4208               NaN    3.800                   драма,военный     520.000   \n",
       "4220               NaN    7.500                           драма     250.000   \n",
       "4245               NaN    6.800       драма,мелодрама,биография     240.000   \n",
       "4276               NaN    5.300          ужасы,триллер,детектив     930.000   \n",
       "4296               NaN    8.000               мелодрама,комедия     420.000   \n",
       "4308               NaN    6.600                  драма,криминал     900.000   \n",
       "4362               NaN    6.600      комедия,приключения,музыка     140.000   \n",
       "4365               NaN    5.700  мультфильм,комедия,приключения     680.000   \n",
       "4388               NaN    5.800                  драма,криминал     980.000   \n",
       "4393               NaN    6.000       фэнтези,триллер,мелодрама     295.000   \n",
       "4411               NaN    7.000                           драма     300.000   \n",
       "4432               NaN    7.400        фантастика,триллер,драма     680.000   \n",
       "4440               NaN    6.000                     драма,спорт     300.000   \n",
       "4442               NaN    7.000     фэнтези,приключения,комедия     150.000   \n",
       "4448               NaN    5.800                  боевик,триллер     115.000   \n",
       "4459               NaN    6.300             ужасы,триллер,драма     580.000   \n",
       "4525               NaN    7.500       мультфильм,фэнтези,боевик     400.000   \n",
       "4529               NaN    6.900                         комедия     125.000   \n",
       "4533               NaN    8.000           фэнтези,триллер,драма     350.000   \n",
       "4537               NaN    6.200      фэнтези,боевик,приключения     200.000   \n",
       "4542               NaN    3.700                   ужасы,триллер     120.000   \n",
       "4563               NaN    7.700            боевик,триллер,драма     250.000   \n",
       "4578               NaN    4.400                         комедия     300.000   \n",
       "4600               NaN    8.500          триллер,детектив,драма     250.000   \n",
       "4661               NaN    4.500               мелодрама,комедия     180.000   \n",
       "4740               NaN    6.800                  боевик,триллер     135.000   \n",
       "4748               NaN    7.700      мультфильм,фэнтези,комедия     360.000   \n",
       "4772               NaN    7.100                   драма,комедия     420.000   \n",
       "4790               NaN    4.500                   драма,история       0.000   \n",
       "4792               NaN    5.200      фэнтези,боевик,приключения     700.000   \n",
       "\n",
       "     sum_support  year_show_start           main_director   main_genre  \\\n",
       "3790         NaN             2010            Скотт Стюарт      unknown   \n",
       "3802         NaN             2010               С.Дебижев  приключения   \n",
       "3827         NaN             2010              Г.Михалков    мелодрама   \n",
       "3905         NaN             2010      Сильвестр Сталлоне       боевик   \n",
       "3906         NaN             2010             Джош Гордон        драма   \n",
       "3917         NaN             2010              Ришар Бери       боевик   \n",
       "3921         NaN             2010            Майкл Ньюэлл      фэнтези   \n",
       "3994         NaN             2010          Сэм Тейлор Вуд        драма   \n",
       "4063         NaN             2010              А.Юмагулов        драма   \n",
       "4066         NaN             2010         Жюли Бертучелли      unknown   \n",
       "4125         NaN             2010          Рейнхард Клоос   мультфильм   \n",
       "4134         NaN             2010        С.Бодров-старший      комедия   \n",
       "4164         NaN             2010  Агнешка Войтович-Восло      триллер   \n",
       "4203         NaN             2010                П.Санаев       боевик   \n",
       "4208         NaN             2010              Н.Михалков        драма   \n",
       "4220         NaN             2010                 Ю.Быков        драма   \n",
       "4245         NaN             2010             Райан Мерфи        драма   \n",
       "4276         NaN             2010           Джон Харрисон        ужасы   \n",
       "4296         NaN             2010              И.Комладзе    мелодрама   \n",
       "4308         NaN             2010             А.Балабанов        драма   \n",
       "4362         NaN             2010         Николас Столлер      комедия   \n",
       "4365         NaN             2010            Коди Кэмерон   мультфильм   \n",
       "4388         NaN             2010              А.Атанесян        драма   \n",
       "4393         NaN             2010             Дэвид Слэйд      фэнтези   \n",
       "4411         NaN             2010               И.Копылов        драма   \n",
       "4432         NaN             2010               К.Шипенко   фантастика   \n",
       "4440         NaN             2010                  Н.Эген        драма   \n",
       "4442         NaN             2010          Тьерри Гиллиам      фэнтези   \n",
       "4448         NaN             2010               Д.О'Рейли       боевик   \n",
       "4459         NaN             2010               Адам Грин        ужасы   \n",
       "4525         NaN             2010             Зак Снайдер   мультфильм   \n",
       "4529         NaN             2010           Т.Бекмамбетов      комедия   \n",
       "4533         NaN             2010            Сильвен Шомэ      фэнтези   \n",
       "4537         NaN             2010            Доминик Сена      фэнтези   \n",
       "4542         NaN             2010              О.Асадулин        ужасы   \n",
       "4563         NaN             2010              Пол Хаггис       боевик   \n",
       "4578         NaN             2010              С.Гинзбург      комедия   \n",
       "4600         NaN             2010         Мартин Скорсезе      триллер   \n",
       "4661         NaN             2010           А.Хмельницкая    мелодрама   \n",
       "4740         NaN             2010             Саймон Уэст       боевик   \n",
       "4748         NaN             2010             Пьер Коффин   мультфильм   \n",
       "4772         NaN             2010              Фатих Акин        драма   \n",
       "4790         NaN             2010               О.Фесенко        драма   \n",
       "4792         NaN             2010         М.Найт Шьямалан      фэнтези   \n",
       "\n",
       "     ratio_budget_support payback  \n",
       "3790                  NaN     NaN  \n",
       "3802                  NaN     NaN  \n",
       "3827                  NaN     NaN  \n",
       "3905                  NaN     NaN  \n",
       "3906                  NaN     NaN  \n",
       "3917                  NaN     NaN  \n",
       "3921                  NaN     NaN  \n",
       "3994                  NaN     NaN  \n",
       "4063                  NaN     NaN  \n",
       "4066                  NaN     NaN  \n",
       "4125                  NaN     NaN  \n",
       "4134                  NaN     NaN  \n",
       "4164                  NaN     NaN  \n",
       "4203                  NaN     NaN  \n",
       "4208                  NaN     NaN  \n",
       "4220                  NaN     NaN  \n",
       "4245                  NaN     NaN  \n",
       "4276                  NaN     NaN  \n",
       "4296                  NaN     NaN  \n",
       "4308                  NaN     NaN  \n",
       "4362                  NaN     NaN  \n",
       "4365                  NaN     NaN  \n",
       "4388                  NaN     NaN  \n",
       "4393                  NaN     NaN  \n",
       "4411                  NaN     NaN  \n",
       "4432                  NaN     NaN  \n",
       "4440                  NaN     NaN  \n",
       "4442                  NaN     NaN  \n",
       "4448                  NaN     NaN  \n",
       "4459                  NaN     NaN  \n",
       "4525                  NaN     NaN  \n",
       "4529                  NaN     NaN  \n",
       "4533                  NaN     NaN  \n",
       "4537                  NaN     NaN  \n",
       "4542                  NaN     NaN  \n",
       "4563                  NaN     NaN  \n",
       "4578                  NaN     NaN  \n",
       "4600                  NaN     NaN  \n",
       "4661                  NaN     NaN  \n",
       "4740                  NaN     NaN  \n",
       "4748                  NaN     NaN  \n",
       "4772                  NaN     NaN  \n",
       "4790                  NaN     NaN  \n",
       "4792                  NaN     NaN  \n",
       "\n",
       "[44 rows x 22 columns]"
      ]
     },
     "execution_count": 80,
     "metadata": {},
     "output_type": "execute_result"
    }
   ],
   "source": [
    "data.query('year_show_start==2010 & box_office<1000')"
   ]
  },
  {
   "cell_type": "markdown",
   "metadata": {},
   "source": [
    "Видим, что мы не можем использовать данные о сборах до 2015 года, т.к они не соответсвуют действительности."
   ]
  },
  {
   "cell_type": "code",
   "execution_count": 81,
   "metadata": {},
   "outputs": [],
   "source": [
    "#сохраним данные с 2015 года в новую переменную\n",
    "data_new = data.query('year_show_start>=2015')"
   ]
  },
  {
   "cell_type": "code",
   "execution_count": 82,
   "metadata": {},
   "outputs": [
    {
     "data": {
      "text/plain": [
       "(3693, 22)"
      ]
     },
     "execution_count": 82,
     "metadata": {},
     "output_type": "execute_result"
    }
   ],
   "source": [
    "#проверим объем данных после удаления\n",
    "data_new.shape"
   ]
  },
  {
   "cell_type": "markdown",
   "metadata": {},
   "source": [
    "### Жанры фильмов"
   ]
  },
  {
   "cell_type": "markdown",
   "metadata": {},
   "source": [
    "Посмотрим какие жанры собирают больше"
   ]
  },
  {
   "cell_type": "code",
   "execution_count": 83,
   "metadata": {},
   "outputs": [
    {
     "data": {
      "text/plain": [
       "<AxesSubplot:title={'center':'Сборы в разрезе жанров'}, ylabel='Жанр'>"
      ]
     },
     "execution_count": 83,
     "metadata": {},
     "output_type": "execute_result"
    },
    {
     "data": {
      "image/png": "[encoded data removed]",
      "text/plain": [
       "<Figure size 1080x360 with 1 Axes>"
      ]
     },
     "metadata": {
      "needs_background": "light"
     },
     "output_type": "display_data"
    }
   ],
   "source": [
    "data_new.pivot_table(\n",
    "    index='main_genre', \n",
    "    values='box_office',\n",
    "    aggfunc='sum').sort_values(\n",
    "    by='box_office', \n",
    "    ascending=True).plot(\n",
    "    kind='barh',\n",
    "    xlabel='Жанр', \n",
    "    ylabel='Сумма сборов',\n",
    "    title='Сборы в разрезе жанров',\n",
    "    figsize=(15,5)\n",
    ")"
   ]
  },
  {
   "cell_type": "markdown",
   "metadata": {},
   "source": [
    "Видим, что больше всего сборов у фантастики и мультфильмов."
   ]
  },
  {
   "cell_type": "markdown",
   "metadata": {},
   "source": [
    "### Влияние возрастного ограничения на сборы "
   ]
  },
  {
   "cell_type": "markdown",
   "metadata": {
    "id": "Ok89WFwJgFyZ"
   },
   "source": [
    "Посмотрим влияет ли возрастное ограничение аудитории («6+», «12+», «16+», «18+» и т. д.) на сборы фильма в прокате в период с 2015 по 2019 год."
   ]
  },
  {
   "cell_type": "code",
   "execution_count": 84,
   "metadata": {},
   "outputs": [
    {
     "data": {
      "text/plain": [
       "<AxesSubplot:title={'center':'Влияние возрастного ограничения на сборы'}, ylabel='возрастное ограничение'>"
      ]
     },
     "execution_count": 84,
     "metadata": {},
     "output_type": "execute_result"
    },
    {
     "data": {
      "image/png": "[encoded data removed]",
      "text/plain": [
       "<Figure size 720x360 with 1 Axes>"
      ]
     },
     "metadata": {
      "needs_background": "light"
     },
     "output_type": "display_data"
    }
   ],
   "source": [
    "#построим столбчатую гистаграмму\n",
    "data_new.groupby('age_restriction')[['box_office']].sum().sort_values(\n",
    "    by='box_office', \n",
    "    ascending=True).plot(\n",
    "    xlabel='возрастное ограничение', \n",
    "    ylabel='сборы руб',\n",
    "    title='Влияние возрастного ограничения на сборы',\n",
    "    kind='barh', \n",
    "    figsize=(10,5)\n",
    ")"
   ]
  },
  {
   "cell_type": "markdown",
   "metadata": {},
   "source": [
    "Видим, что фильмы 16+ собирают больше сборов. \n",
    "Посмотрим менялась ли картина в зависимости от года."
   ]
  },
  {
   "cell_type": "code",
   "execution_count": 85,
   "metadata": {
    "id": "jsSbEqfjgFya"
   },
   "outputs": [
    {
     "data": {
      "text/plain": [
       "<AxesSubplot:title={'center':'Влияние возрастного ограничения на сборы по годам'}, ylabel='возрастное ограничение'>"
      ]
     },
     "execution_count": 85,
     "metadata": {},
     "output_type": "execute_result"
    },
    {
     "data": {
      "image/png": "[encoded data removed]",
      "text/plain": [
       "<Figure size 1080x720 with 1 Axes>"
      ]
     },
     "metadata": {
      "needs_background": "light"
     },
     "output_type": "display_data"
    }
   ],
   "source": [
    "data_new.pivot_table(\n",
    "    index='year_show_start', \n",
    "    columns='age_restriction', \n",
    "    values='box_office',\n",
    "    aggfunc='sum').plot(\n",
    "    xlabel='возрастное ограничение', \n",
    "    ylabel='сборы',\n",
    "    title='Влияние возрастного ограничения на сборы по годам',\n",
    "    kind='barh',\n",
    "    figsize=(15,10)\n",
    ")"
   ]
  },
  {
   "cell_type": "code",
   "execution_count": 86,
   "metadata": {},
   "outputs": [
    {
     "data": {
      "text/html": [
       "<div>\n",
       "<style scoped>\n",
       "    .dataframe tbody tr th:only-of-type {\n",
       "        vertical-align: middle;\n",
       "    }\n",
       "\n",
       "    .dataframe tbody tr th {\n",
       "        vertical-align: top;\n",
       "    }\n",
       "\n",
       "    .dataframe thead th {\n",
       "        text-align: right;\n",
       "    }\n",
       "</style>\n",
       "<table border=\"1\" class=\"dataframe\">\n",
       "  <thead>\n",
       "    <tr style=\"text-align: right;\">\n",
       "      <th>year_show_start</th>\n",
       "      <th>2015</th>\n",
       "      <th>2016</th>\n",
       "      <th>2017</th>\n",
       "      <th>2018</th>\n",
       "      <th>2019</th>\n",
       "    </tr>\n",
       "    <tr>\n",
       "      <th>age_restriction</th>\n",
       "      <th></th>\n",
       "      <th></th>\n",
       "      <th></th>\n",
       "      <th></th>\n",
       "      <th></th>\n",
       "    </tr>\n",
       "  </thead>\n",
       "  <tbody>\n",
       "    <tr>\n",
       "      <th>«0+» - для любой зрительской аудитории</th>\n",
       "      <td>379054578.370</td>\n",
       "      <td>150228848.670</td>\n",
       "      <td>229598930.000</td>\n",
       "      <td>32449002.110</td>\n",
       "      <td>17746066.820</td>\n",
       "    </tr>\n",
       "    <tr>\n",
       "      <th>«12+» - для детей старше 12 лет</th>\n",
       "      <td>13616082008.910</td>\n",
       "      <td>12204446524.390</td>\n",
       "      <td>7851427660.670</td>\n",
       "      <td>14267291660.690</td>\n",
       "      <td>12680198773.670</td>\n",
       "    </tr>\n",
       "    <tr>\n",
       "      <th>«16+» - для детей старше 16 лет</th>\n",
       "      <td>11368120870.270</td>\n",
       "      <td>16664548541.740</td>\n",
       "      <td>18745042900.060</td>\n",
       "      <td>16503602346.960</td>\n",
       "      <td>12753418984.600</td>\n",
       "    </tr>\n",
       "    <tr>\n",
       "      <th>«18+» - запрещено для детей</th>\n",
       "      <td>5432308367.440</td>\n",
       "      <td>6793929818.870</td>\n",
       "      <td>9651495581.020</td>\n",
       "      <td>8760085501.150</td>\n",
       "      <td>10121796303.640</td>\n",
       "    </tr>\n",
       "    <tr>\n",
       "      <th>«6+» - для детей старше 6 лет</th>\n",
       "      <td>8701799371.410</td>\n",
       "      <td>12053146008.240</td>\n",
       "      <td>12086142145.760</td>\n",
       "      <td>10104974623.410</td>\n",
       "      <td>12852548650.860</td>\n",
       "    </tr>\n",
       "  </tbody>\n",
       "</table>\n",
       "</div>"
      ],
      "text/plain": [
       "year_show_start                                   2015            2016  \\\n",
       "age_restriction                                                          \n",
       "«0+» - для любой зрительской аудитории   379054578.370   150228848.670   \n",
       "«12+» - для детей старше 12 лет        13616082008.910 12204446524.390   \n",
       "«16+» - для детей старше 16 лет        11368120870.270 16664548541.740   \n",
       "«18+» - запрещено для детей             5432308367.440  6793929818.870   \n",
       "«6+» - для детей старше 6 лет           8701799371.410 12053146008.240   \n",
       "\n",
       "year_show_start                                   2017            2018  \\\n",
       "age_restriction                                                          \n",
       "«0+» - для любой зрительской аудитории   229598930.000    32449002.110   \n",
       "«12+» - для детей старше 12 лет         7851427660.670 14267291660.690   \n",
       "«16+» - для детей старше 16 лет        18745042900.060 16503602346.960   \n",
       "«18+» - запрещено для детей             9651495581.020  8760085501.150   \n",
       "«6+» - для детей старше 6 лет          12086142145.760 10104974623.410   \n",
       "\n",
       "year_show_start                                   2019  \n",
       "age_restriction                                         \n",
       "«0+» - для любой зрительской аудитории    17746066.820  \n",
       "«12+» - для детей старше 12 лет        12680198773.670  \n",
       "«16+» - для детей старше 16 лет        12753418984.600  \n",
       "«18+» - запрещено для детей            10121796303.640  \n",
       "«6+» - для детей старше 6 лет          12852548650.860  "
      ]
     },
     "execution_count": 86,
     "metadata": {},
     "output_type": "execute_result"
    }
   ],
   "source": [
    "data_new.pivot_table(\n",
    "    index='age_restriction', \n",
    "    columns='year_show_start', \n",
    "    values='box_office',\n",
    "    aggfunc=('sum')\n",
    ")"
   ]
  },
  {
   "cell_type": "markdown",
   "metadata": {},
   "source": [
    "Самые высокие кассовые сборы наблюдаются в категориях «12+» и «16+». Это может указывать на то, что фильмы, предназначенные для подростков и взрослой аудитории, пользуются большей популярностью и приносят больше дохода.\n",
    "В целом, категории «12+» и «16+» показывают стабильно высокие сборы на протяжении всех представленных лет. Однако, есть некоторое снижение в категории «12+» в 2017 году, что может быть связано с конкретными рыночными условиями или популярностью определённых фильмов в этот период.\n",
    "\n",
    "Для категории «6+» характерен рост сборов с 2015 по 2019 год, что может свидетельствовать о растущем интересе к фильмам, подходящим для детей старше 6 лет.\n",
    "\n",
    "Наблюдается значительное снижение сборов в категории «0+» после 2015 года, что может указывать на сокращение числа фильмов, подходящих для всех возрастных групп, или на изменение интересов зрителей.\n",
    "\n",
    "Категория «18+» показывает рост сборов с 2015 по 2017 год, затем небольшое снижение в 2018 году и снова рост в 2019 году. Это может отражать колебания в производстве и популярности фильмов для взрослых.\n"
   ]
  },
  {
   "cell_type": "markdown",
   "metadata": {},
   "source": [
    "<div class=\"alert alert-block alert-danger\">\n",
    "<h3> Комментарий ревьюера ❌<a class=\"tocSkip\"></h3>\n",
    "\n",
    "Да, верно группа 16+ собирает больше других во все годы. Но описать только одну группу, к сожалению, недостаточно. Чтобы показать результаты в динамике, опиши и другие группы, пожалуйста, и добавь название и подписи к графику.\n",
    "\n",
    "</div>"
   ]
  },
  {
   "cell_type": "markdown",
   "metadata": {},
   "source": [
    "<div class=\"alert alert-block alert-info\">\n",
    "    \n",
    "<h3> Комментарий студента  <a class=\"tocSkip\"></h3>\n",
    "    \n",
    "Готово\n",
    "    \n",
    "</div>"
   ]
  },
  {
   "cell_type": "markdown",
   "metadata": {},
   "source": [
    " <div class=\"alert alert-success\">\n",
    "<h3> Комментарий ревьюера v2 ✔️<a class=\"tocSkip\"> </h3>\n",
    "\n",
    " Очень хороший вывод. Теперь данные описаны значительно подробнее! Я бы добавил, что в 2018 году происходят какие-то интересные процессы, так как падают ранее популярные фильмы (6+, 18+) и растут ранее менее популярные (12+). \n",
    "</div>"
   ]
  },
  {
   "cell_type": "markdown",
   "metadata": {},
   "source": [
    "### Промежуточный итог "
   ]
  },
  {
   "cell_type": "markdown",
   "metadata": {},
   "source": [
    "Были обнаружены проблемы в данных по сборам за 2010-2015 год.\n",
    "\n",
    "О фильмах 2015-2017 года имеется более полная информация о сборах в кинотеатрах (более 70%), чем за все предыдущие годы.\n",
    "Связано это с внедрением ЕАИС и подлючением к ним кинотеатров в 2015 году.\n",
    "\n",
    "В 2017 год сумма сборов была максимальной, в 2015 - минимальная.\n",
    "\n",
    "Самые высокие кассовые сборы наблюдаются в категориях «12+» и «16+». Это может указывать на то, что фильмы, предназначенные для подростков и взрослой аудитории, пользуются большей популярностью и приносят больше дохода.\n",
    "\n",
    "Для категории «6+» характерен рост сборов с 2015 по 2019 год, что может свидетельствовать о растущем интересе к фильмам, подходящим для детей старше 6 лет.\n",
    "\n",
    "Наблюдается значительное снижение сборов в категории «0+» после 2015 года, что может указывать на сокращение числа фильмов, подходящих для всех возрастных групп, или на изменение интересов зрителей.\n",
    "\n",
    "Категория «18+» показывает рост сборов с 2015 по 2017 год, затем небольшое снижение в 2018 году и снова рост в 2019 году. Это может отражать колебания в производстве и популярности фильмов для взрослых."
   ]
  },
  {
   "cell_type": "markdown",
   "metadata": {},
   "source": [
    "<div class=\"alert alert-block alert-danger\">\n",
    "<h3> Комментарий ревьюера ❌<a class=\"tocSkip\"></h3>\n",
    "\n",
    "Супер, все шаги учтены. Но некоторые выводы немного изменятся после доработок.\n",
    "\n",
    "</div>\n"
   ]
  },
  {
   "cell_type": "markdown",
   "metadata": {},
   "source": [
    "<div class=\"alert alert-block alert-info\">\n",
    "    \n",
    "<h3> Комментарий студента  <a class=\"tocSkip\"></h3>\n",
    "    \n",
    "Добавила.\n",
    "    \n",
    "</div>"
   ]
  },
  {
   "cell_type": "markdown",
   "metadata": {},
   "source": [
    " <div class=\"alert alert-success\">\n",
    "<h3> Комментарий ревьюера v2 ✔️<a class=\"tocSkip\"> </h3>\n",
    "\n",
    " Отлично, изменения учтены!\n",
    "</div>"
   ]
  },
  {
   "cell_type": "markdown",
   "metadata": {
    "id": "l_Kg6Ku4gFya"
   },
   "source": [
    "## Фильмы, которые получили государственную поддержку"
   ]
  },
  {
   "cell_type": "code",
   "execution_count": 87,
   "metadata": {
    "id": "W9QKpjUdgFyb"
   },
   "outputs": [],
   "source": [
    "#создадим переменную для фильмов с гос.поддержкой\n",
    "data_support = data.query('sum_support>0')"
   ]
  },
  {
   "cell_type": "code",
   "execution_count": 88,
   "metadata": {},
   "outputs": [
    {
     "data": {
      "text/plain": [
       "(332, 22)"
      ]
     },
     "execution_count": 88,
     "metadata": {},
     "output_type": "execute_result"
    }
   ],
   "source": [
    "data_support.shape"
   ]
  },
  {
   "cell_type": "markdown",
   "metadata": {},
   "source": [
    "Источник гос.поддержки"
   ]
  },
  {
   "cell_type": "code",
   "execution_count": 89,
   "metadata": {},
   "outputs": [
    {
     "data": {
      "text/html": [
       "<div>\n",
       "<style scoped>\n",
       "    .dataframe tbody tr th:only-of-type {\n",
       "        vertical-align: middle;\n",
       "    }\n",
       "\n",
       "    .dataframe tbody tr th {\n",
       "        vertical-align: top;\n",
       "    }\n",
       "\n",
       "    .dataframe thead th {\n",
       "        text-align: right;\n",
       "    }\n",
       "</style>\n",
       "<table border=\"1\" class=\"dataframe\">\n",
       "  <thead>\n",
       "    <tr style=\"text-align: right;\">\n",
       "      <th></th>\n",
       "      <th>count</th>\n",
       "      <th>sum</th>\n",
       "    </tr>\n",
       "    <tr>\n",
       "      <th>financing_source</th>\n",
       "      <th></th>\n",
       "      <th></th>\n",
       "    </tr>\n",
       "  </thead>\n",
       "  <tbody>\n",
       "    <tr>\n",
       "      <th>Министерство культуры</th>\n",
       "      <td>164</td>\n",
       "      <td>4836661000.000</td>\n",
       "    </tr>\n",
       "    <tr>\n",
       "      <th>Министерство культуры, Фонд кино</th>\n",
       "      <td>22</td>\n",
       "      <td>1185431354.000</td>\n",
       "    </tr>\n",
       "    <tr>\n",
       "      <th>Фонд кино</th>\n",
       "      <td>146</td>\n",
       "      <td>14178595958.000</td>\n",
       "    </tr>\n",
       "  </tbody>\n",
       "</table>\n",
       "</div>"
      ],
      "text/plain": [
       "                                  count             sum\n",
       "financing_source                                       \n",
       "Министерство культуры               164  4836661000.000\n",
       "Министерство культуры, Фонд кино     22  1185431354.000\n",
       "Фонд кино                           146 14178595958.000"
      ]
     },
     "execution_count": 89,
     "metadata": {},
     "output_type": "execute_result"
    }
   ],
   "source": [
    "data_support.pivot_table(\n",
    "    index='financing_source', \n",
    "    values='sum_support',\n",
    "    aggfunc=('sum', 'count')\n",
    ")"
   ]
  },
  {
   "cell_type": "code",
   "execution_count": 90,
   "metadata": {},
   "outputs": [
    {
     "data": {
      "text/plain": [
       "array([<AxesSubplot:ylabel='гос.поддержка руб'>], dtype=object)"
      ]
     },
     "execution_count": 90,
     "metadata": {},
     "output_type": "execute_result"
    },
    {
     "data": {
      "image/png": "[encoded data removed]",
      "text/plain": [
       "<Figure size 576x576 with 1 Axes>"
      ]
     },
     "metadata": {},
     "output_type": "display_data"
    }
   ],
   "source": [
    "data_support.groupby('financing_source')[['sum_support']].sum().plot(\n",
    "    xlabel='год', \n",
    "    ylabel='гос.поддержка руб',\n",
    "    title='Сумма гос.поддержки по годам',\n",
    "    kind='pie',\n",
    "    autopct='%1.1f%%',\n",
    "    subplots=True,\n",
    "    figsize=(8,8)\n",
    ")"
   ]
  },
  {
   "cell_type": "markdown",
   "metadata": {},
   "source": [
    "Главным источником гос.поддержки кинопроизводства (71,1%) является Фонд кино."
   ]
  },
  {
   "cell_type": "markdown",
   "metadata": {},
   "source": [
    " <div class=\"alert alert-success\">\n",
    "<h3> Комментарий ревьюера ✔️<a class=\"tocSkip\"> </h3>\n",
    "\n",
    " Верно! Отличный выбор графика. При небольшом количестве категорий он позволяет наглядно сравнить доли.\n",
    "</div>\n"
   ]
  },
  {
   "cell_type": "markdown",
   "metadata": {},
   "source": [
    "Посмотрим сколько средств было выделено на поддержку кино по годам"
   ]
  },
  {
   "cell_type": "code",
   "execution_count": 91,
   "metadata": {
    "scrolled": true
   },
   "outputs": [
    {
     "data": {
      "text/plain": [
       "<AxesSubplot:title={'center':'Сумма гос.поддержки по годам'}, xlabel='год', ylabel='гос.поддержка руб'>"
      ]
     },
     "execution_count": 91,
     "metadata": {},
     "output_type": "execute_result"
    },
    {
     "data": {
      "image/png": "[encoded data removed]",
      "text/plain": [
       "<Figure size 576x288 with 1 Axes>"
      ]
     },
     "metadata": {
      "needs_background": "light"
     },
     "output_type": "display_data"
    }
   ],
   "source": [
    "data_support.groupby('year_show_start')[['sum_support']].sum().plot(\n",
    "    xlabel='год', \n",
    "    ylabel='гос.поддержка руб',\n",
    "    title='Сумма гос.поддержки по годам',\n",
    "    kind='bar',\n",
    "    figsize=(8,4)\n",
    ")"
   ]
  },
  {
   "cell_type": "code",
   "execution_count": 92,
   "metadata": {
    "scrolled": true
   },
   "outputs": [
    {
     "data": {
      "text/html": [
       "<div>\n",
       "<style scoped>\n",
       "    .dataframe tbody tr th:only-of-type {\n",
       "        vertical-align: middle;\n",
       "    }\n",
       "\n",
       "    .dataframe tbody tr th {\n",
       "        vertical-align: top;\n",
       "    }\n",
       "\n",
       "    .dataframe thead th {\n",
       "        text-align: right;\n",
       "    }\n",
       "</style>\n",
       "<table border=\"1\" class=\"dataframe\">\n",
       "  <thead>\n",
       "    <tr style=\"text-align: right;\">\n",
       "      <th></th>\n",
       "      <th>count</th>\n",
       "      <th>sum</th>\n",
       "    </tr>\n",
       "    <tr>\n",
       "      <th>year_show_start</th>\n",
       "      <th></th>\n",
       "      <th></th>\n",
       "    </tr>\n",
       "  </thead>\n",
       "  <tbody>\n",
       "    <tr>\n",
       "      <th>2013</th>\n",
       "      <td>2</td>\n",
       "      <td>134347945.000</td>\n",
       "    </tr>\n",
       "    <tr>\n",
       "      <th>2014</th>\n",
       "      <td>16</td>\n",
       "      <td>572002299.000</td>\n",
       "    </tr>\n",
       "    <tr>\n",
       "      <th>2015</th>\n",
       "      <td>86</td>\n",
       "      <td>3656241459.000</td>\n",
       "    </tr>\n",
       "    <tr>\n",
       "      <th>2016</th>\n",
       "      <td>61</td>\n",
       "      <td>4303155482.000</td>\n",
       "    </tr>\n",
       "    <tr>\n",
       "      <th>2017</th>\n",
       "      <td>41</td>\n",
       "      <td>3183971662.000</td>\n",
       "    </tr>\n",
       "    <tr>\n",
       "      <th>2018</th>\n",
       "      <td>56</td>\n",
       "      <td>3446969465.000</td>\n",
       "    </tr>\n",
       "    <tr>\n",
       "      <th>2019</th>\n",
       "      <td>70</td>\n",
       "      <td>4904000000.000</td>\n",
       "    </tr>\n",
       "  </tbody>\n",
       "</table>\n",
       "</div>"
      ],
      "text/plain": [
       "                 count            sum\n",
       "year_show_start                      \n",
       "2013                 2  134347945.000\n",
       "2014                16  572002299.000\n",
       "2015                86 3656241459.000\n",
       "2016                61 4303155482.000\n",
       "2017                41 3183971662.000\n",
       "2018                56 3446969465.000\n",
       "2019                70 4904000000.000"
      ]
     },
     "execution_count": 92,
     "metadata": {},
     "output_type": "execute_result"
    }
   ],
   "source": [
    "data_support.pivot_table(\n",
    "    index='year_show_start', \n",
    "    values='sum_support',\n",
    "    aggfunc=('sum', 'count')\n",
    ")"
   ]
  },
  {
   "cell_type": "markdown",
   "metadata": {},
   "source": [
    "В 2019 году были выделена максимальная сумма поддержки (5 млрд руб)."
   ]
  },
  {
   "cell_type": "markdown",
   "metadata": {},
   "source": [
    " <div class=\"alert alert-success\">\n",
    "<h3> Комментарий ревьюера ✔️<a class=\"tocSkip\"> </h3>\n",
    "\n",
    " Да, верно \n",
    "</div>"
   ]
  },
  {
   "cell_type": "markdown",
   "metadata": {},
   "source": [
    "Жанры фильмов"
   ]
  },
  {
   "cell_type": "code",
   "execution_count": 93,
   "metadata": {},
   "outputs": [
    {
     "data": {
      "text/plain": [
       "<AxesSubplot:title={'center':'Сумма гос.поддержки по жанрам'}, ylabel='жанр'>"
      ]
     },
     "execution_count": 93,
     "metadata": {},
     "output_type": "execute_result"
    },
    {
     "data": {
      "image/png": "[encoded data removed]",
      "text/plain": [
       "<Figure size 1080x360 with 1 Axes>"
      ]
     },
     "metadata": {
      "needs_background": "light"
     },
     "output_type": "display_data"
    }
   ],
   "source": [
    "data_support.pivot_table(\n",
    "    index='main_genre', \n",
    "    values='sum_support',\n",
    "    aggfunc='sum').sort_values(\n",
    "    by='sum_support', \n",
    "    ascending=True).plot(\n",
    "    xlabel='жанр', \n",
    "    ylabel='гос.поддержка',\n",
    "    title='Сумма гос.поддержки по жанрам',\n",
    "    kind='barh',\n",
    "    figsize=(15,5)\n",
    ")"
   ]
  },
  {
   "cell_type": "markdown",
   "metadata": {},
   "source": [
    "На драмы и комедии было выделено больше всего поддержки.\n",
    "\n",
    "Посмотрим на количество поддерживаемых фильмов в определенном жанре."
   ]
  },
  {
   "cell_type": "code",
   "execution_count": 94,
   "metadata": {},
   "outputs": [
    {
     "data": {
      "text/plain": [
       "<AxesSubplot:title={'center':'Количество поддерживаемых фильмов по жанрам'}, ylabel='жанр'>"
      ]
     },
     "execution_count": 94,
     "metadata": {},
     "output_type": "execute_result"
    },
    {
     "data": {
      "image/png": "[encoded data removed]",
      "text/plain": [
       "<Figure size 1080x360 with 1 Axes>"
      ]
     },
     "metadata": {
      "needs_background": "light"
     },
     "output_type": "display_data"
    }
   ],
   "source": [
    "data_support.pivot_table(\n",
    "    index='main_genre',\n",
    "    values='sum_support',\n",
    "    aggfunc='count').sort_values(\n",
    "    by='sum_support',\n",
    "    ascending=True).plot(\n",
    "    xlabel='жанр', \n",
    "    ylabel='количество',\n",
    "    title='Количество поддерживаемых фильмов по жанрам',\n",
    "    kind='barh',\n",
    "    figsize=(15,5)\n",
    ")"
   ]
  },
  {
   "cell_type": "markdown",
   "metadata": {},
   "source": [
    "Фильмы жанров драма и комедия получают гос.поддержки значительно чаще фильмов др.жанров."
   ]
  },
  {
   "cell_type": "markdown",
   "metadata": {},
   "source": [
    "<div class=\"alert alert-warning\">\n",
    "    <h3> Комментарий ревьюера ⚠️<a class=\"tocSkip\"> </h3>\n",
    "\n",
    "Верный вывод, но также стоит отсортировать данные для наглядности.\n",
    "\n",
    "Стоило бы сравнить результаты жанров по боксплотам, потому что суммарные продажи могут быть продиктованы большим количеством фильмов в определённом жанре.\n",
    "\n",
    "</div>"
   ]
  },
  {
   "cell_type": "markdown",
   "metadata": {},
   "source": [
    "<div class=\"alert alert-block alert-info\">\n",
    "    \n",
    "<h3> Комментарий студента  <a class=\"tocSkip\"></h3>\n",
    "    \n",
    "Исправила.\n",
    "    \n",
    "</div>"
   ]
  },
  {
   "cell_type": "markdown",
   "metadata": {},
   "source": [
    " <div class=\"alert alert-success\">\n",
    "<h3> Комментарий ревьюера v2 ✔️<a class=\"tocSkip\"> </h3>\n",
    "\n",
    " Здорово, что стараешься улучшать проект на каждом шаге. Это ценно! 🙏\n",
    "</div>"
   ]
  },
  {
   "cell_type": "markdown",
   "metadata": {},
   "source": [
    "Режиссер"
   ]
  },
  {
   "cell_type": "code",
   "execution_count": 95,
   "metadata": {},
   "outputs": [
    {
     "data": {
      "text/html": [
       "<div>\n",
       "<style scoped>\n",
       "    .dataframe tbody tr th:only-of-type {\n",
       "        vertical-align: middle;\n",
       "    }\n",
       "\n",
       "    .dataframe tbody tr th {\n",
       "        vertical-align: top;\n",
       "    }\n",
       "\n",
       "    .dataframe thead th {\n",
       "        text-align: right;\n",
       "    }\n",
       "</style>\n",
       "<table border=\"1\" class=\"dataframe\">\n",
       "  <thead>\n",
       "    <tr style=\"text-align: right;\">\n",
       "      <th></th>\n",
       "      <th>box_office</th>\n",
       "      <th>budget</th>\n",
       "      <th>payback</th>\n",
       "      <th>sum_support</th>\n",
       "    </tr>\n",
       "    <tr>\n",
       "      <th>main_director</th>\n",
       "      <th></th>\n",
       "      <th></th>\n",
       "      <th></th>\n",
       "      <th></th>\n",
       "    </tr>\n",
       "  </thead>\n",
       "  <tbody>\n",
       "    <tr>\n",
       "      <th>Ф.Бондарчук</th>\n",
       "      <td>1038321489.000</td>\n",
       "      <td>1194000000.000</td>\n",
       "      <td>788321489.000</td>\n",
       "      <td>750000000.000</td>\n",
       "    </tr>\n",
       "    <tr>\n",
       "      <th>Н.Хомерики</th>\n",
       "      <td>618142950.230</td>\n",
       "      <td>943704666.000</td>\n",
       "      <td>-325561715.770</td>\n",
       "      <td>660000000.000</td>\n",
       "    </tr>\n",
       "    <tr>\n",
       "      <th>А.Кравчук</th>\n",
       "      <td>717703185.530</td>\n",
       "      <td>980000000.000</td>\n",
       "      <td>-262296814.470</td>\n",
       "      <td>500000000.000</td>\n",
       "    </tr>\n",
       "    <tr>\n",
       "      <th>Р.Давлетьяров</th>\n",
       "      <td>299262932.440</td>\n",
       "      <td>770430237.000</td>\n",
       "      <td>-471167304.560</td>\n",
       "      <td>459847945.000</td>\n",
       "    </tr>\n",
       "    <tr>\n",
       "      <th>А.Мизгирев</th>\n",
       "      <td>364285139.600</td>\n",
       "      <td>684200536.000</td>\n",
       "      <td>-319915396.400</td>\n",
       "      <td>450000000.000</td>\n",
       "    </tr>\n",
       "    <tr>\n",
       "      <th>...</th>\n",
       "      <td>...</td>\n",
       "      <td>...</td>\n",
       "      <td>...</td>\n",
       "      <td>...</td>\n",
       "    </tr>\n",
       "    <tr>\n",
       "      <th>Ю.Кара</th>\n",
       "      <td>334750.000</td>\n",
       "      <td>40000000.000</td>\n",
       "      <td>-39665250.000</td>\n",
       "      <td>10000000.000</td>\n",
       "    </tr>\n",
       "    <tr>\n",
       "      <th>Е.Жигаева</th>\n",
       "      <td>270497.000</td>\n",
       "      <td>18166418.000</td>\n",
       "      <td>-17895921.000</td>\n",
       "      <td>8000000.000</td>\n",
       "    </tr>\n",
       "    <tr>\n",
       "      <th>Е.Константинова (псевдоним Алена Званцева)</th>\n",
       "      <td>2323980.000</td>\n",
       "      <td>28115580.000</td>\n",
       "      <td>-25791600.000</td>\n",
       "      <td>5000000.000</td>\n",
       "    </tr>\n",
       "    <tr>\n",
       "      <th>Н.Степанова при участии С.Иванова</th>\n",
       "      <td>801370.000</td>\n",
       "      <td>14462464.000</td>\n",
       "      <td>-13661094.000</td>\n",
       "      <td>4700000.000</td>\n",
       "    </tr>\n",
       "    <tr>\n",
       "      <th>А.Попова</th>\n",
       "      <td>0.000</td>\n",
       "      <td>33000000.000</td>\n",
       "      <td>0.000</td>\n",
       "      <td>3000000.000</td>\n",
       "    </tr>\n",
       "  </tbody>\n",
       "</table>\n",
       "<p>270 rows × 4 columns</p>\n",
       "</div>"
      ],
      "text/plain": [
       "                                               box_office         budget  \\\n",
       "main_director                                                              \n",
       "Ф.Бондарчук                                1038321489.000 1194000000.000   \n",
       "Н.Хомерики                                  618142950.230  943704666.000   \n",
       "А.Кравчук                                   717703185.530  980000000.000   \n",
       "Р.Давлетьяров                               299262932.440  770430237.000   \n",
       "А.Мизгирев                                  364285139.600  684200536.000   \n",
       "...                                                   ...            ...   \n",
       "Ю.Кара                                         334750.000   40000000.000   \n",
       "Е.Жигаева                                      270497.000   18166418.000   \n",
       "Е.Константинова (псевдоним Алена Званцева)    2323980.000   28115580.000   \n",
       "Н.Степанова при участии С.Иванова              801370.000   14462464.000   \n",
       "А.Попова                                            0.000   33000000.000   \n",
       "\n",
       "                                                  payback   sum_support  \n",
       "main_director                                                            \n",
       "Ф.Бондарчук                                 788321489.000 750000000.000  \n",
       "Н.Хомерики                                 -325561715.770 660000000.000  \n",
       "А.Кравчук                                  -262296814.470 500000000.000  \n",
       "Р.Давлетьяров                              -471167304.560 459847945.000  \n",
       "А.Мизгирев                                 -319915396.400 450000000.000  \n",
       "...                                                   ...           ...  \n",
       "Ю.Кара                                      -39665250.000  10000000.000  \n",
       "Е.Жигаева                                   -17895921.000   8000000.000  \n",
       "Е.Константинова (псевдоним Алена Званцева)  -25791600.000   5000000.000  \n",
       "Н.Степанова при участии С.Иванова           -13661094.000   4700000.000  \n",
       "А.Попова                                            0.000   3000000.000  \n",
       "\n",
       "[270 rows x 4 columns]"
      ]
     },
     "execution_count": 95,
     "metadata": {},
     "output_type": "execute_result"
    }
   ],
   "source": [
    "data_support.pivot_table(\n",
    "    index='main_director', \n",
    "    values=('sum_support', 'budget', 'box_office', 'payback'),\n",
    "    aggfunc='sum'\n",
    ").sort_values(by='sum_support', ascending=False)"
   ]
  },
  {
   "cell_type": "markdown",
   "metadata": {},
   "source": [
    "Больше всего поддержки было выделено Ф.Бондарчуку."
   ]
  },
  {
   "cell_type": "code",
   "execution_count": 96,
   "metadata": {},
   "outputs": [],
   "source": [
    "non_payback = data.query('payback<0')"
   ]
  },
  {
   "cell_type": "code",
   "execution_count": 97,
   "metadata": {},
   "outputs": [
    {
     "data": {
      "text/plain": [
       "(239, 22)"
      ]
     },
     "execution_count": 97,
     "metadata": {},
     "output_type": "execute_result"
    }
   ],
   "source": [
    "non_payback.shape"
   ]
  },
  {
   "cell_type": "markdown",
   "metadata": {},
   "source": [
    "Видим, что из 332 фильмов с гос.поддержкой не окупились 239 фильмов, т.е 72% фильмов."
   ]
  },
  {
   "cell_type": "markdown",
   "metadata": {},
   "source": [
    "Посмотрим как зрители стимингов оценили эти фильмы с гос.поддержкой"
   ]
  },
  {
   "cell_type": "code",
   "execution_count": 98,
   "metadata": {},
   "outputs": [
    {
     "data": {
      "text/plain": [
       "<AxesSubplot:title={'center':'Фильмы с поддержкой по рейтингу'}, xlabel='Рейтинг', ylabel='Сумма поддержки'>"
      ]
     },
     "execution_count": 98,
     "metadata": {},
     "output_type": "execute_result"
    },
    {
     "data": {
      "image/png": "[encoded data removed]",
      "text/plain": [
       "<Figure size 432x288 with 1 Axes>"
      ]
     },
     "metadata": {
      "needs_background": "light"
     },
     "output_type": "display_data"
    }
   ],
   "source": [
    "data_support.plot(\n",
    "    x='ratings', \n",
    "    y='sum_support',\n",
    "    xlabel='Рейтинг', \n",
    "    ylabel='Сумма поддержки',\n",
    "    title='Фильмы с поддержкой по рейтингу',\n",
    "    kind='scatter'\n",
    ")"
   ]
  },
  {
   "cell_type": "markdown",
   "metadata": {},
   "source": [
    "Видим, что фильмы с самыми большими суммами поддержки имеют рейтинг от 6 до 8. Рейтинг не зависит от суммы поддержки."
   ]
  },
  {
   "cell_type": "markdown",
   "metadata": {},
   "source": [
    " <div class=\"alert alert-success\">\n",
    "<h3> Комментарий ревьюера ✔️<a class=\"tocSkip\"> </h3>\n",
    "\n",
    " Вывод верный. Зависимости действительно не наблюдается.\n",
    "</div>"
   ]
  },
  {
   "cell_type": "markdown",
   "metadata": {
    "id": "V2gYwMcPgFyd"
   },
   "source": [
    "## ОБЩИЙ ВЫВОД"
   ]
  },
  {
   "cell_type": "markdown",
   "metadata": {
    "id": "AYRg3dzXgFye"
   },
   "source": [
    "**Краткий обзор проведённой работы:**\n",
    "\n",
    "В нашем распоряжении имелось 7486 строк данных о фильмах. \n",
    "Была проведена предобработка:\n",
    "1. заполнены пропуски в данных\n",
    "2. удалены строки с пропусками, которые нельзя заполнить\n",
    "3. изменены типы данных\n",
    "4. удалены дубликаты\n",
    "5. добавлены новые столбцы:\n",
    " - year_show_start - год премьеры фильма\n",
    " - main_director - основной режиссер\n",
    " - main_genre - основной жанр\n",
    " - ratio_budget_support - доля господдержки в бюджете фильма\n",
    " - payback - окупаемость  \n",
    "\n",
    "Проверены данные по сборам по годам и влияние возрастного ограничения на сборы и изучены фильмы, получавшие гос.поддержку.\n",
    "\n",
    " \n",
    "    \n",
    "**Главные выводы** \n",
    "\n",
    "Были обнаружены проблемы в данных по сборам за 2010-2015 год.\n",
    "О фильмах 2015-2017 года имеется более полная информация о сборах в кинотеатрах (более 70%), чем за все предыдущие годы.\n",
    "Связано это с внедрением ЕАИС и подлючением к ним кинотеатров в 2015 году.\n",
    "В 2017 год сумма сборов была максимальной, в 2015 - минимальная.\n",
    "\n",
    "Самые высокие кассовые сборы наблюдаются в категориях «12+» и «16+». Это может указывать на то, что фильмы, предназначенные для подростков и взрослой аудитории, пользуются большей популярностью и приносят больше дохода.\n",
    "\n",
    "Фильмы жанра фантастика и мультфильмы приносят больше сборов.\n",
    "\n",
    "Главным источником гос.поддержки кинопроизводства (71,1%) является Фонд кино.\n",
    "В 2019 году были выделена максимальная сумма поддержки (5 млрд руб).\n",
    "Больше всего поддержки было получено реж. Ф.Бондарчуком (750 млн руб)\n",
    "\n",
    "Из 332 фильмов с гос.поддержкой не окупились 239 фильмов (т.е 72% фильмов).\n",
    "Фильмы с самыми большими суммами поддержки имеют рейтинг от 6 до 8. Рейтинг не зависит от суммы поддержки.\n",
    "\n",
    "\n",
    "\n",
    "**Рекомендации** \n",
    "\n",
    "1. дальнейшее развитие ЕАИС\n",
    "2. поддержка фильмов жанра фантастика и мультфильмы\n",
    "3. поддержка кинопроизводства другими способами (возможно обучение, стажировки, развитие компьютерной графики).\n"
   ]
  },
  {
   "cell_type": "markdown",
   "metadata": {},
   "source": [
    "<div class=\"alert alert-success\">\n",
    "<h3> Комментарий ревьюера ✔️<a class=\"tocSkip\"> </h3>\n",
    "\n",
    "Хороший структурированный вывод, учитывающий все показатели и этапы проекта. Отличная работа!\n",
    "    \n",
    "</div>"
   ]
  }
 ],
 "metadata": {
  "ExecuteTimeLog": [
   {
    "duration": 537,
    "start_time": "2021-07-07T10:12:08.634Z"
   },
   {
    "duration": 206,
    "start_time": "2021-07-07T10:12:30.191Z"
   },
   {
    "duration": 227,
    "start_time": "2021-07-07T10:12:33.078Z"
   },
   {
    "duration": 153,
    "start_time": "2021-07-07T10:13:42.146Z"
   },
   {
    "duration": 233,
    "start_time": "2021-07-07T10:30:09.252Z"
   },
   {
    "duration": 19,
    "start_time": "2021-07-07T10:30:15.577Z"
   },
   {
    "duration": 18,
    "start_time": "2021-07-07T10:30:57.348Z"
   },
   {
    "duration": 19,
    "start_time": "2021-07-07T10:31:17.452Z"
   },
   {
    "duration": 21,
    "start_time": "2021-07-07T10:31:32.227Z"
   },
   {
    "duration": 27,
    "start_time": "2021-07-07T10:32:06.588Z"
   },
   {
    "duration": 23,
    "start_time": "2021-07-07T10:32:43.645Z"
   },
   {
    "duration": 24,
    "start_time": "2021-07-07T10:33:06.948Z"
   },
   {
    "duration": 7,
    "start_time": "2021-07-07T10:33:28.558Z"
   },
   {
    "duration": 23,
    "start_time": "2021-07-07T10:33:43.761Z"
   },
   {
    "duration": 28,
    "start_time": "2021-07-07T10:34:13.466Z"
   },
   {
    "duration": 23,
    "start_time": "2021-07-07T10:35:56.187Z"
   },
   {
    "duration": 6,
    "start_time": "2021-07-07T10:36:48.182Z"
   },
   {
    "duration": 14,
    "start_time": "2021-07-07T10:37:49.641Z"
   },
   {
    "duration": 6,
    "start_time": "2021-07-07T10:38:06.694Z"
   },
   {
    "duration": 6,
    "start_time": "2021-07-07T10:38:13.493Z"
   },
   {
    "duration": 19,
    "start_time": "2021-07-07T10:38:44.056Z"
   },
   {
    "duration": 186,
    "start_time": "2021-07-07T10:48:35.618Z"
   },
   {
    "duration": 24,
    "start_time": "2021-07-07T10:48:51.498Z"
   },
   {
    "duration": 20,
    "start_time": "2021-07-07T10:48:59.415Z"
   },
   {
    "duration": 20,
    "start_time": "2021-07-07T10:53:02.195Z"
   },
   {
    "duration": 188,
    "start_time": "2021-07-07T10:54:40.486Z"
   },
   {
    "duration": 115,
    "start_time": "2021-07-07T10:54:52.552Z"
   },
   {
    "duration": 214,
    "start_time": "2021-07-07T10:54:56.354Z"
   },
   {
    "duration": 47,
    "start_time": "2021-07-07T10:54:58.282Z"
   },
   {
    "duration": 217,
    "start_time": "2021-07-07T10:59:16.075Z"
   },
   {
    "duration": 51,
    "start_time": "2021-07-07T10:59:16.243Z"
   },
   {
    "duration": 578,
    "start_time": "2021-07-07T10:59:18.774Z"
   },
   {
    "duration": 161,
    "start_time": "2021-07-07T10:59:21.238Z"
   },
   {
    "duration": 59,
    "start_time": "2021-07-07T10:59:21.453Z"
   },
   {
    "duration": 3,
    "start_time": "2021-07-07T11:02:10.786Z"
   },
   {
    "duration": 13,
    "start_time": "2021-07-07T11:07:07.722Z"
   },
   {
    "duration": 26,
    "start_time": "2021-07-07T11:07:17.958Z"
   },
   {
    "duration": 22,
    "start_time": "2021-07-07T11:08:17.939Z"
   },
   {
    "duration": 212,
    "start_time": "2021-07-07T11:08:19.665Z"
   },
   {
    "duration": 21,
    "start_time": "2021-07-07T11:08:29.945Z"
   },
   {
    "duration": 31,
    "start_time": "2021-07-07T11:08:38.899Z"
   },
   {
    "duration": 23,
    "start_time": "2021-07-07T11:08:54.527Z"
   },
   {
    "duration": 8,
    "start_time": "2021-07-07T11:18:55.974Z"
   },
   {
    "duration": 7,
    "start_time": "2021-07-07T11:19:03.639Z"
   },
   {
    "duration": 7,
    "start_time": "2021-07-07T11:19:06.444Z"
   },
   {
    "duration": 578,
    "start_time": "2021-07-07T12:09:59.576Z"
   },
   {
    "duration": 195,
    "start_time": "2021-07-07T12:10:00.156Z"
   },
   {
    "duration": 115,
    "start_time": "2021-07-07T12:10:00.353Z"
   },
   {
    "duration": 3,
    "start_time": "2021-07-07T12:10:00.470Z"
   },
   {
    "duration": 32,
    "start_time": "2021-07-07T12:10:00.474Z"
   },
   {
    "duration": 23,
    "start_time": "2021-07-07T12:10:00.508Z"
   },
   {
    "duration": 19,
    "start_time": "2021-07-07T12:10:00.533Z"
   },
   {
    "duration": 44,
    "start_time": "2021-07-07T12:10:00.553Z"
   },
   {
    "duration": 7,
    "start_time": "2021-07-07T12:10:00.600Z"
   },
   {
    "duration": 7,
    "start_time": "2021-07-07T12:19:45.761Z"
   },
   {
    "duration": 21,
    "start_time": "2021-07-07T12:21:35.482Z"
   },
   {
    "duration": 21,
    "start_time": "2021-07-07T12:29:23.569Z"
   },
   {
    "duration": 525,
    "start_time": "2021-07-07T12:29:44.542Z"
   },
   {
    "duration": 214,
    "start_time": "2021-07-07T12:29:45.069Z"
   },
   {
    "duration": 92,
    "start_time": "2021-07-07T12:29:45.285Z"
   },
   {
    "duration": 3,
    "start_time": "2021-07-07T12:29:45.379Z"
   },
   {
    "duration": 28,
    "start_time": "2021-07-07T12:29:45.384Z"
   },
   {
    "duration": 23,
    "start_time": "2021-07-07T12:29:45.413Z"
   },
   {
    "duration": 21,
    "start_time": "2021-07-07T12:29:45.437Z"
   },
   {
    "duration": 41,
    "start_time": "2021-07-07T12:29:45.460Z"
   },
   {
    "duration": 7,
    "start_time": "2021-07-07T12:29:45.502Z"
   },
   {
    "duration": 20,
    "start_time": "2021-07-07T12:29:45.511Z"
   },
   {
    "duration": 12,
    "start_time": "2021-07-07T12:34:02.800Z"
   },
   {
    "duration": 7,
    "start_time": "2021-07-07T12:35:10.479Z"
   },
   {
    "duration": 8,
    "start_time": "2021-07-07T12:35:22.440Z"
   },
   {
    "duration": 6,
    "start_time": "2021-07-07T12:35:35.649Z"
   },
   {
    "duration": 6,
    "start_time": "2021-07-07T12:35:43.107Z"
   },
   {
    "duration": 22,
    "start_time": "2021-07-07T12:38:03.029Z"
   },
   {
    "duration": 10,
    "start_time": "2021-07-07T12:38:06.592Z"
   },
   {
    "duration": 563,
    "start_time": "2021-07-07T12:38:46.493Z"
   },
   {
    "duration": 265,
    "start_time": "2021-07-07T12:38:47.058Z"
   },
   {
    "duration": 94,
    "start_time": "2021-07-07T12:38:47.325Z"
   },
   {
    "duration": 3,
    "start_time": "2021-07-07T12:38:47.422Z"
   },
   {
    "duration": 30,
    "start_time": "2021-07-07T12:38:47.427Z"
   },
   {
    "duration": 16,
    "start_time": "2021-07-07T12:38:53.305Z"
   },
   {
    "duration": 10,
    "start_time": "2021-07-07T12:38:53.499Z"
   },
   {
    "duration": 8,
    "start_time": "2021-07-07T12:39:48.161Z"
   },
   {
    "duration": 27,
    "start_time": "2021-07-07T12:41:17.629Z"
   },
   {
    "duration": 17,
    "start_time": "2021-07-07T12:41:17.867Z"
   },
   {
    "duration": 21,
    "start_time": "2021-07-07T12:41:19.310Z"
   },
   {
    "duration": 7,
    "start_time": "2021-07-07T12:41:19.544Z"
   },
   {
    "duration": 20,
    "start_time": "2021-07-07T12:41:20.504Z"
   },
   {
    "duration": 554,
    "start_time": "2021-07-07T12:56:23.696Z"
   },
   {
    "duration": 200,
    "start_time": "2021-07-07T12:56:25.234Z"
   },
   {
    "duration": 119,
    "start_time": "2021-07-07T12:56:25.480Z"
   },
   {
    "duration": 4,
    "start_time": "2021-07-07T12:56:25.762Z"
   },
   {
    "duration": 26,
    "start_time": "2021-07-07T12:56:27.172Z"
   },
   {
    "duration": 12,
    "start_time": "2021-07-07T12:56:29.051Z"
   },
   {
    "duration": 10,
    "start_time": "2021-07-07T12:56:29.291Z"
   },
   {
    "duration": 8,
    "start_time": "2021-07-07T12:56:29.623Z"
   },
   {
    "duration": 28,
    "start_time": "2021-07-07T12:56:32.137Z"
   },
   {
    "duration": 19,
    "start_time": "2021-07-07T12:56:39.785Z"
   },
   {
    "duration": 20,
    "start_time": "2021-07-07T12:56:44.297Z"
   },
   {
    "duration": 7,
    "start_time": "2021-07-07T12:56:45.392Z"
   },
   {
    "duration": 23,
    "start_time": "2021-07-07T12:56:46.615Z"
   },
   {
    "duration": 4,
    "start_time": "2021-07-07T12:57:06.625Z"
   },
   {
    "duration": 32,
    "start_time": "2021-07-07T12:57:36.690Z"
   },
   {
    "duration": 18,
    "start_time": "2021-07-07T12:58:00.149Z"
   },
   {
    "duration": 15,
    "start_time": "2021-07-07T12:59:16.793Z"
   },
   {
    "duration": 7,
    "start_time": "2021-07-07T13:19:22.624Z"
   },
   {
    "duration": 6,
    "start_time": "2021-07-07T14:17:33.527Z"
   },
   {
    "duration": 9,
    "start_time": "2021-07-07T14:17:48.409Z"
   },
   {
    "duration": 8,
    "start_time": "2021-07-07T14:20:13.060Z"
   },
   {
    "duration": 8,
    "start_time": "2021-07-07T14:20:37.957Z"
   },
   {
    "duration": 8,
    "start_time": "2021-07-07T14:20:47.470Z"
   },
   {
    "duration": 9,
    "start_time": "2021-07-07T14:20:54.503Z"
   },
   {
    "duration": 10,
    "start_time": "2021-07-07T14:28:57.763Z"
   },
   {
    "duration": 3,
    "start_time": "2021-07-07T14:30:23.377Z"
   },
   {
    "duration": 3,
    "start_time": "2021-07-07T14:30:36.489Z"
   },
   {
    "duration": 103,
    "start_time": "2021-07-07T14:30:52.351Z"
   },
   {
    "duration": 8,
    "start_time": "2021-07-07T14:30:54.763Z"
   },
   {
    "duration": 8,
    "start_time": "2021-07-07T14:31:29.301Z"
   },
   {
    "duration": 13,
    "start_time": "2021-07-07T14:31:44.516Z"
   },
   {
    "duration": 7,
    "start_time": "2021-07-07T14:33:10.972Z"
   },
   {
    "duration": 11,
    "start_time": "2021-07-07T14:33:27.780Z"
   },
   {
    "duration": 8,
    "start_time": "2021-07-07T14:34:44.588Z"
   },
   {
    "duration": 57,
    "start_time": "2021-07-07T14:35:59.042Z"
   },
   {
    "duration": 3,
    "start_time": "2021-07-07T14:36:28.168Z"
   },
   {
    "duration": 5,
    "start_time": "2021-07-07T14:36:46.254Z"
   },
   {
    "duration": 4,
    "start_time": "2021-07-07T14:36:52.714Z"
   },
   {
    "duration": 3,
    "start_time": "2021-07-07T14:36:56.612Z"
   },
   {
    "duration": 4,
    "start_time": "2021-07-07T14:36:57.049Z"
   },
   {
    "duration": 3,
    "start_time": "2021-07-07T14:39:21.214Z"
   },
   {
    "duration": 7,
    "start_time": "2021-07-07T14:39:52.406Z"
   },
   {
    "duration": 11,
    "start_time": "2021-07-07T14:39:58.576Z"
   },
   {
    "duration": 9,
    "start_time": "2021-07-07T14:40:26.301Z"
   },
   {
    "duration": 10,
    "start_time": "2021-07-07T14:40:31.704Z"
   },
   {
    "duration": 11,
    "start_time": "2021-07-07T14:40:36.249Z"
   },
   {
    "duration": 10,
    "start_time": "2021-07-07T14:40:39.783Z"
   },
   {
    "duration": 9,
    "start_time": "2021-07-07T14:40:48.558Z"
   },
   {
    "duration": 10,
    "start_time": "2021-07-07T14:40:57.143Z"
   },
   {
    "duration": 9,
    "start_time": "2021-07-07T14:41:06.074Z"
   },
   {
    "duration": 4324,
    "start_time": "2021-07-07T14:41:22.004Z"
   },
   {
    "duration": 11,
    "start_time": "2021-07-07T14:41:33.392Z"
   },
   {
    "duration": 9,
    "start_time": "2021-07-07T14:41:39.288Z"
   },
   {
    "duration": 569,
    "start_time": "2021-07-07T14:42:14.387Z"
   },
   {
    "duration": 197,
    "start_time": "2021-07-07T14:42:14.959Z"
   },
   {
    "duration": 84,
    "start_time": "2021-07-07T14:42:16.052Z"
   },
   {
    "duration": 4,
    "start_time": "2021-07-07T14:42:16.900Z"
   },
   {
    "duration": 27,
    "start_time": "2021-07-07T14:42:19.898Z"
   },
   {
    "duration": 12,
    "start_time": "2021-07-07T14:42:21.577Z"
   },
   {
    "duration": 9,
    "start_time": "2021-07-07T14:42:21.813Z"
   },
   {
    "duration": 9,
    "start_time": "2021-07-07T14:42:22.569Z"
   },
   {
    "duration": 29,
    "start_time": "2021-07-07T14:42:25.837Z"
   },
   {
    "duration": 20,
    "start_time": "2021-07-07T14:42:27.003Z"
   },
   {
    "duration": 21,
    "start_time": "2021-07-07T14:42:28.767Z"
   },
   {
    "duration": 7,
    "start_time": "2021-07-07T14:42:29.838Z"
   },
   {
    "duration": 4,
    "start_time": "2021-07-07T14:43:25.493Z"
   },
   {
    "duration": 7,
    "start_time": "2021-07-07T14:43:26.573Z"
   },
   {
    "duration": 10,
    "start_time": "2021-07-07T14:43:31.639Z"
   },
   {
    "duration": 9,
    "start_time": "2021-07-07T14:43:32.046Z"
   },
   {
    "duration": 10,
    "start_time": "2021-07-07T14:43:33.301Z"
   },
   {
    "duration": 12,
    "start_time": "2021-07-07T14:43:33.658Z"
   },
   {
    "duration": 8,
    "start_time": "2021-07-07T14:43:34.552Z"
   },
   {
    "duration": 9,
    "start_time": "2021-07-07T14:43:35.058Z"
   },
   {
    "duration": 12,
    "start_time": "2021-07-07T14:43:35.914Z"
   },
   {
    "duration": 17,
    "start_time": "2021-07-07T14:45:34.368Z"
   },
   {
    "duration": 512,
    "start_time": "2021-07-07T14:51:58.236Z"
   },
   {
    "duration": 223,
    "start_time": "2021-07-07T14:51:58.750Z"
   },
   {
    "duration": 93,
    "start_time": "2021-07-07T14:51:58.977Z"
   },
   {
    "duration": 4,
    "start_time": "2021-07-07T14:51:59.071Z"
   },
   {
    "duration": 37,
    "start_time": "2021-07-07T14:51:59.077Z"
   },
   {
    "duration": 18,
    "start_time": "2021-07-07T14:51:59.116Z"
   },
   {
    "duration": 10,
    "start_time": "2021-07-07T14:51:59.137Z"
   },
   {
    "duration": 8,
    "start_time": "2021-07-07T14:51:59.149Z"
   },
   {
    "duration": 54,
    "start_time": "2021-07-07T14:51:59.158Z"
   },
   {
    "duration": 18,
    "start_time": "2021-07-07T14:51:59.213Z"
   },
   {
    "duration": 22,
    "start_time": "2021-07-07T14:51:59.232Z"
   },
   {
    "duration": 36,
    "start_time": "2021-07-07T14:51:59.255Z"
   },
   {
    "duration": 7,
    "start_time": "2021-07-07T14:51:59.293Z"
   },
   {
    "duration": 10,
    "start_time": "2021-07-07T14:51:59.302Z"
   },
   {
    "duration": 9,
    "start_time": "2021-07-07T14:51:59.313Z"
   },
   {
    "duration": 11,
    "start_time": "2021-07-07T14:51:59.324Z"
   },
   {
    "duration": 8,
    "start_time": "2021-07-07T14:51:59.337Z"
   },
   {
    "duration": 46,
    "start_time": "2021-07-07T14:51:59.347Z"
   },
   {
    "duration": 22,
    "start_time": "2021-07-07T14:51:59.395Z"
   },
   {
    "duration": 24,
    "start_time": "2021-07-07T14:57:32.911Z"
   },
   {
    "duration": 7,
    "start_time": "2021-07-07T14:58:22.070Z"
   },
   {
    "duration": 4,
    "start_time": "2021-07-07T14:59:11.239Z"
   },
   {
    "duration": 25,
    "start_time": "2021-07-07T15:07:22.208Z"
   },
   {
    "duration": 16,
    "start_time": "2021-07-07T15:08:25.560Z"
   },
   {
    "duration": 15,
    "start_time": "2021-07-07T15:08:40.647Z"
   },
   {
    "duration": 14,
    "start_time": "2021-07-07T15:08:46.669Z"
   },
   {
    "duration": 533,
    "start_time": "2021-07-07T15:18:07.440Z"
   },
   {
    "duration": 173,
    "start_time": "2021-07-07T15:18:07.974Z"
   },
   {
    "duration": 84,
    "start_time": "2021-07-07T15:18:08.149Z"
   },
   {
    "duration": 3,
    "start_time": "2021-07-07T15:18:08.235Z"
   },
   {
    "duration": 30,
    "start_time": "2021-07-07T15:18:08.240Z"
   },
   {
    "duration": 22,
    "start_time": "2021-07-07T15:18:08.272Z"
   },
   {
    "duration": 11,
    "start_time": "2021-07-07T15:18:08.295Z"
   },
   {
    "duration": 11,
    "start_time": "2021-07-07T15:18:08.309Z"
   },
   {
    "duration": 40,
    "start_time": "2021-07-07T15:18:08.322Z"
   },
   {
    "duration": 42,
    "start_time": "2021-07-07T15:18:08.364Z"
   },
   {
    "duration": 22,
    "start_time": "2021-07-07T15:18:08.408Z"
   },
   {
    "duration": 5,
    "start_time": "2021-07-07T15:18:08.432Z"
   },
   {
    "duration": 13,
    "start_time": "2021-07-07T15:18:08.439Z"
   },
   {
    "duration": 9,
    "start_time": "2021-07-07T15:18:08.454Z"
   },
   {
    "duration": 32,
    "start_time": "2021-07-07T15:18:08.465Z"
   },
   {
    "duration": 10,
    "start_time": "2021-07-07T15:18:08.501Z"
   },
   {
    "duration": 7,
    "start_time": "2021-07-07T15:18:08.513Z"
   },
   {
    "duration": 11,
    "start_time": "2021-07-07T15:18:08.521Z"
   },
   {
    "duration": 17,
    "start_time": "2021-07-07T15:18:08.534Z"
   },
   {
    "duration": 44,
    "start_time": "2021-07-07T15:18:08.553Z"
   },
   {
    "duration": 22,
    "start_time": "2021-07-07T15:18:08.599Z"
   },
   {
    "duration": 61,
    "start_time": "2021-07-07T15:18:08.622Z"
   },
   {
    "duration": 7,
    "start_time": "2021-07-07T15:18:39.457Z"
   },
   {
    "duration": 5,
    "start_time": "2021-07-07T16:05:17.020Z"
   },
   {
    "duration": 5,
    "start_time": "2021-07-07T16:51:28.794Z"
   },
   {
    "duration": 546,
    "start_time": "2021-07-07T16:52:26.306Z"
   },
   {
    "duration": 203,
    "start_time": "2021-07-07T16:52:27.523Z"
   },
   {
    "duration": 85,
    "start_time": "2021-07-07T16:52:27.736Z"
   },
   {
    "duration": 4,
    "start_time": "2021-07-07T16:52:27.899Z"
   },
   {
    "duration": 25,
    "start_time": "2021-07-07T16:52:28.674Z"
   },
   {
    "duration": 8,
    "start_time": "2021-07-07T16:52:32.956Z"
   },
   {
    "duration": 18,
    "start_time": "2021-07-07T16:52:35.616Z"
   },
   {
    "duration": 6,
    "start_time": "2021-07-07T16:52:36.913Z"
   },
   {
    "duration": 11,
    "start_time": "2021-07-07T16:52:40.258Z"
   },
   {
    "duration": 10,
    "start_time": "2021-07-07T16:52:46.251Z"
   },
   {
    "duration": 8,
    "start_time": "2021-07-07T16:52:47.182Z"
   },
   {
    "duration": 27,
    "start_time": "2021-07-07T16:53:20.391Z"
   },
   {
    "duration": 20,
    "start_time": "2021-07-07T16:53:22.022Z"
   },
   {
    "duration": 23,
    "start_time": "2021-07-07T16:53:23.690Z"
   },
   {
    "duration": 8,
    "start_time": "2021-07-07T16:53:24.261Z"
   },
   {
    "duration": 4,
    "start_time": "2021-07-07T16:53:38.733Z"
   },
   {
    "duration": 7,
    "start_time": "2021-07-07T16:53:40.445Z"
   },
   {
    "duration": 11,
    "start_time": "2021-07-07T16:53:41.348Z"
   },
   {
    "duration": 13,
    "start_time": "2021-07-07T16:53:45.250Z"
   },
   {
    "duration": 12,
    "start_time": "2021-07-07T16:53:45.467Z"
   },
   {
    "duration": 4,
    "start_time": "2021-07-07T16:55:32.704Z"
   },
   {
    "duration": 12,
    "start_time": "2021-07-07T16:55:49.012Z"
   },
   {
    "duration": 18,
    "start_time": "2021-07-07T16:55:49.547Z"
   },
   {
    "duration": 611,
    "start_time": "2021-07-07T16:58:35.156Z"
   },
   {
    "duration": 200,
    "start_time": "2021-07-07T16:58:35.770Z"
   },
   {
    "duration": 86,
    "start_time": "2021-07-07T16:58:35.972Z"
   },
   {
    "duration": 3,
    "start_time": "2021-07-07T16:58:36.060Z"
   },
   {
    "duration": 27,
    "start_time": "2021-07-07T16:58:36.065Z"
   },
   {
    "duration": 8,
    "start_time": "2021-07-07T16:58:36.094Z"
   },
   {
    "duration": 17,
    "start_time": "2021-07-07T16:58:36.103Z"
   },
   {
    "duration": 5,
    "start_time": "2021-07-07T16:58:36.123Z"
   },
   {
    "duration": 11,
    "start_time": "2021-07-07T16:58:36.130Z"
   },
   {
    "duration": 7,
    "start_time": "2021-07-07T16:58:36.143Z"
   },
   {
    "duration": 37,
    "start_time": "2021-07-07T16:58:36.152Z"
   },
   {
    "duration": 27,
    "start_time": "2021-07-07T16:58:36.191Z"
   },
   {
    "duration": 19,
    "start_time": "2021-07-07T16:58:36.219Z"
   },
   {
    "duration": 49,
    "start_time": "2021-07-07T16:58:36.240Z"
   },
   {
    "duration": 6,
    "start_time": "2021-07-07T16:58:36.291Z"
   },
   {
    "duration": 3,
    "start_time": "2021-07-07T16:58:36.299Z"
   },
   {
    "duration": 13,
    "start_time": "2021-07-07T16:58:36.304Z"
   },
   {
    "duration": 10,
    "start_time": "2021-07-07T16:58:36.319Z"
   },
   {
    "duration": 10,
    "start_time": "2021-07-07T16:58:36.331Z"
   },
   {
    "duration": 44,
    "start_time": "2021-07-07T16:58:36.343Z"
   },
   {
    "duration": 4,
    "start_time": "2021-07-07T16:58:36.388Z"
   },
   {
    "duration": 13,
    "start_time": "2021-07-07T16:58:36.394Z"
   },
   {
    "duration": 16,
    "start_time": "2021-07-07T16:58:36.410Z"
   },
   {
    "duration": 8,
    "start_time": "2021-07-07T17:02:31.629Z"
   },
   {
    "duration": 8,
    "start_time": "2021-07-07T17:02:34.308Z"
   },
   {
    "duration": 6,
    "start_time": "2021-07-07T17:05:13.483Z"
   },
   {
    "duration": 17,
    "start_time": "2021-07-07T17:05:20.606Z"
   },
   {
    "duration": 7,
    "start_time": "2021-07-07T17:05:34.638Z"
   },
   {
    "duration": 3,
    "start_time": "2021-07-07T17:06:31.883Z"
   },
   {
    "duration": 570,
    "start_time": "2021-07-07T17:06:37.165Z"
   },
   {
    "duration": 174,
    "start_time": "2021-07-07T17:06:37.737Z"
   },
   {
    "duration": 47,
    "start_time": "2021-07-07T17:06:37.913Z"
   },
   {
    "duration": 3,
    "start_time": "2021-07-07T17:06:37.962Z"
   },
   {
    "duration": 27,
    "start_time": "2021-07-07T17:06:37.967Z"
   },
   {
    "duration": 7,
    "start_time": "2021-07-07T17:06:37.996Z"
   },
   {
    "duration": 16,
    "start_time": "2021-07-07T17:06:38.005Z"
   },
   {
    "duration": 6,
    "start_time": "2021-07-07T17:06:38.024Z"
   },
   {
    "duration": 12,
    "start_time": "2021-07-07T17:06:38.031Z"
   },
   {
    "duration": 41,
    "start_time": "2021-07-07T17:06:38.045Z"
   },
   {
    "duration": 8,
    "start_time": "2021-07-07T17:06:38.088Z"
   },
   {
    "duration": 26,
    "start_time": "2021-07-07T17:06:38.098Z"
   },
   {
    "duration": 17,
    "start_time": "2021-07-07T17:06:38.126Z"
   },
   {
    "duration": 43,
    "start_time": "2021-07-07T17:06:38.144Z"
   },
   {
    "duration": 6,
    "start_time": "2021-07-07T17:06:38.188Z"
   },
   {
    "duration": 5,
    "start_time": "2021-07-07T17:06:38.195Z"
   },
   {
    "duration": 9,
    "start_time": "2021-07-07T17:06:38.201Z"
   },
   {
    "duration": 12,
    "start_time": "2021-07-07T17:06:38.212Z"
   },
   {
    "duration": 11,
    "start_time": "2021-07-07T17:06:38.226Z"
   },
   {
    "duration": 47,
    "start_time": "2021-07-07T17:06:38.239Z"
   },
   {
    "duration": 4,
    "start_time": "2021-07-07T17:06:38.288Z"
   },
   {
    "duration": 13,
    "start_time": "2021-07-07T17:06:38.293Z"
   },
   {
    "duration": 5,
    "start_time": "2021-07-07T17:06:38.309Z"
   },
   {
    "duration": 18,
    "start_time": "2021-07-07T17:06:38.325Z"
   },
   {
    "duration": 20,
    "start_time": "2021-07-07T17:07:02.805Z"
   },
   {
    "duration": 19,
    "start_time": "2021-07-07T17:07:08.527Z"
   },
   {
    "duration": 19,
    "start_time": "2021-07-07T17:07:12.758Z"
   },
   {
    "duration": 22,
    "start_time": "2021-07-07T17:07:17.497Z"
   },
   {
    "duration": 19,
    "start_time": "2021-07-07T17:07:19.645Z"
   },
   {
    "duration": 10,
    "start_time": "2021-07-07T17:07:34.239Z"
   },
   {
    "duration": 17,
    "start_time": "2021-07-07T17:07:54.144Z"
   },
   {
    "duration": 14,
    "start_time": "2021-07-07T17:08:14.357Z"
   },
   {
    "duration": 616,
    "start_time": "2021-07-07T17:08:45.254Z"
   },
   {
    "duration": 178,
    "start_time": "2021-07-07T17:08:45.872Z"
   },
   {
    "duration": 60,
    "start_time": "2021-07-07T17:08:46.054Z"
   },
   {
    "duration": 3,
    "start_time": "2021-07-07T17:08:46.116Z"
   },
   {
    "duration": 26,
    "start_time": "2021-07-07T17:08:46.121Z"
   },
   {
    "duration": 7,
    "start_time": "2021-07-07T17:08:46.149Z"
   },
   {
    "duration": 17,
    "start_time": "2021-07-07T17:08:46.158Z"
   },
   {
    "duration": 14,
    "start_time": "2021-07-07T17:08:46.176Z"
   },
   {
    "duration": 17,
    "start_time": "2021-07-07T17:08:46.193Z"
   },
   {
    "duration": 9,
    "start_time": "2021-07-07T17:08:46.211Z"
   },
   {
    "duration": 21,
    "start_time": "2021-07-07T17:08:46.221Z"
   },
   {
    "duration": 49,
    "start_time": "2021-07-07T17:08:46.244Z"
   },
   {
    "duration": 24,
    "start_time": "2021-07-07T17:08:46.295Z"
   },
   {
    "duration": 22,
    "start_time": "2021-07-07T17:08:46.321Z"
   },
   {
    "duration": 6,
    "start_time": "2021-07-07T17:08:46.345Z"
   },
   {
    "duration": 5,
    "start_time": "2021-07-07T17:08:46.353Z"
   },
   {
    "duration": 13,
    "start_time": "2021-07-07T17:08:46.386Z"
   },
   {
    "duration": 12,
    "start_time": "2021-07-07T17:08:46.402Z"
   },
   {
    "duration": 10,
    "start_time": "2021-07-07T17:08:46.415Z"
   },
   {
    "duration": 7,
    "start_time": "2021-07-07T17:08:46.427Z"
   },
   {
    "duration": 8,
    "start_time": "2021-07-07T17:08:46.435Z"
   },
   {
    "duration": 68,
    "start_time": "2021-07-07T17:08:46.446Z"
   },
   {
    "duration": 13,
    "start_time": "2021-07-07T17:08:46.516Z"
   },
   {
    "duration": 78,
    "start_time": "2021-07-07T17:08:46.530Z"
   },
   {
    "duration": 40,
    "start_time": "2021-07-07T17:09:08.185Z"
   },
   {
    "duration": 16,
    "start_time": "2021-07-07T17:09:19.324Z"
   },
   {
    "duration": 21,
    "start_time": "2021-07-07T17:09:23.290Z"
   },
   {
    "duration": 13,
    "start_time": "2021-07-07T17:09:54.812Z"
   },
   {
    "duration": 13,
    "start_time": "2021-07-07T17:10:02.039Z"
   },
   {
    "duration": 10,
    "start_time": "2021-07-07T17:10:29.632Z"
   },
   {
    "duration": 13,
    "start_time": "2021-07-07T17:10:52.372Z"
   },
   {
    "duration": 13,
    "start_time": "2021-07-07T17:11:17.270Z"
   },
   {
    "duration": 13,
    "start_time": "2021-07-07T17:14:59.284Z"
   },
   {
    "duration": 547,
    "start_time": "2021-07-07T17:18:52.403Z"
   },
   {
    "duration": 163,
    "start_time": "2021-07-07T17:18:52.952Z"
   },
   {
    "duration": 44,
    "start_time": "2021-07-07T17:18:53.117Z"
   },
   {
    "duration": 3,
    "start_time": "2021-07-07T17:18:53.162Z"
   },
   {
    "duration": 26,
    "start_time": "2021-07-07T17:18:53.167Z"
   },
   {
    "duration": 6,
    "start_time": "2021-07-07T17:18:53.195Z"
   },
   {
    "duration": 15,
    "start_time": "2021-07-07T17:18:53.203Z"
   },
   {
    "duration": 5,
    "start_time": "2021-07-07T17:18:53.220Z"
   },
   {
    "duration": 11,
    "start_time": "2021-07-07T17:18:53.228Z"
   },
   {
    "duration": 9,
    "start_time": "2021-07-07T17:18:53.241Z"
   },
   {
    "duration": 41,
    "start_time": "2021-07-07T17:18:53.252Z"
   },
   {
    "duration": 33,
    "start_time": "2021-07-07T17:18:53.295Z"
   },
   {
    "duration": 19,
    "start_time": "2021-07-07T17:18:53.330Z"
   },
   {
    "duration": 49,
    "start_time": "2021-07-07T17:18:53.350Z"
   },
   {
    "duration": 5,
    "start_time": "2021-07-07T17:18:53.401Z"
   },
   {
    "duration": 5,
    "start_time": "2021-07-07T17:18:53.408Z"
   },
   {
    "duration": 11,
    "start_time": "2021-07-07T17:18:53.414Z"
   },
   {
    "duration": 9,
    "start_time": "2021-07-07T17:18:53.427Z"
   },
   {
    "duration": 10,
    "start_time": "2021-07-07T17:18:53.437Z"
   },
   {
    "duration": 39,
    "start_time": "2021-07-07T17:18:53.448Z"
   },
   {
    "duration": 26,
    "start_time": "2021-07-07T17:18:55.799Z"
   },
   {
    "duration": 598,
    "start_time": "2021-07-07T17:20:17.862Z"
   },
   {
    "duration": 161,
    "start_time": "2021-07-07T17:20:18.462Z"
   },
   {
    "duration": 45,
    "start_time": "2021-07-07T17:20:18.626Z"
   },
   {
    "duration": 4,
    "start_time": "2021-07-07T17:20:18.673Z"
   },
   {
    "duration": 38,
    "start_time": "2021-07-07T17:20:26.877Z"
   },
   {
    "duration": 7,
    "start_time": "2021-07-07T17:20:37.405Z"
   },
   {
    "duration": 19,
    "start_time": "2021-07-07T17:20:51.534Z"
   },
   {
    "duration": 5,
    "start_time": "2021-07-07T17:20:57.228Z"
   },
   {
    "duration": 7,
    "start_time": "2021-07-07T17:21:08.235Z"
   },
   {
    "duration": 19,
    "start_time": "2021-07-07T17:21:42.158Z"
   },
   {
    "duration": 14,
    "start_time": "2021-07-07T17:21:50.225Z"
   },
   {
    "duration": 22,
    "start_time": "2021-07-07T17:22:54.104Z"
   },
   {
    "duration": 5,
    "start_time": "2021-07-07T17:22:56.371Z"
   },
   {
    "duration": 14,
    "start_time": "2021-07-07T17:22:58.316Z"
   },
   {
    "duration": 5,
    "start_time": "2021-07-07T17:22:58.493Z"
   },
   {
    "duration": 35,
    "start_time": "2021-07-07T17:22:59.666Z"
   },
   {
    "duration": 6,
    "start_time": "2021-07-07T17:23:02.410Z"
   },
   {
    "duration": 611,
    "start_time": "2021-07-07T17:24:59.664Z"
   },
   {
    "duration": 178,
    "start_time": "2021-07-07T17:25:01.945Z"
   },
   {
    "duration": 47,
    "start_time": "2021-07-07T17:25:02.125Z"
   },
   {
    "duration": 2,
    "start_time": "2021-07-07T17:25:07.903Z"
   },
   {
    "duration": 254,
    "start_time": "2021-07-07T17:25:08.232Z"
   },
   {
    "duration": 182,
    "start_time": "2021-07-07T17:25:08.671Z"
   },
   {
    "duration": 6,
    "start_time": "2021-07-07T17:25:13.104Z"
   },
   {
    "duration": 36,
    "start_time": "2021-07-07T17:25:13.662Z"
   },
   {
    "duration": 7,
    "start_time": "2021-07-07T17:25:14.528Z"
   },
   {
    "duration": 24,
    "start_time": "2021-07-07T17:25:27.982Z"
   },
   {
    "duration": 3,
    "start_time": "2021-07-07T17:25:48.982Z"
   },
   {
    "duration": 165,
    "start_time": "2021-07-07T17:25:48.987Z"
   },
   {
    "duration": 50,
    "start_time": "2021-07-07T17:25:49.154Z"
   },
   {
    "duration": 4,
    "start_time": "2021-07-07T17:25:49.206Z"
   },
   {
    "duration": 26,
    "start_time": "2021-07-07T17:25:49.212Z"
   },
   {
    "duration": 7,
    "start_time": "2021-07-07T17:25:49.240Z"
   },
   {
    "duration": 16,
    "start_time": "2021-07-07T17:25:49.249Z"
   },
   {
    "duration": 22,
    "start_time": "2021-07-07T17:25:49.266Z"
   },
   {
    "duration": 16,
    "start_time": "2021-07-07T17:25:49.291Z"
   },
   {
    "duration": 9,
    "start_time": "2021-07-07T17:25:49.309Z"
   },
   {
    "duration": 7,
    "start_time": "2021-07-07T17:25:49.319Z"
   },
   {
    "duration": 28,
    "start_time": "2021-07-07T17:25:49.328Z"
   },
   {
    "duration": 44,
    "start_time": "2021-07-07T17:25:49.357Z"
   },
   {
    "duration": 22,
    "start_time": "2021-07-07T17:25:49.403Z"
   },
   {
    "duration": 7,
    "start_time": "2021-07-07T17:25:49.427Z"
   },
   {
    "duration": 3,
    "start_time": "2021-07-07T17:25:49.436Z"
   },
   {
    "duration": 44,
    "start_time": "2021-07-07T17:25:49.441Z"
   },
   {
    "duration": 12,
    "start_time": "2021-07-07T17:25:49.488Z"
   },
   {
    "duration": 13,
    "start_time": "2021-07-07T17:25:49.502Z"
   },
   {
    "duration": 10,
    "start_time": "2021-07-07T17:25:49.516Z"
   },
   {
    "duration": 62,
    "start_time": "2021-07-07T17:25:49.527Z"
   },
   {
    "duration": 26,
    "start_time": "2021-07-07T17:26:51.809Z"
   },
   {
    "duration": 26,
    "start_time": "2021-07-07T17:26:55.759Z"
   },
   {
    "duration": 26,
    "start_time": "2021-07-07T17:27:04.501Z"
   },
   {
    "duration": 25,
    "start_time": "2021-07-07T17:28:24.859Z"
   },
   {
    "duration": 21,
    "start_time": "2021-07-07T17:28:55.250Z"
   },
   {
    "duration": 21,
    "start_time": "2021-07-07T17:28:58.885Z"
   },
   {
    "duration": 7,
    "start_time": "2021-07-07T17:45:40.972Z"
   },
   {
    "duration": 13,
    "start_time": "2021-07-07T17:45:42.529Z"
   },
   {
    "duration": 27,
    "start_time": "2021-07-07T17:45:51.026Z"
   },
   {
    "duration": 518,
    "start_time": "2021-07-07T17:46:15.532Z"
   },
   {
    "duration": 235,
    "start_time": "2021-07-07T17:46:16.053Z"
   },
   {
    "duration": 80,
    "start_time": "2021-07-07T17:46:16.292Z"
   },
   {
    "duration": 5,
    "start_time": "2021-07-07T17:46:16.373Z"
   },
   {
    "duration": 26,
    "start_time": "2021-07-07T17:46:16.380Z"
   },
   {
    "duration": 7,
    "start_time": "2021-07-07T17:46:16.408Z"
   },
   {
    "duration": 16,
    "start_time": "2021-07-07T17:46:16.418Z"
   },
   {
    "duration": 5,
    "start_time": "2021-07-07T17:46:16.436Z"
   },
   {
    "duration": 13,
    "start_time": "2021-07-07T17:46:16.442Z"
   },
   {
    "duration": 35,
    "start_time": "2021-07-07T17:46:16.456Z"
   },
   {
    "duration": 8,
    "start_time": "2021-07-07T17:46:16.493Z"
   },
   {
    "duration": 28,
    "start_time": "2021-07-07T17:46:16.502Z"
   },
   {
    "duration": 17,
    "start_time": "2021-07-07T17:46:16.532Z"
   },
   {
    "duration": 44,
    "start_time": "2021-07-07T17:46:16.551Z"
   },
   {
    "duration": 6,
    "start_time": "2021-07-07T17:46:16.597Z"
   },
   {
    "duration": 4,
    "start_time": "2021-07-07T17:46:16.605Z"
   },
   {
    "duration": 9,
    "start_time": "2021-07-07T17:46:16.610Z"
   },
   {
    "duration": 9,
    "start_time": "2021-07-07T17:46:16.621Z"
   },
   {
    "duration": 10,
    "start_time": "2021-07-07T17:46:16.632Z"
   },
   {
    "duration": 43,
    "start_time": "2021-07-07T17:46:16.644Z"
   },
   {
    "duration": 26,
    "start_time": "2021-07-07T17:46:16.689Z"
   },
   {
    "duration": 19,
    "start_time": "2021-07-07T17:46:16.718Z"
   },
   {
    "duration": 8,
    "start_time": "2021-07-07T17:46:16.738Z"
   },
   {
    "duration": 43,
    "start_time": "2021-07-07T17:46:16.747Z"
   },
   {
    "duration": 19,
    "start_time": "2021-07-07T17:46:16.791Z"
   },
   {
    "duration": 9,
    "start_time": "2021-07-07T17:46:16.812Z"
   },
   {
    "duration": 60,
    "start_time": "2021-07-07T17:46:16.822Z"
   },
   {
    "duration": -8,
    "start_time": "2021-07-07T17:46:16.892Z"
   },
   {
    "duration": 12,
    "start_time": "2021-07-07T17:48:47.707Z"
   },
   {
    "duration": 553,
    "start_time": "2021-07-07T18:10:09.350Z"
   },
   {
    "duration": 230,
    "start_time": "2021-07-07T18:10:09.905Z"
   },
   {
    "duration": 97,
    "start_time": "2021-07-07T18:10:10.137Z"
   },
   {
    "duration": 5,
    "start_time": "2021-07-07T18:10:10.236Z"
   },
   {
    "duration": 29,
    "start_time": "2021-07-07T18:10:10.242Z"
   },
   {
    "duration": 7,
    "start_time": "2021-07-07T18:10:10.272Z"
   },
   {
    "duration": 15,
    "start_time": "2021-07-07T18:10:10.281Z"
   },
   {
    "duration": 4,
    "start_time": "2021-07-07T18:10:10.299Z"
   },
   {
    "duration": 14,
    "start_time": "2021-07-07T18:10:10.305Z"
   },
   {
    "duration": 8,
    "start_time": "2021-07-07T18:10:10.321Z"
   },
   {
    "duration": 8,
    "start_time": "2021-07-07T18:10:10.331Z"
   },
   {
    "duration": 56,
    "start_time": "2021-07-07T18:10:10.341Z"
   },
   {
    "duration": 19,
    "start_time": "2021-07-07T18:10:10.399Z"
   },
   {
    "duration": 23,
    "start_time": "2021-07-07T18:10:10.419Z"
   },
   {
    "duration": 6,
    "start_time": "2021-07-07T18:10:10.444Z"
   },
   {
    "duration": 9,
    "start_time": "2021-07-07T18:10:10.451Z"
   },
   {
    "duration": 30,
    "start_time": "2021-07-07T18:10:10.462Z"
   },
   {
    "duration": 9,
    "start_time": "2021-07-07T18:10:10.494Z"
   },
   {
    "duration": 14,
    "start_time": "2021-07-07T18:10:10.505Z"
   },
   {
    "duration": 7,
    "start_time": "2021-07-07T18:10:10.521Z"
   },
   {
    "duration": 26,
    "start_time": "2021-07-07T18:10:10.530Z"
   },
   {
    "duration": 44,
    "start_time": "2021-07-07T18:10:10.558Z"
   },
   {
    "duration": 7,
    "start_time": "2021-07-07T18:10:10.605Z"
   },
   {
    "duration": 11,
    "start_time": "2021-07-07T18:10:10.614Z"
   },
   {
    "duration": 19,
    "start_time": "2021-07-07T18:10:10.626Z"
   },
   {
    "duration": 44,
    "start_time": "2021-07-07T18:10:10.646Z"
   },
   {
    "duration": 516,
    "start_time": "2021-07-07T18:14:00.826Z"
   },
   {
    "duration": 230,
    "start_time": "2021-07-07T18:14:01.344Z"
   },
   {
    "duration": 105,
    "start_time": "2021-07-07T18:14:01.576Z"
   },
   {
    "duration": 5,
    "start_time": "2021-07-07T18:14:01.683Z"
   },
   {
    "duration": 46,
    "start_time": "2021-07-07T18:14:01.690Z"
   },
   {
    "duration": 7,
    "start_time": "2021-07-07T18:14:01.738Z"
   },
   {
    "duration": 20,
    "start_time": "2021-07-07T18:14:01.747Z"
   },
   {
    "duration": 16,
    "start_time": "2021-07-07T18:14:01.769Z"
   },
   {
    "duration": 14,
    "start_time": "2021-07-07T18:14:01.787Z"
   },
   {
    "duration": 15,
    "start_time": "2021-07-07T18:14:01.803Z"
   },
   {
    "duration": 12,
    "start_time": "2021-07-07T18:14:01.820Z"
   },
   {
    "duration": 35,
    "start_time": "2021-07-07T18:14:01.833Z"
   },
   {
    "duration": 31,
    "start_time": "2021-07-07T18:14:01.869Z"
   },
   {
    "duration": 37,
    "start_time": "2021-07-07T18:14:01.902Z"
   },
   {
    "duration": 8,
    "start_time": "2021-07-07T18:14:01.942Z"
   },
   {
    "duration": 16,
    "start_time": "2021-07-07T18:14:01.952Z"
   },
   {
    "duration": 13,
    "start_time": "2021-07-07T18:14:01.970Z"
   },
   {
    "duration": 32,
    "start_time": "2021-07-07T18:14:01.985Z"
   },
   {
    "duration": 11,
    "start_time": "2021-07-07T18:14:02.019Z"
   },
   {
    "duration": 22,
    "start_time": "2021-07-07T18:14:02.031Z"
   },
   {
    "duration": 27,
    "start_time": "2021-07-07T18:14:02.055Z"
   },
   {
    "duration": 18,
    "start_time": "2021-07-07T18:14:02.084Z"
   },
   {
    "duration": 18,
    "start_time": "2021-07-07T18:14:02.106Z"
   },
   {
    "duration": 11,
    "start_time": "2021-07-07T18:14:02.126Z"
   },
   {
    "duration": 21,
    "start_time": "2021-07-07T18:14:02.138Z"
   },
   {
    "duration": 32,
    "start_time": "2021-07-07T18:14:02.161Z"
   },
   {
    "duration": 28,
    "start_time": "2021-07-07T18:14:44.295Z"
   },
   {
    "duration": 6,
    "start_time": "2021-07-07T18:15:05.834Z"
   },
   {
    "duration": 511,
    "start_time": "2021-07-07T18:15:41.541Z"
   },
   {
    "duration": 183,
    "start_time": "2021-07-07T18:15:42.054Z"
   },
   {
    "duration": 50,
    "start_time": "2021-07-07T18:15:42.239Z"
   },
   {
    "duration": 5,
    "start_time": "2021-07-07T18:15:42.291Z"
   },
   {
    "duration": 48,
    "start_time": "2021-07-07T18:15:42.297Z"
   },
   {
    "duration": 8,
    "start_time": "2021-07-07T18:15:42.346Z"
   },
   {
    "duration": 17,
    "start_time": "2021-07-07T18:15:42.356Z"
   },
   {
    "duration": 15,
    "start_time": "2021-07-07T18:15:42.375Z"
   },
   {
    "duration": 12,
    "start_time": "2021-07-07T18:15:42.392Z"
   },
   {
    "duration": 7,
    "start_time": "2021-07-07T18:15:42.406Z"
   },
   {
    "duration": 7,
    "start_time": "2021-07-07T18:15:42.415Z"
   },
   {
    "duration": 29,
    "start_time": "2021-07-07T18:15:42.423Z"
   },
   {
    "duration": 43,
    "start_time": "2021-07-07T18:15:42.453Z"
   },
   {
    "duration": 18,
    "start_time": "2021-07-07T18:15:42.497Z"
   },
   {
    "duration": 6,
    "start_time": "2021-07-07T18:15:42.516Z"
   },
   {
    "duration": 3,
    "start_time": "2021-07-07T18:15:42.523Z"
   },
   {
    "duration": 18,
    "start_time": "2021-07-07T18:15:42.528Z"
   },
   {
    "duration": 10,
    "start_time": "2021-07-07T18:15:42.547Z"
   },
   {
    "duration": 36,
    "start_time": "2021-07-07T18:15:42.559Z"
   },
   {
    "duration": 8,
    "start_time": "2021-07-07T18:15:42.597Z"
   },
   {
    "duration": 28,
    "start_time": "2021-07-07T18:15:42.606Z"
   },
   {
    "duration": 52,
    "start_time": "2021-07-07T18:15:42.635Z"
   },
   {
    "duration": 7,
    "start_time": "2021-07-07T18:15:42.690Z"
   },
   {
    "duration": 10,
    "start_time": "2021-07-07T18:15:42.699Z"
   },
   {
    "duration": 19,
    "start_time": "2021-07-07T18:15:42.711Z"
   },
   {
    "duration": 9,
    "start_time": "2021-07-07T18:15:42.732Z"
   },
   {
    "duration": 5,
    "start_time": "2021-07-07T18:15:42.743Z"
   },
   {
    "duration": 1450,
    "start_time": "2021-07-07T18:15:51.984Z"
   },
   {
    "duration": 161,
    "start_time": "2021-07-07T18:15:53.435Z"
   },
   {
    "duration": 124,
    "start_time": "2021-07-07T18:15:53.598Z"
   },
   {
    "duration": 5,
    "start_time": "2021-07-07T18:15:53.724Z"
   },
   {
    "duration": 34,
    "start_time": "2021-07-07T18:15:53.730Z"
   },
   {
    "duration": 7,
    "start_time": "2021-07-07T18:15:53.765Z"
   },
   {
    "duration": 15,
    "start_time": "2021-07-07T18:15:53.773Z"
   },
   {
    "duration": 5,
    "start_time": "2021-07-07T18:15:53.791Z"
   },
   {
    "duration": 19,
    "start_time": "2021-07-07T18:15:53.798Z"
   },
   {
    "duration": 9,
    "start_time": "2021-07-07T18:15:53.818Z"
   },
   {
    "duration": 19,
    "start_time": "2021-07-07T18:15:53.828Z"
   },
   {
    "duration": 27,
    "start_time": "2021-07-07T18:15:53.848Z"
   },
   {
    "duration": 16,
    "start_time": "2021-07-07T18:15:53.884Z"
   },
   {
    "duration": 29,
    "start_time": "2021-07-07T18:15:53.901Z"
   },
   {
    "duration": 5,
    "start_time": "2021-07-07T18:15:53.932Z"
   },
   {
    "duration": 15,
    "start_time": "2021-07-07T18:15:53.939Z"
   },
   {
    "duration": 13,
    "start_time": "2021-07-07T18:15:53.956Z"
   },
   {
    "duration": 20,
    "start_time": "2021-07-07T18:15:53.971Z"
   },
   {
    "duration": 14,
    "start_time": "2021-07-07T18:15:53.992Z"
   },
   {
    "duration": 9,
    "start_time": "2021-07-07T18:15:54.009Z"
   },
   {
    "duration": 28,
    "start_time": "2021-07-07T18:15:54.020Z"
   },
   {
    "duration": 50,
    "start_time": "2021-07-07T18:15:54.051Z"
   },
   {
    "duration": 8,
    "start_time": "2021-07-07T18:15:54.105Z"
   },
   {
    "duration": 11,
    "start_time": "2021-07-07T18:15:54.115Z"
   },
   {
    "duration": 20,
    "start_time": "2021-07-07T18:15:54.128Z"
   },
   {
    "duration": 13,
    "start_time": "2021-07-07T18:15:54.184Z"
   },
   {
    "duration": 7,
    "start_time": "2021-07-07T18:15:54.199Z"
   },
   {
    "duration": 7,
    "start_time": "2021-07-07T18:17:08.042Z"
   },
   {
    "duration": 8,
    "start_time": "2021-07-07T18:17:21.008Z"
   },
   {
    "duration": 7,
    "start_time": "2021-07-07T18:17:29.003Z"
   },
   {
    "duration": 8,
    "start_time": "2021-07-07T18:17:32.492Z"
   },
   {
    "duration": 9,
    "start_time": "2021-07-07T18:17:41.758Z"
   },
   {
    "duration": 255,
    "start_time": "2021-07-07T18:20:20.897Z"
   },
   {
    "duration": 173,
    "start_time": "2021-07-07T18:20:26.636Z"
   },
   {
    "duration": 7,
    "start_time": "2021-07-07T18:21:47.164Z"
   },
   {
    "duration": 254,
    "start_time": "2021-07-07T18:23:08.703Z"
   },
   {
    "duration": 21,
    "start_time": "2021-07-07T18:23:22.506Z"
   },
   {
    "duration": 315,
    "start_time": "2021-07-07T18:25:54.801Z"
   },
   {
    "duration": 34,
    "start_time": "2021-07-07T18:26:51.817Z"
   },
   {
    "duration": 327,
    "start_time": "2021-07-07T18:26:56.147Z"
   },
   {
    "duration": 342,
    "start_time": "2021-07-07T18:27:15.887Z"
   },
   {
    "duration": 302,
    "start_time": "2021-07-07T18:28:18.569Z"
   },
   {
    "duration": 226,
    "start_time": "2021-07-07T18:29:20.879Z"
   },
   {
    "duration": 207,
    "start_time": "2021-07-07T18:29:58.114Z"
   },
   {
    "duration": 140,
    "start_time": "2021-07-07T18:32:04.372Z"
   },
   {
    "duration": 158,
    "start_time": "2021-07-07T18:32:32.508Z"
   },
   {
    "duration": 145,
    "start_time": "2021-07-07T18:32:41.365Z"
   },
   {
    "duration": 132,
    "start_time": "2021-07-07T18:32:45.199Z"
   },
   {
    "duration": 11,
    "start_time": "2021-07-07T18:35:24.679Z"
   },
   {
    "duration": 268,
    "start_time": "2021-07-07T18:36:16.145Z"
   },
   {
    "duration": 227,
    "start_time": "2021-07-07T18:37:04.918Z"
   },
   {
    "duration": 3,
    "start_time": "2021-07-07T18:37:33.012Z"
   },
   {
    "duration": 671,
    "start_time": "2021-07-07T18:37:38.295Z"
   },
   {
    "duration": 54,
    "start_time": "2021-07-07T18:37:53.406Z"
   },
   {
    "duration": 631,
    "start_time": "2021-07-07T18:37:56.463Z"
   },
   {
    "duration": 19,
    "start_time": "2021-07-07T18:39:40.535Z"
   },
   {
    "duration": 20,
    "start_time": "2021-07-07T18:40:12.236Z"
   },
   {
    "duration": 633,
    "start_time": "2021-07-07T18:42:00.398Z"
   },
   {
    "duration": 218,
    "start_time": "2021-07-07T18:42:01.033Z"
   },
   {
    "duration": 49,
    "start_time": "2021-07-07T18:42:01.253Z"
   },
   {
    "duration": 5,
    "start_time": "2021-07-07T18:42:01.303Z"
   },
   {
    "duration": 27,
    "start_time": "2021-07-07T18:42:01.310Z"
   },
   {
    "duration": 8,
    "start_time": "2021-07-07T18:42:01.339Z"
   },
   {
    "duration": 20,
    "start_time": "2021-07-07T18:42:01.348Z"
   },
   {
    "duration": 6,
    "start_time": "2021-07-07T18:42:01.386Z"
   },
   {
    "duration": 16,
    "start_time": "2021-07-07T18:42:01.394Z"
   },
   {
    "duration": 9,
    "start_time": "2021-07-07T18:42:01.411Z"
   },
   {
    "duration": 11,
    "start_time": "2021-07-07T18:42:01.421Z"
   },
   {
    "duration": 31,
    "start_time": "2021-07-07T18:42:01.434Z"
   },
   {
    "duration": 18,
    "start_time": "2021-07-07T18:42:01.485Z"
   },
   {
    "duration": 23,
    "start_time": "2021-07-07T18:42:01.505Z"
   },
   {
    "duration": 6,
    "start_time": "2021-07-07T18:42:01.530Z"
   },
   {
    "duration": 10,
    "start_time": "2021-07-07T18:42:01.538Z"
   },
   {
    "duration": 13,
    "start_time": "2021-07-07T18:42:01.550Z"
   },
   {
    "duration": 24,
    "start_time": "2021-07-07T18:42:01.564Z"
   },
   {
    "duration": 20,
    "start_time": "2021-07-07T18:42:01.590Z"
   },
   {
    "duration": 8,
    "start_time": "2021-07-07T18:42:01.611Z"
   },
   {
    "duration": 31,
    "start_time": "2021-07-07T18:42:01.620Z"
   },
   {
    "duration": 39,
    "start_time": "2021-07-07T18:42:01.653Z"
   },
   {
    "duration": 8,
    "start_time": "2021-07-07T18:42:01.696Z"
   },
   {
    "duration": 13,
    "start_time": "2021-07-07T18:42:01.705Z"
   },
   {
    "duration": 20,
    "start_time": "2021-07-07T18:42:01.720Z"
   },
   {
    "duration": 12,
    "start_time": "2021-07-07T18:42:01.741Z"
   },
   {
    "duration": 35,
    "start_time": "2021-07-07T18:42:01.755Z"
   },
   {
    "duration": 14,
    "start_time": "2021-07-07T18:42:01.792Z"
   },
   {
    "duration": 188,
    "start_time": "2021-07-07T18:42:01.808Z"
   },
   {
    "duration": 19,
    "start_time": "2021-07-07T18:42:01.998Z"
   },
   {
    "duration": 175,
    "start_time": "2021-07-07T18:42:02.019Z"
   },
   {
    "duration": 134,
    "start_time": "2021-07-07T18:42:02.196Z"
   },
   {
    "duration": 10,
    "start_time": "2021-07-07T18:42:02.331Z"
   },
   {
    "duration": 19,
    "start_time": "2021-07-07T18:42:02.343Z"
   },
   {
    "duration": 628,
    "start_time": "2021-07-07T18:46:30.701Z"
   },
   {
    "duration": 183,
    "start_time": "2021-07-07T18:46:31.331Z"
   },
   {
    "duration": 48,
    "start_time": "2021-07-07T18:46:31.516Z"
   },
   {
    "duration": 5,
    "start_time": "2021-07-07T18:46:31.566Z"
   },
   {
    "duration": 28,
    "start_time": "2021-07-07T18:46:31.572Z"
   },
   {
    "duration": 8,
    "start_time": "2021-07-07T18:46:31.602Z"
   },
   {
    "duration": 19,
    "start_time": "2021-07-07T18:46:31.611Z"
   },
   {
    "duration": 6,
    "start_time": "2021-07-07T18:46:31.633Z"
   },
   {
    "duration": 17,
    "start_time": "2021-07-07T18:46:31.642Z"
   },
   {
    "duration": 10,
    "start_time": "2021-07-07T18:46:31.684Z"
   },
   {
    "duration": 9,
    "start_time": "2021-07-07T18:46:31.695Z"
   },
   {
    "duration": 28,
    "start_time": "2021-07-07T18:46:31.705Z"
   },
   {
    "duration": 18,
    "start_time": "2021-07-07T18:46:31.735Z"
   },
   {
    "duration": 48,
    "start_time": "2021-07-07T18:46:31.755Z"
   },
   {
    "duration": 6,
    "start_time": "2021-07-07T18:46:31.804Z"
   },
   {
    "duration": 4,
    "start_time": "2021-07-07T18:46:31.812Z"
   },
   {
    "duration": 9,
    "start_time": "2021-07-07T18:46:31.817Z"
   },
   {
    "duration": 10,
    "start_time": "2021-07-07T18:46:31.827Z"
   },
   {
    "duration": 12,
    "start_time": "2021-07-07T18:46:31.838Z"
   },
   {
    "duration": 39,
    "start_time": "2021-07-07T18:46:31.851Z"
   },
   {
    "duration": 24,
    "start_time": "2021-07-07T18:46:31.892Z"
   },
   {
    "duration": 15,
    "start_time": "2021-07-07T18:46:31.918Z"
   },
   {
    "duration": 7,
    "start_time": "2021-07-07T18:46:31.936Z"
   },
   {
    "duration": 8,
    "start_time": "2021-07-07T18:46:31.944Z"
   },
   {
    "duration": 19,
    "start_time": "2021-07-07T18:46:31.984Z"
   },
   {
    "duration": 10,
    "start_time": "2021-07-07T18:46:32.004Z"
   },
   {
    "duration": 5,
    "start_time": "2021-07-07T18:46:32.016Z"
   },
   {
    "duration": 9,
    "start_time": "2021-07-07T18:46:32.023Z"
   },
   {
    "duration": 199,
    "start_time": "2021-07-07T18:46:32.033Z"
   },
   {
    "duration": 19,
    "start_time": "2021-07-07T18:46:32.234Z"
   },
   {
    "duration": 159,
    "start_time": "2021-07-07T18:46:32.255Z"
   },
   {
    "duration": 134,
    "start_time": "2021-07-07T18:46:32.416Z"
   },
   {
    "duration": 10,
    "start_time": "2021-07-07T18:46:32.552Z"
   },
   {
    "duration": 34,
    "start_time": "2021-07-07T18:46:32.563Z"
   },
   {
    "duration": 1039,
    "start_time": "2021-07-08T08:41:09.419Z"
   },
   {
    "duration": 333,
    "start_time": "2021-07-08T08:41:10.459Z"
   },
   {
    "duration": 173,
    "start_time": "2021-07-08T08:41:10.794Z"
   },
   {
    "duration": 5,
    "start_time": "2021-07-08T08:41:10.968Z"
   },
   {
    "duration": 25,
    "start_time": "2021-07-08T08:41:10.975Z"
   },
   {
    "duration": 9,
    "start_time": "2021-07-08T08:41:11.002Z"
   },
   {
    "duration": 18,
    "start_time": "2021-07-08T08:41:11.013Z"
   },
   {
    "duration": 6,
    "start_time": "2021-07-08T08:41:11.033Z"
   },
   {
    "duration": 44,
    "start_time": "2021-07-08T08:41:11.042Z"
   },
   {
    "duration": 10,
    "start_time": "2021-07-08T08:41:11.088Z"
   },
   {
    "duration": 9,
    "start_time": "2021-07-08T08:41:11.100Z"
   },
   {
    "duration": 27,
    "start_time": "2021-07-08T08:41:11.111Z"
   },
   {
    "duration": 46,
    "start_time": "2021-07-08T08:41:11.140Z"
   },
   {
    "duration": 17,
    "start_time": "2021-07-08T08:41:11.187Z"
   },
   {
    "duration": 6,
    "start_time": "2021-07-08T08:41:11.206Z"
   },
   {
    "duration": 5,
    "start_time": "2021-07-08T08:41:11.213Z"
   },
   {
    "duration": 10,
    "start_time": "2021-07-08T08:41:11.219Z"
   },
   {
    "duration": 9,
    "start_time": "2021-07-08T08:41:11.230Z"
   },
   {
    "duration": 45,
    "start_time": "2021-07-08T08:41:11.241Z"
   },
   {
    "duration": 7,
    "start_time": "2021-07-08T08:41:11.287Z"
   },
   {
    "duration": 24,
    "start_time": "2021-07-08T08:41:11.296Z"
   },
   {
    "duration": 16,
    "start_time": "2021-07-08T08:41:11.322Z"
   },
   {
    "duration": 7,
    "start_time": "2021-07-08T08:41:11.341Z"
   },
   {
    "duration": 41,
    "start_time": "2021-07-08T08:41:11.349Z"
   },
   {
    "duration": 17,
    "start_time": "2021-07-08T08:41:11.391Z"
   },
   {
    "duration": 9,
    "start_time": "2021-07-08T08:41:11.410Z"
   },
   {
    "duration": 5,
    "start_time": "2021-07-08T08:41:11.421Z"
   },
   {
    "duration": 6,
    "start_time": "2021-07-08T08:41:11.428Z"
   },
   {
    "duration": 198,
    "start_time": "2021-07-08T08:41:11.435Z"
   },
   {
    "duration": 18,
    "start_time": "2021-07-08T08:41:11.635Z"
   },
   {
    "duration": 155,
    "start_time": "2021-07-08T08:41:11.655Z"
   },
   {
    "duration": 138,
    "start_time": "2021-07-08T08:41:11.811Z"
   },
   {
    "duration": 10,
    "start_time": "2021-07-08T08:41:11.950Z"
   },
   {
    "duration": 29,
    "start_time": "2021-07-08T08:41:11.961Z"
   },
   {
    "duration": 171,
    "start_time": "2021-07-08T08:47:44.522Z"
   },
   {
    "duration": 124,
    "start_time": "2021-07-08T08:47:46.872Z"
   },
   {
    "duration": 191,
    "start_time": "2021-07-08T08:47:58.148Z"
   },
   {
    "duration": 191,
    "start_time": "2021-07-08T08:48:07.412Z"
   },
   {
    "duration": 261,
    "start_time": "2021-07-08T08:48:10.385Z"
   },
   {
    "duration": 255,
    "start_time": "2021-07-08T08:48:14.494Z"
   },
   {
    "duration": 219,
    "start_time": "2021-07-08T08:48:22.752Z"
   },
   {
    "duration": 173,
    "start_time": "2021-07-08T08:49:06.395Z"
   },
   {
    "duration": 180,
    "start_time": "2021-07-08T08:49:21.011Z"
   },
   {
    "duration": 6,
    "start_time": "2021-07-08T08:50:31.697Z"
   },
   {
    "duration": 10,
    "start_time": "2021-07-08T08:50:47.394Z"
   },
   {
    "duration": 11,
    "start_time": "2021-07-08T08:53:49.332Z"
   },
   {
    "duration": 171,
    "start_time": "2021-07-08T08:54:28.408Z"
   },
   {
    "duration": 636,
    "start_time": "2021-07-08T09:02:48.385Z"
   },
   {
    "duration": 227,
    "start_time": "2021-07-08T09:02:49.023Z"
   },
   {
    "duration": 104,
    "start_time": "2021-07-08T09:02:49.252Z"
   },
   {
    "duration": 5,
    "start_time": "2021-07-08T09:02:49.358Z"
   },
   {
    "duration": 27,
    "start_time": "2021-07-08T09:02:49.365Z"
   },
   {
    "duration": 8,
    "start_time": "2021-07-08T09:02:49.394Z"
   },
   {
    "duration": 18,
    "start_time": "2021-07-08T09:02:49.404Z"
   },
   {
    "duration": 6,
    "start_time": "2021-07-08T09:02:49.424Z"
   },
   {
    "duration": 11,
    "start_time": "2021-07-08T09:02:49.433Z"
   },
   {
    "duration": 13,
    "start_time": "2021-07-08T09:02:49.485Z"
   },
   {
    "duration": 9,
    "start_time": "2021-07-08T09:02:49.500Z"
   },
   {
    "duration": 38,
    "start_time": "2021-07-08T09:02:49.511Z"
   },
   {
    "duration": 42,
    "start_time": "2021-07-08T09:02:49.551Z"
   },
   {
    "duration": 21,
    "start_time": "2021-07-08T09:02:49.594Z"
   },
   {
    "duration": 6,
    "start_time": "2021-07-08T09:02:49.616Z"
   },
   {
    "duration": 3,
    "start_time": "2021-07-08T09:02:49.623Z"
   },
   {
    "duration": 9,
    "start_time": "2021-07-08T09:02:49.628Z"
   },
   {
    "duration": 52,
    "start_time": "2021-07-08T09:02:49.638Z"
   },
   {
    "duration": 11,
    "start_time": "2021-07-08T09:02:49.692Z"
   },
   {
    "duration": 8,
    "start_time": "2021-07-08T09:02:49.704Z"
   },
   {
    "duration": 27,
    "start_time": "2021-07-08T09:02:49.713Z"
   },
   {
    "duration": 59,
    "start_time": "2021-07-08T09:02:49.741Z"
   },
   {
    "duration": 8,
    "start_time": "2021-07-08T09:02:49.803Z"
   },
   {
    "duration": 14,
    "start_time": "2021-07-08T09:02:49.813Z"
   },
   {
    "duration": 20,
    "start_time": "2021-07-08T09:02:49.829Z"
   },
   {
    "duration": 44,
    "start_time": "2021-07-08T09:02:49.851Z"
   },
   {
    "duration": 14,
    "start_time": "2021-07-08T09:02:49.896Z"
   },
   {
    "duration": 221,
    "start_time": "2021-07-08T09:02:49.912Z"
   },
   {
    "duration": 6,
    "start_time": "2021-07-08T09:02:50.134Z"
   },
   {
    "duration": 206,
    "start_time": "2021-07-08T09:02:50.142Z"
   },
   {
    "duration": 19,
    "start_time": "2021-07-08T09:02:50.350Z"
   },
   {
    "duration": 21,
    "start_time": "2021-07-08T09:02:50.370Z"
   },
   {
    "duration": 20,
    "start_time": "2021-07-08T09:02:50.393Z"
   },
   {
    "duration": 5,
    "start_time": "2021-07-08T09:02:50.414Z"
   },
   {
    "duration": 5,
    "start_time": "2021-07-08T09:03:34.173Z"
   },
   {
    "duration": 6,
    "start_time": "2021-07-08T09:04:49.062Z"
   },
   {
    "duration": 9,
    "start_time": "2021-07-08T09:04:50.118Z"
   },
   {
    "duration": 14,
    "start_time": "2021-07-08T09:04:58.512Z"
   },
   {
    "duration": 9,
    "start_time": "2021-07-08T09:05:10.988Z"
   },
   {
    "duration": 11,
    "start_time": "2021-07-08T09:05:11.743Z"
   },
   {
    "duration": 7,
    "start_time": "2021-07-08T09:05:25.677Z"
   },
   {
    "duration": 13,
    "start_time": "2021-07-08T09:05:47.189Z"
   },
   {
    "duration": 13,
    "start_time": "2021-07-08T09:05:54.755Z"
   },
   {
    "duration": 4,
    "start_time": "2021-07-08T09:06:29.189Z"
   },
   {
    "duration": 244,
    "start_time": "2021-07-08T09:06:29.195Z"
   },
   {
    "duration": 91,
    "start_time": "2021-07-08T09:06:29.441Z"
   },
   {
    "duration": 4,
    "start_time": "2021-07-08T09:06:29.534Z"
   },
   {
    "duration": 28,
    "start_time": "2021-07-08T09:06:29.540Z"
   },
   {
    "duration": 6,
    "start_time": "2021-07-08T09:06:29.570Z"
   },
   {
    "duration": 18,
    "start_time": "2021-07-08T09:06:29.578Z"
   },
   {
    "duration": 5,
    "start_time": "2021-07-08T09:06:29.597Z"
   },
   {
    "duration": 13,
    "start_time": "2021-07-08T09:06:29.605Z"
   },
   {
    "duration": 8,
    "start_time": "2021-07-08T09:06:29.620Z"
   },
   {
    "duration": 7,
    "start_time": "2021-07-08T09:06:29.630Z"
   },
   {
    "duration": 63,
    "start_time": "2021-07-08T09:06:29.639Z"
   },
   {
    "duration": 17,
    "start_time": "2021-07-08T09:06:29.704Z"
   },
   {
    "duration": 20,
    "start_time": "2021-07-08T09:06:29.723Z"
   },
   {
    "duration": 6,
    "start_time": "2021-07-08T09:06:29.745Z"
   },
   {
    "duration": 3,
    "start_time": "2021-07-08T09:06:29.752Z"
   },
   {
    "duration": 7,
    "start_time": "2021-07-08T09:06:29.785Z"
   },
   {
    "duration": 11,
    "start_time": "2021-07-08T09:06:29.794Z"
   },
   {
    "duration": 15,
    "start_time": "2021-07-08T09:06:29.807Z"
   },
   {
    "duration": 8,
    "start_time": "2021-07-08T09:06:29.823Z"
   },
   {
    "duration": 70,
    "start_time": "2021-07-08T09:06:29.832Z"
   },
   {
    "duration": 17,
    "start_time": "2021-07-08T09:06:29.903Z"
   },
   {
    "duration": 9,
    "start_time": "2021-07-08T09:06:29.921Z"
   },
   {
    "duration": 9,
    "start_time": "2021-07-08T09:06:29.932Z"
   },
   {
    "duration": 57,
    "start_time": "2021-07-08T09:06:29.942Z"
   },
   {
    "duration": 11,
    "start_time": "2021-07-08T09:06:30.001Z"
   },
   {
    "duration": 19,
    "start_time": "2021-07-08T09:06:30.016Z"
   },
   {
    "duration": 217,
    "start_time": "2021-07-08T09:06:30.037Z"
   },
   {
    "duration": 6,
    "start_time": "2021-07-08T09:06:30.255Z"
   },
   {
    "duration": 205,
    "start_time": "2021-07-08T09:06:30.263Z"
   },
   {
    "duration": 27,
    "start_time": "2021-07-08T09:06:30.470Z"
   },
   {
    "duration": 11,
    "start_time": "2021-07-08T09:06:30.500Z"
   },
   {
    "duration": 31,
    "start_time": "2021-07-08T09:06:30.513Z"
   },
   {
    "duration": 18,
    "start_time": "2021-07-08T09:06:30.546Z"
   },
   {
    "duration": 11,
    "start_time": "2021-07-08T09:06:30.566Z"
   },
   {
    "duration": 19,
    "start_time": "2021-07-08T09:06:30.579Z"
   },
   {
    "duration": 20,
    "start_time": "2021-07-08T09:06:49.466Z"
   },
   {
    "duration": 9,
    "start_time": "2021-07-08T09:06:51.994Z"
   },
   {
    "duration": 20,
    "start_time": "2021-07-08T09:06:52.273Z"
   },
   {
    "duration": 246,
    "start_time": "2021-07-08T09:10:21.272Z"
   },
   {
    "duration": 84,
    "start_time": "2021-07-08T09:10:21.436Z"
   },
   {
    "duration": 7,
    "start_time": "2021-07-08T09:10:37.608Z"
   },
   {
    "duration": 189,
    "start_time": "2021-07-08T09:10:38.573Z"
   },
   {
    "duration": 185,
    "start_time": "2021-07-08T09:10:53.181Z"
   },
   {
    "duration": 11,
    "start_time": "2021-07-08T09:10:59.549Z"
   },
   {
    "duration": 42,
    "start_time": "2021-07-08T09:10:59.709Z"
   },
   {
    "duration": 12,
    "start_time": "2021-07-08T09:11:02.857Z"
   },
   {
    "duration": 28,
    "start_time": "2021-07-08T09:11:10.062Z"
   },
   {
    "duration": 249,
    "start_time": "2021-07-08T09:11:37.388Z"
   },
   {
    "duration": 232,
    "start_time": "2021-07-08T09:11:49.485Z"
   },
   {
    "duration": 453,
    "start_time": "2021-07-08T09:12:01.546Z"
   },
   {
    "duration": 440,
    "start_time": "2021-07-08T09:12:12.347Z"
   },
   {
    "duration": 213,
    "start_time": "2021-07-08T09:13:32.196Z"
   },
   {
    "duration": 172,
    "start_time": "2021-07-08T09:14:07.400Z"
   },
   {
    "duration": 185,
    "start_time": "2021-07-08T09:14:14.905Z"
   },
   {
    "duration": 209,
    "start_time": "2021-07-08T09:14:40.109Z"
   },
   {
    "duration": 201,
    "start_time": "2021-07-08T09:14:54.506Z"
   },
   {
    "duration": 622,
    "start_time": "2021-07-08T09:18:14.497Z"
   },
   {
    "duration": 220,
    "start_time": "2021-07-08T09:18:15.121Z"
   },
   {
    "duration": 79,
    "start_time": "2021-07-08T09:18:15.343Z"
   },
   {
    "duration": 4,
    "start_time": "2021-07-08T09:18:15.425Z"
   },
   {
    "duration": 24,
    "start_time": "2021-07-08T09:18:15.431Z"
   },
   {
    "duration": 8,
    "start_time": "2021-07-08T09:18:15.457Z"
   },
   {
    "duration": 16,
    "start_time": "2021-07-08T09:18:15.466Z"
   },
   {
    "duration": 5,
    "start_time": "2021-07-08T09:18:15.484Z"
   },
   {
    "duration": 10,
    "start_time": "2021-07-08T09:18:15.493Z"
   },
   {
    "duration": 8,
    "start_time": "2021-07-08T09:18:15.504Z"
   },
   {
    "duration": 7,
    "start_time": "2021-07-08T09:18:15.513Z"
   },
   {
    "duration": 26,
    "start_time": "2021-07-08T09:18:15.522Z"
   },
   {
    "duration": 49,
    "start_time": "2021-07-08T09:18:15.550Z"
   },
   {
    "duration": 21,
    "start_time": "2021-07-08T09:18:15.601Z"
   },
   {
    "duration": 8,
    "start_time": "2021-07-08T09:18:15.624Z"
   },
   {
    "duration": 3,
    "start_time": "2021-07-08T09:18:15.634Z"
   },
   {
    "duration": 8,
    "start_time": "2021-07-08T09:18:15.639Z"
   },
   {
    "duration": 45,
    "start_time": "2021-07-08T09:18:15.649Z"
   },
   {
    "duration": 13,
    "start_time": "2021-07-08T09:18:15.696Z"
   },
   {
    "duration": 10,
    "start_time": "2021-07-08T09:18:15.711Z"
   },
   {
    "duration": 64,
    "start_time": "2021-07-08T09:18:15.722Z"
   },
   {
    "duration": 19,
    "start_time": "2021-07-08T09:18:15.788Z"
   },
   {
    "duration": 9,
    "start_time": "2021-07-08T09:18:15.809Z"
   },
   {
    "duration": 9,
    "start_time": "2021-07-08T09:18:15.820Z"
   },
   {
    "duration": 18,
    "start_time": "2021-07-08T09:18:15.831Z"
   },
   {
    "duration": 43,
    "start_time": "2021-07-08T09:18:15.851Z"
   },
   {
    "duration": 12,
    "start_time": "2021-07-08T09:18:15.897Z"
   },
   {
    "duration": 219,
    "start_time": "2021-07-08T09:18:15.911Z"
   },
   {
    "duration": 8,
    "start_time": "2021-07-08T09:18:16.132Z"
   },
   {
    "duration": 199,
    "start_time": "2021-07-08T09:18:16.141Z"
   },
   {
    "duration": 18,
    "start_time": "2021-07-08T09:18:16.341Z"
   },
   {
    "duration": 24,
    "start_time": "2021-07-08T09:18:16.361Z"
   },
   {
    "duration": 24,
    "start_time": "2021-07-08T09:18:16.387Z"
   },
   {
    "duration": 211,
    "start_time": "2021-07-08T09:18:16.413Z"
   },
   {
    "duration": 18,
    "start_time": "2021-07-08T09:18:16.626Z"
   },
   {
    "duration": 596,
    "start_time": "2021-07-08T10:06:33.623Z"
   },
   {
    "duration": 181,
    "start_time": "2021-07-08T10:06:34.221Z"
   },
   {
    "duration": 176,
    "start_time": "2021-07-08T10:06:34.635Z"
   },
   {
    "duration": 239,
    "start_time": "2021-07-08T10:06:55.572Z"
   },
   {
    "duration": 6,
    "start_time": "2021-07-08T10:06:57.687Z"
   },
   {
    "duration": 4,
    "start_time": "2021-07-08T10:07:03.956Z"
   },
   {
    "duration": 4,
    "start_time": "2021-07-08T10:07:10.376Z"
   },
   {
    "duration": 4,
    "start_time": "2021-07-08T10:17:19.889Z"
   },
   {
    "duration": 3,
    "start_time": "2021-07-08T10:19:19.407Z"
   },
   {
    "duration": 197,
    "start_time": "2021-07-08T10:19:19.412Z"
   },
   {
    "duration": 127,
    "start_time": "2021-07-08T10:19:19.611Z"
   },
   {
    "duration": 4,
    "start_time": "2021-07-08T10:19:19.740Z"
   },
   {
    "duration": 27,
    "start_time": "2021-07-08T10:19:19.746Z"
   },
   {
    "duration": 7,
    "start_time": "2021-07-08T10:19:19.775Z"
   },
   {
    "duration": 30,
    "start_time": "2021-07-08T10:19:19.784Z"
   },
   {
    "duration": 7,
    "start_time": "2021-07-08T10:19:19.817Z"
   },
   {
    "duration": 26,
    "start_time": "2021-07-08T10:19:19.826Z"
   },
   {
    "duration": 18,
    "start_time": "2021-07-08T10:19:19.854Z"
   },
   {
    "duration": 14,
    "start_time": "2021-07-08T10:19:19.874Z"
   },
   {
    "duration": 48,
    "start_time": "2021-07-08T10:19:19.890Z"
   },
   {
    "duration": 17,
    "start_time": "2021-07-08T10:19:19.940Z"
   },
   {
    "duration": 38,
    "start_time": "2021-07-08T10:19:19.959Z"
   },
   {
    "duration": 8,
    "start_time": "2021-07-08T10:19:19.999Z"
   },
   {
    "duration": 15,
    "start_time": "2021-07-08T10:19:20.009Z"
   },
   {
    "duration": 22,
    "start_time": "2021-07-08T10:19:20.026Z"
   },
   {
    "duration": 10,
    "start_time": "2021-07-08T10:19:20.050Z"
   },
   {
    "duration": 10,
    "start_time": "2021-07-08T10:19:20.062Z"
   },
   {
    "duration": 20,
    "start_time": "2021-07-08T10:19:20.073Z"
   },
   {
    "duration": 29,
    "start_time": "2021-07-08T10:19:20.095Z"
   },
   {
    "duration": 17,
    "start_time": "2021-07-08T10:19:20.126Z"
   },
   {
    "duration": 40,
    "start_time": "2021-07-08T10:19:20.146Z"
   },
   {
    "duration": 15,
    "start_time": "2021-07-08T10:19:20.189Z"
   },
   {
    "duration": 19,
    "start_time": "2021-07-08T10:19:20.206Z"
   },
   {
    "duration": 10,
    "start_time": "2021-07-08T10:19:20.226Z"
   },
   {
    "duration": 11,
    "start_time": "2021-07-08T10:19:20.238Z"
   },
   {
    "duration": 297,
    "start_time": "2021-07-08T10:19:20.250Z"
   },
   {
    "duration": 6,
    "start_time": "2021-07-08T10:19:20.549Z"
   },
   {
    "duration": 191,
    "start_time": "2021-07-08T10:19:20.557Z"
   },
   {
    "duration": 19,
    "start_time": "2021-07-08T10:19:20.750Z"
   },
   {
    "duration": 20,
    "start_time": "2021-07-08T10:19:20.771Z"
   },
   {
    "duration": 15,
    "start_time": "2021-07-08T10:19:20.793Z"
   },
   {
    "duration": 222,
    "start_time": "2021-07-08T10:19:20.809Z"
   },
   {
    "duration": 20,
    "start_time": "2021-07-08T10:19:21.033Z"
   },
   {
    "duration": 27,
    "start_time": "2021-07-08T10:45:04.055Z"
   },
   {
    "duration": 8,
    "start_time": "2021-07-08T10:45:08.478Z"
   },
   {
    "duration": 8,
    "start_time": "2021-07-08T10:45:31.982Z"
   },
   {
    "duration": 10,
    "start_time": "2021-07-08T10:46:01.221Z"
   },
   {
    "duration": 17,
    "start_time": "2021-07-08T10:46:40.011Z"
   },
   {
    "duration": 193,
    "start_time": "2021-07-08T10:48:19.471Z"
   },
   {
    "duration": 225,
    "start_time": "2021-07-08T10:49:26.480Z"
   },
   {
    "duration": 204,
    "start_time": "2021-07-08T10:49:59.992Z"
   },
   {
    "duration": 435,
    "start_time": "2021-07-08T10:50:06.779Z"
   },
   {
    "duration": 199,
    "start_time": "2021-07-08T10:50:14.891Z"
   },
   {
    "duration": 204,
    "start_time": "2021-07-08T10:50:18.501Z"
   },
   {
    "duration": 244,
    "start_time": "2021-07-08T10:50:23.359Z"
   },
   {
    "duration": 192,
    "start_time": "2021-07-08T10:50:29.135Z"
   },
   {
    "duration": 218,
    "start_time": "2021-07-08T10:50:33.092Z"
   },
   {
    "duration": 207,
    "start_time": "2021-07-08T10:52:45.381Z"
   },
   {
    "duration": 5,
    "start_time": "2021-07-08T10:53:34.641Z"
   },
   {
    "duration": 196,
    "start_time": "2021-07-08T10:53:41.478Z"
   },
   {
    "duration": 43,
    "start_time": "2021-07-08T10:53:50.335Z"
   },
   {
    "duration": 32,
    "start_time": "2021-07-08T10:53:55.294Z"
   },
   {
    "duration": 55,
    "start_time": "2021-07-08T10:54:09.675Z"
   },
   {
    "duration": 16,
    "start_time": "2021-07-08T10:54:12.260Z"
   },
   {
    "duration": 15,
    "start_time": "2021-07-08T10:54:49.150Z"
   },
   {
    "duration": 20,
    "start_time": "2021-07-08T10:56:07.596Z"
   },
   {
    "duration": 16,
    "start_time": "2021-07-08T10:58:26.276Z"
   },
   {
    "duration": 22,
    "start_time": "2021-07-08T10:59:00.486Z"
   },
   {
    "duration": 18,
    "start_time": "2021-07-08T11:02:09.653Z"
   },
   {
    "duration": 10,
    "start_time": "2021-07-08T11:03:44.331Z"
   },
   {
    "duration": 10,
    "start_time": "2021-07-08T11:03:54.055Z"
   },
   {
    "duration": 12,
    "start_time": "2021-07-08T11:04:41.967Z"
   },
   {
    "duration": 24,
    "start_time": "2021-07-08T11:07:30.732Z"
   },
   {
    "duration": 6,
    "start_time": "2021-07-08T11:07:37.364Z"
   },
   {
    "duration": 16,
    "start_time": "2021-07-08T11:08:01.819Z"
   },
   {
    "duration": 17,
    "start_time": "2021-07-08T11:09:47.488Z"
   },
   {
    "duration": 246,
    "start_time": "2021-07-08T11:10:00.830Z"
   },
   {
    "duration": 18,
    "start_time": "2021-07-08T11:13:55.195Z"
   },
   {
    "duration": 204,
    "start_time": "2021-07-08T11:14:04.951Z"
   },
   {
    "duration": 19,
    "start_time": "2021-07-08T11:15:10.613Z"
   },
   {
    "duration": 680,
    "start_time": "2021-07-08T11:16:25.793Z"
   },
   {
    "duration": 451,
    "start_time": "2021-07-08T11:16:40.313Z"
   },
   {
    "duration": 469,
    "start_time": "2021-07-08T11:17:21.286Z"
   },
   {
    "duration": 20,
    "start_time": "2021-07-08T11:19:12.554Z"
   },
   {
    "duration": 35,
    "start_time": "2021-07-08T11:20:05.484Z"
   },
   {
    "duration": 53,
    "start_time": "2021-07-08T11:21:40.050Z"
   },
   {
    "duration": 13,
    "start_time": "2021-07-08T11:22:26.059Z"
   },
   {
    "duration": 19,
    "start_time": "2021-07-08T11:22:47.419Z"
   },
   {
    "duration": 25,
    "start_time": "2021-07-08T11:23:19.958Z"
   },
   {
    "duration": 29,
    "start_time": "2021-07-08T11:23:25.415Z"
   },
   {
    "duration": 10,
    "start_time": "2021-07-08T11:24:45.138Z"
   },
   {
    "duration": 19,
    "start_time": "2021-07-08T11:24:54.498Z"
   },
   {
    "duration": 12,
    "start_time": "2021-07-08T11:25:32.225Z"
   },
   {
    "duration": 19,
    "start_time": "2021-07-08T11:25:37.092Z"
   },
   {
    "duration": 17,
    "start_time": "2021-07-08T11:25:58.116Z"
   },
   {
    "duration": 15,
    "start_time": "2021-07-08T11:26:02.258Z"
   },
   {
    "duration": 8,
    "start_time": "2021-07-08T11:26:59.682Z"
   },
   {
    "duration": 184,
    "start_time": "2021-07-08T11:27:21.894Z"
   },
   {
    "duration": 8,
    "start_time": "2021-07-08T11:27:23.824Z"
   },
   {
    "duration": 202,
    "start_time": "2021-07-08T11:27:23.962Z"
   },
   {
    "duration": 360,
    "start_time": "2021-07-08T11:28:33.215Z"
   },
   {
    "duration": 231,
    "start_time": "2021-07-08T11:32:05.542Z"
   },
   {
    "duration": 607,
    "start_time": "2021-07-08T11:36:27.854Z"
   },
   {
    "duration": 241,
    "start_time": "2021-07-08T11:36:28.463Z"
   },
   {
    "duration": 67,
    "start_time": "2021-07-08T11:36:28.709Z"
   },
   {
    "duration": 5,
    "start_time": "2021-07-08T11:36:28.778Z"
   },
   {
    "duration": 32,
    "start_time": "2021-07-08T11:36:28.784Z"
   },
   {
    "duration": 11,
    "start_time": "2021-07-08T11:36:28.819Z"
   },
   {
    "duration": 20,
    "start_time": "2021-07-08T11:36:28.834Z"
   },
   {
    "duration": 36,
    "start_time": "2021-07-08T11:36:28.857Z"
   },
   {
    "duration": 16,
    "start_time": "2021-07-08T11:36:28.895Z"
   },
   {
    "duration": 14,
    "start_time": "2021-07-08T11:36:28.913Z"
   },
   {
    "duration": 9,
    "start_time": "2021-07-08T11:36:28.930Z"
   },
   {
    "duration": 55,
    "start_time": "2021-07-08T11:36:28.941Z"
   },
   {
    "duration": 27,
    "start_time": "2021-07-08T11:36:28.999Z"
   },
   {
    "duration": 30,
    "start_time": "2021-07-08T11:36:29.028Z"
   },
   {
    "duration": 31,
    "start_time": "2021-07-08T11:36:29.060Z"
   },
   {
    "duration": 3,
    "start_time": "2021-07-08T11:36:29.093Z"
   },
   {
    "duration": 12,
    "start_time": "2021-07-08T11:36:29.099Z"
   },
   {
    "duration": 11,
    "start_time": "2021-07-08T11:36:29.112Z"
   },
   {
    "duration": 12,
    "start_time": "2021-07-08T11:36:29.125Z"
   },
   {
    "duration": 9,
    "start_time": "2021-07-08T11:36:29.139Z"
   },
   {
    "duration": 31,
    "start_time": "2021-07-08T11:36:29.191Z"
   },
   {
    "duration": 17,
    "start_time": "2021-07-08T11:36:29.226Z"
   },
   {
    "duration": 7,
    "start_time": "2021-07-08T11:36:29.245Z"
   },
   {
    "duration": 10,
    "start_time": "2021-07-08T11:36:29.254Z"
   },
   {
    "duration": 30,
    "start_time": "2021-07-08T11:36:29.292Z"
   },
   {
    "duration": 11,
    "start_time": "2021-07-08T11:36:29.324Z"
   },
   {
    "duration": 11,
    "start_time": "2021-07-08T11:36:29.337Z"
   },
   {
    "duration": 230,
    "start_time": "2021-07-08T11:36:29.349Z"
   },
   {
    "duration": 13,
    "start_time": "2021-07-08T11:36:29.588Z"
   },
   {
    "duration": 205,
    "start_time": "2021-07-08T11:36:29.603Z"
   },
   {
    "duration": 20,
    "start_time": "2021-07-08T11:36:29.810Z"
   },
   {
    "duration": 9,
    "start_time": "2021-07-08T11:36:29.832Z"
   },
   {
    "duration": 16,
    "start_time": "2021-07-08T11:36:29.843Z"
   },
   {
    "duration": 283,
    "start_time": "2021-07-08T11:36:29.861Z"
   },
   {
    "duration": 50,
    "start_time": "2021-07-08T11:36:30.146Z"
   },
   {
    "duration": 14,
    "start_time": "2021-07-08T11:36:30.198Z"
   },
   {
    "duration": 11,
    "start_time": "2021-07-08T11:36:30.214Z"
   },
   {
    "duration": 245,
    "start_time": "2021-07-08T11:36:30.227Z"
   },
   {
    "duration": 439,
    "start_time": "2021-07-08T11:36:30.474Z"
   },
   {
    "duration": 210,
    "start_time": "2021-07-08T11:36:30.915Z"
   },
   {
    "duration": 15,
    "start_time": "2021-07-08T11:36:31.127Z"
   },
   {
    "duration": 17,
    "start_time": "2021-07-08T11:38:20.451Z"
   },
   {
    "duration": 642,
    "start_time": "2021-07-08T11:46:17.881Z"
   },
   {
    "duration": 210,
    "start_time": "2021-07-08T11:46:18.525Z"
   },
   {
    "duration": 104,
    "start_time": "2021-07-08T11:46:18.741Z"
   },
   {
    "duration": 8,
    "start_time": "2021-07-08T11:46:18.847Z"
   },
   {
    "duration": 25,
    "start_time": "2021-07-08T11:46:18.857Z"
   },
   {
    "duration": 14,
    "start_time": "2021-07-08T11:46:18.884Z"
   },
   {
    "duration": 22,
    "start_time": "2021-07-08T11:46:18.900Z"
   },
   {
    "duration": 5,
    "start_time": "2021-07-08T11:46:18.924Z"
   },
   {
    "duration": 13,
    "start_time": "2021-07-08T11:46:18.931Z"
   },
   {
    "duration": 45,
    "start_time": "2021-07-08T11:46:18.946Z"
   },
   {
    "duration": 12,
    "start_time": "2021-07-08T11:46:18.993Z"
   },
   {
    "duration": 38,
    "start_time": "2021-07-08T11:46:19.006Z"
   },
   {
    "duration": 50,
    "start_time": "2021-07-08T11:46:19.046Z"
   },
   {
    "duration": 29,
    "start_time": "2021-07-08T11:46:19.099Z"
   },
   {
    "duration": 7,
    "start_time": "2021-07-08T11:46:19.130Z"
   },
   {
    "duration": 3,
    "start_time": "2021-07-08T11:46:19.139Z"
   },
   {
    "duration": 11,
    "start_time": "2021-07-08T11:46:19.144Z"
   },
   {
    "duration": 40,
    "start_time": "2021-07-08T11:46:19.157Z"
   },
   {
    "duration": 15,
    "start_time": "2021-07-08T11:46:19.199Z"
   },
   {
    "duration": 10,
    "start_time": "2021-07-08T11:46:19.217Z"
   },
   {
    "duration": 68,
    "start_time": "2021-07-08T11:46:19.230Z"
   },
   {
    "duration": 17,
    "start_time": "2021-07-08T11:46:19.301Z"
   },
   {
    "duration": 7,
    "start_time": "2021-07-08T11:46:19.321Z"
   },
   {
    "duration": 11,
    "start_time": "2021-07-08T11:46:19.330Z"
   },
   {
    "duration": 59,
    "start_time": "2021-07-08T11:46:19.343Z"
   },
   {
    "duration": 17,
    "start_time": "2021-07-08T11:46:19.405Z"
   },
   {
    "duration": 16,
    "start_time": "2021-07-08T11:46:19.424Z"
   },
   {
    "duration": 252,
    "start_time": "2021-07-08T11:46:19.443Z"
   },
   {
    "duration": 9,
    "start_time": "2021-07-08T11:46:19.697Z"
   },
   {
    "duration": 224,
    "start_time": "2021-07-08T11:46:19.708Z"
   },
   {
    "duration": 21,
    "start_time": "2021-07-08T11:46:19.934Z"
   },
   {
    "duration": 9,
    "start_time": "2021-07-08T11:46:19.956Z"
   },
   {
    "duration": 32,
    "start_time": "2021-07-08T11:46:19.967Z"
   },
   {
    "duration": 288,
    "start_time": "2021-07-08T11:46:20.004Z"
   },
   {
    "duration": 23,
    "start_time": "2021-07-08T11:46:20.300Z"
   },
   {
    "duration": 11,
    "start_time": "2021-07-08T11:46:20.325Z"
   },
   {
    "duration": 11,
    "start_time": "2021-07-08T11:46:20.339Z"
   },
   {
    "duration": 259,
    "start_time": "2021-07-08T11:46:20.352Z"
   },
   {
    "duration": 438,
    "start_time": "2021-07-08T11:46:20.613Z"
   },
   {
    "duration": 207,
    "start_time": "2021-07-08T11:46:21.054Z"
   },
   {
    "duration": 27,
    "start_time": "2021-07-08T11:46:21.262Z"
   },
   {
    "duration": 19,
    "start_time": "2021-07-08T11:46:21.291Z"
   },
   {
    "duration": 820,
    "start_time": "2021-07-08T11:49:01.655Z"
   },
   {
    "duration": 372,
    "start_time": "2021-07-08T11:49:02.478Z"
   },
   {
    "duration": 98,
    "start_time": "2021-07-08T11:49:02.853Z"
   },
   {
    "duration": 6,
    "start_time": "2021-07-08T11:49:02.953Z"
   },
   {
    "duration": 39,
    "start_time": "2021-07-08T11:49:02.960Z"
   },
   {
    "duration": 9,
    "start_time": "2021-07-08T11:49:03.003Z"
   },
   {
    "duration": 23,
    "start_time": "2021-07-08T11:49:03.014Z"
   },
   {
    "duration": 6,
    "start_time": "2021-07-08T11:49:03.041Z"
   },
   {
    "duration": 20,
    "start_time": "2021-07-08T11:49:03.049Z"
   },
   {
    "duration": 18,
    "start_time": "2021-07-08T11:49:03.084Z"
   },
   {
    "duration": 14,
    "start_time": "2021-07-08T11:49:03.104Z"
   },
   {
    "duration": 39,
    "start_time": "2021-07-08T11:49:03.119Z"
   },
   {
    "duration": 38,
    "start_time": "2021-07-08T11:49:03.160Z"
   },
   {
    "duration": 26,
    "start_time": "2021-07-08T11:49:03.200Z"
   },
   {
    "duration": 7,
    "start_time": "2021-07-08T11:49:03.227Z"
   },
   {
    "duration": 4,
    "start_time": "2021-07-08T11:49:03.236Z"
   },
   {
    "duration": 15,
    "start_time": "2021-07-08T11:49:03.243Z"
   },
   {
    "duration": 21,
    "start_time": "2021-07-08T11:49:03.285Z"
   },
   {
    "duration": 17,
    "start_time": "2021-07-08T11:49:03.309Z"
   },
   {
    "duration": 10,
    "start_time": "2021-07-08T11:49:03.328Z"
   },
   {
    "duration": 65,
    "start_time": "2021-07-08T11:49:03.340Z"
   },
   {
    "duration": 18,
    "start_time": "2021-07-08T11:49:03.407Z"
   },
   {
    "duration": 8,
    "start_time": "2021-07-08T11:49:03.428Z"
   },
   {
    "duration": 15,
    "start_time": "2021-07-08T11:49:03.438Z"
   },
   {
    "duration": 40,
    "start_time": "2021-07-08T11:49:03.455Z"
   },
   {
    "duration": 12,
    "start_time": "2021-07-08T11:49:03.497Z"
   },
   {
    "duration": 29,
    "start_time": "2021-07-08T11:49:03.511Z"
   },
   {
    "duration": 285,
    "start_time": "2021-07-08T11:49:03.542Z"
   },
   {
    "duration": 8,
    "start_time": "2021-07-08T11:49:03.829Z"
   },
   {
    "duration": 227,
    "start_time": "2021-07-08T11:49:03.838Z"
   },
   {
    "duration": 40,
    "start_time": "2021-07-08T11:49:04.066Z"
   },
   {
    "duration": 10,
    "start_time": "2021-07-08T11:49:04.108Z"
   },
   {
    "duration": 26,
    "start_time": "2021-07-08T11:49:04.121Z"
   },
   {
    "duration": 290,
    "start_time": "2021-07-08T11:49:04.149Z"
   },
   {
    "duration": 26,
    "start_time": "2021-07-08T11:49:04.441Z"
   },
   {
    "duration": 31,
    "start_time": "2021-07-08T11:49:04.470Z"
   },
   {
    "duration": 14,
    "start_time": "2021-07-08T11:49:04.503Z"
   },
   {
    "duration": 259,
    "start_time": "2021-07-08T11:49:04.521Z"
   },
   {
    "duration": 480,
    "start_time": "2021-07-08T11:49:04.782Z"
   },
   {
    "duration": 225,
    "start_time": "2021-07-08T11:49:05.264Z"
   },
   {
    "duration": 22,
    "start_time": "2021-07-08T11:49:05.491Z"
   },
   {
    "duration": 24,
    "start_time": "2021-07-08T11:49:05.515Z"
   },
   {
    "duration": 634,
    "start_time": "2021-07-08T11:52:24.960Z"
   },
   {
    "duration": 199,
    "start_time": "2021-07-08T11:52:25.599Z"
   },
   {
    "duration": 106,
    "start_time": "2021-07-08T11:52:25.803Z"
   },
   {
    "duration": 7,
    "start_time": "2021-07-08T11:52:25.911Z"
   },
   {
    "duration": 29,
    "start_time": "2021-07-08T11:52:25.920Z"
   },
   {
    "duration": 7,
    "start_time": "2021-07-08T11:52:25.951Z"
   },
   {
    "duration": 26,
    "start_time": "2021-07-08T11:52:25.961Z"
   },
   {
    "duration": 11,
    "start_time": "2021-07-08T11:52:25.990Z"
   },
   {
    "duration": 29,
    "start_time": "2021-07-08T11:52:26.005Z"
   },
   {
    "duration": 9,
    "start_time": "2021-07-08T11:52:26.036Z"
   },
   {
    "duration": 8,
    "start_time": "2021-07-08T11:52:26.047Z"
   },
   {
    "duration": 63,
    "start_time": "2021-07-08T11:52:26.057Z"
   },
   {
    "duration": 17,
    "start_time": "2021-07-08T11:52:26.122Z"
   },
   {
    "duration": 43,
    "start_time": "2021-07-08T11:52:26.142Z"
   },
   {
    "duration": 17,
    "start_time": "2021-07-08T11:52:26.187Z"
   },
   {
    "duration": 5,
    "start_time": "2021-07-08T11:52:26.206Z"
   },
   {
    "duration": 12,
    "start_time": "2021-07-08T11:52:26.212Z"
   },
   {
    "duration": 11,
    "start_time": "2021-07-08T11:52:26.226Z"
   },
   {
    "duration": 12,
    "start_time": "2021-07-08T11:52:26.238Z"
   },
   {
    "duration": 38,
    "start_time": "2021-07-08T11:52:26.252Z"
   },
   {
    "duration": 40,
    "start_time": "2021-07-08T11:52:26.292Z"
   },
   {
    "duration": 17,
    "start_time": "2021-07-08T11:52:26.336Z"
   },
   {
    "duration": 39,
    "start_time": "2021-07-08T11:52:26.355Z"
   },
   {
    "duration": 11,
    "start_time": "2021-07-08T11:52:26.395Z"
   },
   {
    "duration": 23,
    "start_time": "2021-07-08T11:52:26.408Z"
   },
   {
    "duration": 12,
    "start_time": "2021-07-08T11:52:26.432Z"
   },
   {
    "duration": 41,
    "start_time": "2021-07-08T11:52:26.446Z"
   },
   {
    "duration": 215,
    "start_time": "2021-07-08T11:52:26.493Z"
   },
   {
    "duration": 8,
    "start_time": "2021-07-08T11:52:26.710Z"
   },
   {
    "duration": 228,
    "start_time": "2021-07-08T11:52:26.720Z"
   },
   {
    "duration": 18,
    "start_time": "2021-07-08T11:52:26.950Z"
   },
   {
    "duration": 35,
    "start_time": "2021-07-08T11:52:26.969Z"
   },
   {
    "duration": 23,
    "start_time": "2021-07-08T11:52:27.006Z"
   },
   {
    "duration": 258,
    "start_time": "2021-07-08T11:52:27.030Z"
   },
   {
    "duration": 24,
    "start_time": "2021-07-08T11:52:27.290Z"
   },
   {
    "duration": 12,
    "start_time": "2021-07-08T11:52:27.316Z"
   },
   {
    "duration": 10,
    "start_time": "2021-07-08T11:52:27.329Z"
   },
   {
    "duration": 298,
    "start_time": "2021-07-08T11:52:27.341Z"
   },
   {
    "duration": 436,
    "start_time": "2021-07-08T11:52:27.641Z"
   },
   {
    "duration": 216,
    "start_time": "2021-07-08T11:52:28.079Z"
   },
   {
    "duration": 20,
    "start_time": "2021-07-08T11:52:28.297Z"
   },
   {
    "duration": 17,
    "start_time": "2021-07-08T11:52:28.319Z"
   },
   {
    "duration": 545,
    "start_time": "2024-06-11T18:51:55.882Z"
   },
   {
    "duration": 3,
    "start_time": "2024-06-11T18:51:57.342Z"
   },
   {
    "duration": 189,
    "start_time": "2024-06-11T18:51:59.056Z"
   },
   {
    "duration": 145,
    "start_time": "2024-06-11T18:56:28.133Z"
   },
   {
    "duration": 19,
    "start_time": "2024-06-11T18:59:05.901Z"
   },
   {
    "duration": 86,
    "start_time": "2024-06-11T19:01:16.042Z"
   },
   {
    "duration": 13,
    "start_time": "2024-06-11T19:01:20.125Z"
   },
   {
    "duration": 94,
    "start_time": "2024-06-11T19:01:52.838Z"
   },
   {
    "duration": 7,
    "start_time": "2024-06-11T19:02:03.369Z"
   },
   {
    "duration": 3,
    "start_time": "2024-06-11T19:02:58.033Z"
   },
   {
    "duration": 9,
    "start_time": "2024-06-11T19:03:00.018Z"
   },
   {
    "duration": 4,
    "start_time": "2024-06-11T19:19:00.174Z"
   },
   {
    "duration": 4,
    "start_time": "2024-06-11T19:19:15.388Z"
   },
   {
    "duration": 73,
    "start_time": "2024-06-11T19:21:13.657Z"
   },
   {
    "duration": 11,
    "start_time": "2024-06-11T19:21:40.409Z"
   },
   {
    "duration": 16,
    "start_time": "2024-06-11T19:24:41.040Z"
   },
   {
    "duration": 10,
    "start_time": "2024-06-11T19:25:25.935Z"
   },
   {
    "duration": 273,
    "start_time": "2024-06-11T19:36:06.066Z"
   },
   {
    "duration": 291,
    "start_time": "2024-06-11T19:37:59.594Z"
   },
   {
    "duration": 4,
    "start_time": "2024-06-11T19:42:26.599Z"
   },
   {
    "duration": 3,
    "start_time": "2024-06-11T19:44:44.104Z"
   },
   {
    "duration": 30,
    "start_time": "2024-06-11T19:44:48.182Z"
   },
   {
    "duration": 12,
    "start_time": "2024-06-11T19:45:00.873Z"
   },
   {
    "duration": 16,
    "start_time": "2024-06-11T19:45:12.079Z"
   },
   {
    "duration": 4,
    "start_time": "2024-06-11T19:45:35.541Z"
   },
   {
    "duration": 458,
    "start_time": "2024-06-11T19:49:30.589Z"
   },
   {
    "duration": 334,
    "start_time": "2024-06-11T19:49:42.903Z"
   },
   {
    "duration": 485,
    "start_time": "2024-06-11T19:56:22.917Z"
   },
   {
    "duration": 418,
    "start_time": "2024-06-11T19:58:43.826Z"
   },
   {
    "duration": 3,
    "start_time": "2024-06-11T19:58:44.246Z"
   },
   {
    "duration": 190,
    "start_time": "2024-06-11T19:58:44.250Z"
   },
   {
    "duration": 86,
    "start_time": "2024-06-11T19:58:44.442Z"
   },
   {
    "duration": 18,
    "start_time": "2024-06-11T19:58:44.529Z"
   },
   {
    "duration": 21,
    "start_time": "2024-06-11T19:58:44.548Z"
   },
   {
    "duration": 3,
    "start_time": "2024-06-11T19:58:44.570Z"
   },
   {
    "duration": 41,
    "start_time": "2024-06-11T19:58:44.575Z"
   },
   {
    "duration": 2,
    "start_time": "2024-06-11T19:58:44.618Z"
   },
   {
    "duration": 7,
    "start_time": "2024-06-11T19:58:44.622Z"
   },
   {
    "duration": 12,
    "start_time": "2024-06-11T19:58:44.630Z"
   },
   {
    "duration": 3,
    "start_time": "2024-06-11T19:58:44.643Z"
   },
   {
    "duration": 3,
    "start_time": "2024-06-11T19:58:44.648Z"
   },
   {
    "duration": 75,
    "start_time": "2024-06-11T19:58:44.652Z"
   },
   {
    "duration": 14,
    "start_time": "2024-06-11T19:58:44.729Z"
   },
   {
    "duration": 14,
    "start_time": "2024-06-11T19:58:44.745Z"
   },
   {
    "duration": 418,
    "start_time": "2024-06-11T19:58:44.760Z"
   },
   {
    "duration": 14,
    "start_time": "2024-06-11T20:11:22.595Z"
   },
   {
    "duration": 5,
    "start_time": "2024-06-11T20:11:39.980Z"
   },
   {
    "duration": 5,
    "start_time": "2024-06-11T20:22:10.184Z"
   },
   {
    "duration": 65,
    "start_time": "2024-06-11T20:24:34.721Z"
   },
   {
    "duration": 20,
    "start_time": "2024-06-11T20:25:13.556Z"
   },
   {
    "duration": 5,
    "start_time": "2024-06-11T20:25:24.199Z"
   },
   {
    "duration": 16,
    "start_time": "2024-06-11T20:26:17.733Z"
   },
   {
    "duration": 14,
    "start_time": "2024-06-11T20:26:55.292Z"
   },
   {
    "duration": 11,
    "start_time": "2024-06-11T20:28:54.714Z"
   },
   {
    "duration": 241,
    "start_time": "2024-06-11T20:32:43.523Z"
   },
   {
    "duration": 7,
    "start_time": "2024-06-11T20:37:14.991Z"
   },
   {
    "duration": 7,
    "start_time": "2024-06-11T20:37:31.167Z"
   },
   {
    "duration": 6,
    "start_time": "2024-06-11T20:37:57.984Z"
   },
   {
    "duration": 7,
    "start_time": "2024-06-11T20:45:07.019Z"
   },
   {
    "duration": 2,
    "start_time": "2024-06-11T20:49:51.082Z"
   },
   {
    "duration": 65,
    "start_time": "2024-06-11T20:50:04.866Z"
   },
   {
    "duration": 11,
    "start_time": "2024-06-11T20:50:47.505Z"
   },
   {
    "duration": 3,
    "start_time": "2024-06-11T20:50:58.056Z"
   },
   {
    "duration": 14,
    "start_time": "2024-06-11T20:51:03.625Z"
   },
   {
    "duration": 16,
    "start_time": "2024-06-11T20:51:06.264Z"
   },
   {
    "duration": 432,
    "start_time": "2024-06-11T20:51:36.550Z"
   },
   {
    "duration": 2,
    "start_time": "2024-06-11T20:51:36.984Z"
   },
   {
    "duration": 197,
    "start_time": "2024-06-11T20:51:36.987Z"
   },
   {
    "duration": 85,
    "start_time": "2024-06-11T20:51:37.186Z"
   },
   {
    "duration": 17,
    "start_time": "2024-06-11T20:51:37.272Z"
   },
   {
    "duration": 15,
    "start_time": "2024-06-11T20:51:37.291Z"
   },
   {
    "duration": 3,
    "start_time": "2024-06-11T20:51:37.308Z"
   },
   {
    "duration": 38,
    "start_time": "2024-06-11T20:51:37.313Z"
   },
   {
    "duration": 3,
    "start_time": "2024-06-11T20:51:37.353Z"
   },
   {
    "duration": 21,
    "start_time": "2024-06-11T20:51:37.359Z"
   },
   {
    "duration": 18,
    "start_time": "2024-06-11T20:51:37.381Z"
   },
   {
    "duration": 4,
    "start_time": "2024-06-11T20:51:37.400Z"
   },
   {
    "duration": 3,
    "start_time": "2024-06-11T20:51:37.406Z"
   },
   {
    "duration": 67,
    "start_time": "2024-06-11T20:51:37.410Z"
   },
   {
    "duration": 0,
    "start_time": "2024-06-11T20:51:37.478Z"
   },
   {
    "duration": 0,
    "start_time": "2024-06-11T20:51:37.480Z"
   },
   {
    "duration": 0,
    "start_time": "2024-06-11T20:51:37.480Z"
   },
   {
    "duration": 0,
    "start_time": "2024-06-11T20:51:37.482Z"
   },
   {
    "duration": 0,
    "start_time": "2024-06-11T20:51:37.483Z"
   },
   {
    "duration": 0,
    "start_time": "2024-06-11T20:51:37.484Z"
   },
   {
    "duration": 0,
    "start_time": "2024-06-11T20:51:37.485Z"
   },
   {
    "duration": 0,
    "start_time": "2024-06-11T20:51:37.486Z"
   },
   {
    "duration": 10,
    "start_time": "2024-06-11T20:52:24.439Z"
   },
   {
    "duration": 14,
    "start_time": "2024-06-11T20:52:34.616Z"
   },
   {
    "duration": 7,
    "start_time": "2024-06-11T21:01:06.444Z"
   },
   {
    "duration": 12,
    "start_time": "2024-06-11T21:01:25.701Z"
   },
   {
    "duration": 13,
    "start_time": "2024-06-11T21:01:29.613Z"
   },
   {
    "duration": 14,
    "start_time": "2024-06-11T21:01:58.108Z"
   },
   {
    "duration": 15,
    "start_time": "2024-06-11T21:02:01.702Z"
   },
   {
    "duration": 3,
    "start_time": "2024-06-11T21:02:09.852Z"
   },
   {
    "duration": 475,
    "start_time": "2024-06-11T21:02:19.660Z"
   },
   {
    "duration": 429,
    "start_time": "2024-06-11T21:02:23.835Z"
   },
   {
    "duration": 2,
    "start_time": "2024-06-11T21:02:24.266Z"
   },
   {
    "duration": 178,
    "start_time": "2024-06-11T21:02:24.269Z"
   },
   {
    "duration": 85,
    "start_time": "2024-06-11T21:02:24.448Z"
   },
   {
    "duration": 17,
    "start_time": "2024-06-11T21:02:24.535Z"
   },
   {
    "duration": 16,
    "start_time": "2024-06-11T21:02:24.553Z"
   },
   {
    "duration": 5,
    "start_time": "2024-06-11T21:02:24.571Z"
   },
   {
    "duration": 59,
    "start_time": "2024-06-11T21:02:24.578Z"
   },
   {
    "duration": 3,
    "start_time": "2024-06-11T21:02:24.638Z"
   },
   {
    "duration": 9,
    "start_time": "2024-06-11T21:02:24.642Z"
   },
   {
    "duration": 15,
    "start_time": "2024-06-11T21:02:24.653Z"
   },
   {
    "duration": 3,
    "start_time": "2024-06-11T21:02:24.670Z"
   },
   {
    "duration": 14,
    "start_time": "2024-06-11T21:02:24.674Z"
   },
   {
    "duration": 13,
    "start_time": "2024-06-11T21:02:24.690Z"
   },
   {
    "duration": 13,
    "start_time": "2024-06-11T21:02:24.705Z"
   },
   {
    "duration": 4,
    "start_time": "2024-06-11T21:02:24.720Z"
   },
   {
    "duration": 439,
    "start_time": "2024-06-11T21:02:24.726Z"
   },
   {
    "duration": 7,
    "start_time": "2024-06-11T21:02:25.166Z"
   },
   {
    "duration": 7,
    "start_time": "2024-06-11T21:02:25.175Z"
   },
   {
    "duration": 21,
    "start_time": "2024-06-11T21:02:25.184Z"
   },
   {
    "duration": 17,
    "start_time": "2024-06-11T21:02:25.207Z"
   },
   {
    "duration": 8,
    "start_time": "2024-06-11T21:02:25.225Z"
   },
   {
    "duration": 574,
    "start_time": "2024-06-15T07:51:42.552Z"
   },
   {
    "duration": 3,
    "start_time": "2024-06-15T07:51:43.128Z"
   },
   {
    "duration": 212,
    "start_time": "2024-06-15T07:51:43.132Z"
   },
   {
    "duration": 297,
    "start_time": "2024-06-15T07:51:43.346Z"
   },
   {
    "duration": 16,
    "start_time": "2024-06-15T07:51:43.645Z"
   },
   {
    "duration": 14,
    "start_time": "2024-06-15T07:51:43.662Z"
   },
   {
    "duration": 3,
    "start_time": "2024-06-15T07:51:43.677Z"
   },
   {
    "duration": 86,
    "start_time": "2024-06-15T07:51:43.681Z"
   },
   {
    "duration": 3,
    "start_time": "2024-06-15T07:51:43.768Z"
   },
   {
    "duration": 15,
    "start_time": "2024-06-15T07:51:43.773Z"
   },
   {
    "duration": 9,
    "start_time": "2024-06-15T07:51:43.789Z"
   },
   {
    "duration": 5,
    "start_time": "2024-06-15T07:51:43.799Z"
   },
   {
    "duration": 13,
    "start_time": "2024-06-15T07:51:43.805Z"
   },
   {
    "duration": 16,
    "start_time": "2024-06-15T07:51:43.819Z"
   },
   {
    "duration": 17,
    "start_time": "2024-06-15T07:51:43.837Z"
   },
   {
    "duration": 3,
    "start_time": "2024-06-15T07:51:43.856Z"
   },
   {
    "duration": 414,
    "start_time": "2024-06-15T07:51:43.861Z"
   },
   {
    "duration": 8,
    "start_time": "2024-06-15T07:51:44.277Z"
   },
   {
    "duration": 5,
    "start_time": "2024-06-15T07:51:44.286Z"
   },
   {
    "duration": 24,
    "start_time": "2024-06-15T07:51:44.308Z"
   },
   {
    "duration": 31,
    "start_time": "2024-06-15T07:51:44.333Z"
   },
   {
    "duration": 7,
    "start_time": "2024-06-15T07:51:44.365Z"
   },
   {
    "duration": 6,
    "start_time": "2024-06-15T10:43:54.148Z"
   },
   {
    "duration": 9,
    "start_time": "2024-06-15T11:01:00.775Z"
   },
   {
    "duration": 6,
    "start_time": "2024-06-15T11:01:10.925Z"
   },
   {
    "duration": 16,
    "start_time": "2024-06-15T11:11:43.712Z"
   },
   {
    "duration": 5,
    "start_time": "2024-06-15T15:51:10.114Z"
   },
   {
    "duration": 74,
    "start_time": "2024-06-15T15:51:50.350Z"
   },
   {
    "duration": 11,
    "start_time": "2024-06-15T15:52:14.535Z"
   },
   {
    "duration": 11,
    "start_time": "2024-06-15T15:52:37.289Z"
   },
   {
    "duration": 34,
    "start_time": "2024-06-15T15:53:14.379Z"
   },
   {
    "duration": 444,
    "start_time": "2024-06-15T15:53:37.697Z"
   },
   {
    "duration": 3,
    "start_time": "2024-06-15T15:53:38.143Z"
   },
   {
    "duration": 185,
    "start_time": "2024-06-15T15:53:38.147Z"
   },
   {
    "duration": 93,
    "start_time": "2024-06-15T15:53:38.334Z"
   },
   {
    "duration": 16,
    "start_time": "2024-06-15T15:53:38.428Z"
   },
   {
    "duration": 28,
    "start_time": "2024-06-15T15:53:38.445Z"
   },
   {
    "duration": 4,
    "start_time": "2024-06-15T15:53:38.474Z"
   },
   {
    "duration": 37,
    "start_time": "2024-06-15T15:53:38.479Z"
   },
   {
    "duration": 3,
    "start_time": "2024-06-15T15:53:38.518Z"
   },
   {
    "duration": 8,
    "start_time": "2024-06-15T15:53:38.524Z"
   },
   {
    "duration": 12,
    "start_time": "2024-06-15T15:53:38.534Z"
   },
   {
    "duration": 4,
    "start_time": "2024-06-15T15:53:38.548Z"
   },
   {
    "duration": 7,
    "start_time": "2024-06-15T15:53:38.553Z"
   },
   {
    "duration": 13,
    "start_time": "2024-06-15T15:53:38.561Z"
   },
   {
    "duration": 12,
    "start_time": "2024-06-15T15:53:38.575Z"
   },
   {
    "duration": 3,
    "start_time": "2024-06-15T15:53:38.609Z"
   },
   {
    "duration": 436,
    "start_time": "2024-06-15T15:53:38.614Z"
   },
   {
    "duration": 7,
    "start_time": "2024-06-15T15:53:39.051Z"
   },
   {
    "duration": 5,
    "start_time": "2024-06-15T15:53:39.059Z"
   },
   {
    "duration": 52,
    "start_time": "2024-06-15T15:53:39.066Z"
   },
   {
    "duration": 12,
    "start_time": "2024-06-15T15:53:39.119Z"
   },
   {
    "duration": 7,
    "start_time": "2024-06-15T15:53:39.132Z"
   },
   {
    "duration": 10,
    "start_time": "2024-06-15T15:53:39.140Z"
   },
   {
    "duration": 12,
    "start_time": "2024-06-15T15:53:39.151Z"
   },
   {
    "duration": 119,
    "start_time": "2024-06-15T15:53:39.164Z"
   },
   {
    "duration": 6,
    "start_time": "2024-06-15T15:55:33.791Z"
   },
   {
    "duration": 5,
    "start_time": "2024-06-15T16:00:09.025Z"
   },
   {
    "duration": 9,
    "start_time": "2024-06-15T16:00:30.067Z"
   },
   {
    "duration": 6,
    "start_time": "2024-06-15T16:04:31.331Z"
   },
   {
    "duration": 8,
    "start_time": "2024-06-15T16:04:33.729Z"
   },
   {
    "duration": 5,
    "start_time": "2024-06-15T16:04:47.961Z"
   },
   {
    "duration": 7,
    "start_time": "2024-06-15T16:05:54.458Z"
   },
   {
    "duration": 4,
    "start_time": "2024-06-15T16:30:15.913Z"
   },
   {
    "duration": 4,
    "start_time": "2024-06-15T16:30:22.634Z"
   },
   {
    "duration": 5,
    "start_time": "2024-06-15T16:30:27.410Z"
   },
   {
    "duration": 7,
    "start_time": "2024-06-15T16:44:46.452Z"
   },
   {
    "duration": 417,
    "start_time": "2024-06-15T16:44:54.115Z"
   },
   {
    "duration": 2,
    "start_time": "2024-06-15T16:44:54.534Z"
   },
   {
    "duration": 190,
    "start_time": "2024-06-15T16:44:54.537Z"
   },
   {
    "duration": 89,
    "start_time": "2024-06-15T16:44:54.729Z"
   },
   {
    "duration": 16,
    "start_time": "2024-06-15T16:44:54.820Z"
   },
   {
    "duration": 16,
    "start_time": "2024-06-15T16:44:54.838Z"
   },
   {
    "duration": 18,
    "start_time": "2024-06-15T16:44:54.856Z"
   },
   {
    "duration": 41,
    "start_time": "2024-06-15T16:44:54.876Z"
   },
   {
    "duration": 3,
    "start_time": "2024-06-15T16:44:54.918Z"
   },
   {
    "duration": 29,
    "start_time": "2024-06-15T16:44:54.922Z"
   },
   {
    "duration": 29,
    "start_time": "2024-06-15T16:44:54.952Z"
   },
   {
    "duration": 14,
    "start_time": "2024-06-15T16:44:54.982Z"
   },
   {
    "duration": 21,
    "start_time": "2024-06-15T16:44:54.997Z"
   },
   {
    "duration": 35,
    "start_time": "2024-06-15T16:44:55.020Z"
   },
   {
    "duration": 17,
    "start_time": "2024-06-15T16:44:55.056Z"
   },
   {
    "duration": 10,
    "start_time": "2024-06-15T16:44:55.075Z"
   },
   {
    "duration": 424,
    "start_time": "2024-06-15T16:44:55.086Z"
   },
   {
    "duration": 6,
    "start_time": "2024-06-15T16:44:55.512Z"
   },
   {
    "duration": 21,
    "start_time": "2024-06-15T16:44:55.519Z"
   },
   {
    "duration": 15,
    "start_time": "2024-06-15T16:44:55.542Z"
   },
   {
    "duration": 16,
    "start_time": "2024-06-15T16:44:55.558Z"
   },
   {
    "duration": 8,
    "start_time": "2024-06-15T16:44:55.575Z"
   },
   {
    "duration": 17,
    "start_time": "2024-06-15T16:44:55.584Z"
   },
   {
    "duration": 18,
    "start_time": "2024-06-15T16:44:55.602Z"
   },
   {
    "duration": 94,
    "start_time": "2024-06-15T16:44:55.622Z"
   },
   {
    "duration": 11,
    "start_time": "2024-06-15T16:45:14.266Z"
   },
   {
    "duration": 5,
    "start_time": "2024-06-15T16:45:17.051Z"
   },
   {
    "duration": 7,
    "start_time": "2024-06-15T16:45:19.585Z"
   },
   {
    "duration": 14,
    "start_time": "2024-06-15T16:45:28.505Z"
   },
   {
    "duration": 423,
    "start_time": "2024-06-15T16:47:34.289Z"
   },
   {
    "duration": 2,
    "start_time": "2024-06-15T16:47:34.714Z"
   },
   {
    "duration": 192,
    "start_time": "2024-06-15T16:47:34.717Z"
   },
   {
    "duration": 81,
    "start_time": "2024-06-15T16:47:34.911Z"
   },
   {
    "duration": 17,
    "start_time": "2024-06-15T16:47:34.993Z"
   },
   {
    "duration": 14,
    "start_time": "2024-06-15T16:47:35.012Z"
   },
   {
    "duration": 23,
    "start_time": "2024-06-15T16:47:35.028Z"
   },
   {
    "duration": 110,
    "start_time": "2024-06-15T16:47:35.052Z"
   },
   {
    "duration": 29,
    "start_time": "2024-06-15T16:47:35.163Z"
   },
   {
    "duration": 12,
    "start_time": "2024-06-15T16:47:35.194Z"
   },
   {
    "duration": 29,
    "start_time": "2024-06-15T16:47:35.207Z"
   },
   {
    "duration": 35,
    "start_time": "2024-06-15T16:47:35.237Z"
   },
   {
    "duration": 25,
    "start_time": "2024-06-15T16:47:35.273Z"
   },
   {
    "duration": 29,
    "start_time": "2024-06-15T16:47:35.300Z"
   },
   {
    "duration": 12,
    "start_time": "2024-06-15T16:47:35.330Z"
   },
   {
    "duration": 3,
    "start_time": "2024-06-15T16:47:35.343Z"
   },
   {
    "duration": 491,
    "start_time": "2024-06-15T16:47:35.347Z"
   },
   {
    "duration": 6,
    "start_time": "2024-06-15T16:47:35.840Z"
   },
   {
    "duration": 7,
    "start_time": "2024-06-15T16:47:35.847Z"
   },
   {
    "duration": 20,
    "start_time": "2024-06-15T16:47:35.855Z"
   },
   {
    "duration": 22,
    "start_time": "2024-06-15T16:47:35.876Z"
   },
   {
    "duration": 12,
    "start_time": "2024-06-15T16:47:35.900Z"
   },
   {
    "duration": 7,
    "start_time": "2024-06-15T16:47:35.914Z"
   },
   {
    "duration": 6,
    "start_time": "2024-06-15T16:47:35.922Z"
   },
   {
    "duration": 95,
    "start_time": "2024-06-15T16:47:35.929Z"
   },
   {
    "duration": 10,
    "start_time": "2024-06-15T16:48:04.560Z"
   },
   {
    "duration": 4,
    "start_time": "2024-06-15T16:48:47.064Z"
   },
   {
    "duration": 7,
    "start_time": "2024-06-15T16:48:53.423Z"
   },
   {
    "duration": 3,
    "start_time": "2024-06-15T16:49:15.838Z"
   },
   {
    "duration": 23,
    "start_time": "2024-06-15T16:50:37.384Z"
   },
   {
    "duration": 371,
    "start_time": "2024-06-15T16:51:04.061Z"
   },
   {
    "duration": 2,
    "start_time": "2024-06-15T16:51:04.435Z"
   },
   {
    "duration": 196,
    "start_time": "2024-06-15T16:51:04.438Z"
   },
   {
    "duration": 83,
    "start_time": "2024-06-15T16:51:04.636Z"
   },
   {
    "duration": 17,
    "start_time": "2024-06-15T16:51:04.721Z"
   },
   {
    "duration": 12,
    "start_time": "2024-06-15T16:51:04.739Z"
   },
   {
    "duration": 3,
    "start_time": "2024-06-15T16:51:04.753Z"
   },
   {
    "duration": 35,
    "start_time": "2024-06-15T16:51:04.757Z"
   },
   {
    "duration": 2,
    "start_time": "2024-06-15T16:51:04.794Z"
   },
   {
    "duration": 7,
    "start_time": "2024-06-15T16:51:04.798Z"
   },
   {
    "duration": 9,
    "start_time": "2024-06-15T16:51:04.806Z"
   },
   {
    "duration": 3,
    "start_time": "2024-06-15T16:51:04.817Z"
   },
   {
    "duration": 7,
    "start_time": "2024-06-15T16:51:04.821Z"
   },
   {
    "duration": 10,
    "start_time": "2024-06-15T16:51:04.831Z"
   },
   {
    "duration": 13,
    "start_time": "2024-06-15T16:51:04.843Z"
   },
   {
    "duration": 3,
    "start_time": "2024-06-15T16:51:04.857Z"
   },
   {
    "duration": 438,
    "start_time": "2024-06-15T16:51:04.861Z"
   },
   {
    "duration": 13,
    "start_time": "2024-06-15T16:51:05.300Z"
   },
   {
    "duration": 4,
    "start_time": "2024-06-15T16:51:05.315Z"
   },
   {
    "duration": 16,
    "start_time": "2024-06-15T16:51:05.320Z"
   },
   {
    "duration": 21,
    "start_time": "2024-06-15T16:51:05.337Z"
   },
   {
    "duration": 8,
    "start_time": "2024-06-15T16:51:05.359Z"
   },
   {
    "duration": 21,
    "start_time": "2024-06-15T16:51:05.368Z"
   },
   {
    "duration": 19,
    "start_time": "2024-06-15T16:51:05.390Z"
   },
   {
    "duration": 16,
    "start_time": "2024-06-15T16:51:05.411Z"
   },
   {
    "duration": 15,
    "start_time": "2024-06-15T16:51:50.013Z"
   },
   {
    "duration": 66,
    "start_time": "2024-06-15T17:29:44.026Z"
   },
   {
    "duration": 8,
    "start_time": "2024-06-15T17:30:00.628Z"
   },
   {
    "duration": 8,
    "start_time": "2024-06-15T17:31:24.485Z"
   },
   {
    "duration": 14,
    "start_time": "2024-06-15T17:35:22.195Z"
   },
   {
    "duration": 14,
    "start_time": "2024-06-15T17:35:56.126Z"
   },
   {
    "duration": 13,
    "start_time": "2024-06-15T17:36:13.631Z"
   },
   {
    "duration": 14,
    "start_time": "2024-06-15T17:36:35.251Z"
   },
   {
    "duration": 407,
    "start_time": "2024-06-15T17:42:14.423Z"
   },
   {
    "duration": 2,
    "start_time": "2024-06-15T17:42:14.832Z"
   },
   {
    "duration": 221,
    "start_time": "2024-06-15T17:42:14.836Z"
   },
   {
    "duration": 85,
    "start_time": "2024-06-15T17:42:15.058Z"
   },
   {
    "duration": 18,
    "start_time": "2024-06-15T17:42:15.145Z"
   },
   {
    "duration": 94,
    "start_time": "2024-06-15T17:42:15.164Z"
   },
   {
    "duration": 99,
    "start_time": "2024-06-15T17:42:15.260Z"
   },
   {
    "duration": 48,
    "start_time": "2024-06-15T17:42:15.360Z"
   },
   {
    "duration": 3,
    "start_time": "2024-06-15T17:42:15.409Z"
   },
   {
    "duration": 34,
    "start_time": "2024-06-15T17:42:15.413Z"
   },
   {
    "duration": 22,
    "start_time": "2024-06-15T17:42:15.449Z"
   },
   {
    "duration": 12,
    "start_time": "2024-06-15T17:42:15.473Z"
   },
   {
    "duration": 9,
    "start_time": "2024-06-15T17:42:15.486Z"
   },
   {
    "duration": 17,
    "start_time": "2024-06-15T17:42:15.497Z"
   },
   {
    "duration": 12,
    "start_time": "2024-06-15T17:42:15.515Z"
   },
   {
    "duration": 13,
    "start_time": "2024-06-15T17:42:15.529Z"
   },
   {
    "duration": 414,
    "start_time": "2024-06-15T17:42:15.543Z"
   },
   {
    "duration": 7,
    "start_time": "2024-06-15T17:42:15.959Z"
   },
   {
    "duration": 6,
    "start_time": "2024-06-15T17:42:15.968Z"
   },
   {
    "duration": 34,
    "start_time": "2024-06-15T17:42:15.975Z"
   },
   {
    "duration": 17,
    "start_time": "2024-06-15T17:42:16.010Z"
   },
   {
    "duration": 9,
    "start_time": "2024-06-15T17:42:16.029Z"
   },
   {
    "duration": 9,
    "start_time": "2024-06-15T17:42:16.039Z"
   },
   {
    "duration": 7,
    "start_time": "2024-06-15T17:42:16.050Z"
   },
   {
    "duration": 15,
    "start_time": "2024-06-15T17:42:16.058Z"
   },
   {
    "duration": 49,
    "start_time": "2024-06-15T17:42:16.074Z"
   },
   {
    "duration": 8,
    "start_time": "2024-06-15T17:42:59.377Z"
   },
   {
    "duration": 8,
    "start_time": "2024-06-15T17:43:13.048Z"
   },
   {
    "duration": 4,
    "start_time": "2024-06-15T17:43:27.599Z"
   },
   {
    "duration": 5,
    "start_time": "2024-06-15T17:43:40.576Z"
   },
   {
    "duration": 8,
    "start_time": "2024-06-15T17:43:55.496Z"
   },
   {
    "duration": 14,
    "start_time": "2024-06-15T17:45:34.118Z"
   },
   {
    "duration": 14,
    "start_time": "2024-06-15T17:45:49.880Z"
   },
   {
    "duration": 5,
    "start_time": "2024-06-15T18:39:51.483Z"
   },
   {
    "duration": 7,
    "start_time": "2024-06-15T18:40:14.856Z"
   },
   {
    "duration": 6,
    "start_time": "2024-06-15T18:40:43.598Z"
   },
   {
    "duration": 6,
    "start_time": "2024-06-15T18:41:03.303Z"
   },
   {
    "duration": 4,
    "start_time": "2024-06-15T18:41:38.463Z"
   },
   {
    "duration": 7,
    "start_time": "2024-06-15T18:42:15.695Z"
   },
   {
    "duration": 7,
    "start_time": "2024-06-15T18:48:17.705Z"
   },
   {
    "duration": 5,
    "start_time": "2024-06-15T18:48:39.505Z"
   },
   {
    "duration": 408,
    "start_time": "2024-06-15T18:49:11.230Z"
   },
   {
    "duration": 3,
    "start_time": "2024-06-15T18:49:11.639Z"
   },
   {
    "duration": 169,
    "start_time": "2024-06-15T18:49:11.643Z"
   },
   {
    "duration": 83,
    "start_time": "2024-06-15T18:49:11.814Z"
   },
   {
    "duration": 16,
    "start_time": "2024-06-15T18:49:11.899Z"
   },
   {
    "duration": 12,
    "start_time": "2024-06-15T18:49:11.917Z"
   },
   {
    "duration": 3,
    "start_time": "2024-06-15T18:49:11.931Z"
   },
   {
    "duration": 39,
    "start_time": "2024-06-15T18:49:11.935Z"
   },
   {
    "duration": 4,
    "start_time": "2024-06-15T18:49:11.975Z"
   },
   {
    "duration": 50,
    "start_time": "2024-06-15T18:49:11.980Z"
   },
   {
    "duration": 17,
    "start_time": "2024-06-15T18:49:12.031Z"
   },
   {
    "duration": 6,
    "start_time": "2024-06-15T18:49:12.050Z"
   },
   {
    "duration": 17,
    "start_time": "2024-06-15T18:49:12.058Z"
   },
   {
    "duration": 23,
    "start_time": "2024-06-15T18:49:12.079Z"
   },
   {
    "duration": 14,
    "start_time": "2024-06-15T18:49:12.104Z"
   },
   {
    "duration": 12,
    "start_time": "2024-06-15T18:49:12.119Z"
   },
   {
    "duration": 399,
    "start_time": "2024-06-15T18:49:12.133Z"
   },
   {
    "duration": 6,
    "start_time": "2024-06-15T18:49:12.533Z"
   },
   {
    "duration": 16,
    "start_time": "2024-06-15T18:49:12.540Z"
   },
   {
    "duration": 25,
    "start_time": "2024-06-15T18:49:12.557Z"
   },
   {
    "duration": 11,
    "start_time": "2024-06-15T18:49:12.584Z"
   },
   {
    "duration": 29,
    "start_time": "2024-06-15T18:49:12.596Z"
   },
   {
    "duration": 9,
    "start_time": "2024-06-15T18:49:12.626Z"
   },
   {
    "duration": 6,
    "start_time": "2024-06-15T18:49:12.636Z"
   },
   {
    "duration": 25,
    "start_time": "2024-06-15T18:49:12.643Z"
   },
   {
    "duration": 14,
    "start_time": "2024-06-15T18:49:12.669Z"
   },
   {
    "duration": 18,
    "start_time": "2024-06-15T18:49:12.684Z"
   },
   {
    "duration": 7,
    "start_time": "2024-06-15T18:49:12.704Z"
   },
   {
    "duration": 17,
    "start_time": "2024-06-15T18:49:12.712Z"
   },
   {
    "duration": 7,
    "start_time": "2024-06-15T18:49:12.731Z"
   },
   {
    "duration": 15,
    "start_time": "2024-06-15T18:49:12.739Z"
   },
   {
    "duration": 14,
    "start_time": "2024-06-15T18:49:12.755Z"
   },
   {
    "duration": 32,
    "start_time": "2024-06-15T18:49:12.770Z"
   },
   {
    "duration": 24,
    "start_time": "2024-06-15T18:49:12.803Z"
   },
   {
    "duration": 11,
    "start_time": "2024-06-15T18:49:12.829Z"
   },
   {
    "duration": 7,
    "start_time": "2024-06-15T18:49:12.842Z"
   },
   {
    "duration": 13,
    "start_time": "2024-06-15T18:49:12.850Z"
   },
   {
    "duration": 22,
    "start_time": "2024-06-15T18:49:12.864Z"
   },
   {
    "duration": 12,
    "start_time": "2024-06-15T18:49:12.887Z"
   },
   {
    "duration": 14,
    "start_time": "2024-06-15T18:49:12.900Z"
   },
   {
    "duration": 4,
    "start_time": "2024-06-15T18:49:37.600Z"
   },
   {
    "duration": 729,
    "start_time": "2024-06-15T18:49:39.513Z"
   },
   {
    "duration": 639,
    "start_time": "2024-06-15T18:49:43.178Z"
   },
   {
    "duration": 726,
    "start_time": "2024-06-15T18:50:00.193Z"
   },
   {
    "duration": 639,
    "start_time": "2024-06-15T18:50:01.839Z"
   },
   {
    "duration": 375,
    "start_time": "2024-06-15T18:50:15.738Z"
   },
   {
    "duration": 2,
    "start_time": "2024-06-15T18:50:16.115Z"
   },
   {
    "duration": 168,
    "start_time": "2024-06-15T18:50:16.118Z"
   },
   {
    "duration": 82,
    "start_time": "2024-06-15T18:50:16.287Z"
   },
   {
    "duration": 16,
    "start_time": "2024-06-15T18:50:16.370Z"
   },
   {
    "duration": 22,
    "start_time": "2024-06-15T18:50:16.387Z"
   },
   {
    "duration": 6,
    "start_time": "2024-06-15T18:50:16.410Z"
   },
   {
    "duration": 43,
    "start_time": "2024-06-15T18:50:16.417Z"
   },
   {
    "duration": 2,
    "start_time": "2024-06-15T18:50:16.462Z"
   },
   {
    "duration": 13,
    "start_time": "2024-06-15T18:50:16.467Z"
   },
   {
    "duration": 16,
    "start_time": "2024-06-15T18:50:16.481Z"
   },
   {
    "duration": 5,
    "start_time": "2024-06-15T18:50:16.498Z"
   },
   {
    "duration": 13,
    "start_time": "2024-06-15T18:50:16.504Z"
   },
   {
    "duration": 22,
    "start_time": "2024-06-15T18:50:16.518Z"
   },
   {
    "duration": 17,
    "start_time": "2024-06-15T18:50:16.542Z"
   },
   {
    "duration": 3,
    "start_time": "2024-06-15T18:50:16.561Z"
   },
   {
    "duration": 430,
    "start_time": "2024-06-15T18:50:16.565Z"
   },
   {
    "duration": 12,
    "start_time": "2024-06-15T18:50:16.997Z"
   },
   {
    "duration": 12,
    "start_time": "2024-06-15T18:50:17.010Z"
   },
   {
    "duration": 28,
    "start_time": "2024-06-15T18:50:17.023Z"
   },
   {
    "duration": 11,
    "start_time": "2024-06-15T18:50:17.052Z"
   },
   {
    "duration": 18,
    "start_time": "2024-06-15T18:50:17.064Z"
   },
   {
    "duration": 8,
    "start_time": "2024-06-15T18:50:17.083Z"
   },
   {
    "duration": 8,
    "start_time": "2024-06-15T18:50:17.093Z"
   },
   {
    "duration": 17,
    "start_time": "2024-06-15T18:50:17.102Z"
   },
   {
    "duration": 14,
    "start_time": "2024-06-15T18:50:17.120Z"
   },
   {
    "duration": 11,
    "start_time": "2024-06-15T18:50:17.135Z"
   },
   {
    "duration": 24,
    "start_time": "2024-06-15T18:50:17.149Z"
   },
   {
    "duration": 8,
    "start_time": "2024-06-15T18:50:17.174Z"
   },
   {
    "duration": 9,
    "start_time": "2024-06-15T18:50:17.183Z"
   },
   {
    "duration": 24,
    "start_time": "2024-06-15T18:50:17.193Z"
   },
   {
    "duration": 19,
    "start_time": "2024-06-15T18:50:17.219Z"
   },
   {
    "duration": 20,
    "start_time": "2024-06-15T18:50:17.239Z"
   },
   {
    "duration": 10,
    "start_time": "2024-06-15T18:50:17.261Z"
   },
   {
    "duration": 75,
    "start_time": "2024-06-15T18:50:17.272Z"
   },
   {
    "duration": 0,
    "start_time": "2024-06-15T18:50:17.348Z"
   },
   {
    "duration": 0,
    "start_time": "2024-06-15T18:50:17.349Z"
   },
   {
    "duration": 0,
    "start_time": "2024-06-15T18:50:17.350Z"
   },
   {
    "duration": 0,
    "start_time": "2024-06-15T18:50:17.351Z"
   },
   {
    "duration": 0,
    "start_time": "2024-06-15T18:50:17.352Z"
   },
   {
    "duration": 5,
    "start_time": "2024-06-15T18:50:28.452Z"
   },
   {
    "duration": 5,
    "start_time": "2024-06-15T18:50:31.879Z"
   },
   {
    "duration": 12,
    "start_time": "2024-06-15T18:50:46.143Z"
   },
   {
    "duration": 7,
    "start_time": "2024-06-15T18:51:58.840Z"
   },
   {
    "duration": 5,
    "start_time": "2024-06-15T18:52:33.943Z"
   },
   {
    "duration": 367,
    "start_time": "2024-06-15T18:52:39.954Z"
   },
   {
    "duration": 2,
    "start_time": "2024-06-15T18:52:40.322Z"
   },
   {
    "duration": 174,
    "start_time": "2024-06-15T18:52:40.326Z"
   },
   {
    "duration": 81,
    "start_time": "2024-06-15T18:52:40.502Z"
   },
   {
    "duration": 15,
    "start_time": "2024-06-15T18:52:40.585Z"
   },
   {
    "duration": 13,
    "start_time": "2024-06-15T18:52:40.601Z"
   },
   {
    "duration": 3,
    "start_time": "2024-06-15T18:52:40.615Z"
   },
   {
    "duration": 53,
    "start_time": "2024-06-15T18:52:40.619Z"
   },
   {
    "duration": 3,
    "start_time": "2024-06-15T18:52:40.673Z"
   },
   {
    "duration": 8,
    "start_time": "2024-06-15T18:52:40.678Z"
   },
   {
    "duration": 14,
    "start_time": "2024-06-15T18:52:40.687Z"
   },
   {
    "duration": 4,
    "start_time": "2024-06-15T18:52:40.702Z"
   },
   {
    "duration": 13,
    "start_time": "2024-06-15T18:52:40.707Z"
   },
   {
    "duration": 14,
    "start_time": "2024-06-15T18:52:40.722Z"
   },
   {
    "duration": 21,
    "start_time": "2024-06-15T18:52:40.737Z"
   },
   {
    "duration": 3,
    "start_time": "2024-06-15T18:52:40.760Z"
   },
   {
    "duration": 398,
    "start_time": "2024-06-15T18:52:40.764Z"
   },
   {
    "duration": 7,
    "start_time": "2024-06-15T18:52:41.163Z"
   },
   {
    "duration": 5,
    "start_time": "2024-06-15T18:52:41.171Z"
   },
   {
    "duration": 18,
    "start_time": "2024-06-15T18:52:41.177Z"
   },
   {
    "duration": 19,
    "start_time": "2024-06-15T18:52:41.197Z"
   },
   {
    "duration": 34,
    "start_time": "2024-06-15T18:52:41.217Z"
   },
   {
    "duration": 14,
    "start_time": "2024-06-15T18:52:41.252Z"
   },
   {
    "duration": 12,
    "start_time": "2024-06-15T18:52:41.268Z"
   },
   {
    "duration": 32,
    "start_time": "2024-06-15T18:52:41.282Z"
   },
   {
    "duration": 20,
    "start_time": "2024-06-15T18:52:41.315Z"
   },
   {
    "duration": 10,
    "start_time": "2024-06-15T18:52:41.336Z"
   },
   {
    "duration": 7,
    "start_time": "2024-06-15T18:52:41.350Z"
   },
   {
    "duration": 5,
    "start_time": "2024-06-15T18:52:41.359Z"
   },
   {
    "duration": 17,
    "start_time": "2024-06-15T18:52:41.365Z"
   },
   {
    "duration": 25,
    "start_time": "2024-06-15T18:52:41.383Z"
   },
   {
    "duration": 18,
    "start_time": "2024-06-15T18:52:41.409Z"
   },
   {
    "duration": 35,
    "start_time": "2024-06-15T18:52:41.429Z"
   },
   {
    "duration": 7,
    "start_time": "2024-06-15T18:52:41.466Z"
   },
   {
    "duration": 24,
    "start_time": "2024-06-15T18:52:41.475Z"
   },
   {
    "duration": 10,
    "start_time": "2024-06-15T18:52:41.500Z"
   },
   {
    "duration": 9,
    "start_time": "2024-06-15T18:52:41.511Z"
   },
   {
    "duration": 7,
    "start_time": "2024-06-15T18:52:41.522Z"
   },
   {
    "duration": 28,
    "start_time": "2024-06-15T18:52:41.531Z"
   },
   {
    "duration": 21,
    "start_time": "2024-06-15T18:52:41.560Z"
   },
   {
    "duration": 7,
    "start_time": "2024-06-15T18:53:04.517Z"
   },
   {
    "duration": 5,
    "start_time": "2024-06-15T18:54:01.365Z"
   },
   {
    "duration": 7,
    "start_time": "2024-06-15T19:01:48.725Z"
   },
   {
    "duration": 5,
    "start_time": "2024-06-15T19:02:24.108Z"
   },
   {
    "duration": 8,
    "start_time": "2024-06-15T19:12:43.662Z"
   },
   {
    "duration": 4,
    "start_time": "2024-06-15T19:13:14.121Z"
   },
   {
    "duration": 54,
    "start_time": "2024-06-15T19:30:38.373Z"
   },
   {
    "duration": 585,
    "start_time": "2024-06-16T11:14:02.258Z"
   },
   {
    "duration": 2,
    "start_time": "2024-06-16T11:14:02.846Z"
   },
   {
    "duration": 222,
    "start_time": "2024-06-16T11:14:02.849Z"
   },
   {
    "duration": 138,
    "start_time": "2024-06-16T11:14:03.073Z"
   },
   {
    "duration": 17,
    "start_time": "2024-06-16T11:14:03.213Z"
   },
   {
    "duration": 16,
    "start_time": "2024-06-16T11:14:03.231Z"
   },
   {
    "duration": 3,
    "start_time": "2024-06-16T11:14:03.248Z"
   },
   {
    "duration": 80,
    "start_time": "2024-06-16T11:14:03.253Z"
   },
   {
    "duration": 3,
    "start_time": "2024-06-16T11:14:03.335Z"
   },
   {
    "duration": 6,
    "start_time": "2024-06-16T11:14:03.340Z"
   },
   {
    "duration": 11,
    "start_time": "2024-06-16T11:14:03.348Z"
   },
   {
    "duration": 3,
    "start_time": "2024-06-16T11:14:03.361Z"
   },
   {
    "duration": 13,
    "start_time": "2024-06-16T11:14:03.366Z"
   },
   {
    "duration": 21,
    "start_time": "2024-06-16T11:14:03.381Z"
   },
   {
    "duration": 15,
    "start_time": "2024-06-16T11:14:03.403Z"
   },
   {
    "duration": 3,
    "start_time": "2024-06-16T11:14:03.420Z"
   },
   {
    "duration": 488,
    "start_time": "2024-06-16T11:14:03.425Z"
   },
   {
    "duration": 8,
    "start_time": "2024-06-16T11:14:03.914Z"
   },
   {
    "duration": 11,
    "start_time": "2024-06-16T11:14:03.924Z"
   },
   {
    "duration": 18,
    "start_time": "2024-06-16T11:14:03.936Z"
   },
   {
    "duration": 14,
    "start_time": "2024-06-16T11:14:03.965Z"
   },
   {
    "duration": 10,
    "start_time": "2024-06-16T11:14:03.980Z"
   },
   {
    "duration": 12,
    "start_time": "2024-06-16T11:14:03.992Z"
   },
   {
    "duration": 10,
    "start_time": "2024-06-16T11:14:04.006Z"
   },
   {
    "duration": 27,
    "start_time": "2024-06-16T11:14:04.017Z"
   },
   {
    "duration": 32,
    "start_time": "2024-06-16T11:14:04.046Z"
   },
   {
    "duration": 8,
    "start_time": "2024-06-16T11:14:04.080Z"
   },
   {
    "duration": 30,
    "start_time": "2024-06-16T11:14:04.091Z"
   },
   {
    "duration": 9,
    "start_time": "2024-06-16T11:14:04.123Z"
   },
   {
    "duration": 23,
    "start_time": "2024-06-16T11:14:04.134Z"
   },
   {
    "duration": 17,
    "start_time": "2024-06-16T11:14:04.158Z"
   },
   {
    "duration": 17,
    "start_time": "2024-06-16T11:14:04.176Z"
   },
   {
    "duration": 20,
    "start_time": "2024-06-16T11:14:04.194Z"
   },
   {
    "duration": 20,
    "start_time": "2024-06-16T11:14:04.215Z"
   },
   {
    "duration": 7,
    "start_time": "2024-06-16T11:14:04.237Z"
   },
   {
    "duration": 7,
    "start_time": "2024-06-16T11:14:04.246Z"
   },
   {
    "duration": 16,
    "start_time": "2024-06-16T11:14:04.254Z"
   },
   {
    "duration": 10,
    "start_time": "2024-06-16T11:14:04.271Z"
   },
   {
    "duration": 15,
    "start_time": "2024-06-16T11:14:04.282Z"
   },
   {
    "duration": 18,
    "start_time": "2024-06-16T11:14:04.298Z"
   },
   {
    "duration": 18,
    "start_time": "2024-06-16T13:01:41.031Z"
   },
   {
    "duration": 14,
    "start_time": "2024-06-16T13:01:48.482Z"
   },
   {
    "duration": 18,
    "start_time": "2024-06-16T13:25:19.038Z"
   },
   {
    "duration": 14,
    "start_time": "2024-06-16T13:25:38.514Z"
   },
   {
    "duration": 63,
    "start_time": "2024-06-16T13:40:15.913Z"
   },
   {
    "duration": 16,
    "start_time": "2024-06-16T13:40:27.508Z"
   },
   {
    "duration": 19,
    "start_time": "2024-06-16T13:52:45.867Z"
   },
   {
    "duration": 20,
    "start_time": "2024-06-16T13:52:54.889Z"
   },
   {
    "duration": 16,
    "start_time": "2024-06-16T13:53:30.520Z"
   },
   {
    "duration": 17,
    "start_time": "2024-06-16T13:54:03.297Z"
   },
   {
    "duration": 16,
    "start_time": "2024-06-16T14:09:16.826Z"
   },
   {
    "duration": 79,
    "start_time": "2024-06-16T14:09:35.114Z"
   },
   {
    "duration": 13,
    "start_time": "2024-06-16T14:09:39.210Z"
   },
   {
    "duration": 14,
    "start_time": "2024-06-16T14:10:05.673Z"
   },
   {
    "duration": 14,
    "start_time": "2024-06-16T14:10:28.153Z"
   },
   {
    "duration": 9,
    "start_time": "2024-06-16T14:24:17.767Z"
   },
   {
    "duration": 67,
    "start_time": "2024-06-16T14:25:28.786Z"
   },
   {
    "duration": 69,
    "start_time": "2024-06-16T14:25:37.700Z"
   },
   {
    "duration": 7,
    "start_time": "2024-06-16T14:25:52.410Z"
   },
   {
    "duration": 426,
    "start_time": "2024-06-16T14:26:22.932Z"
   },
   {
    "duration": 2,
    "start_time": "2024-06-16T14:26:23.360Z"
   },
   {
    "duration": 188,
    "start_time": "2024-06-16T14:26:23.364Z"
   },
   {
    "duration": 88,
    "start_time": "2024-06-16T14:26:23.554Z"
   },
   {
    "duration": 17,
    "start_time": "2024-06-16T14:26:23.644Z"
   },
   {
    "duration": 15,
    "start_time": "2024-06-16T14:26:23.663Z"
   },
   {
    "duration": 4,
    "start_time": "2024-06-16T14:26:23.679Z"
   },
   {
    "duration": 37,
    "start_time": "2024-06-16T14:26:23.685Z"
   },
   {
    "duration": 2,
    "start_time": "2024-06-16T14:26:23.724Z"
   },
   {
    "duration": 5,
    "start_time": "2024-06-16T14:26:23.729Z"
   },
   {
    "duration": 9,
    "start_time": "2024-06-16T14:26:23.736Z"
   },
   {
    "duration": 9,
    "start_time": "2024-06-16T14:26:23.746Z"
   },
   {
    "duration": 14,
    "start_time": "2024-06-16T14:26:23.756Z"
   },
   {
    "duration": 14,
    "start_time": "2024-06-16T14:26:23.772Z"
   },
   {
    "duration": 15,
    "start_time": "2024-06-16T14:26:23.787Z"
   },
   {
    "duration": 3,
    "start_time": "2024-06-16T14:26:23.804Z"
   },
   {
    "duration": 467,
    "start_time": "2024-06-16T14:26:23.809Z"
   },
   {
    "duration": 7,
    "start_time": "2024-06-16T14:26:24.277Z"
   },
   {
    "duration": 5,
    "start_time": "2024-06-16T14:26:24.285Z"
   },
   {
    "duration": 17,
    "start_time": "2024-06-16T14:26:24.291Z"
   },
   {
    "duration": 13,
    "start_time": "2024-06-16T14:26:24.310Z"
   },
   {
    "duration": 9,
    "start_time": "2024-06-16T14:26:24.324Z"
   },
   {
    "duration": 40,
    "start_time": "2024-06-16T14:26:24.335Z"
   },
   {
    "duration": 58,
    "start_time": "2024-06-16T14:26:24.377Z"
   },
   {
    "duration": 18,
    "start_time": "2024-06-16T14:26:24.437Z"
   },
   {
    "duration": 18,
    "start_time": "2024-06-16T14:26:24.457Z"
   },
   {
    "duration": 9,
    "start_time": "2024-06-16T14:26:24.477Z"
   },
   {
    "duration": 7,
    "start_time": "2024-06-16T14:26:24.489Z"
   },
   {
    "duration": 57,
    "start_time": "2024-06-16T14:26:24.497Z"
   },
   {
    "duration": 14,
    "start_time": "2024-06-16T14:26:24.556Z"
   },
   {
    "duration": 16,
    "start_time": "2024-06-16T14:26:24.572Z"
   },
   {
    "duration": 15,
    "start_time": "2024-06-16T14:26:24.589Z"
   },
   {
    "duration": 14,
    "start_time": "2024-06-16T14:26:24.606Z"
   },
   {
    "duration": 6,
    "start_time": "2024-06-16T14:26:24.622Z"
   },
   {
    "duration": 7,
    "start_time": "2024-06-16T14:26:24.630Z"
   },
   {
    "duration": 10,
    "start_time": "2024-06-16T14:26:24.638Z"
   },
   {
    "duration": 75,
    "start_time": "2024-06-16T14:26:24.665Z"
   },
   {
    "duration": 7,
    "start_time": "2024-06-16T14:26:24.742Z"
   },
   {
    "duration": 7,
    "start_time": "2024-06-16T14:26:24.751Z"
   },
   {
    "duration": 7,
    "start_time": "2024-06-16T14:26:24.759Z"
   },
   {
    "duration": 19,
    "start_time": "2024-06-16T14:26:24.767Z"
   },
   {
    "duration": 12,
    "start_time": "2024-06-16T14:26:24.788Z"
   },
   {
    "duration": 5,
    "start_time": "2024-06-16T14:37:11.558Z"
   },
   {
    "duration": 5,
    "start_time": "2024-06-16T14:39:05.473Z"
   },
   {
    "duration": 18,
    "start_time": "2024-06-16T14:40:16.396Z"
   },
   {
    "duration": 12,
    "start_time": "2024-06-16T14:40:56.031Z"
   },
   {
    "duration": 14,
    "start_time": "2024-06-16T14:42:12.413Z"
   },
   {
    "duration": 80,
    "start_time": "2024-06-16T14:55:34.191Z"
   },
   {
    "duration": 13,
    "start_time": "2024-06-16T14:55:42.001Z"
   },
   {
    "duration": 14,
    "start_time": "2024-06-16T14:55:57.425Z"
   },
   {
    "duration": 19,
    "start_time": "2024-06-16T14:56:21.934Z"
   },
   {
    "duration": 15,
    "start_time": "2024-06-16T14:57:21.927Z"
   },
   {
    "duration": 4,
    "start_time": "2024-06-16T14:59:24.100Z"
   },
   {
    "duration": 5,
    "start_time": "2024-06-16T14:59:35.821Z"
   },
   {
    "duration": 5,
    "start_time": "2024-06-16T15:35:30.566Z"
   },
   {
    "duration": 376,
    "start_time": "2024-06-16T15:35:34.909Z"
   },
   {
    "duration": 2,
    "start_time": "2024-06-16T15:35:35.287Z"
   },
   {
    "duration": 205,
    "start_time": "2024-06-16T15:35:35.291Z"
   },
   {
    "duration": 94,
    "start_time": "2024-06-16T15:35:35.498Z"
   },
   {
    "duration": 21,
    "start_time": "2024-06-16T15:35:35.595Z"
   },
   {
    "duration": 17,
    "start_time": "2024-06-16T15:35:35.618Z"
   },
   {
    "duration": 5,
    "start_time": "2024-06-16T15:35:35.637Z"
   },
   {
    "duration": 44,
    "start_time": "2024-06-16T15:35:35.643Z"
   },
   {
    "duration": 2,
    "start_time": "2024-06-16T15:35:35.689Z"
   },
   {
    "duration": 7,
    "start_time": "2024-06-16T15:35:35.694Z"
   },
   {
    "duration": 11,
    "start_time": "2024-06-16T15:35:35.703Z"
   },
   {
    "duration": 9,
    "start_time": "2024-06-16T15:35:35.715Z"
   },
   {
    "duration": 23,
    "start_time": "2024-06-16T15:35:35.725Z"
   },
   {
    "duration": 16,
    "start_time": "2024-06-16T15:35:35.750Z"
   },
   {
    "duration": 32,
    "start_time": "2024-06-16T15:35:35.767Z"
   },
   {
    "duration": 5,
    "start_time": "2024-06-16T15:35:35.801Z"
   },
   {
    "duration": 427,
    "start_time": "2024-06-16T15:35:35.808Z"
   },
   {
    "duration": 7,
    "start_time": "2024-06-16T15:35:36.237Z"
   },
   {
    "duration": 4,
    "start_time": "2024-06-16T15:35:36.245Z"
   },
   {
    "duration": 34,
    "start_time": "2024-06-16T15:35:36.251Z"
   },
   {
    "duration": 14,
    "start_time": "2024-06-16T15:35:36.287Z"
   },
   {
    "duration": 8,
    "start_time": "2024-06-16T15:35:36.302Z"
   },
   {
    "duration": 4,
    "start_time": "2024-06-16T15:35:36.312Z"
   },
   {
    "duration": 11,
    "start_time": "2024-06-16T15:35:36.317Z"
   },
   {
    "duration": 10,
    "start_time": "2024-06-16T15:35:36.329Z"
   },
   {
    "duration": 16,
    "start_time": "2024-06-16T15:35:36.365Z"
   },
   {
    "duration": 14,
    "start_time": "2024-06-16T15:35:36.382Z"
   },
   {
    "duration": 13,
    "start_time": "2024-06-16T15:35:36.399Z"
   },
   {
    "duration": 22,
    "start_time": "2024-06-16T15:35:36.413Z"
   },
   {
    "duration": 5,
    "start_time": "2024-06-16T15:35:36.436Z"
   },
   {
    "duration": 5,
    "start_time": "2024-06-16T15:35:36.442Z"
   },
   {
    "duration": 20,
    "start_time": "2024-06-16T15:35:36.448Z"
   },
   {
    "duration": 23,
    "start_time": "2024-06-16T15:35:36.470Z"
   },
   {
    "duration": 18,
    "start_time": "2024-06-16T15:35:36.494Z"
   },
   {
    "duration": 15,
    "start_time": "2024-06-16T15:35:36.513Z"
   },
   {
    "duration": 22,
    "start_time": "2024-06-16T15:35:36.529Z"
   },
   {
    "duration": 5,
    "start_time": "2024-06-16T15:35:36.553Z"
   },
   {
    "duration": 16,
    "start_time": "2024-06-16T15:35:36.560Z"
   },
   {
    "duration": 10,
    "start_time": "2024-06-16T15:35:36.577Z"
   },
   {
    "duration": 8,
    "start_time": "2024-06-16T15:35:36.589Z"
   },
   {
    "duration": 6,
    "start_time": "2024-06-16T15:35:36.598Z"
   },
   {
    "duration": 14,
    "start_time": "2024-06-16T15:35:36.606Z"
   },
   {
    "duration": 3,
    "start_time": "2024-06-16T15:35:36.621Z"
   },
   {
    "duration": 13,
    "start_time": "2024-06-16T15:35:36.625Z"
   },
   {
    "duration": 88,
    "start_time": "2024-06-16T15:35:36.639Z"
   },
   {
    "duration": 15,
    "start_time": "2024-06-16T15:35:36.728Z"
   },
   {
    "duration": 32,
    "start_time": "2024-06-16T15:35:36.745Z"
   },
   {
    "duration": 6,
    "start_time": "2024-06-16T15:39:17.740Z"
   },
   {
    "duration": 308,
    "start_time": "2024-06-16T15:39:22.494Z"
   },
   {
    "duration": 4,
    "start_time": "2024-06-16T15:40:57.891Z"
   },
   {
    "duration": 7,
    "start_time": "2024-06-16T15:41:03.723Z"
   },
   {
    "duration": 6,
    "start_time": "2024-06-16T15:47:41.744Z"
   },
   {
    "duration": 5,
    "start_time": "2024-06-16T15:47:53.881Z"
   },
   {
    "duration": 13,
    "start_time": "2024-06-16T15:48:09.110Z"
   },
   {
    "duration": 4,
    "start_time": "2024-06-16T15:48:20.802Z"
   },
   {
    "duration": 65,
    "start_time": "2024-06-16T16:32:02.134Z"
   },
   {
    "duration": 166,
    "start_time": "2024-06-16T16:38:04.580Z"
   },
   {
    "duration": 64,
    "start_time": "2024-06-16T16:40:05.084Z"
   },
   {
    "duration": 54,
    "start_time": "2024-06-16T16:40:08.481Z"
   },
   {
    "duration": 60,
    "start_time": "2024-06-16T16:40:20.588Z"
   },
   {
    "duration": 231,
    "start_time": "2024-06-16T16:40:49.412Z"
   },
   {
    "duration": 4,
    "start_time": "2024-06-16T16:56:41.517Z"
   },
   {
    "duration": 10,
    "start_time": "2024-06-16T16:56:45.475Z"
   },
   {
    "duration": 4,
    "start_time": "2024-06-16T16:56:50.142Z"
   },
   {
    "duration": 7,
    "start_time": "2024-06-16T16:57:04.580Z"
   },
   {
    "duration": 12,
    "start_time": "2024-06-16T16:57:12.261Z"
   },
   {
    "duration": 7,
    "start_time": "2024-06-16T16:57:21.082Z"
   },
   {
    "duration": 11,
    "start_time": "2024-06-16T16:57:39.402Z"
   },
   {
    "duration": 9,
    "start_time": "2024-06-16T16:58:14.562Z"
   },
   {
    "duration": 162,
    "start_time": "2024-06-16T17:04:46.520Z"
   },
   {
    "duration": 84,
    "start_time": "2024-06-16T17:05:16.342Z"
   },
   {
    "duration": 64,
    "start_time": "2024-06-16T17:06:04.280Z"
   },
   {
    "duration": 507,
    "start_time": "2024-06-16T17:06:22.101Z"
   },
   {
    "duration": 77,
    "start_time": "2024-06-16T17:06:35.686Z"
   },
   {
    "duration": 57,
    "start_time": "2024-06-16T17:06:47.373Z"
   },
   {
    "duration": 169,
    "start_time": "2024-06-16T17:07:09.999Z"
   },
   {
    "duration": 174,
    "start_time": "2024-06-16T17:07:16.384Z"
   },
   {
    "duration": 6,
    "start_time": "2024-06-16T17:15:09.747Z"
   },
   {
    "duration": 6,
    "start_time": "2024-06-16T17:15:56.492Z"
   },
   {
    "duration": 6,
    "start_time": "2024-06-16T17:17:47.474Z"
   },
   {
    "duration": 7,
    "start_time": "2024-06-16T17:17:57.952Z"
   },
   {
    "duration": 4,
    "start_time": "2024-06-16T17:19:18.090Z"
   },
   {
    "duration": 7,
    "start_time": "2024-06-16T17:19:34.587Z"
   },
   {
    "duration": 4,
    "start_time": "2024-06-16T17:19:55.744Z"
   },
   {
    "duration": 7,
    "start_time": "2024-06-16T17:19:58.764Z"
   },
   {
    "duration": 160,
    "start_time": "2024-06-16T17:23:36.416Z"
   },
   {
    "duration": 1126,
    "start_time": "2024-06-16T17:23:43.489Z"
   },
   {
    "duration": 187,
    "start_time": "2024-06-16T17:23:58.065Z"
   },
   {
    "duration": 179,
    "start_time": "2024-06-16T17:25:34.744Z"
   },
   {
    "duration": 6,
    "start_time": "2024-06-16T17:26:37.391Z"
   },
   {
    "duration": 12,
    "start_time": "2024-06-16T17:26:59.433Z"
   },
   {
    "duration": 174,
    "start_time": "2024-06-16T17:27:15.798Z"
   },
   {
    "duration": 150,
    "start_time": "2024-06-16T17:39:20.705Z"
   },
   {
    "duration": 6,
    "start_time": "2024-06-16T17:39:50.880Z"
   },
   {
    "duration": 7,
    "start_time": "2024-06-16T17:40:38.519Z"
   },
   {
    "duration": 4,
    "start_time": "2024-06-16T17:44:46.831Z"
   },
   {
    "duration": 9,
    "start_time": "2024-06-16T18:44:07.641Z"
   },
   {
    "duration": 10,
    "start_time": "2024-06-16T18:50:34.750Z"
   },
   {
    "duration": 165,
    "start_time": "2024-06-16T18:51:43.802Z"
   },
   {
    "duration": 10,
    "start_time": "2024-06-16T18:52:22.736Z"
   },
   {
    "duration": 27800,
    "start_time": "2024-06-16T18:55:27.672Z"
   },
   {
    "duration": 526,
    "start_time": "2024-06-17T19:35:33.735Z"
   },
   {
    "duration": 3,
    "start_time": "2024-06-17T19:35:34.262Z"
   },
   {
    "duration": 178,
    "start_time": "2024-06-17T19:35:34.266Z"
   },
   {
    "duration": 286,
    "start_time": "2024-06-17T19:35:34.445Z"
   },
   {
    "duration": 14,
    "start_time": "2024-06-17T19:35:34.732Z"
   },
   {
    "duration": 15,
    "start_time": "2024-06-17T19:35:34.747Z"
   },
   {
    "duration": 3,
    "start_time": "2024-06-17T19:35:34.763Z"
   },
   {
    "duration": 89,
    "start_time": "2024-06-17T19:35:34.766Z"
   },
   {
    "duration": 2,
    "start_time": "2024-06-17T19:35:34.856Z"
   },
   {
    "duration": 23,
    "start_time": "2024-06-17T19:35:34.860Z"
   },
   {
    "duration": 25,
    "start_time": "2024-06-17T19:35:34.884Z"
   },
   {
    "duration": 23,
    "start_time": "2024-06-17T19:35:34.911Z"
   },
   {
    "duration": 10,
    "start_time": "2024-06-17T19:35:34.935Z"
   },
   {
    "duration": 13,
    "start_time": "2024-06-17T19:35:34.947Z"
   },
   {
    "duration": 11,
    "start_time": "2024-06-17T19:35:34.961Z"
   },
   {
    "duration": 3,
    "start_time": "2024-06-17T19:35:34.973Z"
   },
   {
    "duration": 376,
    "start_time": "2024-06-17T19:35:34.977Z"
   },
   {
    "duration": 7,
    "start_time": "2024-06-17T19:35:35.354Z"
   },
   {
    "duration": 14,
    "start_time": "2024-06-17T19:35:35.362Z"
   },
   {
    "duration": 25,
    "start_time": "2024-06-17T19:35:35.377Z"
   },
   {
    "duration": 25,
    "start_time": "2024-06-17T19:35:35.403Z"
   },
   {
    "duration": 7,
    "start_time": "2024-06-17T19:35:35.429Z"
   },
   {
    "duration": 38,
    "start_time": "2024-06-17T19:35:35.437Z"
   },
   {
    "duration": 21,
    "start_time": "2024-06-17T19:35:35.476Z"
   },
   {
    "duration": 8,
    "start_time": "2024-06-17T19:35:35.498Z"
   },
   {
    "duration": 6,
    "start_time": "2024-06-17T19:35:35.507Z"
   },
   {
    "duration": 15,
    "start_time": "2024-06-17T19:35:35.515Z"
   },
   {
    "duration": 13,
    "start_time": "2024-06-17T19:35:35.534Z"
   },
   {
    "duration": 11,
    "start_time": "2024-06-17T19:35:35.548Z"
   },
   {
    "duration": 14,
    "start_time": "2024-06-17T19:35:35.560Z"
   },
   {
    "duration": 10,
    "start_time": "2024-06-17T19:35:35.576Z"
   },
   {
    "duration": 3,
    "start_time": "2024-06-17T19:35:35.587Z"
   },
   {
    "duration": 8,
    "start_time": "2024-06-17T19:35:35.591Z"
   },
   {
    "duration": 12,
    "start_time": "2024-06-17T19:35:35.600Z"
   },
   {
    "duration": 15,
    "start_time": "2024-06-17T19:35:35.613Z"
   },
   {
    "duration": 31,
    "start_time": "2024-06-17T19:35:35.629Z"
   },
   {
    "duration": 13,
    "start_time": "2024-06-17T19:35:35.661Z"
   },
   {
    "duration": 9,
    "start_time": "2024-06-17T19:35:35.676Z"
   },
   {
    "duration": 9,
    "start_time": "2024-06-17T19:35:35.686Z"
   },
   {
    "duration": 4,
    "start_time": "2024-06-17T19:35:35.696Z"
   },
   {
    "duration": 7,
    "start_time": "2024-06-17T19:35:35.701Z"
   },
   {
    "duration": 8,
    "start_time": "2024-06-17T19:35:35.709Z"
   },
   {
    "duration": 13,
    "start_time": "2024-06-17T19:35:35.718Z"
   },
   {
    "duration": 3,
    "start_time": "2024-06-17T19:35:35.732Z"
   },
   {
    "duration": 12,
    "start_time": "2024-06-17T19:35:35.735Z"
   },
   {
    "duration": 95,
    "start_time": "2024-06-17T19:35:35.748Z"
   },
   {
    "duration": 13,
    "start_time": "2024-06-17T19:35:35.844Z"
   },
   {
    "duration": 10,
    "start_time": "2024-06-17T19:35:35.858Z"
   },
   {
    "duration": 7,
    "start_time": "2024-06-17T19:35:35.869Z"
   },
   {
    "duration": 31,
    "start_time": "2024-06-17T19:35:35.877Z"
   },
   {
    "duration": 25,
    "start_time": "2024-06-17T19:35:35.909Z"
   },
   {
    "duration": 167,
    "start_time": "2024-06-17T19:35:35.935Z"
   },
   {
    "duration": 5,
    "start_time": "2024-06-17T19:35:36.103Z"
   },
   {
    "duration": 206,
    "start_time": "2024-06-17T19:35:36.109Z"
   },
   {
    "duration": 3,
    "start_time": "2024-06-17T19:35:36.317Z"
   },
   {
    "duration": 6,
    "start_time": "2024-06-17T19:35:36.321Z"
   },
   {
    "duration": 22,
    "start_time": "2024-06-17T19:35:36.328Z"
   },
   {
    "duration": 152,
    "start_time": "2024-06-17T19:35:36.351Z"
   },
   {
    "duration": 6,
    "start_time": "2024-06-17T19:35:36.504Z"
   },
   {
    "duration": 18,
    "start_time": "2024-06-17T19:35:36.512Z"
   },
   {
    "duration": 147,
    "start_time": "2024-06-17T19:51:13.678Z"
   },
   {
    "duration": 8,
    "start_time": "2024-06-17T19:53:45.629Z"
   },
   {
    "duration": 9,
    "start_time": "2024-06-17T19:53:56.422Z"
   },
   {
    "duration": 20,
    "start_time": "2024-06-17T20:03:50.494Z"
   },
   {
    "duration": 61,
    "start_time": "2024-06-17T20:07:28.383Z"
   },
   {
    "duration": 131,
    "start_time": "2024-06-17T20:07:43.842Z"
   },
   {
    "duration": 52,
    "start_time": "2024-06-17T20:10:08.247Z"
   },
   {
    "duration": 123,
    "start_time": "2024-06-17T20:11:10.078Z"
   },
   {
    "duration": 119,
    "start_time": "2024-06-17T20:11:39.234Z"
   },
   {
    "duration": 123,
    "start_time": "2024-06-17T20:11:49.917Z"
   },
   {
    "duration": 177,
    "start_time": "2024-06-17T20:11:55.792Z"
   },
   {
    "duration": 15,
    "start_time": "2024-06-17T20:12:51.797Z"
   },
   {
    "duration": 26,
    "start_time": "2024-06-17T20:12:59.944Z"
   },
   {
    "duration": 51,
    "start_time": "2024-06-17T20:13:50.574Z"
   },
   {
    "duration": 5,
    "start_time": "2024-06-17T20:40:52.054Z"
   },
   {
    "duration": 18,
    "start_time": "2024-06-17T20:41:02.877Z"
   },
   {
    "duration": 6,
    "start_time": "2024-06-17T20:41:42.283Z"
   },
   {
    "duration": 139,
    "start_time": "2024-06-17T20:42:48.400Z"
   },
   {
    "duration": 184,
    "start_time": "2024-06-17T20:43:09.982Z"
   },
   {
    "duration": 151,
    "start_time": "2024-06-17T20:43:56.420Z"
   },
   {
    "duration": 153,
    "start_time": "2024-06-17T20:45:09.453Z"
   },
   {
    "duration": 185,
    "start_time": "2024-06-17T20:46:09.563Z"
   },
   {
    "duration": 195,
    "start_time": "2024-06-17T20:46:49.891Z"
   },
   {
    "duration": 179,
    "start_time": "2024-06-17T20:46:58.915Z"
   },
   {
    "duration": 13,
    "start_time": "2024-06-17T20:49:30.121Z"
   },
   {
    "duration": 18,
    "start_time": "2024-06-17T20:49:35.699Z"
   },
   {
    "duration": 23,
    "start_time": "2024-06-17T20:49:51.891Z"
   },
   {
    "duration": 141,
    "start_time": "2024-06-17T21:01:31.573Z"
   },
   {
    "duration": 84,
    "start_time": "2024-06-17T21:02:08.574Z"
   },
   {
    "duration": 55,
    "start_time": "2024-06-17T21:02:22.093Z"
   },
   {
    "duration": 94,
    "start_time": "2024-06-17T21:02:35.901Z"
   },
   {
    "duration": 535,
    "start_time": "2024-06-18T17:31:02.497Z"
   },
   {
    "duration": 3,
    "start_time": "2024-06-18T17:31:03.034Z"
   },
   {
    "duration": 195,
    "start_time": "2024-06-18T17:31:03.038Z"
   },
   {
    "duration": 146,
    "start_time": "2024-06-18T17:31:03.235Z"
   },
   {
    "duration": 16,
    "start_time": "2024-06-18T17:31:03.382Z"
   },
   {
    "duration": 17,
    "start_time": "2024-06-18T17:31:03.399Z"
   },
   {
    "duration": 3,
    "start_time": "2024-06-18T17:31:03.417Z"
   },
   {
    "duration": 95,
    "start_time": "2024-06-18T17:31:03.421Z"
   },
   {
    "duration": 3,
    "start_time": "2024-06-18T17:31:03.518Z"
   },
   {
    "duration": 7,
    "start_time": "2024-06-18T17:31:03.524Z"
   },
   {
    "duration": 25,
    "start_time": "2024-06-18T17:31:03.532Z"
   },
   {
    "duration": 4,
    "start_time": "2024-06-18T17:31:03.559Z"
   },
   {
    "duration": 9,
    "start_time": "2024-06-18T17:31:03.565Z"
   },
   {
    "duration": 24,
    "start_time": "2024-06-18T17:31:03.575Z"
   },
   {
    "duration": 12,
    "start_time": "2024-06-18T17:31:03.601Z"
   },
   {
    "duration": 3,
    "start_time": "2024-06-18T17:31:03.614Z"
   },
   {
    "duration": 383,
    "start_time": "2024-06-18T17:31:03.618Z"
   },
   {
    "duration": 9,
    "start_time": "2024-06-18T17:31:04.008Z"
   },
   {
    "duration": 12,
    "start_time": "2024-06-18T17:31:04.019Z"
   },
   {
    "duration": 17,
    "start_time": "2024-06-18T17:31:04.033Z"
   },
   {
    "duration": 30,
    "start_time": "2024-06-18T17:31:04.051Z"
   },
   {
    "duration": 7,
    "start_time": "2024-06-18T17:31:04.083Z"
   },
   {
    "duration": 4,
    "start_time": "2024-06-18T17:31:04.091Z"
   },
   {
    "duration": 16,
    "start_time": "2024-06-18T17:31:04.096Z"
   },
   {
    "duration": 22,
    "start_time": "2024-06-18T17:31:04.114Z"
   },
   {
    "duration": 14,
    "start_time": "2024-06-18T17:31:04.138Z"
   },
   {
    "duration": 17,
    "start_time": "2024-06-18T17:31:04.153Z"
   },
   {
    "duration": 13,
    "start_time": "2024-06-18T17:31:04.173Z"
   },
   {
    "duration": 10,
    "start_time": "2024-06-18T17:31:04.188Z"
   },
   {
    "duration": 6,
    "start_time": "2024-06-18T17:31:04.199Z"
   },
   {
    "duration": 4,
    "start_time": "2024-06-18T17:31:04.206Z"
   },
   {
    "duration": 7,
    "start_time": "2024-06-18T17:31:04.211Z"
   },
   {
    "duration": 16,
    "start_time": "2024-06-18T17:31:04.219Z"
   },
   {
    "duration": 21,
    "start_time": "2024-06-18T17:31:04.236Z"
   },
   {
    "duration": 16,
    "start_time": "2024-06-18T17:31:04.258Z"
   },
   {
    "duration": 11,
    "start_time": "2024-06-18T17:31:04.275Z"
   },
   {
    "duration": 4,
    "start_time": "2024-06-18T17:31:04.287Z"
   },
   {
    "duration": 13,
    "start_time": "2024-06-18T17:31:04.292Z"
   },
   {
    "duration": 6,
    "start_time": "2024-06-18T17:31:04.306Z"
   },
   {
    "duration": 8,
    "start_time": "2024-06-18T17:31:04.313Z"
   },
   {
    "duration": 13,
    "start_time": "2024-06-18T17:31:04.322Z"
   },
   {
    "duration": 7,
    "start_time": "2024-06-18T17:31:04.336Z"
   },
   {
    "duration": 9,
    "start_time": "2024-06-18T17:31:04.344Z"
   },
   {
    "duration": 23,
    "start_time": "2024-06-18T17:31:04.354Z"
   },
   {
    "duration": 8,
    "start_time": "2024-06-18T17:31:04.378Z"
   },
   {
    "duration": 25,
    "start_time": "2024-06-18T17:31:04.387Z"
   },
   {
    "duration": 85,
    "start_time": "2024-06-18T17:31:04.413Z"
   },
   {
    "duration": 12,
    "start_time": "2024-06-18T17:31:04.499Z"
   },
   {
    "duration": 3,
    "start_time": "2024-06-18T17:31:04.512Z"
   },
   {
    "duration": 12,
    "start_time": "2024-06-18T17:31:04.516Z"
   },
   {
    "duration": 14,
    "start_time": "2024-06-18T17:31:04.529Z"
   },
   {
    "duration": 8,
    "start_time": "2024-06-18T17:31:04.545Z"
   },
   {
    "duration": 155,
    "start_time": "2024-06-18T17:31:04.554Z"
   },
   {
    "duration": 5,
    "start_time": "2024-06-18T17:31:04.710Z"
   },
   {
    "duration": 190,
    "start_time": "2024-06-18T17:31:04.716Z"
   },
   {
    "duration": 4,
    "start_time": "2024-06-18T17:31:04.908Z"
   },
   {
    "duration": 50,
    "start_time": "2024-06-18T17:31:04.914Z"
   },
   {
    "duration": 5,
    "start_time": "2024-06-18T17:31:04.965Z"
   },
   {
    "duration": 161,
    "start_time": "2024-06-18T17:31:04.971Z"
   },
   {
    "duration": 6,
    "start_time": "2024-06-18T17:31:05.134Z"
   },
   {
    "duration": 14,
    "start_time": "2024-06-18T17:31:05.142Z"
   },
   {
    "duration": 158,
    "start_time": "2024-06-18T17:31:05.157Z"
   },
   {
    "duration": 19,
    "start_time": "2024-06-18T17:31:05.316Z"
   },
   {
    "duration": 201,
    "start_time": "2024-06-18T17:31:05.337Z"
   },
   {
    "duration": 84,
    "start_time": "2024-06-18T17:31:05.540Z"
   },
   {
    "duration": 5,
    "start_time": "2024-06-18T17:31:05.625Z"
   },
   {
    "duration": 164,
    "start_time": "2024-06-18T17:31:05.631Z"
   },
   {
    "duration": 83,
    "start_time": "2024-06-18T17:31:05.796Z"
   },
   {
    "duration": 355,
    "start_time": "2024-06-18T17:32:50.428Z"
   },
   {
    "duration": 3,
    "start_time": "2024-06-18T17:32:50.784Z"
   },
   {
    "duration": 160,
    "start_time": "2024-06-18T17:32:50.788Z"
   },
   {
    "duration": 91,
    "start_time": "2024-06-18T17:32:50.949Z"
   },
   {
    "duration": 14,
    "start_time": "2024-06-18T17:32:51.042Z"
   },
   {
    "duration": 12,
    "start_time": "2024-06-18T17:32:51.057Z"
   },
   {
    "duration": 3,
    "start_time": "2024-06-18T17:32:51.070Z"
   },
   {
    "duration": 39,
    "start_time": "2024-06-18T17:32:51.074Z"
   },
   {
    "duration": 3,
    "start_time": "2024-06-18T17:32:51.114Z"
   },
   {
    "duration": 10,
    "start_time": "2024-06-18T17:32:51.118Z"
   },
   {
    "duration": 11,
    "start_time": "2024-06-18T17:32:51.130Z"
   },
   {
    "duration": 6,
    "start_time": "2024-06-18T17:32:51.142Z"
   },
   {
    "duration": 8,
    "start_time": "2024-06-18T17:32:51.149Z"
   },
   {
    "duration": 11,
    "start_time": "2024-06-18T17:32:51.160Z"
   },
   {
    "duration": 13,
    "start_time": "2024-06-18T17:32:51.172Z"
   },
   {
    "duration": 4,
    "start_time": "2024-06-18T17:32:51.186Z"
   },
   {
    "duration": 378,
    "start_time": "2024-06-18T17:32:51.204Z"
   },
   {
    "duration": 6,
    "start_time": "2024-06-18T17:32:51.583Z"
   },
   {
    "duration": 12,
    "start_time": "2024-06-18T17:32:51.590Z"
   },
   {
    "duration": 18,
    "start_time": "2024-06-18T17:32:51.603Z"
   },
   {
    "duration": 25,
    "start_time": "2024-06-18T17:32:51.622Z"
   },
   {
    "duration": 6,
    "start_time": "2024-06-18T17:32:51.649Z"
   },
   {
    "duration": 3,
    "start_time": "2024-06-18T17:32:51.656Z"
   },
   {
    "duration": 4,
    "start_time": "2024-06-18T17:32:51.660Z"
   },
   {
    "duration": 65,
    "start_time": "2024-06-18T17:32:51.665Z"
   },
   {
    "duration": 0,
    "start_time": "2024-06-18T17:32:51.732Z"
   },
   {
    "duration": 0,
    "start_time": "2024-06-18T17:32:51.733Z"
   },
   {
    "duration": 0,
    "start_time": "2024-06-18T17:32:51.734Z"
   },
   {
    "duration": 0,
    "start_time": "2024-06-18T17:32:51.735Z"
   },
   {
    "duration": 0,
    "start_time": "2024-06-18T17:32:51.736Z"
   },
   {
    "duration": 0,
    "start_time": "2024-06-18T17:32:51.736Z"
   },
   {
    "duration": 0,
    "start_time": "2024-06-18T17:32:51.737Z"
   },
   {
    "duration": 0,
    "start_time": "2024-06-18T17:32:51.738Z"
   },
   {
    "duration": 0,
    "start_time": "2024-06-18T17:32:51.739Z"
   },
   {
    "duration": 0,
    "start_time": "2024-06-18T17:32:51.740Z"
   },
   {
    "duration": 1,
    "start_time": "2024-06-18T17:32:51.740Z"
   },
   {
    "duration": 0,
    "start_time": "2024-06-18T17:32:51.741Z"
   },
   {
    "duration": 0,
    "start_time": "2024-06-18T17:32:51.742Z"
   },
   {
    "duration": 0,
    "start_time": "2024-06-18T17:32:51.743Z"
   },
   {
    "duration": 0,
    "start_time": "2024-06-18T17:32:51.744Z"
   },
   {
    "duration": 0,
    "start_time": "2024-06-18T17:32:51.744Z"
   },
   {
    "duration": 0,
    "start_time": "2024-06-18T17:32:51.745Z"
   },
   {
    "duration": 0,
    "start_time": "2024-06-18T17:32:51.746Z"
   },
   {
    "duration": 0,
    "start_time": "2024-06-18T17:32:51.747Z"
   },
   {
    "duration": 0,
    "start_time": "2024-06-18T17:32:51.747Z"
   },
   {
    "duration": 0,
    "start_time": "2024-06-18T17:32:51.748Z"
   },
   {
    "duration": 0,
    "start_time": "2024-06-18T17:32:51.749Z"
   },
   {
    "duration": 0,
    "start_time": "2024-06-18T17:32:51.750Z"
   },
   {
    "duration": 0,
    "start_time": "2024-06-18T17:32:51.750Z"
   },
   {
    "duration": 0,
    "start_time": "2024-06-18T17:32:51.751Z"
   },
   {
    "duration": 0,
    "start_time": "2024-06-18T17:32:51.752Z"
   },
   {
    "duration": 0,
    "start_time": "2024-06-18T17:32:51.753Z"
   },
   {
    "duration": 0,
    "start_time": "2024-06-18T17:32:51.753Z"
   },
   {
    "duration": 0,
    "start_time": "2024-06-18T17:32:51.754Z"
   },
   {
    "duration": 0,
    "start_time": "2024-06-18T17:32:51.755Z"
   },
   {
    "duration": 0,
    "start_time": "2024-06-18T17:32:51.756Z"
   },
   {
    "duration": 0,
    "start_time": "2024-06-18T17:32:51.757Z"
   },
   {
    "duration": 0,
    "start_time": "2024-06-18T17:32:51.758Z"
   },
   {
    "duration": 0,
    "start_time": "2024-06-18T17:32:51.758Z"
   },
   {
    "duration": 0,
    "start_time": "2024-06-18T17:32:51.801Z"
   },
   {
    "duration": 0,
    "start_time": "2024-06-18T17:32:51.802Z"
   },
   {
    "duration": 0,
    "start_time": "2024-06-18T17:32:51.803Z"
   },
   {
    "duration": 0,
    "start_time": "2024-06-18T17:32:51.804Z"
   },
   {
    "duration": 0,
    "start_time": "2024-06-18T17:32:51.805Z"
   },
   {
    "duration": 0,
    "start_time": "2024-06-18T17:32:51.806Z"
   },
   {
    "duration": 0,
    "start_time": "2024-06-18T17:32:51.807Z"
   },
   {
    "duration": 0,
    "start_time": "2024-06-18T17:32:51.808Z"
   },
   {
    "duration": 0,
    "start_time": "2024-06-18T17:32:51.808Z"
   },
   {
    "duration": 0,
    "start_time": "2024-06-18T17:32:51.809Z"
   },
   {
    "duration": 154,
    "start_time": "2024-06-18T17:33:32.162Z"
   },
   {
    "duration": 140,
    "start_time": "2024-06-18T17:34:08.523Z"
   },
   {
    "duration": 356,
    "start_time": "2024-06-18T17:34:28.158Z"
   },
   {
    "duration": 2,
    "start_time": "2024-06-18T17:34:28.515Z"
   },
   {
    "duration": 172,
    "start_time": "2024-06-18T17:34:28.518Z"
   },
   {
    "duration": 79,
    "start_time": "2024-06-18T17:34:28.691Z"
   },
   {
    "duration": 14,
    "start_time": "2024-06-18T17:34:28.771Z"
   },
   {
    "duration": 22,
    "start_time": "2024-06-18T17:34:28.786Z"
   },
   {
    "duration": 61,
    "start_time": "2024-06-18T17:34:28.809Z"
   },
   {
    "duration": 108,
    "start_time": "2024-06-18T17:34:28.872Z"
   },
   {
    "duration": 53,
    "start_time": "2024-06-18T17:34:28.982Z"
   },
   {
    "duration": 35,
    "start_time": "2024-06-18T17:34:29.037Z"
   },
   {
    "duration": 37,
    "start_time": "2024-06-18T17:34:29.073Z"
   },
   {
    "duration": 36,
    "start_time": "2024-06-18T17:34:29.111Z"
   },
   {
    "duration": 18,
    "start_time": "2024-06-18T17:34:29.148Z"
   },
   {
    "duration": 21,
    "start_time": "2024-06-18T17:34:29.167Z"
   },
   {
    "duration": 36,
    "start_time": "2024-06-18T17:34:29.190Z"
   },
   {
    "duration": 18,
    "start_time": "2024-06-18T17:34:29.228Z"
   },
   {
    "duration": 438,
    "start_time": "2024-06-18T17:34:29.247Z"
   },
   {
    "duration": 6,
    "start_time": "2024-06-18T17:34:29.686Z"
   },
   {
    "duration": 14,
    "start_time": "2024-06-18T17:34:29.693Z"
   },
   {
    "duration": 27,
    "start_time": "2024-06-18T17:34:29.708Z"
   },
   {
    "duration": 12,
    "start_time": "2024-06-18T17:34:29.736Z"
   },
   {
    "duration": 7,
    "start_time": "2024-06-18T17:34:29.750Z"
   },
   {
    "duration": 4,
    "start_time": "2024-06-18T17:34:29.758Z"
   },
   {
    "duration": 11,
    "start_time": "2024-06-18T17:34:29.763Z"
   },
   {
    "duration": 162,
    "start_time": "2024-06-18T17:34:29.776Z"
   },
   {
    "duration": 154,
    "start_time": "2024-06-18T17:34:29.939Z"
   },
   {
    "duration": 13,
    "start_time": "2024-06-18T17:34:30.094Z"
   },
   {
    "duration": 36,
    "start_time": "2024-06-18T17:34:30.110Z"
   },
   {
    "duration": 118,
    "start_time": "2024-06-18T17:34:30.148Z"
   },
   {
    "duration": 112,
    "start_time": "2024-06-18T17:34:30.267Z"
   },
   {
    "duration": 80,
    "start_time": "2024-06-18T17:34:30.381Z"
   },
   {
    "duration": 67,
    "start_time": "2024-06-18T17:34:30.462Z"
   },
   {
    "duration": 81,
    "start_time": "2024-06-18T17:34:30.530Z"
   },
   {
    "duration": 63,
    "start_time": "2024-06-18T17:34:30.612Z"
   },
   {
    "duration": 70,
    "start_time": "2024-06-18T17:34:30.677Z"
   },
   {
    "duration": 62,
    "start_time": "2024-06-18T17:34:30.748Z"
   },
   {
    "duration": 49,
    "start_time": "2024-06-18T17:34:30.812Z"
   },
   {
    "duration": 167,
    "start_time": "2024-06-18T17:34:30.862Z"
   },
   {
    "duration": 106,
    "start_time": "2024-06-18T17:34:31.031Z"
   },
   {
    "duration": 71,
    "start_time": "2024-06-18T17:34:31.138Z"
   },
   {
    "duration": 82,
    "start_time": "2024-06-18T17:34:31.211Z"
   },
   {
    "duration": 168,
    "start_time": "2024-06-18T17:34:31.295Z"
   },
   {
    "duration": 34,
    "start_time": "2024-06-18T17:34:31.464Z"
   },
   {
    "duration": 53,
    "start_time": "2024-06-18T17:34:31.499Z"
   },
   {
    "duration": 24,
    "start_time": "2024-06-18T17:34:31.553Z"
   },
   {
    "duration": 25,
    "start_time": "2024-06-18T17:34:31.578Z"
   },
   {
    "duration": 34,
    "start_time": "2024-06-18T17:34:31.604Z"
   },
   {
    "duration": 44,
    "start_time": "2024-06-18T17:34:31.639Z"
   },
   {
    "duration": 81,
    "start_time": "2024-06-18T17:34:31.684Z"
   },
   {
    "duration": 13,
    "start_time": "2024-06-18T17:34:31.766Z"
   },
   {
    "duration": 16,
    "start_time": "2024-06-18T17:34:31.780Z"
   },
   {
    "duration": 13,
    "start_time": "2024-06-18T17:34:31.798Z"
   },
   {
    "duration": 11,
    "start_time": "2024-06-18T17:34:31.812Z"
   },
   {
    "duration": 15,
    "start_time": "2024-06-18T17:34:31.824Z"
   },
   {
    "duration": 151,
    "start_time": "2024-06-18T17:34:31.840Z"
   },
   {
    "duration": 5,
    "start_time": "2024-06-18T17:34:31.992Z"
   },
   {
    "duration": 170,
    "start_time": "2024-06-18T17:34:31.998Z"
   },
   {
    "duration": 4,
    "start_time": "2024-06-18T17:34:32.169Z"
   },
   {
    "duration": 9,
    "start_time": "2024-06-18T17:34:32.174Z"
   },
   {
    "duration": 5,
    "start_time": "2024-06-18T17:34:32.184Z"
   },
   {
    "duration": 151,
    "start_time": "2024-06-18T17:34:32.190Z"
   },
   {
    "duration": 6,
    "start_time": "2024-06-18T17:34:32.342Z"
   },
   {
    "duration": 18,
    "start_time": "2024-06-18T17:34:32.349Z"
   },
   {
    "duration": 147,
    "start_time": "2024-06-18T17:34:32.368Z"
   },
   {
    "duration": 18,
    "start_time": "2024-06-18T17:34:32.516Z"
   },
   {
    "duration": 186,
    "start_time": "2024-06-18T17:34:32.535Z"
   },
   {
    "duration": 54,
    "start_time": "2024-06-18T17:34:32.722Z"
   },
   {
    "duration": 5,
    "start_time": "2024-06-18T17:34:32.777Z"
   },
   {
    "duration": 145,
    "start_time": "2024-06-18T17:34:32.783Z"
   },
   {
    "duration": 57,
    "start_time": "2024-06-18T17:34:32.930Z"
   },
   {
    "duration": 2609,
    "start_time": "2024-06-18T17:44:26.612Z"
   },
   {
    "duration": 2566,
    "start_time": "2024-06-18T17:45:00.709Z"
   },
   {
    "duration": 11,
    "start_time": "2024-06-18T17:45:03.277Z"
   },
   {
    "duration": 24,
    "start_time": "2024-06-18T17:46:27.852Z"
   },
   {
    "duration": 355,
    "start_time": "2024-06-18T17:46:40.750Z"
   },
   {
    "duration": 2,
    "start_time": "2024-06-18T17:46:41.107Z"
   },
   {
    "duration": 168,
    "start_time": "2024-06-18T17:46:41.110Z"
   },
   {
    "duration": 79,
    "start_time": "2024-06-18T17:46:41.279Z"
   },
   {
    "duration": 16,
    "start_time": "2024-06-18T17:46:41.360Z"
   },
   {
    "duration": 12,
    "start_time": "2024-06-18T17:46:41.377Z"
   },
   {
    "duration": 11,
    "start_time": "2024-06-18T17:46:41.391Z"
   },
   {
    "duration": 45,
    "start_time": "2024-06-18T17:46:41.403Z"
   },
   {
    "duration": 2,
    "start_time": "2024-06-18T17:46:41.450Z"
   },
   {
    "duration": 8,
    "start_time": "2024-06-18T17:46:41.453Z"
   },
   {
    "duration": 8,
    "start_time": "2024-06-18T17:46:41.462Z"
   },
   {
    "duration": 3,
    "start_time": "2024-06-18T17:46:41.471Z"
   },
   {
    "duration": 9,
    "start_time": "2024-06-18T17:46:41.475Z"
   },
   {
    "duration": 10,
    "start_time": "2024-06-18T17:46:41.486Z"
   },
   {
    "duration": 12,
    "start_time": "2024-06-18T17:46:41.498Z"
   },
   {
    "duration": 3,
    "start_time": "2024-06-18T17:46:41.511Z"
   },
   {
    "duration": 386,
    "start_time": "2024-06-18T17:46:41.515Z"
   },
   {
    "duration": 6,
    "start_time": "2024-06-18T17:46:41.903Z"
   },
   {
    "duration": 8,
    "start_time": "2024-06-18T17:46:41.910Z"
   },
   {
    "duration": 13,
    "start_time": "2024-06-18T17:46:41.920Z"
   },
   {
    "duration": 9,
    "start_time": "2024-06-18T17:46:41.935Z"
   },
   {
    "duration": 7,
    "start_time": "2024-06-18T17:46:41.945Z"
   },
   {
    "duration": 5,
    "start_time": "2024-06-18T17:46:41.953Z"
   },
   {
    "duration": 5,
    "start_time": "2024-06-18T17:46:41.959Z"
   },
   {
    "duration": 40,
    "start_time": "2024-06-18T17:46:41.965Z"
   },
   {
    "duration": 161,
    "start_time": "2024-06-18T17:46:42.006Z"
   },
   {
    "duration": 9,
    "start_time": "2024-06-18T17:46:42.168Z"
   },
   {
    "duration": 8,
    "start_time": "2024-06-18T17:46:42.178Z"
   },
   {
    "duration": 34,
    "start_time": "2024-06-18T17:46:42.187Z"
   },
   {
    "duration": 13,
    "start_time": "2024-06-18T17:46:42.222Z"
   },
   {
    "duration": 2872,
    "start_time": "2024-06-18T17:46:42.236Z"
   },
   {
    "duration": 10,
    "start_time": "2024-06-18T17:46:45.109Z"
   },
   {
    "duration": 11,
    "start_time": "2024-06-18T17:46:45.120Z"
   },
   {
    "duration": 16,
    "start_time": "2024-06-18T17:46:45.132Z"
   },
   {
    "duration": 9,
    "start_time": "2024-06-18T17:46:45.149Z"
   },
   {
    "duration": 25,
    "start_time": "2024-06-18T17:46:45.159Z"
   },
   {
    "duration": 23,
    "start_time": "2024-06-18T17:46:45.185Z"
   },
   {
    "duration": 34,
    "start_time": "2024-06-18T17:46:45.209Z"
   },
   {
    "duration": 63,
    "start_time": "2024-06-18T17:46:45.245Z"
   },
   {
    "duration": 44,
    "start_time": "2024-06-18T17:46:45.310Z"
   },
   {
    "duration": 19,
    "start_time": "2024-06-18T17:46:45.357Z"
   },
   {
    "duration": 23,
    "start_time": "2024-06-18T17:46:45.378Z"
   },
   {
    "duration": 10,
    "start_time": "2024-06-18T17:46:45.403Z"
   },
   {
    "duration": 9,
    "start_time": "2024-06-18T17:46:45.414Z"
   },
   {
    "duration": 18,
    "start_time": "2024-06-18T17:46:45.424Z"
   },
   {
    "duration": 21,
    "start_time": "2024-06-18T17:46:45.443Z"
   },
   {
    "duration": 13,
    "start_time": "2024-06-18T17:46:45.466Z"
   },
   {
    "duration": 5,
    "start_time": "2024-06-18T17:46:45.480Z"
   },
   {
    "duration": 16,
    "start_time": "2024-06-18T17:46:45.486Z"
   },
   {
    "duration": 99,
    "start_time": "2024-06-18T17:46:45.504Z"
   },
   {
    "duration": 14,
    "start_time": "2024-06-18T17:46:45.605Z"
   },
   {
    "duration": 4,
    "start_time": "2024-06-18T17:46:45.621Z"
   },
   {
    "duration": 9,
    "start_time": "2024-06-18T17:46:45.626Z"
   },
   {
    "duration": 8,
    "start_time": "2024-06-18T17:46:45.637Z"
   },
   {
    "duration": 6,
    "start_time": "2024-06-18T17:46:45.646Z"
   },
   {
    "duration": 152,
    "start_time": "2024-06-18T17:46:45.653Z"
   },
   {
    "duration": 4,
    "start_time": "2024-06-18T17:46:45.806Z"
   },
   {
    "duration": 149,
    "start_time": "2024-06-18T17:46:45.811Z"
   },
   {
    "duration": 3,
    "start_time": "2024-06-18T17:46:45.962Z"
   },
   {
    "duration": 29,
    "start_time": "2024-06-18T17:46:45.967Z"
   },
   {
    "duration": 7,
    "start_time": "2024-06-18T17:46:45.997Z"
   },
   {
    "duration": 148,
    "start_time": "2024-06-18T17:46:46.005Z"
   },
   {
    "duration": 5,
    "start_time": "2024-06-18T17:46:46.155Z"
   },
   {
    "duration": 16,
    "start_time": "2024-06-18T17:46:46.161Z"
   },
   {
    "duration": 146,
    "start_time": "2024-06-18T17:46:46.179Z"
   },
   {
    "duration": 18,
    "start_time": "2024-06-18T17:46:46.327Z"
   },
   {
    "duration": 192,
    "start_time": "2024-06-18T17:46:46.346Z"
   },
   {
    "duration": 53,
    "start_time": "2024-06-18T17:46:46.539Z"
   },
   {
    "duration": 7,
    "start_time": "2024-06-18T17:46:46.593Z"
   },
   {
    "duration": 171,
    "start_time": "2024-06-18T17:46:46.601Z"
   },
   {
    "duration": 76,
    "start_time": "2024-06-18T17:46:46.773Z"
   },
   {
    "duration": 7,
    "start_time": "2024-06-18T17:47:09.429Z"
   },
   {
    "duration": 406,
    "start_time": "2024-06-18T17:49:27.576Z"
   },
   {
    "duration": 2,
    "start_time": "2024-06-18T17:49:27.984Z"
   },
   {
    "duration": 162,
    "start_time": "2024-06-18T17:49:27.987Z"
   },
   {
    "duration": 81,
    "start_time": "2024-06-18T17:49:28.150Z"
   },
   {
    "duration": 14,
    "start_time": "2024-06-18T17:49:28.232Z"
   },
   {
    "duration": 13,
    "start_time": "2024-06-18T17:49:28.248Z"
   },
   {
    "duration": 5,
    "start_time": "2024-06-18T17:49:28.262Z"
   },
   {
    "duration": 52,
    "start_time": "2024-06-18T17:49:28.268Z"
   },
   {
    "duration": 3,
    "start_time": "2024-06-18T17:49:28.321Z"
   },
   {
    "duration": 6,
    "start_time": "2024-06-18T17:49:28.326Z"
   },
   {
    "duration": 12,
    "start_time": "2024-06-18T17:49:28.333Z"
   },
   {
    "duration": 3,
    "start_time": "2024-06-18T17:49:28.346Z"
   },
   {
    "duration": 10,
    "start_time": "2024-06-18T17:49:28.350Z"
   },
   {
    "duration": 23,
    "start_time": "2024-06-18T17:49:28.361Z"
   },
   {
    "duration": 12,
    "start_time": "2024-06-18T17:49:28.386Z"
   },
   {
    "duration": 15,
    "start_time": "2024-06-18T17:49:28.399Z"
   },
   {
    "duration": 409,
    "start_time": "2024-06-18T17:49:28.415Z"
   },
   {
    "duration": 6,
    "start_time": "2024-06-18T17:49:28.825Z"
   },
   {
    "duration": 4,
    "start_time": "2024-06-18T17:49:28.832Z"
   },
   {
    "duration": 16,
    "start_time": "2024-06-18T17:49:28.837Z"
   },
   {
    "duration": 9,
    "start_time": "2024-06-18T17:49:28.854Z"
   },
   {
    "duration": 8,
    "start_time": "2024-06-18T17:49:28.865Z"
   },
   {
    "duration": 3,
    "start_time": "2024-06-18T17:49:28.874Z"
   },
   {
    "duration": 23,
    "start_time": "2024-06-18T17:49:28.878Z"
   },
   {
    "duration": 7,
    "start_time": "2024-06-18T17:49:28.903Z"
   },
   {
    "duration": 8,
    "start_time": "2024-06-18T17:49:28.912Z"
   },
   {
    "duration": 8,
    "start_time": "2024-06-18T17:49:28.921Z"
   },
   {
    "duration": 14,
    "start_time": "2024-06-18T17:49:28.932Z"
   },
   {
    "duration": 12,
    "start_time": "2024-06-18T17:49:28.947Z"
   },
   {
    "duration": 6,
    "start_time": "2024-06-18T17:49:28.960Z"
   },
   {
    "duration": 32,
    "start_time": "2024-06-18T17:49:28.967Z"
   },
   {
    "duration": 12,
    "start_time": "2024-06-18T17:49:29.001Z"
   },
   {
    "duration": 13,
    "start_time": "2024-06-18T17:49:29.014Z"
   },
   {
    "duration": 10,
    "start_time": "2024-06-18T17:49:29.028Z"
   },
   {
    "duration": 15,
    "start_time": "2024-06-18T17:49:29.039Z"
   },
   {
    "duration": 19,
    "start_time": "2024-06-18T17:49:29.056Z"
   },
   {
    "duration": 10,
    "start_time": "2024-06-18T17:49:29.076Z"
   },
   {
    "duration": 5,
    "start_time": "2024-06-18T17:49:29.088Z"
   },
   {
    "duration": 25,
    "start_time": "2024-06-18T17:49:29.094Z"
   },
   {
    "duration": 14,
    "start_time": "2024-06-18T17:49:29.120Z"
   },
   {
    "duration": 18,
    "start_time": "2024-06-18T17:49:29.135Z"
   },
   {
    "duration": 27,
    "start_time": "2024-06-18T17:49:29.154Z"
   },
   {
    "duration": 17,
    "start_time": "2024-06-18T17:49:29.183Z"
   },
   {
    "duration": 17,
    "start_time": "2024-06-18T17:49:29.202Z"
   },
   {
    "duration": 4,
    "start_time": "2024-06-18T17:49:29.220Z"
   },
   {
    "duration": 12,
    "start_time": "2024-06-18T17:49:29.225Z"
   },
   {
    "duration": 85,
    "start_time": "2024-06-18T17:49:29.238Z"
   },
   {
    "duration": 13,
    "start_time": "2024-06-18T17:49:29.324Z"
   },
   {
    "duration": 7,
    "start_time": "2024-06-18T17:49:29.338Z"
   },
   {
    "duration": 6,
    "start_time": "2024-06-18T17:49:29.346Z"
   },
   {
    "duration": 6,
    "start_time": "2024-06-18T17:49:29.353Z"
   },
   {
    "duration": 14,
    "start_time": "2024-06-18T17:49:29.360Z"
   },
   {
    "duration": 144,
    "start_time": "2024-06-18T17:49:29.375Z"
   },
   {
    "duration": 4,
    "start_time": "2024-06-18T17:49:29.521Z"
   },
   {
    "duration": 181,
    "start_time": "2024-06-18T17:49:29.526Z"
   },
   {
    "duration": 5,
    "start_time": "2024-06-18T17:49:29.708Z"
   },
   {
    "duration": 8,
    "start_time": "2024-06-18T17:49:29.714Z"
   },
   {
    "duration": 5,
    "start_time": "2024-06-18T17:49:29.723Z"
   },
   {
    "duration": 152,
    "start_time": "2024-06-18T17:49:29.730Z"
   },
   {
    "duration": 7,
    "start_time": "2024-06-18T17:49:29.883Z"
   },
   {
    "duration": 8,
    "start_time": "2024-06-18T17:49:29.901Z"
   },
   {
    "duration": 142,
    "start_time": "2024-06-18T17:49:29.910Z"
   },
   {
    "duration": 19,
    "start_time": "2024-06-18T17:49:30.053Z"
   },
   {
    "duration": 241,
    "start_time": "2024-06-18T17:49:30.073Z"
   },
   {
    "duration": 74,
    "start_time": "2024-06-18T17:49:30.315Z"
   },
   {
    "duration": 6,
    "start_time": "2024-06-18T17:49:30.390Z"
   },
   {
    "duration": 174,
    "start_time": "2024-06-18T17:49:30.397Z"
   },
   {
    "duration": 58,
    "start_time": "2024-06-18T17:49:30.572Z"
   },
   {
    "duration": 64,
    "start_time": "2024-06-18T17:55:51.417Z"
   },
   {
    "duration": 6,
    "start_time": "2024-06-18T17:56:23.561Z"
   },
   {
    "duration": 7,
    "start_time": "2024-06-18T17:56:53.479Z"
   },
   {
    "duration": 99,
    "start_time": "2024-06-18T18:01:35.198Z"
   },
   {
    "duration": 14,
    "start_time": "2024-06-18T18:13:45.944Z"
   },
   {
    "duration": 183,
    "start_time": "2024-06-18T18:14:14.157Z"
   },
   {
    "duration": 68,
    "start_time": "2024-06-18T18:15:04.181Z"
   },
   {
    "duration": 197,
    "start_time": "2024-06-18T18:15:15.149Z"
   },
   {
    "duration": 194,
    "start_time": "2024-06-18T18:15:28.598Z"
   },
   {
    "duration": 204,
    "start_time": "2024-06-18T18:15:34.598Z"
   },
   {
    "duration": 192,
    "start_time": "2024-06-18T18:16:36.204Z"
   },
   {
    "duration": 6,
    "start_time": "2024-06-18T18:20:32.743Z"
   },
   {
    "duration": 6,
    "start_time": "2024-06-18T18:20:46.874Z"
   },
   {
    "duration": 248,
    "start_time": "2024-06-18T18:20:57.523Z"
   },
   {
    "duration": 80,
    "start_time": "2024-06-18T18:26:32.967Z"
   },
   {
    "duration": 103,
    "start_time": "2024-06-18T18:27:51.798Z"
   },
   {
    "duration": 85,
    "start_time": "2024-06-18T18:28:01.753Z"
   },
   {
    "duration": 84,
    "start_time": "2024-06-18T18:28:04.607Z"
   },
   {
    "duration": 86,
    "start_time": "2024-06-18T18:28:18.664Z"
   },
   {
    "duration": 86,
    "start_time": "2024-06-18T18:28:46.662Z"
   },
   {
    "duration": 75,
    "start_time": "2024-06-18T18:28:51.494Z"
   },
   {
    "duration": 82,
    "start_time": "2024-06-18T18:28:57.262Z"
   },
   {
    "duration": 76,
    "start_time": "2024-06-18T18:29:00.599Z"
   },
   {
    "duration": 83,
    "start_time": "2024-06-18T18:29:08.758Z"
   },
   {
    "duration": 175,
    "start_time": "2024-06-18T18:30:54.974Z"
   },
   {
    "duration": 149,
    "start_time": "2024-06-18T18:33:06.693Z"
   },
   {
    "duration": 89,
    "start_time": "2024-06-18T18:33:13.813Z"
   },
   {
    "duration": 173,
    "start_time": "2024-06-18T18:33:41.580Z"
   },
   {
    "duration": 195,
    "start_time": "2024-06-18T18:34:07.140Z"
   },
   {
    "duration": 3,
    "start_time": "2024-06-18T18:52:23.018Z"
   },
   {
    "duration": 5,
    "start_time": "2024-06-18T18:52:27.367Z"
   },
   {
    "duration": 36,
    "start_time": "2024-06-18T18:52:49.430Z"
   },
   {
    "duration": 5,
    "start_time": "2024-06-18T19:39:47.244Z"
   },
   {
    "duration": 147,
    "start_time": "2024-06-18T19:39:57.147Z"
   },
   {
    "duration": 180,
    "start_time": "2024-06-18T19:40:05.955Z"
   },
   {
    "duration": 157,
    "start_time": "2024-06-18T19:41:22.891Z"
   },
   {
    "duration": 178,
    "start_time": "2024-06-18T19:41:27.714Z"
   },
   {
    "duration": 15,
    "start_time": "2024-06-18T19:42:17.082Z"
   },
   {
    "duration": 19,
    "start_time": "2024-06-18T19:42:44.339Z"
   },
   {
    "duration": 13,
    "start_time": "2024-06-18T19:43:00.258Z"
   },
   {
    "duration": 80,
    "start_time": "2024-06-18T19:43:17.633Z"
   },
   {
    "duration": 19,
    "start_time": "2024-06-18T19:43:32.713Z"
   },
   {
    "duration": 14,
    "start_time": "2024-06-18T19:43:52.505Z"
   },
   {
    "duration": 192,
    "start_time": "2024-06-18T19:44:58.953Z"
   },
   {
    "duration": 155,
    "start_time": "2024-06-18T19:45:21.776Z"
   },
   {
    "duration": 207,
    "start_time": "2024-06-18T19:49:13.368Z"
   },
   {
    "duration": 194,
    "start_time": "2024-06-18T19:49:24.920Z"
   },
   {
    "duration": 281,
    "start_time": "2024-06-18T19:50:01.487Z"
   },
   {
    "duration": 302,
    "start_time": "2024-06-18T19:50:11.951Z"
   },
   {
    "duration": 212,
    "start_time": "2024-06-18T19:50:23.416Z"
   },
   {
    "duration": 199,
    "start_time": "2024-06-18T19:50:29.815Z"
   },
   {
    "duration": 146,
    "start_time": "2024-06-18T19:51:08.352Z"
   },
   {
    "duration": 148,
    "start_time": "2024-06-18T19:56:20.428Z"
   },
   {
    "duration": 189,
    "start_time": "2024-06-18T20:02:30.491Z"
   },
   {
    "duration": 209,
    "start_time": "2024-06-18T20:02:37.242Z"
   },
   {
    "duration": 6,
    "start_time": "2024-06-18T20:05:36.769Z"
   },
   {
    "duration": 27,
    "start_time": "2024-06-18T20:05:50.641Z"
   },
   {
    "duration": 31,
    "start_time": "2024-06-18T20:06:49.921Z"
   },
   {
    "duration": 29,
    "start_time": "2024-06-18T20:07:26.024Z"
   },
   {
    "duration": 26,
    "start_time": "2024-06-18T20:07:55.368Z"
   },
   {
    "duration": 29,
    "start_time": "2024-06-18T20:08:37.209Z"
   },
   {
    "duration": 20,
    "start_time": "2024-06-18T20:09:17.175Z"
   },
   {
    "duration": 24,
    "start_time": "2024-06-18T20:09:30.639Z"
   },
   {
    "duration": 9,
    "start_time": "2024-06-18T20:16:11.623Z"
   },
   {
    "duration": 24,
    "start_time": "2024-06-18T20:16:17.094Z"
   },
   {
    "duration": 9,
    "start_time": "2024-06-18T20:17:43.406Z"
   },
   {
    "duration": 26,
    "start_time": "2024-06-18T20:18:00.317Z"
   },
   {
    "duration": 5,
    "start_time": "2024-06-18T20:24:47.024Z"
   },
   {
    "duration": 130,
    "start_time": "2024-06-18T20:25:49.476Z"
   },
   {
    "duration": 130,
    "start_time": "2024-06-18T20:26:32.802Z"
   },
   {
    "duration": 193,
    "start_time": "2024-06-18T20:27:19.337Z"
   },
   {
    "duration": 1529,
    "start_time": "2024-06-18T20:28:44.391Z"
   },
   {
    "duration": 1528,
    "start_time": "2024-06-18T20:29:07.319Z"
   },
   {
    "duration": 197,
    "start_time": "2024-06-18T20:29:25.392Z"
   },
   {
    "duration": 1089,
    "start_time": "2024-06-18T20:29:30.646Z"
   },
   {
    "duration": 19,
    "start_time": "2024-06-18T20:29:52.279Z"
   },
   {
    "duration": 11,
    "start_time": "2024-06-18T20:31:10.725Z"
   },
   {
    "duration": 15,
    "start_time": "2024-06-18T20:31:37.494Z"
   },
   {
    "duration": 10,
    "start_time": "2024-06-18T20:32:40.934Z"
   },
   {
    "duration": 134,
    "start_time": "2024-06-18T20:36:00.293Z"
   },
   {
    "duration": 7,
    "start_time": "2024-06-18T20:37:02.859Z"
   },
   {
    "duration": 6,
    "start_time": "2024-06-18T20:37:18.995Z"
   },
   {
    "duration": 56,
    "start_time": "2024-06-18T20:38:06.539Z"
   },
   {
    "duration": 15,
    "start_time": "2024-06-18T20:38:19.293Z"
   },
   {
    "duration": 59,
    "start_time": "2024-06-18T20:39:19.842Z"
   },
   {
    "duration": 83,
    "start_time": "2024-06-18T20:39:30.009Z"
   },
   {
    "duration": 14,
    "start_time": "2024-06-18T20:41:24.234Z"
   },
   {
    "duration": 12,
    "start_time": "2024-06-18T20:44:06.896Z"
   },
   {
    "duration": 201,
    "start_time": "2024-06-18T20:44:28.762Z"
   },
   {
    "duration": 131,
    "start_time": "2024-06-18T20:45:15.639Z"
   },
   {
    "duration": 13,
    "start_time": "2024-06-18T20:45:48.207Z"
   },
   {
    "duration": 135,
    "start_time": "2024-06-18T20:46:09.240Z"
   },
   {
    "duration": 122,
    "start_time": "2024-06-18T20:46:18.687Z"
   },
   {
    "duration": 145,
    "start_time": "2024-06-18T20:46:22.871Z"
   },
   {
    "duration": 148,
    "start_time": "2024-06-18T20:46:33.175Z"
   },
   {
    "duration": 129,
    "start_time": "2024-06-18T20:47:22.535Z"
   },
   {
    "duration": 149,
    "start_time": "2024-06-18T20:47:28.839Z"
   },
   {
    "duration": 136,
    "start_time": "2024-06-18T20:47:35.710Z"
   },
   {
    "duration": 124,
    "start_time": "2024-06-18T20:47:54.734Z"
   },
   {
    "duration": 124,
    "start_time": "2024-06-18T20:48:04.190Z"
   },
   {
    "duration": 243,
    "start_time": "2024-06-18T20:48:11.023Z"
   },
   {
    "duration": 114,
    "start_time": "2024-06-18T20:48:19.822Z"
   },
   {
    "duration": 139,
    "start_time": "2024-06-18T20:48:26.327Z"
   },
   {
    "duration": 121,
    "start_time": "2024-06-18T20:48:32.118Z"
   },
   {
    "duration": 3325,
    "start_time": "2024-06-18T20:49:34.352Z"
   },
   {
    "duration": 4709,
    "start_time": "2024-06-18T20:50:53.830Z"
   },
   {
    "duration": 11,
    "start_time": "2024-06-18T20:51:13.604Z"
   },
   {
    "duration": 566,
    "start_time": "2024-06-19T18:20:32.500Z"
   },
   {
    "duration": 2,
    "start_time": "2024-06-19T18:20:33.068Z"
   },
   {
    "duration": 178,
    "start_time": "2024-06-19T18:20:33.071Z"
   },
   {
    "duration": 138,
    "start_time": "2024-06-19T18:20:33.251Z"
   },
   {
    "duration": 16,
    "start_time": "2024-06-19T18:20:33.390Z"
   },
   {
    "duration": 15,
    "start_time": "2024-06-19T18:20:33.407Z"
   },
   {
    "duration": 4,
    "start_time": "2024-06-19T18:20:33.423Z"
   },
   {
    "duration": 97,
    "start_time": "2024-06-19T18:20:33.428Z"
   },
   {
    "duration": 3,
    "start_time": "2024-06-19T18:20:33.526Z"
   },
   {
    "duration": 32,
    "start_time": "2024-06-19T18:20:33.531Z"
   },
   {
    "duration": 18,
    "start_time": "2024-06-19T18:20:33.564Z"
   },
   {
    "duration": 10,
    "start_time": "2024-06-19T18:20:33.584Z"
   },
   {
    "duration": 13,
    "start_time": "2024-06-19T18:20:33.595Z"
   },
   {
    "duration": 12,
    "start_time": "2024-06-19T18:20:33.610Z"
   },
   {
    "duration": 10,
    "start_time": "2024-06-19T18:20:33.624Z"
   },
   {
    "duration": 2,
    "start_time": "2024-06-19T18:20:33.636Z"
   },
   {
    "duration": 390,
    "start_time": "2024-06-19T18:20:33.640Z"
   },
   {
    "duration": 6,
    "start_time": "2024-06-19T18:20:34.031Z"
   },
   {
    "duration": 9,
    "start_time": "2024-06-19T18:20:34.038Z"
   },
   {
    "duration": 15,
    "start_time": "2024-06-19T18:20:34.048Z"
   },
   {
    "duration": 43,
    "start_time": "2024-06-19T18:20:34.064Z"
   },
   {
    "duration": 10,
    "start_time": "2024-06-19T18:20:34.109Z"
   },
   {
    "duration": 15,
    "start_time": "2024-06-19T18:20:34.120Z"
   },
   {
    "duration": 9,
    "start_time": "2024-06-19T18:20:34.136Z"
   },
   {
    "duration": 13,
    "start_time": "2024-06-19T18:20:34.146Z"
   },
   {
    "duration": 8,
    "start_time": "2024-06-19T18:20:34.160Z"
   },
   {
    "duration": 26,
    "start_time": "2024-06-19T18:20:34.169Z"
   },
   {
    "duration": 14,
    "start_time": "2024-06-19T18:20:34.199Z"
   },
   {
    "duration": 12,
    "start_time": "2024-06-19T18:20:34.215Z"
   },
   {
    "duration": 12,
    "start_time": "2024-06-19T18:20:34.228Z"
   },
   {
    "duration": 9,
    "start_time": "2024-06-19T18:20:34.241Z"
   },
   {
    "duration": 22,
    "start_time": "2024-06-19T18:20:34.251Z"
   },
   {
    "duration": 11,
    "start_time": "2024-06-19T18:20:34.274Z"
   },
   {
    "duration": 9,
    "start_time": "2024-06-19T18:20:34.287Z"
   },
   {
    "duration": 16,
    "start_time": "2024-06-19T18:20:34.298Z"
   },
   {
    "duration": 23,
    "start_time": "2024-06-19T18:20:34.316Z"
   },
   {
    "duration": 13,
    "start_time": "2024-06-19T18:20:34.340Z"
   },
   {
    "duration": 47,
    "start_time": "2024-06-19T18:20:34.354Z"
   },
   {
    "duration": 60,
    "start_time": "2024-06-19T18:20:34.403Z"
   },
   {
    "duration": 24,
    "start_time": "2024-06-19T18:20:34.464Z"
   },
   {
    "duration": 17,
    "start_time": "2024-06-19T18:20:34.489Z"
   },
   {
    "duration": 23,
    "start_time": "2024-06-19T18:20:34.507Z"
   },
   {
    "duration": 17,
    "start_time": "2024-06-19T18:20:34.531Z"
   },
   {
    "duration": 17,
    "start_time": "2024-06-19T18:20:34.549Z"
   },
   {
    "duration": 2,
    "start_time": "2024-06-19T18:20:34.568Z"
   },
   {
    "duration": 22,
    "start_time": "2024-06-19T18:20:34.571Z"
   },
   {
    "duration": 82,
    "start_time": "2024-06-19T18:20:34.594Z"
   },
   {
    "duration": 12,
    "start_time": "2024-06-19T18:20:34.678Z"
   },
   {
    "duration": 12,
    "start_time": "2024-06-19T18:20:34.692Z"
   },
   {
    "duration": 31,
    "start_time": "2024-06-19T18:20:34.706Z"
   },
   {
    "duration": 44,
    "start_time": "2024-06-19T18:20:34.738Z"
   },
   {
    "duration": 29,
    "start_time": "2024-06-19T18:20:34.783Z"
   },
   {
    "duration": 158,
    "start_time": "2024-06-19T18:20:34.814Z"
   },
   {
    "duration": 5,
    "start_time": "2024-06-19T18:20:34.973Z"
   },
   {
    "duration": 214,
    "start_time": "2024-06-19T18:20:34.979Z"
   },
   {
    "duration": 9,
    "start_time": "2024-06-19T18:20:35.194Z"
   },
   {
    "duration": 11,
    "start_time": "2024-06-19T18:20:35.204Z"
   },
   {
    "duration": 23,
    "start_time": "2024-06-19T18:20:35.217Z"
   },
   {
    "duration": 153,
    "start_time": "2024-06-19T18:20:35.241Z"
   },
   {
    "duration": 6,
    "start_time": "2024-06-19T18:20:35.396Z"
   },
   {
    "duration": 17,
    "start_time": "2024-06-19T18:20:35.403Z"
   },
   {
    "duration": 155,
    "start_time": "2024-06-19T18:20:35.421Z"
   },
   {
    "duration": 18,
    "start_time": "2024-06-19T18:20:35.577Z"
   },
   {
    "duration": 193,
    "start_time": "2024-06-19T18:20:35.596Z"
   },
   {
    "duration": 67,
    "start_time": "2024-06-19T18:20:35.791Z"
   },
   {
    "duration": 6,
    "start_time": "2024-06-19T18:20:35.860Z"
   },
   {
    "duration": 166,
    "start_time": "2024-06-19T18:20:35.867Z"
   },
   {
    "duration": 196,
    "start_time": "2024-06-19T18:20:36.035Z"
   },
   {
    "duration": 24,
    "start_time": "2024-06-19T18:20:36.232Z"
   },
   {
    "duration": 33,
    "start_time": "2024-06-19T18:20:36.257Z"
   },
   {
    "duration": 29,
    "start_time": "2024-06-19T18:20:36.292Z"
   },
   {
    "duration": 143,
    "start_time": "2024-06-19T18:20:36.322Z"
   },
   {
    "duration": 14,
    "start_time": "2024-06-19T18:20:36.467Z"
   },
   {
    "duration": 25,
    "start_time": "2024-06-19T18:20:36.483Z"
   },
   {
    "duration": 203,
    "start_time": "2024-06-19T18:20:36.509Z"
   },
   {
    "duration": 201,
    "start_time": "2024-06-19T18:20:36.714Z"
   },
   {
    "duration": 150,
    "start_time": "2024-06-19T18:20:36.916Z"
   },
   {
    "duration": 11,
    "start_time": "2024-06-19T18:20:37.067Z"
   },
   {
    "duration": 19,
    "start_time": "2024-06-19T20:29:38.031Z"
   },
   {
    "duration": 23,
    "start_time": "2024-06-19T20:30:06.072Z"
   },
   {
    "duration": 33,
    "start_time": "2024-06-19T20:30:25.916Z"
   },
   {
    "duration": 37,
    "start_time": "2024-06-19T20:31:03.790Z"
   },
   {
    "duration": 21,
    "start_time": "2024-06-19T20:31:45.428Z"
   },
   {
    "duration": 91,
    "start_time": "2024-06-19T20:32:07.828Z"
   },
   {
    "duration": 15,
    "start_time": "2024-06-19T20:41:31.841Z"
   },
   {
    "duration": 12,
    "start_time": "2024-06-19T20:42:30.736Z"
   },
   {
    "duration": 14,
    "start_time": "2024-06-19T20:42:39.847Z"
   },
   {
    "duration": 66,
    "start_time": "2024-06-19T20:43:30.592Z"
   },
   {
    "duration": 13,
    "start_time": "2024-06-19T20:43:37.959Z"
   },
   {
    "duration": 12,
    "start_time": "2024-06-19T20:44:05.551Z"
   },
   {
    "duration": 13,
    "start_time": "2024-06-19T20:45:17.681Z"
   },
   {
    "duration": 5,
    "start_time": "2024-06-19T20:47:10.549Z"
   },
   {
    "duration": 16,
    "start_time": "2024-06-19T20:47:29.376Z"
   },
   {
    "duration": 437,
    "start_time": "2024-06-19T20:47:38.279Z"
   },
   {
    "duration": 2,
    "start_time": "2024-06-19T20:47:38.718Z"
   },
   {
    "duration": 178,
    "start_time": "2024-06-19T20:47:38.721Z"
   },
   {
    "duration": 79,
    "start_time": "2024-06-19T20:47:38.901Z"
   },
   {
    "duration": 14,
    "start_time": "2024-06-19T20:47:38.981Z"
   },
   {
    "duration": 15,
    "start_time": "2024-06-19T20:47:38.996Z"
   },
   {
    "duration": 3,
    "start_time": "2024-06-19T20:47:39.012Z"
   },
   {
    "duration": 43,
    "start_time": "2024-06-19T20:47:39.016Z"
   },
   {
    "duration": 35,
    "start_time": "2024-06-19T20:47:39.061Z"
   },
   {
    "duration": 40,
    "start_time": "2024-06-19T20:47:39.098Z"
   },
   {
    "duration": 12,
    "start_time": "2024-06-19T20:47:39.139Z"
   },
   {
    "duration": 24,
    "start_time": "2024-06-19T20:47:39.152Z"
   },
   {
    "duration": 11,
    "start_time": "2024-06-19T20:47:39.178Z"
   },
   {
    "duration": 29,
    "start_time": "2024-06-19T20:47:39.190Z"
   },
   {
    "duration": 17,
    "start_time": "2024-06-19T20:47:39.221Z"
   },
   {
    "duration": 8,
    "start_time": "2024-06-19T20:47:39.240Z"
   },
   {
    "duration": 426,
    "start_time": "2024-06-19T20:47:39.250Z"
   },
   {
    "duration": 7,
    "start_time": "2024-06-19T20:47:39.677Z"
   },
   {
    "duration": 22,
    "start_time": "2024-06-19T20:47:39.685Z"
   },
   {
    "duration": 18,
    "start_time": "2024-06-19T20:47:39.713Z"
   },
   {
    "duration": 13,
    "start_time": "2024-06-19T20:47:39.733Z"
   },
   {
    "duration": 22,
    "start_time": "2024-06-19T20:47:39.748Z"
   },
   {
    "duration": 18,
    "start_time": "2024-06-19T20:47:39.772Z"
   },
   {
    "duration": 4,
    "start_time": "2024-06-19T20:47:39.792Z"
   },
   {
    "duration": 22,
    "start_time": "2024-06-19T20:47:39.797Z"
   },
   {
    "duration": 19,
    "start_time": "2024-06-19T20:47:39.821Z"
   },
   {
    "duration": 9,
    "start_time": "2024-06-19T20:47:39.841Z"
   },
   {
    "duration": 20,
    "start_time": "2024-06-19T20:47:39.853Z"
   },
   {
    "duration": 17,
    "start_time": "2024-06-19T20:47:39.875Z"
   },
   {
    "duration": 33,
    "start_time": "2024-06-19T20:47:39.893Z"
   },
   {
    "duration": 5,
    "start_time": "2024-06-19T20:47:39.927Z"
   },
   {
    "duration": 17,
    "start_time": "2024-06-19T20:47:39.933Z"
   },
   {
    "duration": 25,
    "start_time": "2024-06-19T20:47:39.951Z"
   },
   {
    "duration": 7,
    "start_time": "2024-06-19T20:47:39.977Z"
   },
   {
    "duration": 13,
    "start_time": "2024-06-19T20:47:39.985Z"
   },
   {
    "duration": 28,
    "start_time": "2024-06-19T20:47:39.999Z"
   },
   {
    "duration": 18,
    "start_time": "2024-06-19T20:47:40.028Z"
   },
   {
    "duration": 14,
    "start_time": "2024-06-19T20:47:40.048Z"
   },
   {
    "duration": 17,
    "start_time": "2024-06-19T20:47:40.063Z"
   },
   {
    "duration": 8,
    "start_time": "2024-06-19T20:47:40.081Z"
   },
   {
    "duration": 8,
    "start_time": "2024-06-19T20:47:40.090Z"
   },
   {
    "duration": 24,
    "start_time": "2024-06-19T20:47:40.099Z"
   },
   {
    "duration": 9,
    "start_time": "2024-06-19T20:47:40.124Z"
   },
   {
    "duration": 14,
    "start_time": "2024-06-19T20:47:40.134Z"
   },
   {
    "duration": 3,
    "start_time": "2024-06-19T20:47:40.150Z"
   },
   {
    "duration": 22,
    "start_time": "2024-06-19T20:47:40.154Z"
   },
   {
    "duration": 133,
    "start_time": "2024-06-19T20:47:40.178Z"
   },
   {
    "duration": 15,
    "start_time": "2024-06-19T20:47:40.313Z"
   },
   {
    "duration": 7,
    "start_time": "2024-06-19T20:47:40.329Z"
   },
   {
    "duration": 16,
    "start_time": "2024-06-19T20:47:40.338Z"
   },
   {
    "duration": 23,
    "start_time": "2024-06-19T20:47:40.356Z"
   },
   {
    "duration": 6,
    "start_time": "2024-06-19T20:47:40.380Z"
   },
   {
    "duration": 10,
    "start_time": "2024-06-19T20:47:40.388Z"
   },
   {
    "duration": 155,
    "start_time": "2024-06-19T20:47:40.399Z"
   },
   {
    "duration": 5,
    "start_time": "2024-06-19T20:47:40.555Z"
   },
   {
    "duration": 198,
    "start_time": "2024-06-19T20:47:40.561Z"
   },
   {
    "duration": 4,
    "start_time": "2024-06-19T20:47:40.760Z"
   },
   {
    "duration": 9,
    "start_time": "2024-06-19T20:47:40.766Z"
   },
   {
    "duration": 45,
    "start_time": "2024-06-19T20:47:40.777Z"
   },
   {
    "duration": 152,
    "start_time": "2024-06-19T20:47:40.824Z"
   },
   {
    "duration": 7,
    "start_time": "2024-06-19T20:47:40.977Z"
   },
   {
    "duration": 8,
    "start_time": "2024-06-19T20:47:40.985Z"
   },
   {
    "duration": 152,
    "start_time": "2024-06-19T20:47:40.994Z"
   },
   {
    "duration": 19,
    "start_time": "2024-06-19T20:47:41.147Z"
   },
   {
    "duration": 208,
    "start_time": "2024-06-19T20:47:41.168Z"
   },
   {
    "duration": 74,
    "start_time": "2024-06-19T20:47:41.378Z"
   },
   {
    "duration": 5,
    "start_time": "2024-06-19T20:47:41.454Z"
   },
   {
    "duration": 160,
    "start_time": "2024-06-19T20:47:41.460Z"
   },
   {
    "duration": 199,
    "start_time": "2024-06-19T20:47:41.621Z"
   },
   {
    "duration": 31,
    "start_time": "2024-06-19T20:47:41.822Z"
   },
   {
    "duration": 15,
    "start_time": "2024-06-19T20:47:41.854Z"
   },
   {
    "duration": 4,
    "start_time": "2024-06-19T20:47:41.870Z"
   },
   {
    "duration": 135,
    "start_time": "2024-06-19T20:47:41.875Z"
   },
   {
    "duration": 14,
    "start_time": "2024-06-19T20:47:42.012Z"
   },
   {
    "duration": 14,
    "start_time": "2024-06-19T20:47:42.028Z"
   },
   {
    "duration": 229,
    "start_time": "2024-06-19T20:47:42.043Z"
   },
   {
    "duration": 221,
    "start_time": "2024-06-19T20:47:42.273Z"
   },
   {
    "duration": 162,
    "start_time": "2024-06-19T20:47:42.495Z"
   },
   {
    "duration": 12,
    "start_time": "2024-06-19T20:47:42.659Z"
   },
   {
    "duration": 16,
    "start_time": "2024-06-19T20:50:00.213Z"
   },
   {
    "duration": 16,
    "start_time": "2024-06-19T21:07:55.235Z"
   },
   {
    "duration": 15,
    "start_time": "2024-06-19T21:10:26.411Z"
   },
   {
    "duration": 15,
    "start_time": "2024-06-19T21:11:02.014Z"
   },
   {
    "duration": 542,
    "start_time": "2024-06-20T10:32:24.403Z"
   },
   {
    "duration": 2,
    "start_time": "2024-06-20T10:32:24.947Z"
   },
   {
    "duration": 187,
    "start_time": "2024-06-20T10:32:24.950Z"
   },
   {
    "duration": 158,
    "start_time": "2024-06-20T10:32:25.138Z"
   },
   {
    "duration": 21,
    "start_time": "2024-06-20T10:32:25.298Z"
   },
   {
    "duration": 18,
    "start_time": "2024-06-20T10:32:25.321Z"
   },
   {
    "duration": 14,
    "start_time": "2024-06-20T10:32:25.341Z"
   },
   {
    "duration": 90,
    "start_time": "2024-06-20T10:32:25.356Z"
   },
   {
    "duration": 4,
    "start_time": "2024-06-20T10:32:25.447Z"
   },
   {
    "duration": 29,
    "start_time": "2024-06-20T10:32:25.453Z"
   },
   {
    "duration": 12,
    "start_time": "2024-06-20T10:32:25.484Z"
   },
   {
    "duration": 5,
    "start_time": "2024-06-20T10:32:25.498Z"
   },
   {
    "duration": 20,
    "start_time": "2024-06-20T10:32:25.504Z"
   },
   {
    "duration": 17,
    "start_time": "2024-06-20T10:32:25.526Z"
   },
   {
    "duration": 17,
    "start_time": "2024-06-20T10:32:25.544Z"
   },
   {
    "duration": 21,
    "start_time": "2024-06-20T10:32:25.563Z"
   },
   {
    "duration": 486,
    "start_time": "2024-06-20T10:32:25.585Z"
   },
   {
    "duration": 6,
    "start_time": "2024-06-20T10:32:26.072Z"
   },
   {
    "duration": 22,
    "start_time": "2024-06-20T10:32:26.079Z"
   },
   {
    "duration": 24,
    "start_time": "2024-06-20T10:32:26.102Z"
   },
   {
    "duration": 24,
    "start_time": "2024-06-20T10:32:26.127Z"
   },
   {
    "duration": 17,
    "start_time": "2024-06-20T10:32:26.152Z"
   },
   {
    "duration": 7,
    "start_time": "2024-06-20T10:32:26.170Z"
   },
   {
    "duration": 4,
    "start_time": "2024-06-20T10:32:26.178Z"
   },
   {
    "duration": 11,
    "start_time": "2024-06-20T10:32:26.183Z"
   },
   {
    "duration": 9,
    "start_time": "2024-06-20T10:32:26.195Z"
   },
   {
    "duration": 8,
    "start_time": "2024-06-20T10:32:26.205Z"
   },
   {
    "duration": 14,
    "start_time": "2024-06-20T10:32:26.216Z"
   },
   {
    "duration": 15,
    "start_time": "2024-06-20T10:32:26.231Z"
   },
   {
    "duration": 20,
    "start_time": "2024-06-20T10:32:26.247Z"
   },
   {
    "duration": 9,
    "start_time": "2024-06-20T10:32:26.268Z"
   },
   {
    "duration": 4,
    "start_time": "2024-06-20T10:32:26.279Z"
   },
   {
    "duration": 8,
    "start_time": "2024-06-20T10:32:26.284Z"
   },
   {
    "duration": 9,
    "start_time": "2024-06-20T10:32:26.293Z"
   },
   {
    "duration": 13,
    "start_time": "2024-06-20T10:32:26.303Z"
   },
   {
    "duration": 21,
    "start_time": "2024-06-20T10:32:26.317Z"
   },
   {
    "duration": 78,
    "start_time": "2024-06-20T10:32:26.340Z"
   },
   {
    "duration": 17,
    "start_time": "2024-06-20T10:32:26.420Z"
   },
   {
    "duration": 9,
    "start_time": "2024-06-20T10:32:26.438Z"
   },
   {
    "duration": 9,
    "start_time": "2024-06-20T10:32:26.448Z"
   },
   {
    "duration": 35,
    "start_time": "2024-06-20T10:32:26.459Z"
   },
   {
    "duration": 8,
    "start_time": "2024-06-20T10:32:26.496Z"
   },
   {
    "duration": 46,
    "start_time": "2024-06-20T10:32:26.505Z"
   },
   {
    "duration": 28,
    "start_time": "2024-06-20T10:32:26.552Z"
   },
   {
    "duration": 50,
    "start_time": "2024-06-20T10:32:26.581Z"
   },
   {
    "duration": 48,
    "start_time": "2024-06-20T10:32:26.632Z"
   },
   {
    "duration": 121,
    "start_time": "2024-06-20T10:32:26.681Z"
   },
   {
    "duration": 14,
    "start_time": "2024-06-20T10:32:26.803Z"
   },
   {
    "duration": 22,
    "start_time": "2024-06-20T10:32:26.818Z"
   },
   {
    "duration": 7,
    "start_time": "2024-06-20T10:32:26.842Z"
   },
   {
    "duration": 17,
    "start_time": "2024-06-20T10:32:26.850Z"
   },
   {
    "duration": 17,
    "start_time": "2024-06-20T10:32:26.868Z"
   },
   {
    "duration": 10,
    "start_time": "2024-06-20T10:32:26.886Z"
   },
   {
    "duration": 165,
    "start_time": "2024-06-20T10:32:26.898Z"
   },
   {
    "duration": 6,
    "start_time": "2024-06-20T10:32:27.064Z"
   },
   {
    "duration": 224,
    "start_time": "2024-06-20T10:32:27.071Z"
   },
   {
    "duration": 7,
    "start_time": "2024-06-20T10:32:27.297Z"
   },
   {
    "duration": 7,
    "start_time": "2024-06-20T10:32:27.305Z"
   },
   {
    "duration": 11,
    "start_time": "2024-06-20T10:32:27.314Z"
   },
   {
    "duration": 181,
    "start_time": "2024-06-20T10:32:27.326Z"
   },
   {
    "duration": 6,
    "start_time": "2024-06-20T10:32:27.508Z"
   },
   {
    "duration": 25,
    "start_time": "2024-06-20T10:32:27.515Z"
   },
   {
    "duration": 146,
    "start_time": "2024-06-20T10:32:27.541Z"
   },
   {
    "duration": 27,
    "start_time": "2024-06-20T10:32:27.688Z"
   },
   {
    "duration": 274,
    "start_time": "2024-06-20T10:32:27.717Z"
   },
   {
    "duration": 67,
    "start_time": "2024-06-20T10:32:27.993Z"
   },
   {
    "duration": 6,
    "start_time": "2024-06-20T10:32:28.061Z"
   },
   {
    "duration": 155,
    "start_time": "2024-06-20T10:32:28.068Z"
   },
   {
    "duration": 192,
    "start_time": "2024-06-20T10:32:28.224Z"
   },
   {
    "duration": 24,
    "start_time": "2024-06-20T10:32:28.418Z"
   },
   {
    "duration": 15,
    "start_time": "2024-06-20T10:32:28.443Z"
   },
   {
    "duration": 7,
    "start_time": "2024-06-20T10:32:28.459Z"
   },
   {
    "duration": 135,
    "start_time": "2024-06-20T10:32:28.467Z"
   },
   {
    "duration": 15,
    "start_time": "2024-06-20T10:32:28.604Z"
   },
   {
    "duration": 23,
    "start_time": "2024-06-20T10:32:28.620Z"
   },
   {
    "duration": 233,
    "start_time": "2024-06-20T10:32:28.644Z"
   },
   {
    "duration": 240,
    "start_time": "2024-06-20T10:32:28.879Z"
   },
   {
    "duration": 169,
    "start_time": "2024-06-20T10:32:29.120Z"
   },
   {
    "duration": 19,
    "start_time": "2024-06-20T10:32:29.291Z"
   },
   {
    "duration": 18,
    "start_time": "2024-06-20T10:32:29.312Z"
   },
   {
    "duration": 168,
    "start_time": "2024-06-20T10:43:32.413Z"
   },
   {
    "duration": 64,
    "start_time": "2024-06-20T10:43:48.750Z"
   },
   {
    "duration": 133,
    "start_time": "2024-06-20T10:44:06.076Z"
   },
   {
    "duration": 149,
    "start_time": "2024-06-20T10:44:11.639Z"
   },
   {
    "duration": 128,
    "start_time": "2024-06-20T11:08:21.842Z"
   },
   {
    "duration": 6,
    "start_time": "2024-06-20T12:33:48.431Z"
   },
   {
    "duration": 5,
    "start_time": "2024-06-20T12:34:03.376Z"
   },
   {
    "duration": 145,
    "start_time": "2024-06-20T12:34:05.055Z"
   },
   {
    "duration": 15,
    "start_time": "2024-06-20T12:34:44.292Z"
   },
   {
    "duration": 168,
    "start_time": "2024-06-20T12:41:55.012Z"
   },
   {
    "duration": 122,
    "start_time": "2024-06-20T12:43:50.401Z"
   },
   {
    "duration": 15,
    "start_time": "2024-06-20T13:00:04.249Z"
   },
   {
    "duration": 210,
    "start_time": "2024-06-20T13:00:09.224Z"
   },
   {
    "duration": 163,
    "start_time": "2024-06-20T13:00:35.175Z"
   },
   {
    "duration": 214,
    "start_time": "2024-06-20T13:01:53.023Z"
   },
   {
    "duration": 14,
    "start_time": "2024-06-20T13:05:46.295Z"
   },
   {
    "duration": 20,
    "start_time": "2024-06-20T16:03:51.864Z"
   },
   {
    "duration": 14,
    "start_time": "2024-06-20T16:04:13.742Z"
   },
   {
    "duration": 43,
    "start_time": "2024-06-20T16:05:51.294Z"
   },
   {
    "duration": 23,
    "start_time": "2024-06-20T16:05:56.023Z"
   },
   {
    "duration": 752,
    "start_time": "2024-06-20T18:38:40.949Z"
   },
   {
    "duration": 4,
    "start_time": "2024-06-20T18:38:41.704Z"
   },
   {
    "duration": 282,
    "start_time": "2024-06-20T18:38:41.714Z"
   },
   {
    "duration": 187,
    "start_time": "2024-06-20T18:38:41.998Z"
   },
   {
    "duration": 33,
    "start_time": "2024-06-20T18:38:42.188Z"
   },
   {
    "duration": 37,
    "start_time": "2024-06-20T18:38:42.224Z"
   },
   {
    "duration": 5,
    "start_time": "2024-06-20T18:38:42.264Z"
   },
   {
    "duration": 94,
    "start_time": "2024-06-20T18:38:42.272Z"
   },
   {
    "duration": 4,
    "start_time": "2024-06-20T18:38:42.371Z"
   },
   {
    "duration": 14,
    "start_time": "2024-06-20T18:38:42.377Z"
   },
   {
    "duration": 15,
    "start_time": "2024-06-20T18:38:42.393Z"
   },
   {
    "duration": 8,
    "start_time": "2024-06-20T18:38:42.411Z"
   },
   {
    "duration": 43,
    "start_time": "2024-06-20T18:38:42.421Z"
   },
   {
    "duration": 24,
    "start_time": "2024-06-20T18:38:42.467Z"
   },
   {
    "duration": 22,
    "start_time": "2024-06-20T18:38:42.494Z"
   },
   {
    "duration": 10,
    "start_time": "2024-06-20T18:38:42.518Z"
   },
   {
    "duration": 755,
    "start_time": "2024-06-20T18:38:42.530Z"
   },
   {
    "duration": 9,
    "start_time": "2024-06-20T18:38:43.287Z"
   },
   {
    "duration": 15,
    "start_time": "2024-06-20T18:38:43.298Z"
   },
   {
    "duration": 49,
    "start_time": "2024-06-20T18:38:43.315Z"
   },
   {
    "duration": 31,
    "start_time": "2024-06-20T18:38:43.366Z"
   },
   {
    "duration": 31,
    "start_time": "2024-06-20T18:38:43.400Z"
   },
   {
    "duration": 20,
    "start_time": "2024-06-20T18:38:43.432Z"
   },
   {
    "duration": 22,
    "start_time": "2024-06-20T18:38:43.454Z"
   },
   {
    "duration": 29,
    "start_time": "2024-06-20T18:38:43.478Z"
   },
   {
    "duration": 23,
    "start_time": "2024-06-20T18:38:43.509Z"
   },
   {
    "duration": 8,
    "start_time": "2024-06-20T18:38:43.539Z"
   },
   {
    "duration": 35,
    "start_time": "2024-06-20T18:38:43.549Z"
   },
   {
    "duration": 40,
    "start_time": "2024-06-20T18:38:43.586Z"
   },
   {
    "duration": 27,
    "start_time": "2024-06-20T18:38:43.628Z"
   },
   {
    "duration": 21,
    "start_time": "2024-06-20T18:38:43.658Z"
   },
   {
    "duration": 30,
    "start_time": "2024-06-20T18:38:43.682Z"
   },
   {
    "duration": 19,
    "start_time": "2024-06-20T18:38:43.714Z"
   },
   {
    "duration": 21,
    "start_time": "2024-06-20T18:38:43.735Z"
   },
   {
    "duration": 29,
    "start_time": "2024-06-20T18:38:43.758Z"
   },
   {
    "duration": 35,
    "start_time": "2024-06-20T18:38:43.789Z"
   },
   {
    "duration": 30,
    "start_time": "2024-06-20T18:38:43.827Z"
   },
   {
    "duration": 39,
    "start_time": "2024-06-20T18:38:43.860Z"
   },
   {
    "duration": 19,
    "start_time": "2024-06-20T18:38:43.901Z"
   },
   {
    "duration": 26,
    "start_time": "2024-06-20T18:38:43.922Z"
   },
   {
    "duration": 24,
    "start_time": "2024-06-20T18:38:43.950Z"
   },
   {
    "duration": 44,
    "start_time": "2024-06-20T18:38:43.977Z"
   },
   {
    "duration": 22,
    "start_time": "2024-06-20T18:38:44.024Z"
   },
   {
    "duration": 33,
    "start_time": "2024-06-20T18:38:44.048Z"
   },
   {
    "duration": 7,
    "start_time": "2024-06-20T18:38:44.083Z"
   },
   {
    "duration": 44,
    "start_time": "2024-06-20T18:38:44.092Z"
   },
   {
    "duration": 105,
    "start_time": "2024-06-20T18:38:44.138Z"
   },
   {
    "duration": 25,
    "start_time": "2024-06-20T18:38:44.246Z"
   },
   {
    "duration": 9,
    "start_time": "2024-06-20T18:38:44.273Z"
   },
   {
    "duration": 21,
    "start_time": "2024-06-20T18:38:44.284Z"
   },
   {
    "duration": 25,
    "start_time": "2024-06-20T18:38:44.307Z"
   },
   {
    "duration": 31,
    "start_time": "2024-06-20T18:38:44.334Z"
   },
   {
    "duration": 14,
    "start_time": "2024-06-20T18:38:44.368Z"
   },
   {
    "duration": 272,
    "start_time": "2024-06-20T18:38:44.384Z"
   },
   {
    "duration": 7,
    "start_time": "2024-06-20T18:38:44.661Z"
   },
   {
    "duration": 330,
    "start_time": "2024-06-20T18:38:44.673Z"
   },
   {
    "duration": 7,
    "start_time": "2024-06-20T18:38:45.006Z"
   },
   {
    "duration": 102,
    "start_time": "2024-06-20T18:38:45.015Z"
   },
   {
    "duration": 37,
    "start_time": "2024-06-20T18:38:45.119Z"
   },
   {
    "duration": 267,
    "start_time": "2024-06-20T18:38:45.158Z"
   },
   {
    "duration": 9,
    "start_time": "2024-06-20T18:38:45.428Z"
   },
   {
    "duration": 52,
    "start_time": "2024-06-20T18:38:45.439Z"
   },
   {
    "duration": 221,
    "start_time": "2024-06-20T18:38:45.493Z"
   },
   {
    "duration": 26,
    "start_time": "2024-06-20T18:38:45.716Z"
   },
   {
    "duration": 350,
    "start_time": "2024-06-20T18:38:45.744Z"
   },
   {
    "duration": 110,
    "start_time": "2024-06-20T18:38:46.096Z"
   },
   {
    "duration": 9,
    "start_time": "2024-06-20T18:38:46.209Z"
   },
   {
    "duration": 259,
    "start_time": "2024-06-20T18:38:46.221Z"
   },
   {
    "duration": 295,
    "start_time": "2024-06-20T18:38:46.482Z"
   },
   {
    "duration": 46,
    "start_time": "2024-06-20T18:38:46.779Z"
   },
   {
    "duration": 44,
    "start_time": "2024-06-20T18:38:46.827Z"
   },
   {
    "duration": 6,
    "start_time": "2024-06-20T18:38:46.873Z"
   },
   {
    "duration": 29,
    "start_time": "2024-06-20T18:38:46.882Z"
   },
   {
    "duration": 280,
    "start_time": "2024-06-20T18:38:46.917Z"
   },
   {
    "duration": 212,
    "start_time": "2024-06-20T18:38:47.199Z"
   },
   {
    "duration": 21,
    "start_time": "2024-06-20T18:38:47.413Z"
   },
   {
    "duration": 56,
    "start_time": "2024-06-20T18:38:47.436Z"
   },
   {
    "duration": 23,
    "start_time": "2024-06-20T18:38:47.494Z"
   },
   {
    "duration": 283,
    "start_time": "2024-06-20T18:38:47.519Z"
   },
   {
    "duration": 373,
    "start_time": "2024-06-20T18:38:47.804Z"
   },
   {
    "duration": 24,
    "start_time": "2024-06-20T18:38:48.183Z"
   },
   {
    "duration": 40,
    "start_time": "2024-06-20T18:39:36.379Z"
   },
   {
    "duration": 14,
    "start_time": "2024-06-20T18:39:49.409Z"
   },
   {
    "duration": 22,
    "start_time": "2024-06-20T18:42:33.807Z"
   },
   {
    "duration": 100,
    "start_time": "2024-06-20T18:43:26.152Z"
   },
   {
    "duration": 338,
    "start_time": "2024-06-20T19:03:39.940Z"
   },
   {
    "duration": 341,
    "start_time": "2024-06-20T19:03:47.283Z"
   },
   {
    "duration": 368,
    "start_time": "2024-06-20T19:04:07.028Z"
   },
   {
    "duration": 199,
    "start_time": "2024-06-20T19:05:38.786Z"
   },
   {
    "duration": 304,
    "start_time": "2024-06-20T19:06:05.250Z"
   },
   {
    "duration": 289,
    "start_time": "2024-06-20T19:06:18.452Z"
   },
   {
    "duration": 60,
    "start_time": "2024-06-20T19:09:15.368Z"
   },
   {
    "duration": 18,
    "start_time": "2024-06-20T19:22:47.475Z"
   },
   {
    "duration": 6,
    "start_time": "2024-06-20T19:27:03.736Z"
   },
   {
    "duration": 75,
    "start_time": "2024-06-20T19:29:58.573Z"
   },
   {
    "duration": 14,
    "start_time": "2024-06-20T19:30:46.284Z"
   },
   {
    "duration": 12,
    "start_time": "2024-06-20T19:35:29.219Z"
   },
   {
    "duration": 6,
    "start_time": "2024-06-20T19:37:43.528Z"
   },
   {
    "duration": 27,
    "start_time": "2024-06-20T19:38:34.442Z"
   },
   {
    "duration": 487,
    "start_time": "2024-06-20T19:38:56.432Z"
   },
   {
    "duration": 3,
    "start_time": "2024-06-20T19:38:56.921Z"
   },
   {
    "duration": 283,
    "start_time": "2024-06-20T19:38:56.926Z"
   },
   {
    "duration": 109,
    "start_time": "2024-06-20T19:38:57.213Z"
   },
   {
    "duration": 22,
    "start_time": "2024-06-20T19:38:57.324Z"
   },
   {
    "duration": 28,
    "start_time": "2024-06-20T19:38:57.348Z"
   },
   {
    "duration": 5,
    "start_time": "2024-06-20T19:38:57.378Z"
   },
   {
    "duration": 43,
    "start_time": "2024-06-20T19:38:57.384Z"
   },
   {
    "duration": 3,
    "start_time": "2024-06-20T19:38:57.429Z"
   },
   {
    "duration": 10,
    "start_time": "2024-06-20T19:38:57.436Z"
   },
   {
    "duration": 25,
    "start_time": "2024-06-20T19:38:57.448Z"
   },
   {
    "duration": 13,
    "start_time": "2024-06-20T19:38:57.475Z"
   },
   {
    "duration": 13,
    "start_time": "2024-06-20T19:38:57.490Z"
   },
   {
    "duration": 17,
    "start_time": "2024-06-20T19:38:57.505Z"
   },
   {
    "duration": 38,
    "start_time": "2024-06-20T19:38:57.524Z"
   },
   {
    "duration": 5,
    "start_time": "2024-06-20T19:38:57.564Z"
   },
   {
    "duration": 579,
    "start_time": "2024-06-20T19:38:57.571Z"
   },
   {
    "duration": 13,
    "start_time": "2024-06-20T19:38:58.151Z"
   },
   {
    "duration": 14,
    "start_time": "2024-06-20T19:38:58.165Z"
   },
   {
    "duration": 20,
    "start_time": "2024-06-20T19:38:58.181Z"
   },
   {
    "duration": 15,
    "start_time": "2024-06-20T19:38:58.202Z"
   },
   {
    "duration": 10,
    "start_time": "2024-06-20T19:38:58.219Z"
   },
   {
    "duration": 31,
    "start_time": "2024-06-20T19:38:58.231Z"
   },
   {
    "duration": 4,
    "start_time": "2024-06-20T19:38:58.264Z"
   },
   {
    "duration": 12,
    "start_time": "2024-06-20T19:38:58.270Z"
   },
   {
    "duration": 20,
    "start_time": "2024-06-20T19:38:58.283Z"
   },
   {
    "duration": 9,
    "start_time": "2024-06-20T19:38:58.305Z"
   },
   {
    "duration": 19,
    "start_time": "2024-06-20T19:38:58.318Z"
   },
   {
    "duration": 18,
    "start_time": "2024-06-20T19:38:58.362Z"
   },
   {
    "duration": 11,
    "start_time": "2024-06-20T19:38:58.381Z"
   },
   {
    "duration": 9,
    "start_time": "2024-06-20T19:38:58.394Z"
   },
   {
    "duration": 6,
    "start_time": "2024-06-20T19:38:58.405Z"
   },
   {
    "duration": 7,
    "start_time": "2024-06-20T19:38:58.413Z"
   },
   {
    "duration": 49,
    "start_time": "2024-06-20T19:38:58.421Z"
   },
   {
    "duration": 18,
    "start_time": "2024-06-20T19:38:58.472Z"
   },
   {
    "duration": 19,
    "start_time": "2024-06-20T19:38:58.492Z"
   },
   {
    "duration": 29,
    "start_time": "2024-06-20T19:38:58.513Z"
   },
   {
    "duration": 18,
    "start_time": "2024-06-20T19:38:58.545Z"
   },
   {
    "duration": 8,
    "start_time": "2024-06-20T19:38:58.565Z"
   },
   {
    "duration": 11,
    "start_time": "2024-06-20T19:38:58.574Z"
   },
   {
    "duration": 6,
    "start_time": "2024-06-20T19:38:58.587Z"
   },
   {
    "duration": 8,
    "start_time": "2024-06-20T19:38:58.595Z"
   },
   {
    "duration": 10,
    "start_time": "2024-06-20T19:38:58.604Z"
   },
   {
    "duration": 56,
    "start_time": "2024-06-20T19:38:58.615Z"
   },
   {
    "duration": 4,
    "start_time": "2024-06-20T19:38:58.672Z"
   },
   {
    "duration": 18,
    "start_time": "2024-06-20T19:38:58.678Z"
   },
   {
    "duration": 110,
    "start_time": "2024-06-20T19:38:58.698Z"
   },
   {
    "duration": 18,
    "start_time": "2024-06-20T19:38:58.810Z"
   },
   {
    "duration": 7,
    "start_time": "2024-06-20T19:38:58.830Z"
   },
   {
    "duration": 24,
    "start_time": "2024-06-20T19:38:58.838Z"
   },
   {
    "duration": 15,
    "start_time": "2024-06-20T19:38:58.864Z"
   },
   {
    "duration": 10,
    "start_time": "2024-06-20T19:38:58.880Z"
   },
   {
    "duration": 4,
    "start_time": "2024-06-20T19:38:58.892Z"
   },
   {
    "duration": 209,
    "start_time": "2024-06-20T19:38:58.898Z"
   },
   {
    "duration": 6,
    "start_time": "2024-06-20T19:38:59.109Z"
   },
   {
    "duration": 292,
    "start_time": "2024-06-20T19:38:59.117Z"
   },
   {
    "duration": 6,
    "start_time": "2024-06-20T19:38:59.412Z"
   },
   {
    "duration": 12,
    "start_time": "2024-06-20T19:38:59.420Z"
   },
   {
    "duration": 11,
    "start_time": "2024-06-20T19:38:59.434Z"
   },
   {
    "duration": 232,
    "start_time": "2024-06-20T19:38:59.447Z"
   },
   {
    "duration": 9,
    "start_time": "2024-06-20T19:38:59.681Z"
   },
   {
    "duration": 13,
    "start_time": "2024-06-20T19:38:59.692Z"
   },
   {
    "duration": 236,
    "start_time": "2024-06-20T19:38:59.707Z"
   },
   {
    "duration": 36,
    "start_time": "2024-06-20T19:38:59.945Z"
   },
   {
    "duration": 294,
    "start_time": "2024-06-20T19:38:59.983Z"
   },
   {
    "duration": 79,
    "start_time": "2024-06-20T19:39:00.279Z"
   },
   {
    "duration": 30,
    "start_time": "2024-06-20T19:39:00.360Z"
   },
   {
    "duration": 375,
    "start_time": "2024-06-20T19:39:00.392Z"
   },
   {
    "duration": 216,
    "start_time": "2024-06-20T19:39:00.769Z"
   },
   {
    "duration": 325,
    "start_time": "2024-06-20T19:39:00.987Z"
   },
   {
    "duration": 20,
    "start_time": "2024-06-20T19:39:01.314Z"
   },
   {
    "duration": 187,
    "start_time": "2024-06-20T19:39:01.336Z"
   },
   {
    "duration": 154,
    "start_time": "2024-06-20T19:39:01.526Z"
   },
   {
    "duration": 47,
    "start_time": "2024-06-20T19:39:01.682Z"
   },
   {
    "duration": 305,
    "start_time": "2024-06-20T19:39:01.731Z"
   },
   {
    "duration": 191,
    "start_time": "2024-06-20T19:39:02.038Z"
   },
   {
    "duration": 37,
    "start_time": "2024-06-20T19:39:02.231Z"
   },
   {
    "duration": 16,
    "start_time": "2024-06-20T19:39:02.269Z"
   },
   {
    "duration": 33,
    "start_time": "2024-06-20T19:39:02.286Z"
   },
   {
    "duration": 50,
    "start_time": "2024-06-20T19:39:02.321Z"
   },
   {
    "duration": 305,
    "start_time": "2024-06-20T19:39:02.373Z"
   },
   {
    "duration": 300,
    "start_time": "2024-06-20T19:39:02.685Z"
   },
   {
    "duration": 21,
    "start_time": "2024-06-20T19:39:02.988Z"
   },
   {
    "duration": 28,
    "start_time": "2024-06-20T19:40:49.869Z"
   },
   {
    "duration": 508,
    "start_time": "2024-06-20T19:42:25.038Z"
   },
   {
    "duration": 4,
    "start_time": "2024-06-20T19:42:25.548Z"
   },
   {
    "duration": 224,
    "start_time": "2024-06-20T19:42:25.553Z"
   },
   {
    "duration": 106,
    "start_time": "2024-06-20T19:42:25.780Z"
   },
   {
    "duration": 27,
    "start_time": "2024-06-20T19:42:25.888Z"
   },
   {
    "duration": 19,
    "start_time": "2024-06-20T19:42:25.917Z"
   },
   {
    "duration": 24,
    "start_time": "2024-06-20T19:42:25.938Z"
   },
   {
    "duration": 82,
    "start_time": "2024-06-20T19:42:25.964Z"
   },
   {
    "duration": 4,
    "start_time": "2024-06-20T19:42:26.048Z"
   },
   {
    "duration": 27,
    "start_time": "2024-06-20T19:42:26.054Z"
   },
   {
    "duration": 28,
    "start_time": "2024-06-20T19:42:26.083Z"
   },
   {
    "duration": 15,
    "start_time": "2024-06-20T19:42:26.112Z"
   },
   {
    "duration": 29,
    "start_time": "2024-06-20T19:42:26.129Z"
   },
   {
    "duration": 32,
    "start_time": "2024-06-20T19:42:26.159Z"
   },
   {
    "duration": 20,
    "start_time": "2024-06-20T19:42:26.193Z"
   },
   {
    "duration": 10,
    "start_time": "2024-06-20T19:42:26.214Z"
   },
   {
    "duration": 550,
    "start_time": "2024-06-20T19:42:26.226Z"
   },
   {
    "duration": 11,
    "start_time": "2024-06-20T19:42:26.779Z"
   },
   {
    "duration": 48,
    "start_time": "2024-06-20T19:42:26.793Z"
   },
   {
    "duration": 45,
    "start_time": "2024-06-20T19:42:26.844Z"
   },
   {
    "duration": 45,
    "start_time": "2024-06-20T19:42:26.890Z"
   },
   {
    "duration": 34,
    "start_time": "2024-06-20T19:42:26.938Z"
   },
   {
    "duration": 21,
    "start_time": "2024-06-20T19:42:26.974Z"
   },
   {
    "duration": 35,
    "start_time": "2024-06-20T19:42:26.997Z"
   },
   {
    "duration": 35,
    "start_time": "2024-06-20T19:42:27.035Z"
   },
   {
    "duration": 23,
    "start_time": "2024-06-20T19:42:27.072Z"
   },
   {
    "duration": 42,
    "start_time": "2024-06-20T19:42:27.097Z"
   },
   {
    "duration": 38,
    "start_time": "2024-06-20T19:42:27.145Z"
   },
   {
    "duration": 32,
    "start_time": "2024-06-20T19:42:27.186Z"
   },
   {
    "duration": 37,
    "start_time": "2024-06-20T19:42:27.219Z"
   },
   {
    "duration": 44,
    "start_time": "2024-06-20T19:42:27.258Z"
   },
   {
    "duration": 63,
    "start_time": "2024-06-20T19:42:27.304Z"
   },
   {
    "duration": 34,
    "start_time": "2024-06-20T19:42:27.369Z"
   },
   {
    "duration": 37,
    "start_time": "2024-06-20T19:42:27.405Z"
   },
   {
    "duration": 73,
    "start_time": "2024-06-20T19:42:27.443Z"
   },
   {
    "duration": 93,
    "start_time": "2024-06-20T19:42:27.518Z"
   },
   {
    "duration": 44,
    "start_time": "2024-06-20T19:42:27.613Z"
   },
   {
    "duration": 39,
    "start_time": "2024-06-20T19:42:27.659Z"
   },
   {
    "duration": 29,
    "start_time": "2024-06-20T19:42:27.700Z"
   },
   {
    "duration": 31,
    "start_time": "2024-06-20T19:42:27.731Z"
   },
   {
    "duration": 90,
    "start_time": "2024-06-20T19:42:27.763Z"
   },
   {
    "duration": 60,
    "start_time": "2024-06-20T19:42:27.855Z"
   },
   {
    "duration": 43,
    "start_time": "2024-06-20T19:42:27.917Z"
   },
   {
    "duration": 64,
    "start_time": "2024-06-20T19:42:27.962Z"
   },
   {
    "duration": 30,
    "start_time": "2024-06-20T19:42:28.028Z"
   },
   {
    "duration": 52,
    "start_time": "2024-06-20T19:42:28.060Z"
   },
   {
    "duration": 114,
    "start_time": "2024-06-20T19:42:28.114Z"
   },
   {
    "duration": 18,
    "start_time": "2024-06-20T19:42:28.230Z"
   },
   {
    "duration": 27,
    "start_time": "2024-06-20T19:42:28.249Z"
   },
   {
    "duration": 68,
    "start_time": "2024-06-20T19:42:28.278Z"
   },
   {
    "duration": 22,
    "start_time": "2024-06-20T19:42:28.348Z"
   },
   {
    "duration": 66,
    "start_time": "2024-06-20T19:42:28.372Z"
   },
   {
    "duration": 37,
    "start_time": "2024-06-20T19:42:28.440Z"
   },
   {
    "duration": 273,
    "start_time": "2024-06-20T19:42:28.479Z"
   },
   {
    "duration": 10,
    "start_time": "2024-06-20T19:42:28.754Z"
   },
   {
    "duration": 307,
    "start_time": "2024-06-20T19:42:28.767Z"
   },
   {
    "duration": 5,
    "start_time": "2024-06-20T19:42:29.076Z"
   },
   {
    "duration": 56,
    "start_time": "2024-06-20T19:42:29.083Z"
   },
   {
    "duration": 28,
    "start_time": "2024-06-20T19:42:29.141Z"
   },
   {
    "duration": 233,
    "start_time": "2024-06-20T19:42:29.171Z"
   },
   {
    "duration": 9,
    "start_time": "2024-06-20T19:42:29.405Z"
   },
   {
    "duration": 53,
    "start_time": "2024-06-20T19:42:29.415Z"
   },
   {
    "duration": 226,
    "start_time": "2024-06-20T19:42:29.470Z"
   },
   {
    "duration": 26,
    "start_time": "2024-06-20T19:42:29.698Z"
   },
   {
    "duration": 312,
    "start_time": "2024-06-20T19:42:29.726Z"
   },
   {
    "duration": 82,
    "start_time": "2024-06-20T19:42:30.040Z"
   },
   {
    "duration": 8,
    "start_time": "2024-06-20T19:42:30.124Z"
   },
   {
    "duration": 402,
    "start_time": "2024-06-20T19:42:30.133Z"
   },
   {
    "duration": 227,
    "start_time": "2024-06-20T19:42:30.537Z"
   },
   {
    "duration": 297,
    "start_time": "2024-06-20T19:42:30.766Z"
   },
   {
    "duration": 20,
    "start_time": "2024-06-20T19:42:31.065Z"
   },
   {
    "duration": 180,
    "start_time": "2024-06-20T19:42:31.087Z"
   },
   {
    "duration": 152,
    "start_time": "2024-06-20T19:42:31.269Z"
   },
   {
    "duration": 50,
    "start_time": "2024-06-20T19:42:31.423Z"
   },
   {
    "duration": 221,
    "start_time": "2024-06-20T19:42:31.475Z"
   },
   {
    "duration": 199,
    "start_time": "2024-06-20T19:42:31.698Z"
   },
   {
    "duration": 23,
    "start_time": "2024-06-20T19:42:31.899Z"
   },
   {
    "duration": 38,
    "start_time": "2024-06-20T19:42:31.924Z"
   },
   {
    "duration": 5,
    "start_time": "2024-06-20T19:42:31.964Z"
   },
   {
    "duration": 42,
    "start_time": "2024-06-20T19:42:31.971Z"
   },
   {
    "duration": 37,
    "start_time": "2024-06-20T19:42:32.014Z"
   },
   {
    "duration": 316,
    "start_time": "2024-06-20T19:42:32.063Z"
   },
   {
    "duration": 285,
    "start_time": "2024-06-20T19:42:32.381Z"
   },
   {
    "duration": 20,
    "start_time": "2024-06-20T19:42:32.668Z"
   },
   {
    "duration": 27,
    "start_time": "2024-06-20T19:43:20.629Z"
   },
   {
    "duration": 4,
    "start_time": "2024-06-20T19:43:26.643Z"
   },
   {
    "duration": 6,
    "start_time": "2024-06-20T19:50:46.355Z"
   },
   {
    "duration": 7,
    "start_time": "2024-06-20T19:51:15.357Z"
   },
   {
    "duration": 6,
    "start_time": "2024-06-20T19:54:15.873Z"
   },
   {
    "duration": 529,
    "start_time": "2024-06-20T19:54:56.235Z"
   },
   {
    "duration": 3,
    "start_time": "2024-06-20T19:54:56.766Z"
   },
   {
    "duration": 244,
    "start_time": "2024-06-20T19:54:56.770Z"
   },
   {
    "duration": 141,
    "start_time": "2024-06-20T19:54:57.017Z"
   },
   {
    "duration": 30,
    "start_time": "2024-06-20T19:54:57.161Z"
   },
   {
    "duration": 27,
    "start_time": "2024-06-20T19:54:57.194Z"
   },
   {
    "duration": 5,
    "start_time": "2024-06-20T19:54:57.222Z"
   },
   {
    "duration": 41,
    "start_time": "2024-06-20T19:54:57.228Z"
   },
   {
    "duration": 3,
    "start_time": "2024-06-20T19:54:57.271Z"
   },
   {
    "duration": 9,
    "start_time": "2024-06-20T19:54:57.278Z"
   },
   {
    "duration": 11,
    "start_time": "2024-06-20T19:54:57.289Z"
   },
   {
    "duration": 9,
    "start_time": "2024-06-20T19:54:57.302Z"
   },
   {
    "duration": 12,
    "start_time": "2024-06-20T19:54:57.312Z"
   },
   {
    "duration": 73,
    "start_time": "2024-06-20T19:54:57.326Z"
   },
   {
    "duration": 27,
    "start_time": "2024-06-20T19:54:57.401Z"
   },
   {
    "duration": 10,
    "start_time": "2024-06-20T19:54:57.430Z"
   },
   {
    "duration": 587,
    "start_time": "2024-06-20T19:54:57.442Z"
   },
   {
    "duration": 10,
    "start_time": "2024-06-20T19:54:58.031Z"
   },
   {
    "duration": 19,
    "start_time": "2024-06-20T19:54:58.043Z"
   },
   {
    "duration": 28,
    "start_time": "2024-06-20T19:54:58.065Z"
   },
   {
    "duration": 16,
    "start_time": "2024-06-20T19:54:58.095Z"
   },
   {
    "duration": 17,
    "start_time": "2024-06-20T19:54:58.113Z"
   },
   {
    "duration": 34,
    "start_time": "2024-06-20T19:54:58.132Z"
   },
   {
    "duration": 17,
    "start_time": "2024-06-20T19:54:58.169Z"
   },
   {
    "duration": 19,
    "start_time": "2024-06-20T19:54:58.188Z"
   },
   {
    "duration": 16,
    "start_time": "2024-06-20T19:54:58.209Z"
   },
   {
    "duration": 11,
    "start_time": "2024-06-20T19:54:58.227Z"
   },
   {
    "duration": 28,
    "start_time": "2024-06-20T19:54:58.261Z"
   },
   {
    "duration": 27,
    "start_time": "2024-06-20T19:54:58.292Z"
   },
   {
    "duration": 40,
    "start_time": "2024-06-20T19:54:58.322Z"
   },
   {
    "duration": 10,
    "start_time": "2024-06-20T19:54:58.364Z"
   },
   {
    "duration": 10,
    "start_time": "2024-06-20T19:54:58.377Z"
   },
   {
    "duration": 9,
    "start_time": "2024-06-20T19:54:58.389Z"
   },
   {
    "duration": 10,
    "start_time": "2024-06-20T19:54:58.400Z"
   },
   {
    "duration": 50,
    "start_time": "2024-06-20T19:54:58.412Z"
   },
   {
    "duration": 27,
    "start_time": "2024-06-20T19:54:58.464Z"
   },
   {
    "duration": 12,
    "start_time": "2024-06-20T19:54:58.493Z"
   },
   {
    "duration": 28,
    "start_time": "2024-06-20T19:54:58.506Z"
   },
   {
    "duration": 9,
    "start_time": "2024-06-20T19:54:58.536Z"
   },
   {
    "duration": 19,
    "start_time": "2024-06-20T19:54:58.546Z"
   },
   {
    "duration": 6,
    "start_time": "2024-06-20T19:54:58.567Z"
   },
   {
    "duration": 8,
    "start_time": "2024-06-20T19:54:58.574Z"
   },
   {
    "duration": 10,
    "start_time": "2024-06-20T19:54:58.583Z"
   },
   {
    "duration": 20,
    "start_time": "2024-06-20T19:54:58.595Z"
   },
   {
    "duration": 45,
    "start_time": "2024-06-20T19:54:58.617Z"
   },
   {
    "duration": 22,
    "start_time": "2024-06-20T19:54:58.664Z"
   },
   {
    "duration": 118,
    "start_time": "2024-06-20T19:54:58.689Z"
   },
   {
    "duration": 18,
    "start_time": "2024-06-20T19:54:58.809Z"
   },
   {
    "duration": 4,
    "start_time": "2024-06-20T19:54:58.828Z"
   },
   {
    "duration": 28,
    "start_time": "2024-06-20T19:54:58.834Z"
   },
   {
    "duration": 19,
    "start_time": "2024-06-20T19:54:58.865Z"
   },
   {
    "duration": 8,
    "start_time": "2024-06-20T19:54:58.886Z"
   },
   {
    "duration": 6,
    "start_time": "2024-06-20T19:54:58.895Z"
   },
   {
    "duration": 20,
    "start_time": "2024-06-20T19:54:58.902Z"
   },
   {
    "duration": 202,
    "start_time": "2024-06-20T19:54:58.924Z"
   },
   {
    "duration": 6,
    "start_time": "2024-06-20T19:54:59.127Z"
   },
   {
    "duration": 273,
    "start_time": "2024-06-20T19:54:59.135Z"
   },
   {
    "duration": 5,
    "start_time": "2024-06-20T19:54:59.410Z"
   },
   {
    "duration": 7,
    "start_time": "2024-06-20T19:54:59.417Z"
   },
   {
    "duration": 22,
    "start_time": "2024-06-20T19:54:59.426Z"
   },
   {
    "duration": 214,
    "start_time": "2024-06-20T19:54:59.450Z"
   },
   {
    "duration": 8,
    "start_time": "2024-06-20T19:54:59.666Z"
   },
   {
    "duration": 12,
    "start_time": "2024-06-20T19:54:59.675Z"
   },
   {
    "duration": 236,
    "start_time": "2024-06-20T19:54:59.689Z"
   },
   {
    "duration": 40,
    "start_time": "2024-06-20T19:54:59.927Z"
   },
   {
    "duration": 276,
    "start_time": "2024-06-20T19:54:59.969Z"
   },
   {
    "duration": 87,
    "start_time": "2024-06-20T19:55:00.247Z"
   },
   {
    "duration": 23,
    "start_time": "2024-06-20T19:55:00.336Z"
   },
   {
    "duration": 412,
    "start_time": "2024-06-20T19:55:00.361Z"
   },
   {
    "duration": 207,
    "start_time": "2024-06-20T19:55:00.776Z"
   },
   {
    "duration": 308,
    "start_time": "2024-06-20T19:55:00.986Z"
   },
   {
    "duration": 20,
    "start_time": "2024-06-20T19:55:01.296Z"
   },
   {
    "duration": 162,
    "start_time": "2024-06-20T19:55:01.317Z"
   },
   {
    "duration": 160,
    "start_time": "2024-06-20T19:55:01.481Z"
   },
   {
    "duration": 51,
    "start_time": "2024-06-20T19:55:01.643Z"
   },
   {
    "duration": 219,
    "start_time": "2024-06-20T19:55:01.696Z"
   },
   {
    "duration": 221,
    "start_time": "2024-06-20T19:55:01.918Z"
   },
   {
    "duration": 30,
    "start_time": "2024-06-20T19:55:02.141Z"
   },
   {
    "duration": 16,
    "start_time": "2024-06-20T19:55:02.172Z"
   },
   {
    "duration": 20,
    "start_time": "2024-06-20T19:55:02.189Z"
   },
   {
    "duration": 339,
    "start_time": "2024-06-20T19:55:02.211Z"
   },
   {
    "duration": 288,
    "start_time": "2024-06-20T19:55:02.560Z"
   },
   {
    "duration": 29,
    "start_time": "2024-06-20T19:55:02.850Z"
   },
   {
    "duration": 19,
    "start_time": "2024-06-20T19:55:51.770Z"
   },
   {
    "duration": 8,
    "start_time": "2024-06-20T19:58:00.427Z"
   },
   {
    "duration": 4,
    "start_time": "2024-06-20T19:58:14.788Z"
   },
   {
    "duration": 27,
    "start_time": "2024-06-20T20:11:30.349Z"
   },
   {
    "duration": 548,
    "start_time": "2024-06-20T20:16:48.138Z"
   },
   {
    "duration": 3,
    "start_time": "2024-06-20T20:16:48.688Z"
   },
   {
    "duration": 264,
    "start_time": "2024-06-20T20:16:48.693Z"
   },
   {
    "duration": 104,
    "start_time": "2024-06-20T20:16:48.959Z"
   },
   {
    "duration": 20,
    "start_time": "2024-06-20T20:16:49.066Z"
   },
   {
    "duration": 54,
    "start_time": "2024-06-20T20:16:49.090Z"
   },
   {
    "duration": 24,
    "start_time": "2024-06-20T20:16:49.146Z"
   },
   {
    "duration": 67,
    "start_time": "2024-06-20T20:16:49.171Z"
   },
   {
    "duration": 3,
    "start_time": "2024-06-20T20:16:49.240Z"
   },
   {
    "duration": 32,
    "start_time": "2024-06-20T20:16:49.245Z"
   },
   {
    "duration": 26,
    "start_time": "2024-06-20T20:16:49.278Z"
   },
   {
    "duration": 17,
    "start_time": "2024-06-20T20:16:49.306Z"
   },
   {
    "duration": 35,
    "start_time": "2024-06-20T20:16:49.325Z"
   },
   {
    "duration": 23,
    "start_time": "2024-06-20T20:16:49.365Z"
   },
   {
    "duration": 26,
    "start_time": "2024-06-20T20:16:49.389Z"
   },
   {
    "duration": 45,
    "start_time": "2024-06-20T20:16:49.416Z"
   },
   {
    "duration": 582,
    "start_time": "2024-06-20T20:16:49.464Z"
   },
   {
    "duration": 17,
    "start_time": "2024-06-20T20:16:50.047Z"
   },
   {
    "duration": 29,
    "start_time": "2024-06-20T20:16:50.067Z"
   },
   {
    "duration": 43,
    "start_time": "2024-06-20T20:16:50.098Z"
   },
   {
    "duration": 21,
    "start_time": "2024-06-20T20:16:50.144Z"
   },
   {
    "duration": 17,
    "start_time": "2024-06-20T20:16:50.167Z"
   },
   {
    "duration": 15,
    "start_time": "2024-06-20T20:16:50.186Z"
   },
   {
    "duration": 8,
    "start_time": "2024-06-20T20:16:50.203Z"
   },
   {
    "duration": 45,
    "start_time": "2024-06-20T20:16:50.212Z"
   },
   {
    "duration": 44,
    "start_time": "2024-06-20T20:16:50.259Z"
   },
   {
    "duration": 17,
    "start_time": "2024-06-20T20:16:50.305Z"
   },
   {
    "duration": 38,
    "start_time": "2024-06-20T20:16:50.325Z"
   },
   {
    "duration": 22,
    "start_time": "2024-06-20T20:16:50.365Z"
   },
   {
    "duration": 33,
    "start_time": "2024-06-20T20:16:50.389Z"
   },
   {
    "duration": 24,
    "start_time": "2024-06-20T20:16:50.425Z"
   },
   {
    "duration": 29,
    "start_time": "2024-06-20T20:16:50.451Z"
   },
   {
    "duration": 36,
    "start_time": "2024-06-20T20:16:50.481Z"
   },
   {
    "duration": 32,
    "start_time": "2024-06-20T20:16:50.519Z"
   },
   {
    "duration": 33,
    "start_time": "2024-06-20T20:16:50.553Z"
   },
   {
    "duration": 40,
    "start_time": "2024-06-20T20:16:50.587Z"
   },
   {
    "duration": 34,
    "start_time": "2024-06-20T20:16:50.628Z"
   },
   {
    "duration": 25,
    "start_time": "2024-06-20T20:16:50.665Z"
   },
   {
    "duration": 16,
    "start_time": "2024-06-20T20:16:50.692Z"
   },
   {
    "duration": 28,
    "start_time": "2024-06-20T20:16:50.710Z"
   },
   {
    "duration": 8,
    "start_time": "2024-06-20T20:16:50.745Z"
   },
   {
    "duration": 22,
    "start_time": "2024-06-20T20:16:50.755Z"
   },
   {
    "duration": 22,
    "start_time": "2024-06-20T20:16:50.779Z"
   },
   {
    "duration": 36,
    "start_time": "2024-06-20T20:16:50.802Z"
   },
   {
    "duration": 17,
    "start_time": "2024-06-20T20:16:50.853Z"
   },
   {
    "duration": 53,
    "start_time": "2024-06-20T20:16:50.873Z"
   },
   {
    "duration": 117,
    "start_time": "2024-06-20T20:16:50.928Z"
   },
   {
    "duration": 31,
    "start_time": "2024-06-20T20:16:51.047Z"
   },
   {
    "duration": 13,
    "start_time": "2024-06-20T20:16:51.079Z"
   },
   {
    "duration": 26,
    "start_time": "2024-06-20T20:16:51.094Z"
   },
   {
    "duration": 25,
    "start_time": "2024-06-20T20:16:51.122Z"
   },
   {
    "duration": 39,
    "start_time": "2024-06-20T20:16:51.148Z"
   },
   {
    "duration": 24,
    "start_time": "2024-06-20T20:16:51.189Z"
   },
   {
    "duration": 15,
    "start_time": "2024-06-20T20:16:51.215Z"
   },
   {
    "duration": 222,
    "start_time": "2024-06-20T20:16:51.232Z"
   },
   {
    "duration": 8,
    "start_time": "2024-06-20T20:16:51.455Z"
   },
   {
    "duration": 282,
    "start_time": "2024-06-20T20:16:51.465Z"
   },
   {
    "duration": 12,
    "start_time": "2024-06-20T20:16:51.749Z"
   },
   {
    "duration": 24,
    "start_time": "2024-06-20T20:16:51.763Z"
   },
   {
    "duration": 34,
    "start_time": "2024-06-20T20:16:51.789Z"
   },
   {
    "duration": 241,
    "start_time": "2024-06-20T20:16:51.825Z"
   },
   {
    "duration": 10,
    "start_time": "2024-06-20T20:16:52.067Z"
   },
   {
    "duration": 16,
    "start_time": "2024-06-20T20:16:52.079Z"
   },
   {
    "duration": 220,
    "start_time": "2024-06-20T20:16:52.097Z"
   },
   {
    "duration": 51,
    "start_time": "2024-06-20T20:16:52.320Z"
   },
   {
    "duration": 344,
    "start_time": "2024-06-20T20:16:52.373Z"
   },
   {
    "duration": 91,
    "start_time": "2024-06-20T20:16:52.719Z"
   },
   {
    "duration": 7,
    "start_time": "2024-06-20T20:16:52.812Z"
   },
   {
    "duration": 385,
    "start_time": "2024-06-20T20:16:52.821Z"
   },
   {
    "duration": 219,
    "start_time": "2024-06-20T20:16:53.208Z"
   },
   {
    "duration": 320,
    "start_time": "2024-06-20T20:16:53.429Z"
   },
   {
    "duration": 28,
    "start_time": "2024-06-20T20:16:53.751Z"
   },
   {
    "duration": 12,
    "start_time": "2024-06-20T20:16:53.782Z"
   },
   {
    "duration": 31,
    "start_time": "2024-06-20T20:16:53.796Z"
   },
   {
    "duration": 21,
    "start_time": "2024-06-20T20:16:53.829Z"
   },
   {
    "duration": 264,
    "start_time": "2024-06-20T20:16:53.853Z"
   },
   {
    "duration": 208,
    "start_time": "2024-06-20T20:16:54.120Z"
   },
   {
    "duration": 32,
    "start_time": "2024-06-20T20:16:54.330Z"
   },
   {
    "duration": 16,
    "start_time": "2024-06-20T20:16:54.364Z"
   },
   {
    "duration": 402,
    "start_time": "2024-06-20T20:16:54.382Z"
   },
   {
    "duration": 17,
    "start_time": "2024-06-20T20:16:54.786Z"
   },
   {
    "duration": 18,
    "start_time": "2024-06-20T20:16:54.805Z"
   },
   {
    "duration": 8,
    "start_time": "2024-06-20T20:16:54.825Z"
   },
   {
    "duration": 4,
    "start_time": "2024-06-20T20:16:54.862Z"
   },
   {
    "duration": 1092,
    "start_time": "2024-06-20T20:31:57.730Z"
   },
   {
    "duration": 8,
    "start_time": "2024-06-20T20:32:16.343Z"
   },
   {
    "duration": 12,
    "start_time": "2024-06-20T20:32:47.879Z"
   },
   {
    "duration": 11,
    "start_time": "2024-06-20T20:33:05.173Z"
   },
   {
    "duration": 261,
    "start_time": "2024-06-20T20:34:03.774Z"
   },
   {
    "duration": 4,
    "start_time": "2024-06-20T20:37:43.375Z"
   },
   {
    "duration": 276,
    "start_time": "2024-06-20T20:38:21.980Z"
   },
   {
    "duration": 5,
    "start_time": "2024-06-20T20:38:32.244Z"
   },
   {
    "duration": 25,
    "start_time": "2024-06-20T20:38:53.315Z"
   },
   {
    "duration": 256,
    "start_time": "2024-06-20T20:39:31.056Z"
   },
   {
    "duration": 456,
    "start_time": "2024-06-20T20:40:55.384Z"
   },
   {
    "duration": 19,
    "start_time": "2024-06-20T20:40:55.842Z"
   },
   {
    "duration": 237,
    "start_time": "2024-06-20T20:40:55.863Z"
   },
   {
    "duration": 101,
    "start_time": "2024-06-20T20:40:56.102Z"
   },
   {
    "duration": 21,
    "start_time": "2024-06-20T20:40:56.204Z"
   },
   {
    "duration": 35,
    "start_time": "2024-06-20T20:40:56.226Z"
   },
   {
    "duration": 5,
    "start_time": "2024-06-20T20:40:56.262Z"
   },
   {
    "duration": 44,
    "start_time": "2024-06-20T20:40:56.269Z"
   },
   {
    "duration": 4,
    "start_time": "2024-06-20T20:40:56.314Z"
   },
   {
    "duration": 70,
    "start_time": "2024-06-20T20:40:56.321Z"
   },
   {
    "duration": 16,
    "start_time": "2024-06-20T20:40:56.393Z"
   },
   {
    "duration": 5,
    "start_time": "2024-06-20T20:40:56.411Z"
   },
   {
    "duration": 25,
    "start_time": "2024-06-20T20:40:56.418Z"
   },
   {
    "duration": 16,
    "start_time": "2024-06-20T20:40:56.445Z"
   },
   {
    "duration": 17,
    "start_time": "2024-06-20T20:40:56.463Z"
   },
   {
    "duration": 72,
    "start_time": "2024-06-20T20:40:56.482Z"
   },
   {
    "duration": 574,
    "start_time": "2024-06-20T20:40:56.556Z"
   },
   {
    "duration": 13,
    "start_time": "2024-06-20T20:40:57.132Z"
   },
   {
    "duration": 6,
    "start_time": "2024-06-20T20:40:57.162Z"
   },
   {
    "duration": 28,
    "start_time": "2024-06-20T20:40:57.170Z"
   },
   {
    "duration": 19,
    "start_time": "2024-06-20T20:40:57.201Z"
   },
   {
    "duration": 40,
    "start_time": "2024-06-20T20:40:57.222Z"
   },
   {
    "duration": 5,
    "start_time": "2024-06-20T20:40:57.264Z"
   },
   {
    "duration": 28,
    "start_time": "2024-06-20T20:40:57.272Z"
   },
   {
    "duration": 17,
    "start_time": "2024-06-20T20:40:57.302Z"
   },
   {
    "duration": 13,
    "start_time": "2024-06-20T20:40:57.321Z"
   },
   {
    "duration": 8,
    "start_time": "2024-06-20T20:40:57.335Z"
   },
   {
    "duration": 20,
    "start_time": "2024-06-20T20:40:57.361Z"
   },
   {
    "duration": 24,
    "start_time": "2024-06-20T20:40:57.382Z"
   },
   {
    "duration": 11,
    "start_time": "2024-06-20T20:40:57.408Z"
   },
   {
    "duration": 17,
    "start_time": "2024-06-20T20:40:57.421Z"
   },
   {
    "duration": 23,
    "start_time": "2024-06-20T20:40:57.439Z"
   },
   {
    "duration": 6,
    "start_time": "2024-06-20T20:40:57.464Z"
   },
   {
    "duration": 15,
    "start_time": "2024-06-20T20:40:57.471Z"
   },
   {
    "duration": 26,
    "start_time": "2024-06-20T20:40:57.488Z"
   },
   {
    "duration": 46,
    "start_time": "2024-06-20T20:40:57.517Z"
   },
   {
    "duration": 49,
    "start_time": "2024-06-20T20:40:57.565Z"
   },
   {
    "duration": 8,
    "start_time": "2024-06-20T20:40:57.616Z"
   },
   {
    "duration": 10,
    "start_time": "2024-06-20T20:40:57.626Z"
   },
   {
    "duration": 19,
    "start_time": "2024-06-20T20:40:57.638Z"
   },
   {
    "duration": 10,
    "start_time": "2024-06-20T20:40:57.659Z"
   },
   {
    "duration": 15,
    "start_time": "2024-06-20T20:40:57.671Z"
   },
   {
    "duration": 8,
    "start_time": "2024-06-20T20:40:57.688Z"
   },
   {
    "duration": 17,
    "start_time": "2024-06-20T20:40:57.698Z"
   },
   {
    "duration": 6,
    "start_time": "2024-06-20T20:40:57.717Z"
   },
   {
    "duration": 48,
    "start_time": "2024-06-20T20:40:57.725Z"
   },
   {
    "duration": 111,
    "start_time": "2024-06-20T20:40:57.774Z"
   },
   {
    "duration": 18,
    "start_time": "2024-06-20T20:40:57.887Z"
   },
   {
    "duration": 8,
    "start_time": "2024-06-20T20:40:57.906Z"
   },
   {
    "duration": 14,
    "start_time": "2024-06-20T20:40:57.916Z"
   },
   {
    "duration": 29,
    "start_time": "2024-06-20T20:40:57.932Z"
   },
   {
    "duration": 9,
    "start_time": "2024-06-20T20:40:57.963Z"
   },
   {
    "duration": 77,
    "start_time": "2024-06-20T20:40:57.975Z"
   },
   {
    "duration": 5,
    "start_time": "2024-06-20T20:40:58.054Z"
   },
   {
    "duration": 200,
    "start_time": "2024-06-20T20:40:58.061Z"
   },
   {
    "duration": 6,
    "start_time": "2024-06-20T20:40:58.262Z"
   },
   {
    "duration": 266,
    "start_time": "2024-06-20T20:40:58.270Z"
   },
   {
    "duration": 6,
    "start_time": "2024-06-20T20:40:58.538Z"
   },
   {
    "duration": 27,
    "start_time": "2024-06-20T20:40:58.545Z"
   },
   {
    "duration": 31,
    "start_time": "2024-06-20T20:40:58.574Z"
   },
   {
    "duration": 243,
    "start_time": "2024-06-20T20:40:58.606Z"
   },
   {
    "duration": 12,
    "start_time": "2024-06-20T20:40:58.851Z"
   },
   {
    "duration": 76,
    "start_time": "2024-06-20T20:40:58.865Z"
   },
   {
    "duration": 218,
    "start_time": "2024-06-20T20:40:58.944Z"
   },
   {
    "duration": 27,
    "start_time": "2024-06-20T20:40:59.164Z"
   },
   {
    "duration": 317,
    "start_time": "2024-06-20T20:40:59.193Z"
   },
   {
    "duration": 86,
    "start_time": "2024-06-20T20:40:59.512Z"
   },
   {
    "duration": 23,
    "start_time": "2024-06-20T20:40:59.600Z"
   },
   {
    "duration": 347,
    "start_time": "2024-06-20T20:40:59.625Z"
   },
   {
    "duration": 222,
    "start_time": "2024-06-20T20:40:59.975Z"
   },
   {
    "duration": 311,
    "start_time": "2024-06-20T20:41:00.199Z"
   },
   {
    "duration": 21,
    "start_time": "2024-06-20T20:41:00.512Z"
   },
   {
    "duration": 51,
    "start_time": "2024-06-20T20:41:00.535Z"
   },
   {
    "duration": 40,
    "start_time": "2024-06-20T20:41:00.588Z"
   },
   {
    "duration": 53,
    "start_time": "2024-06-20T20:41:00.630Z"
   },
   {
    "duration": 252,
    "start_time": "2024-06-20T20:41:00.685Z"
   },
   {
    "duration": 196,
    "start_time": "2024-06-20T20:41:00.939Z"
   },
   {
    "duration": 30,
    "start_time": "2024-06-20T20:41:01.137Z"
   },
   {
    "duration": 51,
    "start_time": "2024-06-20T20:41:01.170Z"
   },
   {
    "duration": 386,
    "start_time": "2024-06-20T20:41:01.223Z"
   },
   {
    "duration": 20,
    "start_time": "2024-06-20T20:41:01.611Z"
   },
   {
    "duration": 58,
    "start_time": "2024-06-20T20:41:01.636Z"
   },
   {
    "duration": 56,
    "start_time": "2024-06-20T20:41:01.696Z"
   },
   {
    "duration": 194,
    "start_time": "2024-06-20T20:43:40.386Z"
   },
   {
    "duration": 170,
    "start_time": "2024-06-20T20:44:49.406Z"
   },
   {
    "duration": 6053,
    "start_time": "2024-06-20T20:47:13.047Z"
   },
   {
    "duration": 16,
    "start_time": "2024-06-20T20:47:48.879Z"
   },
   {
    "duration": 160,
    "start_time": "2024-06-20T20:48:51.814Z"
   },
   {
    "duration": 153,
    "start_time": "2024-06-20T20:48:57.158Z"
   },
   {
    "duration": 174,
    "start_time": "2024-06-20T20:49:05.879Z"
   },
   {
    "duration": 164,
    "start_time": "2024-06-20T20:49:15.718Z"
   },
   {
    "duration": 178,
    "start_time": "2024-06-20T20:51:07.029Z"
   },
   {
    "duration": 67,
    "start_time": "2024-06-20T20:55:33.125Z"
   },
   {
    "duration": 334,
    "start_time": "2024-06-20T21:46:52.586Z"
   },
   {
    "duration": 334,
    "start_time": "2024-06-20T21:48:04.145Z"
   },
   {
    "duration": 85,
    "start_time": "2024-06-20T21:48:27.040Z"
   },
   {
    "duration": 168,
    "start_time": "2024-06-20T21:52:42.559Z"
   },
   {
    "duration": 303,
    "start_time": "2024-06-20T21:53:31.590Z"
   },
   {
    "duration": 344,
    "start_time": "2024-06-20T21:55:43.221Z"
   },
   {
    "duration": 1672,
    "start_time": "2024-06-20T21:56:09.980Z"
   },
   {
    "duration": 554,
    "start_time": "2024-06-20T22:02:02.202Z"
   },
   {
    "duration": 7391,
    "start_time": "2024-06-20T22:02:12.595Z"
   },
   {
    "duration": 7402,
    "start_time": "2024-06-20T22:02:48.322Z"
   },
   {
    "duration": 59,
    "start_time": "2024-06-20T22:05:38.689Z"
   },
   {
    "duration": 355,
    "start_time": "2024-06-21T13:43:34.471Z"
   },
   {
    "duration": 3,
    "start_time": "2024-06-21T13:43:34.827Z"
   },
   {
    "duration": 173,
    "start_time": "2024-06-21T13:43:34.831Z"
   },
   {
    "duration": 270,
    "start_time": "2024-06-21T13:43:35.008Z"
   },
   {
    "duration": 15,
    "start_time": "2024-06-21T13:43:35.279Z"
   },
   {
    "duration": 12,
    "start_time": "2024-06-21T13:43:35.296Z"
   },
   {
    "duration": 3,
    "start_time": "2024-06-21T13:43:35.310Z"
   },
   {
    "duration": 83,
    "start_time": "2024-06-21T13:43:35.314Z"
   },
   {
    "duration": 3,
    "start_time": "2024-06-21T13:43:35.398Z"
   },
   {
    "duration": 7,
    "start_time": "2024-06-21T13:43:35.403Z"
   },
   {
    "duration": 47,
    "start_time": "2024-06-21T13:43:35.411Z"
   },
   {
    "duration": 15,
    "start_time": "2024-06-21T13:43:35.459Z"
   },
   {
    "duration": 15,
    "start_time": "2024-06-21T13:43:35.475Z"
   },
   {
    "duration": 19,
    "start_time": "2024-06-21T13:43:35.492Z"
   },
   {
    "duration": 13,
    "start_time": "2024-06-21T13:43:35.512Z"
   },
   {
    "duration": 17,
    "start_time": "2024-06-21T13:43:35.526Z"
   },
   {
    "duration": 413,
    "start_time": "2024-06-21T13:43:35.545Z"
   },
   {
    "duration": 9,
    "start_time": "2024-06-21T13:43:35.960Z"
   },
   {
    "duration": 18,
    "start_time": "2024-06-21T13:43:35.971Z"
   },
   {
    "duration": 20,
    "start_time": "2024-06-21T13:43:35.990Z"
   },
   {
    "duration": 13,
    "start_time": "2024-06-21T13:43:36.011Z"
   },
   {
    "duration": 13,
    "start_time": "2024-06-21T13:43:36.025Z"
   },
   {
    "duration": 5,
    "start_time": "2024-06-21T13:43:36.039Z"
   },
   {
    "duration": 13,
    "start_time": "2024-06-21T13:43:36.045Z"
   },
   {
    "duration": 24,
    "start_time": "2024-06-21T13:43:36.060Z"
   },
   {
    "duration": 10,
    "start_time": "2024-06-21T13:43:36.085Z"
   },
   {
    "duration": 5,
    "start_time": "2024-06-21T13:43:36.097Z"
   },
   {
    "duration": 14,
    "start_time": "2024-06-21T13:43:36.110Z"
   },
   {
    "duration": 28,
    "start_time": "2024-06-21T13:43:36.125Z"
   },
   {
    "duration": 32,
    "start_time": "2024-06-21T13:43:36.155Z"
   },
   {
    "duration": 17,
    "start_time": "2024-06-21T13:43:36.188Z"
   },
   {
    "duration": 5,
    "start_time": "2024-06-21T13:43:36.206Z"
   },
   {
    "duration": 6,
    "start_time": "2024-06-21T13:43:36.212Z"
   },
   {
    "duration": 15,
    "start_time": "2024-06-21T13:43:36.219Z"
   },
   {
    "duration": 33,
    "start_time": "2024-06-21T13:43:36.235Z"
   },
   {
    "duration": 35,
    "start_time": "2024-06-21T13:43:36.269Z"
   },
   {
    "duration": 5,
    "start_time": "2024-06-21T13:43:36.305Z"
   },
   {
    "duration": 9,
    "start_time": "2024-06-21T13:43:36.311Z"
   },
   {
    "duration": 23,
    "start_time": "2024-06-21T13:43:36.322Z"
   },
   {
    "duration": 23,
    "start_time": "2024-06-21T13:43:36.346Z"
   },
   {
    "duration": 30,
    "start_time": "2024-06-21T13:43:36.370Z"
   },
   {
    "duration": 8,
    "start_time": "2024-06-21T13:43:36.402Z"
   },
   {
    "duration": 32,
    "start_time": "2024-06-21T13:43:36.411Z"
   },
   {
    "duration": 50,
    "start_time": "2024-06-21T13:43:36.445Z"
   },
   {
    "duration": 3,
    "start_time": "2024-06-21T13:43:36.497Z"
   },
   {
    "duration": 36,
    "start_time": "2024-06-21T13:43:36.502Z"
   },
   {
    "duration": 77,
    "start_time": "2024-06-21T13:43:36.539Z"
   },
   {
    "duration": 13,
    "start_time": "2024-06-21T13:43:36.618Z"
   },
   {
    "duration": 5,
    "start_time": "2024-06-21T13:43:36.632Z"
   },
   {
    "duration": 12,
    "start_time": "2024-06-21T13:43:36.638Z"
   },
   {
    "duration": 32,
    "start_time": "2024-06-21T13:43:36.651Z"
   },
   {
    "duration": 11,
    "start_time": "2024-06-21T13:43:36.684Z"
   },
   {
    "duration": 16,
    "start_time": "2024-06-21T13:43:36.696Z"
   },
   {
    "duration": 11,
    "start_time": "2024-06-21T13:43:36.714Z"
   },
   {
    "duration": 162,
    "start_time": "2024-06-21T13:43:36.726Z"
   },
   {
    "duration": 5,
    "start_time": "2024-06-21T13:43:36.890Z"
   },
   {
    "duration": 194,
    "start_time": "2024-06-21T13:43:36.896Z"
   },
   {
    "duration": 4,
    "start_time": "2024-06-21T13:43:37.092Z"
   },
   {
    "duration": 12,
    "start_time": "2024-06-21T13:43:37.097Z"
   },
   {
    "duration": 3,
    "start_time": "2024-06-21T13:43:37.110Z"
   },
   {
    "duration": 172,
    "start_time": "2024-06-21T13:43:37.114Z"
   },
   {
    "duration": 9,
    "start_time": "2024-06-21T13:43:37.287Z"
   },
   {
    "duration": 30,
    "start_time": "2024-06-21T13:43:37.298Z"
   },
   {
    "duration": 163,
    "start_time": "2024-06-21T13:43:37.329Z"
   },
   {
    "duration": 26,
    "start_time": "2024-06-21T13:43:37.493Z"
   },
   {
    "duration": 299,
    "start_time": "2024-06-21T13:43:37.520Z"
   },
   {
    "duration": 47,
    "start_time": "2024-06-21T13:43:37.820Z"
   },
   {
    "duration": 4,
    "start_time": "2024-06-21T13:43:37.869Z"
   },
   {
    "duration": 270,
    "start_time": "2024-06-21T13:43:37.875Z"
   },
   {
    "duration": 165,
    "start_time": "2024-06-21T13:43:38.147Z"
   },
   {
    "duration": 239,
    "start_time": "2024-06-21T13:43:38.314Z"
   },
   {
    "duration": 14,
    "start_time": "2024-06-21T13:43:38.555Z"
   },
   {
    "duration": 4,
    "start_time": "2024-06-21T13:43:38.571Z"
   },
   {
    "duration": 29,
    "start_time": "2024-06-21T13:43:38.576Z"
   },
   {
    "duration": 21,
    "start_time": "2024-06-21T13:43:38.606Z"
   },
   {
    "duration": 164,
    "start_time": "2024-06-21T13:43:38.628Z"
   },
   {
    "duration": 141,
    "start_time": "2024-06-21T13:43:38.794Z"
   },
   {
    "duration": 14,
    "start_time": "2024-06-21T13:43:38.937Z"
   },
   {
    "duration": 292,
    "start_time": "2024-06-21T13:43:38.953Z"
   },
   {
    "duration": 14,
    "start_time": "2024-06-21T13:43:39.246Z"
   },
   {
    "duration": 14,
    "start_time": "2024-06-21T13:43:39.261Z"
   },
   {
    "duration": 9,
    "start_time": "2024-06-21T13:43:39.280Z"
   },
   {
    "duration": 133,
    "start_time": "2024-06-21T13:43:39.290Z"
   },
   {
    "duration": 8,
    "start_time": "2024-06-21T14:18:07.791Z"
   },
   {
    "duration": 8,
    "start_time": "2024-06-21T14:18:11.270Z"
   },
   {
    "duration": 9,
    "start_time": "2024-06-21T14:18:13.349Z"
   },
   {
    "duration": 7,
    "start_time": "2024-06-21T14:49:29.190Z"
   },
   {
    "duration": 70,
    "start_time": "2024-06-21T14:53:25.477Z"
   },
   {
    "duration": 8,
    "start_time": "2024-06-21T14:53:35.524Z"
   },
   {
    "duration": 62,
    "start_time": "2024-06-21T14:54:52.369Z"
   },
   {
    "duration": 70,
    "start_time": "2024-06-21T20:43:31.449Z"
   },
   {
    "duration": 65,
    "start_time": "2024-06-21T20:44:49.385Z"
   },
   {
    "duration": 491,
    "start_time": "2024-06-21T20:47:01.426Z"
   },
   {
    "duration": 3,
    "start_time": "2024-06-21T20:47:01.918Z"
   },
   {
    "duration": 158,
    "start_time": "2024-06-21T20:47:01.922Z"
   },
   {
    "duration": 280,
    "start_time": "2024-06-21T20:47:02.081Z"
   },
   {
    "duration": 14,
    "start_time": "2024-06-21T20:47:02.362Z"
   },
   {
    "duration": 16,
    "start_time": "2024-06-21T20:47:02.377Z"
   },
   {
    "duration": 2,
    "start_time": "2024-06-21T20:47:02.395Z"
   },
   {
    "duration": 84,
    "start_time": "2024-06-21T20:47:02.398Z"
   },
   {
    "duration": 2,
    "start_time": "2024-06-21T20:47:02.483Z"
   },
   {
    "duration": 8,
    "start_time": "2024-06-21T20:47:02.487Z"
   },
   {
    "duration": 12,
    "start_time": "2024-06-21T20:47:02.496Z"
   },
   {
    "duration": 7,
    "start_time": "2024-06-21T20:47:02.509Z"
   },
   {
    "duration": 22,
    "start_time": "2024-06-21T20:47:02.517Z"
   },
   {
    "duration": 11,
    "start_time": "2024-06-21T20:47:02.539Z"
   },
   {
    "duration": 10,
    "start_time": "2024-06-21T20:47:02.551Z"
   },
   {
    "duration": 3,
    "start_time": "2024-06-21T20:47:02.562Z"
   },
   {
    "duration": 343,
    "start_time": "2024-06-21T20:47:02.566Z"
   },
   {
    "duration": 6,
    "start_time": "2024-06-21T20:47:02.910Z"
   },
   {
    "duration": 15,
    "start_time": "2024-06-21T20:47:02.917Z"
   },
   {
    "duration": 21,
    "start_time": "2024-06-21T20:47:02.933Z"
   },
   {
    "duration": 12,
    "start_time": "2024-06-21T20:47:02.956Z"
   },
   {
    "duration": 26,
    "start_time": "2024-06-21T20:47:02.969Z"
   },
   {
    "duration": 2,
    "start_time": "2024-06-21T20:47:02.997Z"
   },
   {
    "duration": 8,
    "start_time": "2024-06-21T20:47:03.000Z"
   },
   {
    "duration": 8,
    "start_time": "2024-06-21T20:47:03.009Z"
   },
   {
    "duration": 8,
    "start_time": "2024-06-21T20:47:03.018Z"
   },
   {
    "duration": 5,
    "start_time": "2024-06-21T20:47:03.028Z"
   },
   {
    "duration": 15,
    "start_time": "2024-06-21T20:47:03.036Z"
   },
   {
    "duration": 29,
    "start_time": "2024-06-21T20:47:03.052Z"
   },
   {
    "duration": 8,
    "start_time": "2024-06-21T20:47:03.082Z"
   },
   {
    "duration": 7,
    "start_time": "2024-06-21T20:47:03.091Z"
   },
   {
    "duration": 5,
    "start_time": "2024-06-21T20:47:03.099Z"
   },
   {
    "duration": 7,
    "start_time": "2024-06-21T20:47:03.106Z"
   },
   {
    "duration": 7,
    "start_time": "2024-06-21T20:47:03.114Z"
   },
   {
    "duration": 11,
    "start_time": "2024-06-21T20:47:03.122Z"
   },
   {
    "duration": 11,
    "start_time": "2024-06-21T20:47:03.134Z"
   },
   {
    "duration": 4,
    "start_time": "2024-06-21T20:47:03.146Z"
   },
   {
    "duration": 4,
    "start_time": "2024-06-21T20:47:03.152Z"
   },
   {
    "duration": 6,
    "start_time": "2024-06-21T20:47:03.157Z"
   },
   {
    "duration": 27,
    "start_time": "2024-06-21T20:47:03.164Z"
   },
   {
    "duration": 4,
    "start_time": "2024-06-21T20:47:03.192Z"
   },
   {
    "duration": 5,
    "start_time": "2024-06-21T20:47:03.197Z"
   },
   {
    "duration": 9,
    "start_time": "2024-06-21T20:47:03.203Z"
   },
   {
    "duration": 33,
    "start_time": "2024-06-21T20:47:03.213Z"
   },
   {
    "duration": 5,
    "start_time": "2024-06-21T20:47:03.247Z"
   },
   {
    "duration": 12,
    "start_time": "2024-06-21T20:47:03.253Z"
   },
   {
    "duration": 73,
    "start_time": "2024-06-21T20:47:03.266Z"
   },
   {
    "duration": 14,
    "start_time": "2024-06-21T20:47:03.340Z"
   },
   {
    "duration": 3,
    "start_time": "2024-06-21T20:47:03.356Z"
   },
   {
    "duration": 5,
    "start_time": "2024-06-21T20:47:03.360Z"
   },
   {
    "duration": 24,
    "start_time": "2024-06-21T20:47:03.367Z"
   },
   {
    "duration": 6,
    "start_time": "2024-06-21T20:47:03.392Z"
   },
   {
    "duration": 3,
    "start_time": "2024-06-21T20:47:03.399Z"
   },
   {
    "duration": 4,
    "start_time": "2024-06-21T20:47:03.403Z"
   },
   {
    "duration": 138,
    "start_time": "2024-06-21T20:47:03.409Z"
   },
   {
    "duration": 4,
    "start_time": "2024-06-21T20:47:03.549Z"
   },
   {
    "duration": 184,
    "start_time": "2024-06-21T20:47:03.554Z"
   },
   {
    "duration": 4,
    "start_time": "2024-06-21T20:47:03.740Z"
   },
   {
    "duration": 5,
    "start_time": "2024-06-21T20:47:03.745Z"
   },
   {
    "duration": 7,
    "start_time": "2024-06-21T20:47:03.751Z"
   },
   {
    "duration": 147,
    "start_time": "2024-06-21T20:47:03.759Z"
   },
   {
    "duration": 5,
    "start_time": "2024-06-21T20:47:03.907Z"
   },
   {
    "duration": 8,
    "start_time": "2024-06-21T20:47:03.913Z"
   },
   {
    "duration": 138,
    "start_time": "2024-06-21T20:47:03.922Z"
   },
   {
    "duration": 28,
    "start_time": "2024-06-21T20:47:04.061Z"
   },
   {
    "duration": 171,
    "start_time": "2024-06-21T20:47:04.090Z"
   },
   {
    "duration": 51,
    "start_time": "2024-06-21T20:47:04.263Z"
   },
   {
    "duration": 4,
    "start_time": "2024-06-21T20:47:04.315Z"
   },
   {
    "duration": 222,
    "start_time": "2024-06-21T20:47:04.320Z"
   },
   {
    "duration": 141,
    "start_time": "2024-06-21T20:47:04.543Z"
   },
   {
    "duration": 213,
    "start_time": "2024-06-21T20:47:04.685Z"
   },
   {
    "duration": 14,
    "start_time": "2024-06-21T20:47:04.899Z"
   },
   {
    "duration": 4,
    "start_time": "2024-06-21T20:47:04.914Z"
   },
   {
    "duration": 4,
    "start_time": "2024-06-21T20:47:04.919Z"
   },
   {
    "duration": 13,
    "start_time": "2024-06-21T20:47:04.924Z"
   },
   {
    "duration": 166,
    "start_time": "2024-06-21T20:47:04.938Z"
   },
   {
    "duration": 125,
    "start_time": "2024-06-21T20:47:05.105Z"
   },
   {
    "duration": 14,
    "start_time": "2024-06-21T20:47:05.231Z"
   },
   {
    "duration": 233,
    "start_time": "2024-06-21T20:47:05.246Z"
   },
   {
    "duration": 18,
    "start_time": "2024-06-21T20:47:05.480Z"
   },
   {
    "duration": 4,
    "start_time": "2024-06-21T20:47:05.499Z"
   },
   {
    "duration": 2,
    "start_time": "2024-06-21T20:47:05.507Z"
   },
   {
    "duration": 109,
    "start_time": "2024-06-21T20:47:05.510Z"
   },
   {
    "duration": 11,
    "start_time": "2024-06-21T20:47:23.273Z"
   },
   {
    "duration": 58,
    "start_time": "2024-06-21T21:05:23.085Z"
   },
   {
    "duration": 694,
    "start_time": "2024-06-22T08:13:44.503Z"
   },
   {
    "duration": 3,
    "start_time": "2024-06-22T08:13:45.205Z"
   },
   {
    "duration": 280,
    "start_time": "2024-06-22T08:13:45.210Z"
   },
   {
    "duration": 159,
    "start_time": "2024-06-22T08:13:45.495Z"
   },
   {
    "duration": 19,
    "start_time": "2024-06-22T08:13:45.656Z"
   },
   {
    "duration": 32,
    "start_time": "2024-06-22T08:13:45.677Z"
   },
   {
    "duration": 11,
    "start_time": "2024-06-22T08:13:45.710Z"
   },
   {
    "duration": 108,
    "start_time": "2024-06-22T08:13:45.723Z"
   },
   {
    "duration": 3,
    "start_time": "2024-06-22T08:13:45.833Z"
   },
   {
    "duration": 57,
    "start_time": "2024-06-22T08:13:45.840Z"
   },
   {
    "duration": 32,
    "start_time": "2024-06-22T08:13:45.899Z"
   },
   {
    "duration": 13,
    "start_time": "2024-06-22T08:13:45.933Z"
   },
   {
    "duration": 35,
    "start_time": "2024-06-22T08:13:45.948Z"
   },
   {
    "duration": 19,
    "start_time": "2024-06-22T08:13:45.989Z"
   },
   {
    "duration": 23,
    "start_time": "2024-06-22T08:13:46.010Z"
   },
   {
    "duration": 5,
    "start_time": "2024-06-22T08:13:46.034Z"
   },
   {
    "duration": 562,
    "start_time": "2024-06-22T08:13:46.040Z"
   },
   {
    "duration": 11,
    "start_time": "2024-06-22T08:13:46.605Z"
   },
   {
    "duration": 22,
    "start_time": "2024-06-22T08:13:46.618Z"
   },
   {
    "duration": 28,
    "start_time": "2024-06-22T08:13:46.641Z"
   },
   {
    "duration": 29,
    "start_time": "2024-06-22T08:13:46.670Z"
   },
   {
    "duration": 19,
    "start_time": "2024-06-22T08:13:46.701Z"
   },
   {
    "duration": 5,
    "start_time": "2024-06-22T08:13:46.722Z"
   },
   {
    "duration": 6,
    "start_time": "2024-06-22T08:13:46.729Z"
   },
   {
    "duration": 11,
    "start_time": "2024-06-22T08:13:46.737Z"
   },
   {
    "duration": 36,
    "start_time": "2024-06-22T08:13:46.750Z"
   },
   {
    "duration": 12,
    "start_time": "2024-06-22T08:13:46.792Z"
   },
   {
    "duration": 26,
    "start_time": "2024-06-22T08:13:46.811Z"
   },
   {
    "duration": 25,
    "start_time": "2024-06-22T08:13:46.839Z"
   },
   {
    "duration": 15,
    "start_time": "2024-06-22T08:13:46.882Z"
   },
   {
    "duration": 17,
    "start_time": "2024-06-22T08:13:46.899Z"
   },
   {
    "duration": 7,
    "start_time": "2024-06-22T08:13:46.918Z"
   },
   {
    "duration": 7,
    "start_time": "2024-06-22T08:13:46.927Z"
   },
   {
    "duration": 10,
    "start_time": "2024-06-22T08:13:46.936Z"
   },
   {
    "duration": 54,
    "start_time": "2024-06-22T08:13:46.947Z"
   },
   {
    "duration": 16,
    "start_time": "2024-06-22T08:13:47.003Z"
   },
   {
    "duration": 20,
    "start_time": "2024-06-22T08:13:47.021Z"
   },
   {
    "duration": 6,
    "start_time": "2024-06-22T08:13:47.043Z"
   },
   {
    "duration": 11,
    "start_time": "2024-06-22T08:13:47.051Z"
   },
   {
    "duration": 24,
    "start_time": "2024-06-22T08:13:47.064Z"
   },
   {
    "duration": 21,
    "start_time": "2024-06-22T08:13:47.095Z"
   },
   {
    "duration": 10,
    "start_time": "2024-06-22T08:13:47.117Z"
   },
   {
    "duration": 27,
    "start_time": "2024-06-22T08:13:47.132Z"
   },
   {
    "duration": 13,
    "start_time": "2024-06-22T08:13:47.161Z"
   },
   {
    "duration": 24,
    "start_time": "2024-06-22T08:13:47.177Z"
   },
   {
    "duration": 6,
    "start_time": "2024-06-22T08:13:47.203Z"
   },
   {
    "duration": 37,
    "start_time": "2024-06-22T08:13:47.210Z"
   },
   {
    "duration": 92,
    "start_time": "2024-06-22T08:13:47.248Z"
   },
   {
    "duration": 17,
    "start_time": "2024-06-22T08:13:47.342Z"
   },
   {
    "duration": 5,
    "start_time": "2024-06-22T08:13:47.361Z"
   },
   {
    "duration": 22,
    "start_time": "2024-06-22T08:13:47.368Z"
   },
   {
    "duration": 15,
    "start_time": "2024-06-22T08:13:47.392Z"
   },
   {
    "duration": 14,
    "start_time": "2024-06-22T08:13:47.409Z"
   },
   {
    "duration": 13,
    "start_time": "2024-06-22T08:13:47.425Z"
   },
   {
    "duration": 11,
    "start_time": "2024-06-22T08:13:47.440Z"
   },
   {
    "duration": 243,
    "start_time": "2024-06-22T08:13:47.452Z"
   },
   {
    "duration": 5,
    "start_time": "2024-06-22T08:13:47.697Z"
   },
   {
    "duration": 249,
    "start_time": "2024-06-22T08:13:47.704Z"
   },
   {
    "duration": 6,
    "start_time": "2024-06-22T08:13:47.955Z"
   },
   {
    "duration": 24,
    "start_time": "2024-06-22T08:13:47.962Z"
   },
   {
    "duration": 22,
    "start_time": "2024-06-22T08:13:47.988Z"
   },
   {
    "duration": 206,
    "start_time": "2024-06-22T08:13:48.012Z"
   },
   {
    "duration": 7,
    "start_time": "2024-06-22T08:13:48.220Z"
   },
   {
    "duration": 16,
    "start_time": "2024-06-22T08:13:48.229Z"
   },
   {
    "duration": 203,
    "start_time": "2024-06-22T08:13:48.247Z"
   },
   {
    "duration": 42,
    "start_time": "2024-06-22T08:13:48.452Z"
   },
   {
    "duration": 277,
    "start_time": "2024-06-22T08:13:48.497Z"
   },
   {
    "duration": 80,
    "start_time": "2024-06-22T08:13:48.776Z"
   },
   {
    "duration": 8,
    "start_time": "2024-06-22T08:13:48.858Z"
   },
   {
    "duration": 351,
    "start_time": "2024-06-22T08:13:48.868Z"
   },
   {
    "duration": 207,
    "start_time": "2024-06-22T08:13:49.220Z"
   },
   {
    "duration": 307,
    "start_time": "2024-06-22T08:13:49.429Z"
   },
   {
    "duration": 19,
    "start_time": "2024-06-22T08:13:49.738Z"
   },
   {
    "duration": 23,
    "start_time": "2024-06-22T08:13:49.759Z"
   },
   {
    "duration": 14,
    "start_time": "2024-06-22T08:13:49.785Z"
   },
   {
    "duration": 19,
    "start_time": "2024-06-22T08:13:49.801Z"
   },
   {
    "duration": 249,
    "start_time": "2024-06-22T08:13:49.821Z"
   },
   {
    "duration": 176,
    "start_time": "2024-06-22T08:13:50.072Z"
   },
   {
    "duration": 19,
    "start_time": "2024-06-22T08:13:50.249Z"
   },
   {
    "duration": 365,
    "start_time": "2024-06-22T08:13:50.284Z"
   },
   {
    "duration": 18,
    "start_time": "2024-06-22T08:13:50.651Z"
   },
   {
    "duration": 8,
    "start_time": "2024-06-22T08:13:50.688Z"
   },
   {
    "duration": 10,
    "start_time": "2024-06-22T08:13:50.698Z"
   },
   {
    "duration": 161,
    "start_time": "2024-06-22T08:13:50.710Z"
   },
   {
    "duration": 7,
    "start_time": "2024-06-22T08:15:33.453Z"
   },
   {
    "duration": 71,
    "start_time": "2024-06-22T08:23:09.226Z"
   },
   {
    "duration": 70,
    "start_time": "2024-06-22T08:23:46.723Z"
   },
   {
    "duration": 12,
    "start_time": "2024-06-22T09:10:06.869Z"
   },
   {
    "duration": 10,
    "start_time": "2024-06-22T09:40:31.754Z"
   },
   {
    "duration": 18,
    "start_time": "2024-06-22T10:24:42.294Z"
   },
   {
    "duration": 6,
    "start_time": "2024-06-22T10:25:47.502Z"
   },
   {
    "duration": 66,
    "start_time": "2024-06-22T10:25:59.367Z"
   },
   {
    "duration": 456,
    "start_time": "2024-06-22T11:25:22.601Z"
   },
   {
    "duration": 366,
    "start_time": "2024-06-22T11:25:50.647Z"
   },
   {
    "duration": 374,
    "start_time": "2024-06-22T11:26:17.970Z"
   },
   {
    "duration": 61,
    "start_time": "2024-06-22T11:27:28.860Z"
   },
   {
    "duration": 61,
    "start_time": "2024-06-22T11:27:42.409Z"
   },
   {
    "duration": 316,
    "start_time": "2024-06-22T11:30:06.329Z"
   },
   {
    "duration": 342,
    "start_time": "2024-06-22T11:30:23.105Z"
   },
   {
    "duration": 330,
    "start_time": "2024-06-22T11:30:33.817Z"
   },
   {
    "duration": 9,
    "start_time": "2024-06-22T11:32:17.792Z"
   },
   {
    "duration": 10,
    "start_time": "2024-06-22T11:32:23.954Z"
   },
   {
    "duration": 313,
    "start_time": "2024-06-22T11:42:15.814Z"
   },
   {
    "duration": 80,
    "start_time": "2024-06-22T11:43:37.412Z"
   },
   {
    "duration": 323,
    "start_time": "2024-06-22T11:43:45.444Z"
   },
   {
    "duration": 439,
    "start_time": "2024-06-22T11:43:57.815Z"
   },
   {
    "duration": 190,
    "start_time": "2024-06-22T12:31:39.521Z"
   },
   {
    "duration": 25,
    "start_time": "2024-06-22T12:31:59.053Z"
   },
   {
    "duration": 280,
    "start_time": "2024-06-22T12:32:05.798Z"
   },
   {
    "duration": 302,
    "start_time": "2024-06-22T12:32:40.951Z"
   },
   {
    "duration": 74,
    "start_time": "2024-06-22T12:39:48.682Z"
   },
   {
    "duration": 540,
    "start_time": "2024-06-22T16:47:03.879Z"
   },
   {
    "duration": 2,
    "start_time": "2024-06-22T16:47:04.421Z"
   },
   {
    "duration": 169,
    "start_time": "2024-06-22T16:47:04.425Z"
   },
   {
    "duration": 147,
    "start_time": "2024-06-22T16:47:04.596Z"
   },
   {
    "duration": 16,
    "start_time": "2024-06-22T16:47:04.744Z"
   },
   {
    "duration": 27,
    "start_time": "2024-06-22T16:47:04.762Z"
   },
   {
    "duration": 32,
    "start_time": "2024-06-22T16:47:04.791Z"
   },
   {
    "duration": 106,
    "start_time": "2024-06-22T16:47:04.825Z"
   },
   {
    "duration": 3,
    "start_time": "2024-06-22T16:47:04.933Z"
   },
   {
    "duration": 10,
    "start_time": "2024-06-22T16:47:04.938Z"
   },
   {
    "duration": 20,
    "start_time": "2024-06-22T16:47:04.950Z"
   },
   {
    "duration": 16,
    "start_time": "2024-06-22T16:47:04.972Z"
   },
   {
    "duration": 25,
    "start_time": "2024-06-22T16:47:04.990Z"
   },
   {
    "duration": 39,
    "start_time": "2024-06-22T16:47:05.016Z"
   },
   {
    "duration": 45,
    "start_time": "2024-06-22T16:47:05.056Z"
   },
   {
    "duration": 75,
    "start_time": "2024-06-22T16:47:05.102Z"
   },
   {
    "duration": 380,
    "start_time": "2024-06-22T16:47:05.179Z"
   },
   {
    "duration": 8,
    "start_time": "2024-06-22T16:47:05.560Z"
   },
   {
    "duration": 61,
    "start_time": "2024-06-22T16:47:05.570Z"
   },
   {
    "duration": 34,
    "start_time": "2024-06-22T16:47:05.632Z"
   },
   {
    "duration": 28,
    "start_time": "2024-06-22T16:47:05.668Z"
   },
   {
    "duration": 6,
    "start_time": "2024-06-22T16:47:05.697Z"
   },
   {
    "duration": 4,
    "start_time": "2024-06-22T16:47:05.704Z"
   },
   {
    "duration": 8,
    "start_time": "2024-06-22T16:47:05.709Z"
   },
   {
    "duration": 11,
    "start_time": "2024-06-22T16:47:05.718Z"
   },
   {
    "duration": 7,
    "start_time": "2024-06-22T16:47:05.730Z"
   },
   {
    "duration": 15,
    "start_time": "2024-06-22T16:47:05.739Z"
   },
   {
    "duration": 14,
    "start_time": "2024-06-22T16:47:05.757Z"
   },
   {
    "duration": 15,
    "start_time": "2024-06-22T16:47:05.772Z"
   },
   {
    "duration": 32,
    "start_time": "2024-06-22T16:47:05.788Z"
   },
   {
    "duration": 10,
    "start_time": "2024-06-22T16:47:05.822Z"
   },
   {
    "duration": 15,
    "start_time": "2024-06-22T16:47:05.833Z"
   },
   {
    "duration": 8,
    "start_time": "2024-06-22T16:47:05.849Z"
   },
   {
    "duration": 32,
    "start_time": "2024-06-22T16:47:05.858Z"
   },
   {
    "duration": 39,
    "start_time": "2024-06-22T16:47:05.891Z"
   },
   {
    "duration": 40,
    "start_time": "2024-06-22T16:47:05.932Z"
   },
   {
    "duration": 28,
    "start_time": "2024-06-22T16:47:05.974Z"
   },
   {
    "duration": 31,
    "start_time": "2024-06-22T16:47:06.004Z"
   },
   {
    "duration": 7,
    "start_time": "2024-06-22T16:47:06.036Z"
   },
   {
    "duration": 25,
    "start_time": "2024-06-22T16:47:06.044Z"
   },
   {
    "duration": 20,
    "start_time": "2024-06-22T16:47:06.071Z"
   },
   {
    "duration": 17,
    "start_time": "2024-06-22T16:47:06.092Z"
   },
   {
    "duration": 26,
    "start_time": "2024-06-22T16:47:06.111Z"
   },
   {
    "duration": 17,
    "start_time": "2024-06-22T16:47:06.139Z"
   },
   {
    "duration": 11,
    "start_time": "2024-06-22T16:47:06.157Z"
   },
   {
    "duration": 14,
    "start_time": "2024-06-22T16:47:06.169Z"
   },
   {
    "duration": 12,
    "start_time": "2024-06-22T16:47:06.184Z"
   },
   {
    "duration": 24,
    "start_time": "2024-06-22T16:47:06.198Z"
   },
   {
    "duration": 10,
    "start_time": "2024-06-22T16:47:06.224Z"
   },
   {
    "duration": 15,
    "start_time": "2024-06-22T16:47:06.236Z"
   },
   {
    "duration": 3,
    "start_time": "2024-06-22T16:47:06.252Z"
   },
   {
    "duration": 15,
    "start_time": "2024-06-22T16:47:06.257Z"
   },
   {
    "duration": 71,
    "start_time": "2024-06-22T16:47:06.274Z"
   },
   {
    "duration": 13,
    "start_time": "2024-06-22T16:47:06.346Z"
   },
   {
    "duration": 3,
    "start_time": "2024-06-22T16:47:06.360Z"
   },
   {
    "duration": 15,
    "start_time": "2024-06-22T16:47:06.364Z"
   },
   {
    "duration": 7,
    "start_time": "2024-06-22T16:47:06.380Z"
   },
   {
    "duration": 22,
    "start_time": "2024-06-22T16:47:06.388Z"
   },
   {
    "duration": 7,
    "start_time": "2024-06-22T16:47:06.411Z"
   },
   {
    "duration": 4,
    "start_time": "2024-06-22T16:47:06.419Z"
   },
   {
    "duration": 143,
    "start_time": "2024-06-22T16:47:06.424Z"
   },
   {
    "duration": 5,
    "start_time": "2024-06-22T16:47:06.568Z"
   },
   {
    "duration": 186,
    "start_time": "2024-06-22T16:47:06.574Z"
   },
   {
    "duration": 4,
    "start_time": "2024-06-22T16:47:06.761Z"
   },
   {
    "duration": 8,
    "start_time": "2024-06-22T16:47:06.766Z"
   },
   {
    "duration": 4,
    "start_time": "2024-06-22T16:47:06.775Z"
   },
   {
    "duration": 152,
    "start_time": "2024-06-22T16:47:06.780Z"
   },
   {
    "duration": 7,
    "start_time": "2024-06-22T16:47:06.933Z"
   },
   {
    "duration": 55,
    "start_time": "2024-06-22T16:47:06.941Z"
   },
   {
    "duration": 159,
    "start_time": "2024-06-22T16:47:06.997Z"
   },
   {
    "duration": 18,
    "start_time": "2024-06-22T16:47:07.157Z"
   },
   {
    "duration": 210,
    "start_time": "2024-06-22T16:47:07.177Z"
   },
   {
    "duration": 55,
    "start_time": "2024-06-22T16:47:07.389Z"
   },
   {
    "duration": 5,
    "start_time": "2024-06-22T16:47:07.445Z"
   },
   {
    "duration": 263,
    "start_time": "2024-06-22T16:47:07.451Z"
   },
   {
    "duration": 150,
    "start_time": "2024-06-22T16:47:07.716Z"
   },
   {
    "duration": 250,
    "start_time": "2024-06-22T16:47:07.867Z"
   },
   {
    "duration": 13,
    "start_time": "2024-06-22T16:47:08.119Z"
   },
   {
    "duration": 7,
    "start_time": "2024-06-22T16:47:08.133Z"
   },
   {
    "duration": 9,
    "start_time": "2024-06-22T16:47:08.142Z"
   },
   {
    "duration": 25,
    "start_time": "2024-06-22T16:47:08.153Z"
   },
   {
    "duration": 154,
    "start_time": "2024-06-22T16:47:08.182Z"
   },
   {
    "duration": 130,
    "start_time": "2024-06-22T16:47:08.337Z"
   },
   {
    "duration": 15,
    "start_time": "2024-06-22T16:47:08.468Z"
   },
   {
    "duration": 254,
    "start_time": "2024-06-22T16:47:08.484Z"
   },
   {
    "duration": 13,
    "start_time": "2024-06-22T16:47:08.739Z"
   },
   {
    "duration": 7,
    "start_time": "2024-06-22T16:47:08.753Z"
   },
   {
    "duration": 7,
    "start_time": "2024-06-22T16:47:08.762Z"
   },
   {
    "duration": 110,
    "start_time": "2024-06-22T16:47:08.770Z"
   },
   {
    "duration": 8,
    "start_time": "2024-06-22T17:24:11.824Z"
   },
   {
    "duration": 4,
    "start_time": "2024-06-22T17:29:11.730Z"
   },
   {
    "duration": 3,
    "start_time": "2024-06-22T17:29:18.823Z"
   },
   {
    "duration": 154,
    "start_time": "2024-06-22T17:29:22.705Z"
   },
   {
    "duration": 6,
    "start_time": "2024-06-22T17:29:25.097Z"
   },
   {
    "duration": 339,
    "start_time": "2024-06-22T17:29:58.452Z"
   },
   {
    "duration": 3,
    "start_time": "2024-06-22T17:29:58.802Z"
   },
   {
    "duration": 164,
    "start_time": "2024-06-22T17:29:58.806Z"
   },
   {
    "duration": 89,
    "start_time": "2024-06-22T17:29:58.971Z"
   },
   {
    "duration": 14,
    "start_time": "2024-06-22T17:29:59.062Z"
   },
   {
    "duration": 24,
    "start_time": "2024-06-22T17:29:59.077Z"
   },
   {
    "duration": 19,
    "start_time": "2024-06-22T17:29:59.102Z"
   },
   {
    "duration": 42,
    "start_time": "2024-06-22T17:29:59.123Z"
   },
   {
    "duration": 4,
    "start_time": "2024-06-22T17:29:59.167Z"
   },
   {
    "duration": 12,
    "start_time": "2024-06-22T17:29:59.173Z"
   },
   {
    "duration": 13,
    "start_time": "2024-06-22T17:29:59.186Z"
   },
   {
    "duration": 8,
    "start_time": "2024-06-22T17:29:59.200Z"
   },
   {
    "duration": 13,
    "start_time": "2024-06-22T17:29:59.209Z"
   },
   {
    "duration": 17,
    "start_time": "2024-06-22T17:29:59.223Z"
   },
   {
    "duration": 37,
    "start_time": "2024-06-22T17:29:59.241Z"
   },
   {
    "duration": 3,
    "start_time": "2024-06-22T17:29:59.280Z"
   },
   {
    "duration": 368,
    "start_time": "2024-06-22T17:29:59.284Z"
   },
   {
    "duration": 7,
    "start_time": "2024-06-22T17:29:59.654Z"
   },
   {
    "duration": 7,
    "start_time": "2024-06-22T17:29:59.662Z"
   },
   {
    "duration": 21,
    "start_time": "2024-06-22T17:29:59.670Z"
   },
   {
    "duration": 71,
    "start_time": "2024-06-22T17:29:59.692Z"
   },
   {
    "duration": 7,
    "start_time": "2024-06-22T17:29:59.764Z"
   },
   {
    "duration": 3,
    "start_time": "2024-06-22T17:29:59.772Z"
   },
   {
    "duration": 7,
    "start_time": "2024-06-22T17:29:59.776Z"
   },
   {
    "duration": 9,
    "start_time": "2024-06-22T17:29:59.784Z"
   },
   {
    "duration": 7,
    "start_time": "2024-06-22T17:29:59.794Z"
   },
   {
    "duration": 5,
    "start_time": "2024-06-22T17:29:59.802Z"
   },
   {
    "duration": 18,
    "start_time": "2024-06-22T17:29:59.810Z"
   },
   {
    "duration": 13,
    "start_time": "2024-06-22T17:29:59.829Z"
   },
   {
    "duration": 7,
    "start_time": "2024-06-22T17:29:59.843Z"
   },
   {
    "duration": 5,
    "start_time": "2024-06-22T17:29:59.851Z"
   },
   {
    "duration": 6,
    "start_time": "2024-06-22T17:29:59.857Z"
   },
   {
    "duration": 8,
    "start_time": "2024-06-22T17:29:59.864Z"
   },
   {
    "duration": 13,
    "start_time": "2024-06-22T17:29:59.873Z"
   },
   {
    "duration": 22,
    "start_time": "2024-06-22T17:29:59.887Z"
   },
   {
    "duration": 11,
    "start_time": "2024-06-22T17:29:59.910Z"
   },
   {
    "duration": 5,
    "start_time": "2024-06-22T17:29:59.922Z"
   },
   {
    "duration": 14,
    "start_time": "2024-06-22T17:29:59.928Z"
   },
   {
    "duration": 5,
    "start_time": "2024-06-22T17:29:59.943Z"
   },
   {
    "duration": 8,
    "start_time": "2024-06-22T17:29:59.949Z"
   },
   {
    "duration": 4,
    "start_time": "2024-06-22T17:29:59.958Z"
   },
   {
    "duration": 39,
    "start_time": "2024-06-22T17:29:59.963Z"
   },
   {
    "duration": 5,
    "start_time": "2024-06-22T17:30:00.004Z"
   },
   {
    "duration": 64,
    "start_time": "2024-06-22T17:30:00.010Z"
   },
   {
    "duration": 33,
    "start_time": "2024-06-22T17:30:00.075Z"
   },
   {
    "duration": 17,
    "start_time": "2024-06-22T17:30:00.109Z"
   },
   {
    "duration": 55,
    "start_time": "2024-06-22T17:30:00.127Z"
   },
   {
    "duration": 16,
    "start_time": "2024-06-22T17:30:00.183Z"
   },
   {
    "duration": 39,
    "start_time": "2024-06-22T17:30:00.200Z"
   },
   {
    "duration": 56,
    "start_time": "2024-06-22T17:30:00.240Z"
   },
   {
    "duration": 48,
    "start_time": "2024-06-22T17:30:00.297Z"
   },
   {
    "duration": 45,
    "start_time": "2024-06-22T17:30:00.347Z"
   },
   {
    "duration": 99,
    "start_time": "2024-06-22T17:30:00.393Z"
   },
   {
    "duration": 13,
    "start_time": "2024-06-22T17:30:00.493Z"
   },
   {
    "duration": 37,
    "start_time": "2024-06-22T17:30:00.508Z"
   },
   {
    "duration": 53,
    "start_time": "2024-06-22T17:30:00.547Z"
   },
   {
    "duration": 108,
    "start_time": "2024-06-22T17:30:00.601Z"
   },
   {
    "duration": 41,
    "start_time": "2024-06-22T17:30:00.711Z"
   },
   {
    "duration": 58,
    "start_time": "2024-06-22T17:30:00.753Z"
   },
   {
    "duration": 99,
    "start_time": "2024-06-22T17:30:00.813Z"
   },
   {
    "duration": 217,
    "start_time": "2024-06-22T17:30:00.914Z"
   },
   {
    "duration": 5,
    "start_time": "2024-06-22T17:30:01.133Z"
   },
   {
    "duration": 394,
    "start_time": "2024-06-22T17:30:01.140Z"
   },
   {
    "duration": 6,
    "start_time": "2024-06-22T17:30:01.536Z"
   },
   {
    "duration": 42,
    "start_time": "2024-06-22T17:30:01.544Z"
   },
   {
    "duration": 171,
    "start_time": "2024-06-22T17:30:01.587Z"
   },
   {
    "duration": 81,
    "start_time": "2024-06-22T17:30:01.759Z"
   },
   {
    "duration": 219,
    "start_time": "2024-06-22T17:30:01.841Z"
   },
   {
    "duration": 209,
    "start_time": "2024-06-22T17:30:02.062Z"
   },
   {
    "duration": 21,
    "start_time": "2024-06-22T17:30:02.272Z"
   },
   {
    "duration": 215,
    "start_time": "2024-06-22T17:30:02.294Z"
   },
   {
    "duration": 54,
    "start_time": "2024-06-22T17:30:02.510Z"
   },
   {
    "duration": 31,
    "start_time": "2024-06-22T17:30:02.566Z"
   },
   {
    "duration": 256,
    "start_time": "2024-06-22T17:30:02.598Z"
   },
   {
    "duration": 157,
    "start_time": "2024-06-22T17:30:02.855Z"
   },
   {
    "duration": 255,
    "start_time": "2024-06-22T17:30:03.013Z"
   },
   {
    "duration": 15,
    "start_time": "2024-06-22T17:30:03.269Z"
   },
   {
    "duration": 35,
    "start_time": "2024-06-22T17:30:03.286Z"
   },
   {
    "duration": 20,
    "start_time": "2024-06-22T17:30:03.322Z"
   },
   {
    "duration": 29,
    "start_time": "2024-06-22T17:30:03.344Z"
   },
   {
    "duration": 156,
    "start_time": "2024-06-22T17:30:03.375Z"
   },
   {
    "duration": 156,
    "start_time": "2024-06-22T17:30:03.536Z"
   },
   {
    "duration": 18,
    "start_time": "2024-06-22T17:30:03.693Z"
   },
   {
    "duration": 323,
    "start_time": "2024-06-22T17:30:03.712Z"
   },
   {
    "duration": 13,
    "start_time": "2024-06-22T17:30:04.036Z"
   },
   {
    "duration": 12,
    "start_time": "2024-06-22T17:30:04.050Z"
   },
   {
    "duration": 16,
    "start_time": "2024-06-22T17:30:04.063Z"
   },
   {
    "duration": 115,
    "start_time": "2024-06-22T17:30:04.080Z"
   },
   {
    "duration": 3,
    "start_time": "2024-06-22T17:31:50.239Z"
   },
   {
    "duration": 3,
    "start_time": "2024-06-22T17:32:36.133Z"
   },
   {
    "duration": 208,
    "start_time": "2024-06-22T17:35:56.612Z"
   },
   {
    "duration": 100,
    "start_time": "2024-06-22T17:37:26.493Z"
   },
   {
    "duration": 208,
    "start_time": "2024-06-22T17:37:36.861Z"
   },
   {
    "duration": 147,
    "start_time": "2024-06-22T17:39:30.717Z"
   },
   {
    "duration": 21,
    "start_time": "2024-06-22T17:40:54.994Z"
   },
   {
    "duration": 76,
    "start_time": "2024-06-22T17:41:21.372Z"
   },
   {
    "duration": 18,
    "start_time": "2024-06-22T17:41:34.450Z"
   },
   {
    "duration": 11,
    "start_time": "2024-06-22T17:41:49.873Z"
   },
   {
    "duration": 225,
    "start_time": "2024-06-22T17:44:27.349Z"
   },
   {
    "duration": 227,
    "start_time": "2024-06-22T17:44:36.514Z"
   },
   {
    "duration": 84,
    "start_time": "2024-06-22T18:00:09.719Z"
   },
   {
    "duration": 85,
    "start_time": "2024-06-22T18:00:26.853Z"
   },
   {
    "duration": 91,
    "start_time": "2024-06-22T18:00:51.500Z"
   },
   {
    "duration": 80,
    "start_time": "2024-06-22T18:01:02.917Z"
   },
   {
    "duration": 8,
    "start_time": "2024-06-22T18:05:03.495Z"
   },
   {
    "duration": 10,
    "start_time": "2024-06-22T18:05:42.434Z"
   },
   {
    "duration": 6,
    "start_time": "2024-06-22T18:06:26.730Z"
   },
   {
    "duration": 6,
    "start_time": "2024-06-22T18:06:45.098Z"
   },
   {
    "duration": 5,
    "start_time": "2024-06-22T18:07:29.349Z"
   },
   {
    "duration": 5,
    "start_time": "2024-06-22T18:08:03.808Z"
   },
   {
    "duration": 6,
    "start_time": "2024-06-22T18:08:27.584Z"
   },
   {
    "duration": 152,
    "start_time": "2024-06-22T18:11:25.031Z"
   },
   {
    "duration": 63,
    "start_time": "2024-06-22T18:15:49.040Z"
   },
   {
    "duration": 88,
    "start_time": "2024-06-22T18:16:25.919Z"
   },
   {
    "duration": 88,
    "start_time": "2024-06-22T18:17:30.255Z"
   },
   {
    "duration": 69,
    "start_time": "2024-06-22T18:17:50.947Z"
   },
   {
    "duration": 6,
    "start_time": "2024-06-22T18:18:23.503Z"
   },
   {
    "duration": 7,
    "start_time": "2024-06-22T18:19:20.173Z"
   },
   {
    "duration": 105,
    "start_time": "2024-06-22T18:20:13.005Z"
   },
   {
    "duration": 83,
    "start_time": "2024-06-22T18:22:02.634Z"
   },
   {
    "duration": 54,
    "start_time": "2024-06-22T18:23:08.686Z"
   },
   {
    "duration": 420,
    "start_time": "2024-06-22T18:23:16.871Z"
   },
   {
    "duration": 8,
    "start_time": "2024-06-22T18:23:17.293Z"
   },
   {
    "duration": 181,
    "start_time": "2024-06-22T18:23:17.303Z"
   },
   {
    "duration": 80,
    "start_time": "2024-06-22T18:23:17.485Z"
   },
   {
    "duration": 15,
    "start_time": "2024-06-22T18:23:17.566Z"
   },
   {
    "duration": 25,
    "start_time": "2024-06-22T18:23:17.582Z"
   },
   {
    "duration": 16,
    "start_time": "2024-06-22T18:23:17.608Z"
   },
   {
    "duration": 76,
    "start_time": "2024-06-22T18:23:17.625Z"
   },
   {
    "duration": 4,
    "start_time": "2024-06-22T18:23:17.702Z"
   },
   {
    "duration": 20,
    "start_time": "2024-06-22T18:23:17.708Z"
   },
   {
    "duration": 18,
    "start_time": "2024-06-22T18:23:17.730Z"
   },
   {
    "duration": 22,
    "start_time": "2024-06-22T18:23:17.750Z"
   },
   {
    "duration": 14,
    "start_time": "2024-06-22T18:23:17.773Z"
   },
   {
    "duration": 24,
    "start_time": "2024-06-22T18:23:17.789Z"
   },
   {
    "duration": 26,
    "start_time": "2024-06-22T18:23:17.814Z"
   },
   {
    "duration": 24,
    "start_time": "2024-06-22T18:23:17.841Z"
   },
   {
    "duration": 393,
    "start_time": "2024-06-22T18:23:17.866Z"
   },
   {
    "duration": 7,
    "start_time": "2024-06-22T18:23:18.260Z"
   },
   {
    "duration": 19,
    "start_time": "2024-06-22T18:23:18.268Z"
   },
   {
    "duration": 28,
    "start_time": "2024-06-22T18:23:18.288Z"
   },
   {
    "duration": 13,
    "start_time": "2024-06-22T18:23:18.318Z"
   },
   {
    "duration": 14,
    "start_time": "2024-06-22T18:23:18.333Z"
   },
   {
    "duration": 13,
    "start_time": "2024-06-22T18:23:18.349Z"
   },
   {
    "duration": 10,
    "start_time": "2024-06-22T18:23:18.363Z"
   },
   {
    "duration": 10,
    "start_time": "2024-06-22T18:23:18.374Z"
   },
   {
    "duration": 11,
    "start_time": "2024-06-22T18:23:18.385Z"
   },
   {
    "duration": 10,
    "start_time": "2024-06-22T18:23:18.397Z"
   },
   {
    "duration": 20,
    "start_time": "2024-06-22T18:23:18.410Z"
   },
   {
    "duration": 21,
    "start_time": "2024-06-22T18:23:18.432Z"
   },
   {
    "duration": 13,
    "start_time": "2024-06-22T18:23:18.455Z"
   },
   {
    "duration": 7,
    "start_time": "2024-06-22T18:23:18.470Z"
   },
   {
    "duration": 8,
    "start_time": "2024-06-22T18:23:18.478Z"
   },
   {
    "duration": 6,
    "start_time": "2024-06-22T18:23:18.487Z"
   },
   {
    "duration": 50,
    "start_time": "2024-06-22T18:23:18.494Z"
   },
   {
    "duration": 33,
    "start_time": "2024-06-22T18:23:18.546Z"
   },
   {
    "duration": 16,
    "start_time": "2024-06-22T18:23:18.580Z"
   },
   {
    "duration": 10,
    "start_time": "2024-06-22T18:23:18.597Z"
   },
   {
    "duration": 32,
    "start_time": "2024-06-22T18:23:18.609Z"
   },
   {
    "duration": 5,
    "start_time": "2024-06-22T18:23:18.642Z"
   },
   {
    "duration": 11,
    "start_time": "2024-06-22T18:23:18.648Z"
   },
   {
    "duration": 22,
    "start_time": "2024-06-22T18:23:18.660Z"
   },
   {
    "duration": 16,
    "start_time": "2024-06-22T18:23:18.683Z"
   },
   {
    "duration": 7,
    "start_time": "2024-06-22T18:23:18.700Z"
   },
   {
    "duration": 15,
    "start_time": "2024-06-22T18:23:18.709Z"
   },
   {
    "duration": 16,
    "start_time": "2024-06-22T18:23:18.725Z"
   },
   {
    "duration": 23,
    "start_time": "2024-06-22T18:23:18.743Z"
   },
   {
    "duration": 33,
    "start_time": "2024-06-22T18:23:18.767Z"
   },
   {
    "duration": 18,
    "start_time": "2024-06-22T18:23:18.802Z"
   },
   {
    "duration": 33,
    "start_time": "2024-06-22T18:23:18.821Z"
   },
   {
    "duration": 21,
    "start_time": "2024-06-22T18:23:18.856Z"
   },
   {
    "duration": 4,
    "start_time": "2024-06-22T18:23:18.878Z"
   },
   {
    "duration": 54,
    "start_time": "2024-06-22T18:23:18.883Z"
   },
   {
    "duration": 71,
    "start_time": "2024-06-22T18:23:18.939Z"
   },
   {
    "duration": 14,
    "start_time": "2024-06-22T18:23:19.011Z"
   },
   {
    "duration": 91,
    "start_time": "2024-06-22T18:23:19.026Z"
   },
   {
    "duration": 5,
    "start_time": "2024-06-22T18:23:19.119Z"
   },
   {
    "duration": 155,
    "start_time": "2024-06-22T18:23:19.126Z"
   },
   {
    "duration": 19,
    "start_time": "2024-06-22T18:23:19.282Z"
   },
   {
    "duration": 81,
    "start_time": "2024-06-22T18:23:19.303Z"
   },
   {
    "duration": 7,
    "start_time": "2024-06-22T18:23:19.386Z"
   },
   {
    "duration": 122,
    "start_time": "2024-06-22T18:23:19.402Z"
   },
   {
    "duration": 6,
    "start_time": "2024-06-22T18:23:19.525Z"
   },
   {
    "duration": 17,
    "start_time": "2024-06-22T18:23:19.532Z"
   },
   {
    "duration": 26,
    "start_time": "2024-06-22T18:23:19.550Z"
   },
   {
    "duration": 52,
    "start_time": "2024-06-22T18:23:19.577Z"
   },
   {
    "duration": 27,
    "start_time": "2024-06-22T18:23:19.631Z"
   },
   {
    "duration": 13,
    "start_time": "2024-06-22T18:23:19.659Z"
   },
   {
    "duration": 17,
    "start_time": "2024-06-22T18:23:19.673Z"
   },
   {
    "duration": 167,
    "start_time": "2024-06-22T18:23:19.691Z"
   },
   {
    "duration": 5,
    "start_time": "2024-06-22T18:23:19.859Z"
   },
   {
    "duration": 145,
    "start_time": "2024-06-22T18:23:19.865Z"
   },
   {
    "duration": 5,
    "start_time": "2024-06-22T18:23:20.012Z"
   },
   {
    "duration": 18,
    "start_time": "2024-06-22T18:23:20.018Z"
   },
   {
    "duration": 157,
    "start_time": "2024-06-22T18:23:20.038Z"
   },
   {
    "duration": 6,
    "start_time": "2024-06-22T18:23:20.196Z"
   },
   {
    "duration": 9,
    "start_time": "2024-06-22T18:23:20.203Z"
   },
   {
    "duration": 168,
    "start_time": "2024-06-22T18:23:20.213Z"
   },
   {
    "duration": 29,
    "start_time": "2024-06-22T18:23:20.383Z"
   },
   {
    "duration": 208,
    "start_time": "2024-06-22T18:23:20.413Z"
   },
   {
    "duration": 81,
    "start_time": "2024-06-22T18:23:20.623Z"
   },
   {
    "duration": 6,
    "start_time": "2024-06-22T18:23:20.705Z"
   },
   {
    "duration": 11,
    "start_time": "2024-06-22T18:23:20.716Z"
   },
   {
    "duration": 294,
    "start_time": "2024-06-22T18:23:20.728Z"
   },
   {
    "duration": 167,
    "start_time": "2024-06-22T18:23:21.023Z"
   },
   {
    "duration": 305,
    "start_time": "2024-06-22T18:23:21.191Z"
   },
   {
    "duration": 14,
    "start_time": "2024-06-22T18:23:21.501Z"
   },
   {
    "duration": 5,
    "start_time": "2024-06-22T18:23:21.516Z"
   },
   {
    "duration": 7,
    "start_time": "2024-06-22T18:23:21.522Z"
   },
   {
    "duration": 18,
    "start_time": "2024-06-22T18:23:21.530Z"
   },
   {
    "duration": 172,
    "start_time": "2024-06-22T18:23:21.549Z"
   },
   {
    "duration": 137,
    "start_time": "2024-06-22T18:23:21.722Z"
   },
   {
    "duration": 15,
    "start_time": "2024-06-22T18:23:21.861Z"
   },
   {
    "duration": 225,
    "start_time": "2024-06-22T18:23:21.878Z"
   },
   {
    "duration": 217,
    "start_time": "2024-06-22T18:23:22.104Z"
   },
   {
    "duration": 14,
    "start_time": "2024-06-22T18:23:22.323Z"
   },
   {
    "duration": 4,
    "start_time": "2024-06-22T18:23:22.339Z"
   },
   {
    "duration": 8,
    "start_time": "2024-06-22T18:23:22.344Z"
   },
   {
    "duration": 134,
    "start_time": "2024-06-22T18:23:22.353Z"
   },
   {
    "duration": 73,
    "start_time": "2024-06-22T18:28:57.385Z"
   },
   {
    "duration": 72,
    "start_time": "2024-06-22T18:29:25.532Z"
   },
   {
    "duration": 95,
    "start_time": "2024-06-22T18:30:08.893Z"
   },
   {
    "duration": 633,
    "start_time": "2024-06-23T17:23:35.736Z"
   },
   {
    "duration": 3,
    "start_time": "2024-06-23T17:23:36.371Z"
   },
   {
    "duration": 224,
    "start_time": "2024-06-23T17:23:36.376Z"
   },
   {
    "duration": 153,
    "start_time": "2024-06-23T17:23:36.603Z"
   },
   {
    "duration": 20,
    "start_time": "2024-06-23T17:23:36.757Z"
   },
   {
    "duration": 18,
    "start_time": "2024-06-23T17:23:36.779Z"
   },
   {
    "duration": 3,
    "start_time": "2024-06-23T17:23:36.799Z"
   },
   {
    "duration": 91,
    "start_time": "2024-06-23T17:23:36.804Z"
   },
   {
    "duration": 4,
    "start_time": "2024-06-23T17:23:36.896Z"
   },
   {
    "duration": 8,
    "start_time": "2024-06-23T17:23:36.902Z"
   },
   {
    "duration": 17,
    "start_time": "2024-06-23T17:23:36.912Z"
   },
   {
    "duration": 12,
    "start_time": "2024-06-23T17:23:36.930Z"
   },
   {
    "duration": 18,
    "start_time": "2024-06-23T17:23:36.944Z"
   },
   {
    "duration": 25,
    "start_time": "2024-06-23T17:23:36.963Z"
   },
   {
    "duration": 28,
    "start_time": "2024-06-23T17:23:36.990Z"
   },
   {
    "duration": 4,
    "start_time": "2024-06-23T17:23:37.019Z"
   },
   {
    "duration": 499,
    "start_time": "2024-06-23T17:23:37.024Z"
   },
   {
    "duration": 8,
    "start_time": "2024-06-23T17:23:37.525Z"
   },
   {
    "duration": 12,
    "start_time": "2024-06-23T17:23:37.534Z"
   },
   {
    "duration": 21,
    "start_time": "2024-06-23T17:23:37.547Z"
   },
   {
    "duration": 16,
    "start_time": "2024-06-23T17:23:37.581Z"
   },
   {
    "duration": 11,
    "start_time": "2024-06-23T17:23:37.599Z"
   },
   {
    "duration": 4,
    "start_time": "2024-06-23T17:23:37.612Z"
   },
   {
    "duration": 8,
    "start_time": "2024-06-23T17:23:37.617Z"
   },
   {
    "duration": 12,
    "start_time": "2024-06-23T17:23:37.627Z"
   },
   {
    "duration": 43,
    "start_time": "2024-06-23T17:23:37.640Z"
   },
   {
    "duration": 7,
    "start_time": "2024-06-23T17:23:37.684Z"
   },
   {
    "duration": 19,
    "start_time": "2024-06-23T17:23:37.695Z"
   },
   {
    "duration": 32,
    "start_time": "2024-06-23T17:23:37.715Z"
   },
   {
    "duration": 14,
    "start_time": "2024-06-23T17:23:37.748Z"
   },
   {
    "duration": 18,
    "start_time": "2024-06-23T17:23:37.764Z"
   },
   {
    "duration": 6,
    "start_time": "2024-06-23T17:23:37.783Z"
   },
   {
    "duration": 7,
    "start_time": "2024-06-23T17:23:37.791Z"
   },
   {
    "duration": 10,
    "start_time": "2024-06-23T17:23:37.800Z"
   },
   {
    "duration": 19,
    "start_time": "2024-06-23T17:23:37.812Z"
   },
   {
    "duration": 51,
    "start_time": "2024-06-23T17:23:37.833Z"
   },
   {
    "duration": 19,
    "start_time": "2024-06-23T17:23:37.886Z"
   },
   {
    "duration": 20,
    "start_time": "2024-06-23T17:23:37.906Z"
   },
   {
    "duration": 18,
    "start_time": "2024-06-23T17:23:37.928Z"
   },
   {
    "duration": 7,
    "start_time": "2024-06-23T17:23:37.948Z"
   },
   {
    "duration": 7,
    "start_time": "2024-06-23T17:23:37.956Z"
   },
   {
    "duration": 22,
    "start_time": "2024-06-23T17:23:37.965Z"
   },
   {
    "duration": 8,
    "start_time": "2024-06-23T17:23:37.988Z"
   },
   {
    "duration": 9,
    "start_time": "2024-06-23T17:23:37.997Z"
   },
   {
    "duration": 9,
    "start_time": "2024-06-23T17:23:38.007Z"
   },
   {
    "duration": 8,
    "start_time": "2024-06-23T17:23:38.018Z"
   },
   {
    "duration": 21,
    "start_time": "2024-06-23T17:23:38.028Z"
   },
   {
    "duration": 36,
    "start_time": "2024-06-23T17:23:38.051Z"
   },
   {
    "duration": 11,
    "start_time": "2024-06-23T17:23:38.089Z"
   },
   {
    "duration": 18,
    "start_time": "2024-06-23T17:23:38.101Z"
   },
   {
    "duration": 3,
    "start_time": "2024-06-23T17:23:38.121Z"
   },
   {
    "duration": 16,
    "start_time": "2024-06-23T17:23:38.126Z"
   },
   {
    "duration": 120,
    "start_time": "2024-06-23T17:23:38.144Z"
   },
   {
    "duration": 25,
    "start_time": "2024-06-23T17:23:38.266Z"
   },
   {
    "duration": 102,
    "start_time": "2024-06-23T17:23:38.293Z"
   },
   {
    "duration": 6,
    "start_time": "2024-06-23T17:23:38.397Z"
   },
   {
    "duration": 205,
    "start_time": "2024-06-23T17:23:38.404Z"
   },
   {
    "duration": 6,
    "start_time": "2024-06-23T17:23:38.611Z"
   },
   {
    "duration": 121,
    "start_time": "2024-06-23T17:23:38.619Z"
   },
   {
    "duration": 6,
    "start_time": "2024-06-23T17:23:38.742Z"
   },
   {
    "duration": 127,
    "start_time": "2024-06-23T17:23:38.750Z"
   },
   {
    "duration": 7,
    "start_time": "2024-06-23T17:23:38.881Z"
   },
   {
    "duration": 8,
    "start_time": "2024-06-23T17:23:38.890Z"
   },
   {
    "duration": 6,
    "start_time": "2024-06-23T17:23:38.900Z"
   },
   {
    "duration": 17,
    "start_time": "2024-06-23T17:23:38.907Z"
   },
   {
    "duration": 8,
    "start_time": "2024-06-23T17:23:38.925Z"
   },
   {
    "duration": 17,
    "start_time": "2024-06-23T17:23:38.934Z"
   },
   {
    "duration": 15,
    "start_time": "2024-06-23T17:23:38.952Z"
   },
   {
    "duration": 182,
    "start_time": "2024-06-23T17:23:38.968Z"
   },
   {
    "duration": 6,
    "start_time": "2024-06-23T17:23:39.151Z"
   },
   {
    "duration": 196,
    "start_time": "2024-06-23T17:23:39.158Z"
   },
   {
    "duration": 6,
    "start_time": "2024-06-23T17:23:39.356Z"
   },
   {
    "duration": 8,
    "start_time": "2024-06-23T17:23:39.363Z"
   },
   {
    "duration": 211,
    "start_time": "2024-06-23T17:23:39.373Z"
   },
   {
    "duration": 7,
    "start_time": "2024-06-23T17:23:39.586Z"
   },
   {
    "duration": 10,
    "start_time": "2024-06-23T17:23:39.595Z"
   },
   {
    "duration": 211,
    "start_time": "2024-06-23T17:23:39.607Z"
   },
   {
    "duration": 26,
    "start_time": "2024-06-23T17:23:39.820Z"
   },
   {
    "duration": 271,
    "start_time": "2024-06-23T17:23:39.847Z"
   },
   {
    "duration": 61,
    "start_time": "2024-06-23T17:23:40.119Z"
   },
   {
    "duration": 7,
    "start_time": "2024-06-23T17:23:40.182Z"
   },
   {
    "duration": 4,
    "start_time": "2024-06-23T17:23:40.195Z"
   },
   {
    "duration": 345,
    "start_time": "2024-06-23T17:23:40.201Z"
   },
   {
    "duration": 190,
    "start_time": "2024-06-23T17:23:40.548Z"
   },
   {
    "duration": 377,
    "start_time": "2024-06-23T17:23:40.740Z"
   },
   {
    "duration": 18,
    "start_time": "2024-06-23T17:23:41.118Z"
   },
   {
    "duration": 5,
    "start_time": "2024-06-23T17:23:41.137Z"
   },
   {
    "duration": 9,
    "start_time": "2024-06-23T17:23:41.144Z"
   },
   {
    "duration": 38,
    "start_time": "2024-06-23T17:23:41.154Z"
   },
   {
    "duration": 214,
    "start_time": "2024-06-23T17:23:41.194Z"
   },
   {
    "duration": 189,
    "start_time": "2024-06-23T17:23:41.410Z"
   },
   {
    "duration": 18,
    "start_time": "2024-06-23T17:23:41.601Z"
   },
   {
    "duration": 292,
    "start_time": "2024-06-23T17:23:41.620Z"
   },
   {
    "duration": 278,
    "start_time": "2024-06-23T17:23:41.913Z"
   },
   {
    "duration": 17,
    "start_time": "2024-06-23T17:23:42.192Z"
   },
   {
    "duration": 5,
    "start_time": "2024-06-23T17:23:42.210Z"
   },
   {
    "duration": 5,
    "start_time": "2024-06-23T17:23:42.217Z"
   },
   {
    "duration": 150,
    "start_time": "2024-06-23T17:23:42.224Z"
   },
   {
    "duration": 90,
    "start_time": "2024-06-23T17:24:02.603Z"
   },
   {
    "duration": 8,
    "start_time": "2024-06-23T17:24:23.049Z"
   },
   {
    "duration": 9,
    "start_time": "2024-06-23T17:27:36.692Z"
   },
   {
    "duration": 5,
    "start_time": "2024-06-23T17:27:42.902Z"
   },
   {
    "duration": 6,
    "start_time": "2024-06-23T17:27:46.145Z"
   },
   {
    "duration": 71,
    "start_time": "2024-06-23T17:40:39.586Z"
   },
   {
    "duration": 449,
    "start_time": "2024-06-23T17:54:47.703Z"
   },
   {
    "duration": 488,
    "start_time": "2024-06-23T17:54:59.072Z"
   },
   {
    "duration": 598,
    "start_time": "2024-06-23T17:55:31.801Z"
   },
   {
    "duration": 61,
    "start_time": "2024-06-23T18:13:03.884Z"
   }
  ],
  "colab": {
   "name": "DA+. Сборный проект 1. Шаблон (1).ipynb",
   "provenance": []
  },
  "kernelspec": {
   "display_name": "Python 3 (ipykernel)",
   "language": "python",
   "name": "python3"
  },
  "language_info": {
   "codemirror_mode": {
    "name": "ipython",
    "version": 3
   },
   "file_extension": ".py",
   "mimetype": "text/x-python",
   "name": "python",
   "nbconvert_exporter": "python",
   "pygments_lexer": "ipython3",
   "version": "3.12.7"
  },
  "toc": {
   "base_numbering": 1,
   "nav_menu": {
    "height": "609.533px",
    "width": "567.533px"
   },
   "number_sections": true,
   "sideBar": true,
   "skip_h1_title": true,
   "title_cell": "Table of Contents",
   "title_sidebar": "Contents",
   "toc_cell": false,
   "toc_position": {
    "height": "calc(100% - 180px)",
    "left": "10px",
    "top": "150px",
    "width": "375.391px"
   },
   "toc_section_display": true,
   "toc_window_display": false
  }
 },
 "nbformat": 4,
 "nbformat_minor": 4
}
